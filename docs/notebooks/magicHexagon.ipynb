{
  "nbformat": 4,
  "nbformat_minor": 0,
  "metadata": {
    "colab": {
      "provenance": [],
      "authorship_tag": "ABX9TyPPu7u5eTnEZUwSBEXHkApl",
      "include_colab_link": true
    },
    "kernelspec": {
      "name": "python3",
      "display_name": "Python 3"
    },
    "language_info": {
      "name": "python"
    }
  },
  "cells": [
    {
      "cell_type": "markdown",
      "metadata": {
        "id": "view-in-github",
        "colab_type": "text"
      },
      "source": [
        "<a href=\"https://colab.research.google.com/github/conjure-cp/conjure/blob/main/docs/notebooks/magicHexagon.ipynb\" target=\"_parent\"><img src=\"https://colab.research.google.com/assets/colab-badge.svg\" alt=\"Open In Colab\"/></a>"
      ]
    },
    {
      "cell_type": "markdown",
      "source": [
        "# Magic Hexagon"
      ],
      "metadata": {
        "id": "srcaE1j-RzBh"
      }
    },
    {
      "cell_type": "markdown",
      "source": [
        "A description of a solution to a problem from [CSPlib](https://www.csplib.org/Problems/prob023/)\n",
        "\n"
      ],
      "metadata": {
        "id": "yMVsDbCbSYQT"
      }
    },
    {
      "cell_type": "markdown",
      "source": [
        "### The Problem"
      ],
      "metadata": {
        "id": "ZOC8Sgugq41u"
      }
    },
    {
      "cell_type": "markdown",
      "source": [
        "Try to find an arrangement of the numbers 1 to 19 in a hexagon shape so that all the diagonals sum to 38."
      ],
      "metadata": {
        "id": "U-1h22D0SPqx"
      }
    },
    {
      "cell_type": "markdown",
      "source": [
        "i.e: find A-S from 1-19 as"
      ],
      "metadata": {
        "id": "Wv4EHWojrNuw"
      }
    },
    {
      "cell_type": "markdown",
      "source": [
        "\n",
        "\n",
        "```\n",
        "     A, B, C\n",
        "   D, E, F, G\n",
        "  H, I, J, K, L\n",
        "   M, N, O P\n",
        "    Q, R, S\n",
        "```\n",
        "\n",
        "\n",
        " such that\n",
        "\n",
        " ```\n",
        "A+B+C = D+E+F+G = ... = Q+R+S = 38,\n",
        "A+D+H = B+E+I+M = ... = L+P+S = 38,\n",
        "C+G+L = B+F+K+P = ... = H+M+Q = 38.\n",
        " ```"
      ],
      "metadata": {
        "id": "b2IbpCrGSgwS"
      }
    },
    {
      "cell_type": "markdown",
      "source": [
        "This is was inspired by the [NumberPuzzle solution ](https://github.com/conjure-cp/conjure/blob/main/docs/tutorials/NumberPuzzle.rst)"
      ],
      "metadata": {
        "id": "HCq_dM7FTbFr"
      }
    },
    {
      "cell_type": "code",
      "source": [
        "!source <(curl -s https://raw.githubusercontent.com/conjure-cp/conjure-notebook/v0.0.2/scripts/install-colab.sh)\n",
        "%load_ext conjure"
      ],
      "metadata": {
        "colab": {
          "base_uri": "https://localhost:8080/",
          "height": 121
        },
        "id": "qrA8mhVNtXCw",
        "outputId": "8e641e21-aa3c-419e-cf70-080ab7dee043"
      },
      "execution_count": null,
      "outputs": [
        {
          "output_type": "stream",
          "name": "stdout",
          "text": [
            "Installing Conjure...\n",
            "Conjure: The Automated Constraint Modelling Tool\n",
            "Release version 2.4.0\n",
            "Repository version a7382e3d9 (2022-11-21 10:41:03 +0000)\n"
          ]
        },
        {
          "output_type": "display_data",
          "data": {
            "text/plain": [
              "<IPython.core.display.Javascript object>"
            ],
            "application/javascript": [
              "\"use strict\";\n",
              "\n",
              "CodeMirror.defineMode(\"text/conjure\", function (config) {\n",
              "\n",
              "    var isOperatorChar = /[+\\-*=<>%^\\/]/;\n",
              "\n",
              "    var keywords = {\n",
              "        \"forall\": true,\n",
              "        \"allDifferent\": true,\n",
              "        \"allDiff\": true,\n",
              "        \"alldifferent_except\": true,\n",
              "        \"dim\": true,\n",
              "        \"toSet\": true,\n",
              "        \"toMSet\": true,\n",
              "        \"toRelation\": true,\n",
              "        \"maximising\": true,\n",
              "        \"minimising\": true,\n",
              "        \"forAll\": true,\n",
              "        \"exists\": true,\n",
              "        \"toInt\": true,\n",
              "        \"sum\": true,\n",
              "        \"be\": true,\n",
              "        \"bijective\": true,\n",
              "        \"bool\": true,\n",
              "        \"by\": true,\n",
              "        \"complete\": true,\n",
              "        \"defined\": true,\n",
              "        \"domain\": true,\n",
              "        \"in\": true,\n",
              "        \"or\": true,\n",
              "        \"and\": true,\n",
              "        \"false\": true,\n",
              "        \"find\": true,\n",
              "        \"from\": true,\n",
              "        \"function\": true,\n",
              "        \"given\": true,\n",
              "        \"image\": true,\n",
              "        \"indexed\": true,\n",
              "        \"injective\": true,\n",
              "        \"int\": true,\n",
              "        \"intersect\": true,\n",
              "        \"freq\": true,\n",
              "        \"lambda\": true,\n",
              "        \"language\": true,\n",
              "        \"letting\": true,\n",
              "        \"matrix\": true,\n",
              "        \"maxNumParts\": true,\n",
              "        \"maxOccur\": true,\n",
              "        \"maxPartSize\": true,\n",
              "        \"maxSize\": true,\n",
              "        \"minNumParts\": true,\n",
              "        \"minOccur\": true,\n",
              "        \"minPartSize\": true,\n",
              "        \"minSize\": true,\n",
              "        \"mset\": true,\n",
              "        \"numParts\": true,\n",
              "        \"of\": true,\n",
              "        \"partial\": true,\n",
              "        \"partition\": true,\n",
              "        \"partSize\": true,\n",
              "        \"preImage\": true,\n",
              "        \"quantifier\": true,\n",
              "        \"range\": true,\n",
              "        \"regular\": true,\n",
              "        \"relation\": true,\n",
              "        \"representation\": true,\n",
              "        \"set\": true,\n",
              "        \"size\": true,\n",
              "        \"subset\": true,\n",
              "        \"subsetEq\": true,\n",
              "        \"such\": true,\n",
              "        \"supset\": true,\n",
              "        \"supsetEq\": true,\n",
              "        \"surjective\": true,\n",
              "        \"that\": true,\n",
              "        \"together\": true,\n",
              "        \"enum\": true,\n",
              "        \"total\": true,\n",
              "        \"true\": true,\n",
              "        \"new\": true,\n",
              "        \"type\": true,\n",
              "        \"tuple\": true,\n",
              "        \"union\": true,\n",
              "        \"where\": true,\n",
              "        \"branching\": true,\n",
              "        \"on\": true\n",
              "    };  \n",
              "    var punc = \":;,.(){}[]\";\n",
              "\n",
              "    function tokenBase(stream, state) {\n",
              "        var ch = stream.next();\n",
              "        if (ch == '\"') {\n",
              "            state.tokenize.push(tokenString);\n",
              "            return tokenString(stream, state);\n",
              "        }\n",
              "        if (/[\\d\\.]/.test(ch)) {\n",
              "            if (ch == \".\") {\n",
              "                stream.match(/^[0-9]+([eE][\\-+]?[0-9]+)?/);\n",
              "            } else if (ch == \"0\") {\n",
              "                stream.match(/^[xX][0-9a-fA-F]+/) || stream.match(/^0[0-7]+/);\n",
              "            } else {\n",
              "                stream.match(/^[0-9]*\\.?[0-9]*([eE][\\-+]?[0-9]+)?/);\n",
              "            }\n",
              "            return \"number\";\n",
              "        }\n",
              "        if (ch == \"/\") {\n",
              "            if (stream.eat(\"*\")) {\n",
              "                state.tokenize.push(tokenComment);\n",
              "                return tokenComment(stream, state);\n",
              "            }\n",
              "        }\n",
              "        if (ch == \"$\") {\n",
              "            stream.skipToEnd();\n",
              "            return \"comment\";\n",
              "        }\n",
              "        if (isOperatorChar.test(ch)) {\n",
              "            stream.eatWhile(isOperatorChar);\n",
              "            return \"operator\";\n",
              "        }\n",
              "        if (punc.indexOf(ch) > -1) {\n",
              "            return \"punctuation\";\n",
              "        }\n",
              "        stream.eatWhile(/[\\w\\$_\\xa1-\\uffff]/);\n",
              "        var cur = stream.current();\n",
              "        \n",
              "        if (keywords.propertyIsEnumerable(cur)) {\n",
              "            return \"keyword\";\n",
              "        }\n",
              "        return \"variable\";\n",
              "    }\n",
              "\n",
              "    function tokenComment(stream, state) {\n",
              "        var maybeEnd = false, ch;\n",
              "        while (ch = stream.next()) {\n",
              "            if (ch == \"/\" && maybeEnd) {\n",
              "                state.tokenize.pop();\n",
              "                break;\n",
              "            }\n",
              "            maybeEnd = (ch == \"*\");\n",
              "        }\n",
              "        return \"comment\";\n",
              "    }\n",
              "\n",
              "    function tokenUntilClosingParen() {\n",
              "        var depth = 0;\n",
              "        return function (stream, state, prev) {\n",
              "            var inner = tokenBase(stream, state, prev);\n",
              "            console.log(\"untilClosing\", inner, stream.current());\n",
              "            if (inner == \"punctuation\") {\n",
              "                if (stream.current() == \"(\") {\n",
              "                    ++depth;\n",
              "                } else if (stream.current() == \")\") {\n",
              "                    if (depth == 0) {\n",
              "                        stream.backUp(1)\n",
              "                        state.tokenize.pop()\n",
              "                        return state.tokenize[state.tokenize.length - 1](stream, state)\n",
              "                    } else {\n",
              "                        --depth;\n",
              "                    }\n",
              "                }\n",
              "            }\n",
              "            return inner;\n",
              "        }\n",
              "    }\n",
              "\n",
              "    function tokenString(stream, state) {\n",
              "        var escaped = false, next, end = false;\n",
              "        while ((next = stream.next()) != null) {\n",
              "            if (next == '(' && escaped) {\n",
              "                state.tokenize.push(tokenUntilClosingParen());\n",
              "                return \"string\";\n",
              "            }\n",
              "            if (next == '\"' && !escaped) { end = true; break; }\n",
              "            escaped = !escaped && next == \"\\\\\";\n",
              "        }\n",
              "        if (end || !escaped)\n",
              "            state.tokenize.pop();\n",
              "        return \"string\";\n",
              "    }\n",
              "\n",
              "    return {\n",
              "        startState: function (basecolumn) {\n",
              "            return {\n",
              "                tokenize: []\n",
              "            };\n",
              "        },\n",
              "\n",
              "        token: function (stream, state) {\n",
              "            if (stream.eatSpace()) return null;\n",
              "            var style = (state.tokenize[state.tokenize.length - 1] || tokenBase)(stream, state);\n",
              "            console.log(\"token\", style);\n",
              "            return style;\n",
              "        },\n",
              "\n",
              "        blockCommentStart: \"/*\",\n",
              "        blockCommentEnd: \"*/\",\n",
              "        lineComment: \"$\"\n",
              "    };\n",
              "});\n",
              "\n",
              "\n",
              "CodeMirror.defineMIME(\"text/conjure\", \"text/conjure\");\n",
              "\n",
              "require(['notebook/js/codecell'], function (codecell) {\n",
              "    codecell.CodeCell.options_default.highlight_modes['magic_text/conjure'] = { 'reg': [/%?%conjure/] };\n",
              "    Jupyter.notebook.events.one('kernel_ready.Kernel', function () {\n",
              "        Jupyter.notebook.get_cells().map(function (cell) {\n",
              "            if (cell.cell_type == 'code') { cell.auto_highlight(); }\n",
              "        });\n",
              "    });\n",
              "});\n",
              "\n"
            ]
          },
          "metadata": {}
        },
        {
          "output_type": "stream",
          "name": "stdout",
          "text": [
            "Conjure extension is loaded.\n",
            "For usage help run: %conjure_help\n"
          ]
        }
      ]
    },
    {
      "cell_type": "markdown",
      "source": [
        "I created a new enum type to store all the letters.\n",
        "Then asked the solver to define a function that would convert the letter representations into the number 1 to 19 so that all the diagonals sum to 38 (the constraints under the such as expression below)"
      ],
      "metadata": {
        "id": "mzSiN1Nxrug9"
      }
    },
    {
      "cell_type": "code",
      "source": [
        "%%conjure\n",
        "letting letters be new type enum {A, B, C, D, E, F, G, H, I, J, K, L, M, N, O, P ,Q, R, S}\n",
        "find f : function (injective) letters --> int(1..19)\n",
        "such that\n",
        "                f(A) + f(B) + f(C) = 38,\n",
        "                f(D) + f(E) + f(F) + f(G) = 38,\n",
        "                f(H) + f(I) + f(J) + f(K) + f(L) = 38,\n",
        "                f(M) + f(N) + f(O) + f(P) = 38,\n",
        "                f(Q) + f(R) + f(S) = 38,\n",
        "                f(A) + f(D) + f(H) = 38,\n",
        "                f(B) + f(E) + f(I) + f(M) = 38,\n",
        "                f(C) + f(F) + f(J) + f(N) + f(Q) = 38,\n",
        "                f(G) + f(K) + f(O) + f(R) = 38,\n",
        "                f(L) + f(P) + f(S) = 38,\n",
        "                f(C) + f(G) + f(L) = 38,\n",
        "                f(B) + f(F) + f(K) + f(P) = 38,\n",
        "                f(A) + f(E) + f(J) + f(O) + f(S) = 38,\n",
        "                f(D) + f(I) + f(N) + f(R) = 38,\n",
        "                f(H) + f(M) + f(Q) = 38\n"
      ],
      "metadata": {
        "colab": {
          "base_uri": "https://localhost:8080/"
        },
        "id": "3KYc7-nsTr4q",
        "outputId": "c01c7748-87ed-478c-9763-2dddd7f93df4"
      },
      "execution_count": null,
      "outputs": [
        {
          "output_type": "execute_result",
          "data": {
            "text/plain": [
              "{'f': {'A': 3,\n",
              "  'B': 17,\n",
              "  'C': 18,\n",
              "  'D': 19,\n",
              "  'E': 7,\n",
              "  'F': 1,\n",
              "  'G': 11,\n",
              "  'H': 16,\n",
              "  'I': 2,\n",
              "  'J': 5,\n",
              "  'K': 6,\n",
              "  'L': 9,\n",
              "  'M': 12,\n",
              "  'N': 4,\n",
              "  'O': 8,\n",
              "  'P': 14,\n",
              "  'Q': 10,\n",
              "  'R': 13,\n",
              "  'S': 15}}"
            ]
          },
          "metadata": {},
          "execution_count": 4
        }
      ]
    }
  ]
}
