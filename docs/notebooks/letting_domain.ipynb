{
  "cells": [
    {
      "cell_type": "markdown",
      "metadata": {},
      "source": [
        "<a href=\"https://colab.research.google.com/github/conjure-cp/conjure/blob/main/docs/notebooks/letting_domain.ipynb\" target=\"_parent\"><img src=\"https://colab.research.google.com/assets/colab-badge.svg\" alt=\"Open In Colab\"/></a>"
      ]
    },
    {
      "cell_type": "markdown",
      "metadata": {
        "id": "GbeTNtnuSmWV"
      },
      "source": [
        "## Letting domain notation examples\n"
      ]
    },
    {
      "cell_type": "code",
      "execution_count": 2,
      "metadata": {
        "colab": {
          "base_uri": "https://localhost:8080/",
          "height": 138
        },
        "id": "LXXtCG_TAc82",
        "outputId": "8be47ee3-3f57-4067-b0f4-d319ac48fe5d"
      },
      "outputs": [
        {
          "name": "stdout",
          "output_type": "stream",
          "text": [
            "Installing Conjure version v2.5.0 and Conjure Notebook version v0.0.8...\n",
            "Downloading...\n",
            "Conjure: The Automated Constraint Modelling Tool\n",
            "Release version 2.5.0\n",
            "Repository version 41536c055 (2023-05-18 14:03:02 +0100)\n"
          ]
        },
        {
          "data": {
            "application/javascript": "\"use strict\";\n\nCodeMirror.defineMode(\"text/conjure\", function (config) {\n\n    var isOperatorChar = /[+\\-*=<>%^\\/]/;\n\n    var keywords = {\n        \"forall\": true,\n        \"allDifferent\": true,\n        \"allDiff\": true,\n        \"alldifferent_except\": true,\n        \"dim\": true,\n        \"toSet\": true,\n        \"toMSet\": true,\n        \"toRelation\": true,\n        \"maximising\": true,\n        \"minimising\": true,\n        \"forAll\": true,\n        \"exists\": true,\n        \"toInt\": true,\n        \"sum\": true,\n        \"be\": true,\n        \"bijective\": true,\n        \"bool\": true,\n        \"by\": true,\n        \"complete\": true,\n        \"defined\": true,\n        \"domain\": true,\n        \"in\": true,\n        \"or\": true,\n        \"and\": true,\n        \"false\": true,\n        \"find\": true,\n        \"from\": true,\n        \"function\": true,\n        \"given\": true,\n        \"image\": true,\n        \"indexed\": true,\n        \"injective\": true,\n        \"int\": true,\n        \"intersect\": true,\n        \"freq\": true,\n        \"lambda\": true,\n        \"language\": true,\n        \"letting\": true,\n        \"matrix\": true,\n        \"maxNumParts\": true,\n        \"maxOccur\": true,\n        \"maxPartSize\": true,\n        \"maxSize\": true,\n        \"minNumParts\": true,\n        \"minOccur\": true,\n        \"minPartSize\": true,\n        \"minSize\": true,\n        \"mset\": true,\n        \"numParts\": true,\n        \"of\": true,\n        \"partial\": true,\n        \"partition\": true,\n        \"partSize\": true,\n        \"preImage\": true,\n        \"quantifier\": true,\n        \"range\": true,\n        \"regular\": true,\n        \"relation\": true,\n        \"representation\": true,\n        \"set\": true,\n        \"size\": true,\n        \"subset\": true,\n        \"subsetEq\": true,\n        \"such\": true,\n        \"supset\": true,\n        \"supsetEq\": true,\n        \"surjective\": true,\n        \"that\": true,\n        \"together\": true,\n        \"enum\": true,\n        \"total\": true,\n        \"true\": true,\n        \"new\": true,\n        \"type\": true,\n        \"tuple\": true,\n        \"union\": true,\n        \"where\": true,\n        \"branching\": true,\n        \"on\": true\n    };  \n    var punc = \":;,.(){}[]\";\n\n    function tokenBase(stream, state) {\n        var ch = stream.next();\n        if (ch == '\"') {\n            state.tokenize.push(tokenString);\n            return tokenString(stream, state);\n        }\n        if (/[\\d\\.]/.test(ch)) {\n            if (ch == \".\") {\n                stream.match(/^[0-9]+([eE][\\-+]?[0-9]+)?/);\n            } else if (ch == \"0\") {\n                stream.match(/^[xX][0-9a-fA-F]+/) || stream.match(/^0[0-7]+/);\n            } else {\n                stream.match(/^[0-9]*\\.?[0-9]*([eE][\\-+]?[0-9]+)?/);\n            }\n            return \"number\";\n        }\n        if (ch == \"/\") {\n            if (stream.eat(\"*\")) {\n                state.tokenize.push(tokenComment);\n                return tokenComment(stream, state);\n            }\n        }\n        if (ch == \"$\") {\n            stream.skipToEnd();\n            return \"comment\";\n        }\n        if (isOperatorChar.test(ch)) {\n            stream.eatWhile(isOperatorChar);\n            return \"operator\";\n        }\n        if (punc.indexOf(ch) > -1) {\n            return \"punctuation\";\n        }\n        stream.eatWhile(/[\\w\\$_\\xa1-\\uffff]/);\n        var cur = stream.current();\n        \n        if (keywords.propertyIsEnumerable(cur)) {\n            return \"keyword\";\n        }\n        return \"variable\";\n    }\n\n    function tokenComment(stream, state) {\n        var maybeEnd = false, ch;\n        while (ch = stream.next()) {\n            if (ch == \"/\" && maybeEnd) {\n                state.tokenize.pop();\n                break;\n            }\n            maybeEnd = (ch == \"*\");\n        }\n        return \"comment\";\n    }\n\n    function tokenUntilClosingParen() {\n        var depth = 0;\n        return function (stream, state, prev) {\n            var inner = tokenBase(stream, state, prev);\n            console.log(\"untilClosing\", inner, stream.current());\n            if (inner == \"punctuation\") {\n                if (stream.current() == \"(\") {\n                    ++depth;\n                } else if (stream.current() == \")\") {\n                    if (depth == 0) {\n                        stream.backUp(1)\n                        state.tokenize.pop()\n                        return state.tokenize[state.tokenize.length - 1](stream, state)\n                    } else {\n                        --depth;\n                    }\n                }\n            }\n            return inner;\n        }\n    }\n\n    function tokenString(stream, state) {\n        var escaped = false, next, end = false;\n        while ((next = stream.next()) != null) {\n            if (next == '(' && escaped) {\n                state.tokenize.push(tokenUntilClosingParen());\n                return \"string\";\n            }\n            if (next == '\"' && !escaped) { end = true; break; }\n            escaped = !escaped && next == \"\\\\\";\n        }\n        if (end || !escaped)\n            state.tokenize.pop();\n        return \"string\";\n    }\n\n    return {\n        startState: function (basecolumn) {\n            return {\n                tokenize: []\n            };\n        },\n\n        token: function (stream, state) {\n            if (stream.eatSpace()) return null;\n            var style = (state.tokenize[state.tokenize.length - 1] || tokenBase)(stream, state);\n            console.log(\"token\", style);\n            return style;\n        },\n\n        blockCommentStart: \"/*\",\n        blockCommentEnd: \"*/\",\n        lineComment: \"$\"\n    };\n});\n\n\nCodeMirror.defineMIME(\"text/conjure\", \"text/conjure\");\n\nrequire(['notebook/js/codecell'], function (codecell) {\n    codecell.CodeCell.options_default.highlight_modes['magic_text/conjure'] = { 'reg': [/%?%conjure/] };\n    Jupyter.notebook.events.one('kernel_ready.Kernel', function () {\n        Jupyter.notebook.get_cells().map(function (cell) {\n            if (cell.cell_type == 'code') { cell.auto_highlight(); }\n        });\n    });\n});\n\n",
            "text/plain": [
              "<IPython.core.display.Javascript object>"
            ]
          },
          "metadata": {},
          "output_type": "display_data"
        },
        {
          "name": "stdout",
          "output_type": "stream",
          "text": [
            "Conjure extension is loaded.\n",
            "For usage help run: %conjure_help\n"
          ]
        }
      ],
      "source": [
        "!source <(curl -s https://raw.githubusercontent.com/conjure-cp/conjure-notebook/v0.0.8/scripts/install-colab.sh)\n",
        "%load_ext conjure"
      ]
    },
    {
      "cell_type": "markdown",
      "metadata": {
        "id": "K7IE61rxgmPs"
      },
      "source": [
        "### bool"
      ]
    },
    {
      "cell_type": "code",
      "execution_count": null,
      "metadata": {
        "colab": {
          "base_uri": "https://localhost:8080/",
          "height": 34
        },
        "id": "tbTt54a4S2br",
        "outputId": "d637ec39-de0a-4c53-c386-030c8fb32612"
      },
      "outputs": [
        {
          "data": {
            "text/markdown": [
              "```json\n",
              "{\"conjure_solutions\": [{\"y\": false}, {\"y\": true}]}\n",
              "```"
            ],
            "text/plain": [
              "<IPython.core.display.Markdown object>"
            ]
          },
          "metadata": {},
          "output_type": "display_data"
        }
      ],
      "source": [
        "%%conjure --number-of-solutions=all\n",
        "letting x be domain bool\n",
        "find y: x"
      ]
    },
    {
      "cell_type": "markdown",
      "metadata": {
        "id": "j_44lzxvgsmz"
      },
      "source": [
        "### int"
      ]
    },
    {
      "cell_type": "markdown",
      "metadata": {
        "id": "dqKQBuv7Uktf"
      },
      "source": [
        "domains of quanitified and decision variables have to be finite\n"
      ]
    },
    {
      "cell_type": "code",
      "execution_count": null,
      "metadata": {
        "colab": {
          "base_uri": "https://localhost:8080/",
          "height": 34
        },
        "id": "Qq9V0AO9T9k8",
        "outputId": "0ac6d2cf-b42a-48bf-a267-6651dcaaea18"
      },
      "outputs": [
        {
          "data": {
            "text/markdown": [
              "```json\n",
              "{\"conjure_solutions\": [{\"y\": 1}, {\"y\": 2}, {\"y\": 3}, {\"y\": 4}, {\"y\": 5}, {\"y\": 6}, {\"y\": 7}, {\"y\": 8}, {\"y\": 9}, {\"y\": 10}]}\n",
              "```"
            ],
            "text/plain": [
              "<IPython.core.display.Markdown object>"
            ]
          },
          "metadata": {},
          "output_type": "display_data"
        }
      ],
      "source": [
        "%%conjure --number-of-solutions=all\n",
        "letting x be domain int(1..10)\n",
        "find y: x"
      ]
    },
    {
      "cell_type": "markdown",
      "metadata": {
        "id": "Smd-YU95UyqU"
      },
      "source": [
        "infinite domain can be defined (but not a result of a solution):"
      ]
    },
    {
      "cell_type": "code",
      "execution_count": null,
      "metadata": {
        "colab": {
          "base_uri": "https://localhost:8080/",
          "height": 34
        },
        "id": "RfGZISXHUoC6",
        "outputId": "300630f0-935e-4de5-ccda-2c3eaf361862"
      },
      "outputs": [
        {
          "data": {
            "text/markdown": [
              "```json\n",
              "{}\n",
              "```"
            ],
            "text/plain": [
              "<IPython.core.display.Markdown object>"
            ]
          },
          "metadata": {},
          "output_type": "display_data"
        }
      ],
      "source": [
        "%%conjure\n",
        "letting x be domain int\n"
      ]
    },
    {
      "cell_type": "markdown",
      "metadata": {
        "id": "nytpEJnKgxWq"
      },
      "source": [
        "### enumerated"
      ]
    },
    {
      "cell_type": "markdown",
      "metadata": {
        "id": "FxLaZK8SVuYy"
      },
      "source": [
        "Have to declare enumerated type before assigning domain of it."
      ]
    },
    {
      "cell_type": "code",
      "execution_count": null,
      "metadata": {
        "colab": {
          "base_uri": "https://localhost:8080/",
          "height": 54
        },
        "id": "kgGN8Qpyc81F",
        "outputId": "dcd95dbf-539a-455a-e548-5cb81882b8c7"
      },
      "outputs": [
        {
          "data": {
            "text/markdown": [
              "```json\n",
              "{\"conjure_solutions\": [{\"a\": \"A\", \"b\": \"A\"}, {\"a\": \"A\", \"b\": \"B\"}, {\"a\": \"A\", \"b\": \"C\"}, {\"a\": \"C\", \"b\": \"A\"}, {\"a\": \"C\", \"b\": \"B\"}, {\"a\": \"C\", \"b\": \"C\"}]}\n",
              "```"
            ],
            "text/plain": [
              "<IPython.core.display.Markdown object>"
            ]
          },
          "metadata": {},
          "output_type": "display_data"
        }
      ],
      "source": [
        "%%conjure --number-of-solutions=all\n",
        "letting x be new type enum {A, B, C}\n",
        "letting y be domain x (A,C)\n",
        "letting z be domain x (A,B,C)\n",
        "find a: y\n",
        "find b: z\n"
      ]
    },
    {
      "cell_type": "markdown",
      "metadata": {
        "id": "TXHnxt3Mg5IY"
      },
      "source": [
        "### unnamed"
      ]
    },
    {
      "cell_type": "markdown",
      "metadata": {
        "id": "kkRruyA8jSSZ"
      },
      "source": [
        "This doesn't produce an output as unnamed types aren't meant to be referenced (mainly used to break symmetry at problem definition)."
      ]
    },
    {
      "cell_type": "code",
      "execution_count": 4,
      "metadata": {
        "colab": {
          "base_uri": "https://localhost:8080/"
        },
        "id": "MqM_PYB0WTtk",
        "outputId": "f91b285e-5ff4-4564-ef21-d57a4a306d89"
      },
      "outputs": [
        {
          "name": "stderr",
          "output_type": "stream",
          "text": [
            "Exception: Error:\n",
            "    Cannot convert the following to simple JSON:\n",
            "    \n",
            "    letting x be new type enum {x_1, x_2, x_3}\n",
            "    \n",
            "    Let us know if you need support for this please!\n",
            "    As a workaround you can use --output-format=astjson\n",
            "conjure: \n",
            "Ran commands: \n",
            "savilerow -in-eprime conjure-output/model000001.eprime -out-minion conjure-output/model000001.eprime-minion -out-sat conjure-output/model000001.eprime-dimacs -out-smt conjure-output/model000001.eprime-smt -out-aux conjure-output/model000001.eprime-aux -out-info conjure-output/model000001.eprime-info -out-minizinc conjure-output/model000001.eprime.mzn -run-solver -S0 -solutions-to-stdout-one-line -num-solutions 1 -chuffed\n",
            "which savilerow\n",
            "\n",
            "Exception: ExitFailure 2\n",
            "\n"
          ]
        }
      ],
      "source": [
        "%%conjure\n",
        "letting x be new type of size (3)\n",
        "letting y be domain x\n",
        "\n"
      ]
    },
    {
      "cell_type": "markdown",
      "metadata": {
        "id": "wTqBCT5eg_ta"
      },
      "source": [
        "### tuple"
      ]
    },
    {
      "cell_type": "code",
      "execution_count": null,
      "metadata": {
        "colab": {
          "base_uri": "https://localhost:8080/",
          "height": 34
        },
        "id": "i7cHqLcOZCEY",
        "outputId": "c3ec97fc-c9db-4c4c-ad06-f6ca6d742572"
      },
      "outputs": [
        {
          "data": {
            "text/markdown": [
              "```json\n",
              "{\"y\": [1, 2, 3]}\n",
              "```"
            ],
            "text/plain": [
              "<IPython.core.display.Markdown object>"
            ]
          },
          "metadata": {},
          "output_type": "display_data"
        }
      ],
      "source": [
        "%%conjure --number-of-solutions=all --solver=minion\n",
        "letting x be domain tuple(int(1), int(2), int(3))\n",
        "find y: x"
      ]
    },
    {
      "cell_type": "code",
      "execution_count": null,
      "metadata": {
        "colab": {
          "base_uri": "https://localhost:8080/",
          "height": 34
        },
        "id": "1eA05uHsZthW",
        "outputId": "3ae3e66e-b80e-4589-fd73-f6aa6239fd4d"
      },
      "outputs": [
        {
          "data": {
            "text/markdown": [
              "```json\n",
              "{\"y\": []}\n",
              "```"
            ],
            "text/plain": [
              "<IPython.core.display.Markdown object>"
            ]
          },
          "metadata": {},
          "output_type": "display_data"
        }
      ],
      "source": [
        "%%conjure --number-of-solutions=all --solver=minion\n",
        "letting x be domain tuple()\n",
        "find y: x"
      ]
    },
    {
      "cell_type": "markdown",
      "metadata": {
        "id": "9z9MuSMYhdWa"
      },
      "source": [
        "### record"
      ]
    },
    {
      "cell_type": "code",
      "execution_count": null,
      "metadata": {
        "colab": {
          "base_uri": "https://localhost:8080/",
          "height": 34
        },
        "id": "ra06s9ouZxsf",
        "outputId": "1afdf1af-a9cc-4d64-bab6-520f7d97f999"
      },
      "outputs": [
        {
          "data": {
            "text/markdown": [
              "```json\n",
              "{\"y\": {\"A\": 1, \"B\": 2}}\n",
              "```"
            ],
            "text/plain": [
              "<IPython.core.display.Markdown object>"
            ]
          },
          "metadata": {},
          "output_type": "display_data"
        }
      ],
      "source": [
        "%%conjure --number-of-solutions=all --solver=minion\n",
        "letting x be domain record{A: int(1), B: int(2)}\n",
        "find y: x"
      ]
    },
    {
      "cell_type": "code",
      "execution_count": null,
      "metadata": {
        "colab": {
          "base_uri": "https://localhost:8080/",
          "height": 34
        },
        "id": "1yxN0w__bP_i",
        "outputId": "4e4b1a0e-13c5-4d42-bab8-9063aac9f79b"
      },
      "outputs": [
        {
          "data": {
            "text/markdown": [
              "```json\n",
              "{\"y\": {}}\n",
              "```"
            ],
            "text/plain": [
              "<IPython.core.display.Markdown object>"
            ]
          },
          "metadata": {},
          "output_type": "display_data"
        }
      ],
      "source": [
        "%%conjure --number-of-solutions=all --solver=minion\n",
        "letting x be domain record{}\n",
        "find y: x"
      ]
    },
    {
      "cell_type": "markdown",
      "metadata": {
        "id": "q9EpiHBKhiiJ"
      },
      "source": [
        "### variant"
      ]
    },
    {
      "cell_type": "code",
      "execution_count": null,
      "metadata": {
        "colab": {
          "base_uri": "https://localhost:8080/",
          "height": 34
        },
        "id": "-1qspvmuZ7rC",
        "outputId": "bcc93bc1-04b6-4079-c25d-26f2755e9b5e"
      },
      "outputs": [
        {
          "data": {
            "text/markdown": [
              "```json\n",
              "{\"conjure_solutions\": [{\"y\": {\"A\": 1}}, {\"y\": {\"B\": 2}}, {\"y\": {\"C\": 3}}]}\n",
              "```"
            ],
            "text/plain": [
              "<IPython.core.display.Markdown object>"
            ]
          },
          "metadata": {},
          "output_type": "display_data"
        }
      ],
      "source": [
        "%%conjure --number-of-solutions=all\n",
        "letting x be domain variant{A: int(1), B: int(2), C: int(3)}\n",
        "find y: x"
      ]
    },
    {
      "cell_type": "markdown",
      "metadata": {
        "id": "-tUVDym8hoip"
      },
      "source": [
        "### matrix"
      ]
    },
    {
      "cell_type": "code",
      "execution_count": null,
      "metadata": {
        "colab": {
          "base_uri": "https://localhost:8080/",
          "height": 34
        },
        "id": "1biopbmjcPyI",
        "outputId": "ef4b9c0c-82fa-48f5-b443-12f73c4e1eca"
      },
      "outputs": [
        {
          "data": {
            "text/markdown": [
              "```json\n",
              "{\"y\": {\"1\": {\"1\": {\"1\": 3}}}}\n",
              "```"
            ],
            "text/plain": [
              "<IPython.core.display.Markdown object>"
            ]
          },
          "metadata": {},
          "output_type": "display_data"
        }
      ],
      "source": [
        "%%conjure --number-of-solutions=all --solver=minion\n",
        "letting x be domain matrix indexed by [int(1), int(1), int(1)] of int(3)\n",
        "find y: x"
      ]
    },
    {
      "cell_type": "markdown",
      "metadata": {
        "id": "lRK7eo3_h6vJ"
      },
      "source": [
        "### set"
      ]
    },
    {
      "cell_type": "code",
      "execution_count": null,
      "metadata": {
        "colab": {
          "base_uri": "https://localhost:8080/",
          "height": 54
        },
        "id": "IwYlXc3-dKi0",
        "outputId": "bbb64403-7925-4b2f-aef8-89363cbdc991"
      },
      "outputs": [
        {
          "data": {
            "text/markdown": [
              "```json\n",
              "{\"conjure_solutions\": [{\"y\": []}, {\"y\": [10]}, {\"y\": [9]}, {\"y\": [9, 10]}, {\"y\": [8]}, {\"y\": [8, 10]}, {\"y\": [8, 9]}, {\"y\": [8, 9, 10]}, {\"y\": [7]}, {\"y\": [7, 10]}, {\"y\": [7, 9]}, {\"y\": [7, 9, 10]}, {\"y\": [7, 8]}, {\"y\": [7, 8, 10]}, {\"y\": [7, 8, 9]}, {\"y\": [7, 8, 9, 10]}, {\"y\": [6]}, {\"y\": [6, 10]}, {\"y\": [6, 9]}, {\"y\": [6, 9, 10]}, {\"y\": [6, 8]}, {\"y\": [6, 8, 10]}, {\"y\": [6, 8, 9]}, {\"y\": [6, 8, 9, 10]}, {\"y\": [6, 7]}, {\"y\": [6, 7, 10]}, {\"y\": [6, 7, 9]}, {\"y\": [6, 7, 9, 10]}, {\"y\": [6, 7, 8]}, {\"y\": [6, 7, 8, 10]}, {\"y\": [6, 7, 8, 9]}, {\"y\": [6, 7, 8, 9, 10]}, {\"y\": [5]}, {\"y\": [5, 10]}, {\"y\": [5, 9]}, {\"y\": [5, 9, 10]}, {\"y\": [5, 8]}, {\"y\": [5, 8, 10]}, {\"y\": [5, 8, 9]}, {\"y\": [5, 8, 9, 10]}, {\"y\": [5, 7]}, {\"y\": [5, 7, 10]}, {\"y\": [5, 7, 9]}, {\"y\": [5, 7, 9, 10]}, {\"y\": [5, 7, 8]}, {\"y\": [5, 7, 8, 10]}, {\"y\": [5, 7, 8, 9]}, {\"y\": [5, 7, 8, 9, 10]}, {\"y\": [5, 6]}, {\"y\": [5, 6, 10]}, {\"y\": [5, 6, 9]}, {\"y\": [5, 6, 9, 10]}, {\"y\": [5, 6, 8]}, {\"y\": [5, 6, 8, 10]}, {\"y\": [5, 6, 8, 9]}, {\"y\": [5, 6, 8, 9, 10]}, {\"y\": [5, 6, 7]}, {\"y\": [5, 6, 7, 10]}, {\"y\": [5, 6, 7, 9]}, {\"y\": [5, 6, 7, 9, 10]}, {\"y\": [5, 6, 7, 8]}, {\"y\": [5, 6, 7, 8, 10]}, {\"y\": [5, 6, 7, 8, 9]}, {\"y\": [5, 6, 7, 8, 9, 10]}, {\"y\": [4]}, {\"y\": [4, 10]}, {\"y\": [4, 9]}, {\"y\": [4, 9, 10]}, {\"y\": [4, 8]}, {\"y\": [4, 8, 10]}, {\"y\": [4, 8, 9]}, {\"y\": [4, 8, 9, 10]}, {\"y\": [4, 7]}, {\"y\": [4, 7, 10]}, {\"y\": [4, 7, 9]}, {\"y\": [4, 7, 9, 10]}, {\"y\": [4, 7, 8]}, {\"y\": [4, 7, 8, 10]}, {\"y\": [4, 7, 8, 9]}, {\"y\": [4, 7, 8, 9, 10]}, {\"y\": [4, 6]}, {\"y\": [4, 6, 10]}, {\"y\": [4, 6, 9]}, {\"y\": [4, 6, 9, 10]}, {\"y\": [4, 6, 8]}, {\"y\": [4, 6, 8, 10]}, {\"y\": [4, 6, 8, 9]}, {\"y\": [4, 6, 8, 9, 10]}, {\"y\": [4, 6, 7]}, {\"y\": [4, 6, 7, 10]}, {\"y\": [4, 6, 7, 9]}, {\"y\": [4, 6, 7, 9, 10]}, {\"y\": [4, 6, 7, 8]}, {\"y\": [4, 6, 7, 8, 10]}, {\"y\": [4, 6, 7, 8, 9]}, {\"y\": [4, 6, 7, 8, 9, 10]}, {\"y\": [4, 5]}, {\"y\": [4, 5, 10]}, {\"y\": [4, 5, 9]}, {\"y\": [4, 5, 9, 10]}, {\"y\": [4, 5, 8]}, {\"y\": [4, 5, 8, 10]}, {\"y\": [4, 5, 8, 9]}, {\"y\": [4, 5, 8, 9, 10]}, {\"y\": [4, 5, 7]}, {\"y\": [4, 5, 7, 10]}, {\"y\": [4, 5, 7, 9]}, {\"y\": [4, 5, 7, 9, 10]}, {\"y\": [4, 5, 7, 8]}, {\"y\": [4, 5, 7, 8, 10]}, {\"y\": [4, 5, 7, 8, 9]}, {\"y\": [4, 5, 7, 8, 9, 10]}, {\"y\": [4, 5, 6]}, {\"y\": [4, 5, 6, 10]}, {\"y\": [4, 5, 6, 9]}, {\"y\": [4, 5, 6, 9, 10]}, {\"y\": [4, 5, 6, 8]}, {\"y\": [4, 5, 6, 8, 10]}, {\"y\": [4, 5, 6, 8, 9]}, {\"y\": [4, 5, 6, 8, 9, 10]}, {\"y\": [4, 5, 6, 7]}, {\"y\": [4, 5, 6, 7, 10]}, {\"y\": [4, 5, 6, 7, 9]}, {\"y\": [4, 5, 6, 7, 9, 10]}, {\"y\": [4, 5, 6, 7, 8]}, {\"y\": [4, 5, 6, 7, 8, 10]}, {\"y\": [4, 5, 6, 7, 8, 9]}, {\"y\": [4, 5, 6, 7, 8, 9, 10]}, {\"y\": [3]}, {\"y\": [3, 10]}, {\"y\": [3, 9]}, {\"y\": [3, 9, 10]}, {\"y\": [3, 8]}, {\"y\": [3, 8, 10]}, {\"y\": [3, 8, 9]}, {\"y\": [3, 8, 9, 10]}, {\"y\": [3, 7]}, {\"y\": [3, 7, 10]}, {\"y\": [3, 7, 9]}, {\"y\": [3, 7, 9, 10]}, {\"y\": [3, 7, 8]}, {\"y\": [3, 7, 8, 10]}, {\"y\": [3, 7, 8, 9]}, {\"y\": [3, 7, 8, 9, 10]}, {\"y\": [3, 6]}, {\"y\": [3, 6, 10]}, {\"y\": [3, 6, 9]}, {\"y\": [3, 6, 9, 10]}, {\"y\": [3, 6, 8]}, {\"y\": [3, 6, 8, 10]}, {\"y\": [3, 6, 8, 9]}, {\"y\": [3, 6, 8, 9, 10]}, {\"y\": [3, 6, 7]}, {\"y\": [3, 6, 7, 10]}, {\"y\": [3, 6, 7, 9]}, {\"y\": [3, 6, 7, 9, 10]}, {\"y\": [3, 6, 7, 8]}, {\"y\": [3, 6, 7, 8, 10]}, {\"y\": [3, 6, 7, 8, 9]}, {\"y\": [3, 6, 7, 8, 9, 10]}, {\"y\": [3, 5]}, {\"y\": [3, 5, 10]}, {\"y\": [3, 5, 9]}, {\"y\": [3, 5, 9, 10]}, {\"y\": [3, 5, 8]}, {\"y\": [3, 5, 8, 10]}, {\"y\": [3, 5, 8, 9]}, {\"y\": [3, 5, 8, 9, 10]}, {\"y\": [3, 5, 7]}, {\"y\": [3, 5, 7, 10]}, {\"y\": [3, 5, 7, 9]}, {\"y\": [3, 5, 7, 9, 10]}, {\"y\": [3, 5, 7, 8]}, {\"y\": [3, 5, 7, 8, 10]}, {\"y\": [3, 5, 7, 8, 9]}, {\"y\": [3, 5, 7, 8, 9, 10]}, {\"y\": [3, 5, 6]}, {\"y\": [3, 5, 6, 10]}, {\"y\": [3, 5, 6, 9]}, {\"y\": [3, 5, 6, 9, 10]}, {\"y\": [3, 5, 6, 8]}, {\"y\": [3, 5, 6, 8, 10]}, {\"y\": [3, 5, 6, 8, 9]}, {\"y\": [3, 5, 6, 8, 9, 10]}, {\"y\": [3, 5, 6, 7]}, {\"y\": [3, 5, 6, 7, 10]}, {\"y\": [3, 5, 6, 7, 9]}, {\"y\": [3, 5, 6, 7, 9, 10]}, {\"y\": [3, 5, 6, 7, 8]}, {\"y\": [3, 5, 6, 7, 8, 10]}, {\"y\": [3, 5, 6, 7, 8, 9]}, {\"y\": [3, 5, 6, 7, 8, 9, 10]}, {\"y\": [3, 4]}, {\"y\": [3, 4, 10]}, {\"y\": [3, 4, 9]}, {\"y\": [3, 4, 9, 10]}, {\"y\": [3, 4, 8]}, {\"y\": [3, 4, 8, 10]}, {\"y\": [3, 4, 8, 9]}, {\"y\": [3, 4, 8, 9, 10]}, {\"y\": [1, 2, 3, 4, 5, 6, 7, 8, 9, 10]}, {\"y\": [2, 3, 4, 5, 6, 7, 8, 9, 10]}, {\"y\": [1, 3, 4, 5, 6, 7, 8, 9, 10]}, {\"y\": [3, 4, 5, 6, 7, 8, 9, 10]}, {\"y\": [1, 2, 4, 5, 6, 7, 8, 9, 10]}, {\"y\": [1, 4, 5, 6, 7, 8, 9, 10]}, {\"y\": [2, 4, 5, 6, 7, 8, 9, 10]}, {\"y\": [1, 2, 3, 5, 6, 7, 8, 9, 10]}, {\"y\": [1, 2, 5, 6, 7, 8, 9, 10]}, {\"y\": [2, 3, 5, 6, 7, 8, 9, 10]}, {\"y\": [2, 5, 6, 7, 8, 9, 10]}, {\"y\": [1, 3, 5, 6, 7, 8, 9, 10]}, {\"y\": [1, 5, 6, 7, 8, 9, 10]}, {\"y\": [1, 2, 3, 6, 7, 8, 9, 10]}, {\"y\": [1, 2, 3, 4, 6, 7, 8, 9, 10]}, {\"y\": [1, 3, 6, 7, 8, 9, 10]}, {\"y\": [1, 3, 4, 6, 7, 8, 9, 10]}, {\"y\": [1, 2, 6, 7, 8, 9, 10]}, {\"y\": [1, 2, 4, 6, 7, 8, 9, 10]}, {\"y\": [1, 6, 7, 8, 9, 10]}, {\"y\": [1, 4, 6, 7, 8, 9, 10]}, {\"y\": [2, 3, 6, 7, 8, 9, 10]}, {\"y\": [2, 6, 7, 8, 9, 10]}, {\"y\": [2, 3, 4, 6, 7, 8, 9, 10]}, {\"y\": [2, 4, 6, 7, 8, 9, 10]}, {\"y\": [3, 4, 6, 7, 8, 9, 10]}, {\"y\": [1, 2, 3, 7, 8, 9, 10]}, {\"y\": [1, 2, 3, 5, 7, 8, 9, 10]}, {\"y\": [2, 3, 7, 8, 9, 10]}, {\"y\": [2, 3, 5, 7, 8, 9, 10]}, {\"y\": [1, 2, 3, 4, 7, 8, 9, 10]}, {\"y\": [2, 3, 4, 7, 8, 9, 10]}, {\"y\": [1, 2, 3, 4, 5, 7, 8, 9, 10]}, {\"y\": [2, 3, 4, 5, 7, 8, 9, 10]}, {\"y\": [1, 2, 7, 8, 9, 10]}, {\"y\": [1, 2, 4, 7, 8, 9, 10]}, {\"y\": [1, 2, 5, 7, 8, 9, 10]}, {\"y\": [1, 2, 4, 5, 7, 8, 9, 10]}, {\"y\": [2, 7, 8, 9, 10]}, {\"y\": [2, 5, 7, 8, 9, 10]}, {\"y\": [2, 4, 7, 8, 9, 10]}, {\"y\": [2, 4, 5, 7, 8, 9, 10]}, {\"y\": [1, 3, 7, 8, 9, 10]}, {\"y\": [1, 7, 8, 9, 10]}, {\"y\": [1, 3, 4, 7, 8, 9, 10]}, {\"y\": [1, 4, 7, 8, 9, 10]}, {\"y\": [3, 4, 7, 8, 9, 10]}, {\"y\": [1, 3, 5, 7, 8, 9, 10]}, {\"y\": [1, 3, 4, 5, 7, 8, 9, 10]}, {\"y\": [1, 5, 7, 8, 9, 10]}, {\"y\": [1, 4, 5, 7, 8, 9, 10]}, {\"y\": [3, 4, 5, 7, 8, 9, 10]}, {\"y\": [1, 2, 3, 8, 9, 10]}, {\"y\": [1, 3, 8, 9, 10]}, {\"y\": [1, 2, 3, 5, 8, 9, 10]}, {\"y\": [1, 3, 5, 8, 9, 10]}, {\"y\": [1, 2, 8, 9, 10]}, {\"y\": [1, 8, 9, 10]}, {\"y\": [1, 2, 5, 8, 9, 10]}, {\"y\": [1, 5, 8, 9, 10]}, {\"y\": [1, 2, 3, 6, 8, 9, 10]}, {\"y\": [1, 2, 6, 8, 9, 10]}, {\"y\": [1, 2, 3, 5, 6, 8, 9, 10]}, {\"y\": [1, 2, 5, 6, 8, 9, 10]}, {\"y\": [1, 3, 6, 8, 9, 10]}, {\"y\": [1, 3, 5, 6, 8, 9, 10]}, {\"y\": [1, 6, 8, 9, 10]}, {\"y\": [1, 5, 6, 8, 9, 10]}, {\"y\": [1, 2, 3, 4, 8, 9, 10]}, {\"y\": [1, 2, 3, 4, 6, 8, 9, 10]}, {\"y\": [1, 3, 4, 8, 9, 10]}, {\"y\": [1, 3, 4, 6, 8, 9, 10]}, {\"y\": [1, 2, 4, 8, 9, 10]}, {\"y\": [1, 2, 4, 6, 8, 9, 10]}, {\"y\": [1, 4, 8, 9, 10]}, {\"y\": [1, 4, 6, 8, 9, 10]}, {\"y\": [1, 2, 3, 4, 5, 8, 9, 10]}, {\"y\": [1, 2, 4, 5, 8, 9, 10]}, {\"y\": [1, 3, 4, 5, 8, 9, 10]}, {\"y\": [1, 4, 5, 8, 9, 10]}, {\"y\": [1, 2, 3, 4, 5, 6, 8, 9, 10]}, {\"y\": [1, 3, 4, 5, 6, 8, 9, 10]}, {\"y\": [1, 2, 4, 5, 6, 8, 9, 10]}, {\"y\": [1, 4, 5, 6, 8, 9, 10]}, {\"y\": [2, 3, 4, 8, 9, 10]}, {\"y\": [2, 3, 4, 5, 8, 9, 10]}, {\"y\": [2, 3, 8, 9, 10]}, {\"y\": [2, 3, 5, 8, 9, 10]}, {\"y\": [2, 3, 4, 6, 8, 9, 10]}, {\"y\": [2, 3, 6, 8, 9, 10]}, {\"y\": [2, 3, 4, 5, 6, 8, 9, 10]}, {\"y\": [2, 3, 5, 6, 8, 9, 10]}, {\"y\": [2, 4, 8, 9, 10]}, {\"y\": [2, 4, 6, 8, 9, 10]}, {\"y\": [2, 4, 5, 8, 9, 10]}, {\"y\": [2, 4, 5, 6, 8, 9, 10]}, {\"y\": [2, 8, 9, 10]}, {\"y\": [2, 5, 8, 9, 10]}, {\"y\": [2, 6, 8, 9, 10]}, {\"y\": [2, 5, 6, 8, 9, 10]}, {\"y\": [3, 4, 6, 8, 9, 10]}, {\"y\": [3, 4, 5, 8, 9, 10]}, {\"y\": [3, 4, 5, 6, 8, 9, 10]}, {\"y\": [2, 3, 4, 9, 10]}, {\"y\": [1, 2, 3, 4, 9, 10]}, {\"y\": [2, 4, 9, 10]}, {\"y\": [1, 2, 4, 9, 10]}, {\"y\": [2, 3, 9, 10]}, {\"y\": [2, 9, 10]}, {\"y\": [1, 2, 3, 9, 10]}, {\"y\": [1, 2, 9, 10]}, {\"y\": [2, 3, 4, 5, 9, 10]}, {\"y\": [2, 3, 5, 9, 10]}, {\"y\": [1, 2, 3, 4, 5, 9, 10]}, {\"y\": [1, 2, 3, 5, 9, 10]}, {\"y\": [2, 4, 5, 9, 10]}, {\"y\": [1, 2, 4, 5, 9, 10]}, {\"y\": [2, 5, 9, 10]}, {\"y\": [1, 2, 5, 9, 10]}, {\"y\": [2, 3, 4, 6, 9, 10]}, {\"y\": [2, 3, 4, 5, 6, 9, 10]}, {\"y\": [2, 4, 6, 9, 10]}, {\"y\": [2, 4, 5, 6, 9, 10]}, {\"y\": [2, 3, 6, 9, 10]}, {\"y\": [2, 3, 5, 6, 9, 10]}, {\"y\": [2, 6, 9, 10]}, {\"y\": [2, 5, 6, 9, 10]}, {\"y\": [1, 2, 3, 4, 6, 9, 10]}, {\"y\": [1, 2, 3, 6, 9, 10]}, {\"y\": [1, 2, 4, 6, 9, 10]}, {\"y\": [1, 2, 6, 9, 10]}, {\"y\": [1, 2, 3, 4, 5, 6, 9, 10]}, {\"y\": [1, 2, 4, 5, 6, 9, 10]}, {\"y\": [1, 2, 3, 5, 6, 9, 10]}, {\"y\": [1, 2, 5, 6, 9, 10]}, {\"y\": [3, 4, 6, 9, 10]}, {\"y\": [1, 3, 4, 6, 9, 10]}, {\"y\": [1, 3, 4, 9, 10]}, {\"y\": [3, 4, 5, 6, 9, 10]}, {\"y\": [3, 4, 5, 9, 10]}, {\"y\": [1, 3, 4, 5, 6, 9, 10]}, {\"y\": [1, 3, 4, 5, 9, 10]}, {\"y\": [1, 3, 6, 9, 10]}, {\"y\": [1, 3, 5, 6, 9, 10]}, {\"y\": [1, 3, 9, 10]}, {\"y\": [1, 3, 5, 9, 10]}, {\"y\": [1, 4, 6, 9, 10]}, {\"y\": [1, 4, 5, 6, 9, 10]}, {\"y\": [1, 6, 9, 10]}, {\"y\": [1, 5, 6, 9, 10]}, {\"y\": [1, 4, 9, 10]}, {\"y\": [1, 9, 10]}, {\"y\": [1, 4, 5, 9, 10]}, {\"y\": [1, 5, 9, 10]}, {\"y\": [1, 3, 4, 6, 7, 9, 10]}, {\"y\": [1, 4, 6, 7, 9, 10]}, {\"y\": [1, 3, 4, 7, 9, 10]}, {\"y\": [1, 4, 7, 9, 10]}, {\"y\": [1, 2, 3, 4, 6, 7, 9, 10]}, {\"y\": [1, 2, 3, 4, 7, 9, 10]}, {\"y\": [1, 2, 4, 6, 7, 9, 10]}, {\"y\": [1, 2, 4, 7, 9, 10]}, {\"y\": [3, 4, 6, 7, 9, 10]}, {\"y\": [2, 3, 4, 6, 7, 9, 10]}, {\"y\": [2, 4, 6, 7, 9, 10]}, {\"y\": [3, 4, 7, 9, 10]}, {\"y\": [2, 3, 4, 7, 9, 10]}, {\"y\": [2, 4, 7, 9, 10]}, {\"y\": [1, 3, 4, 5, 6, 7, 9, 10]}, {\"y\": [3, 4, 5, 6, 7, 9, 10]}, {\"y\": [1, 3, 4, 5, 7, 9, 10]}, {\"y\": [3, 4, 5, 7, 9, 10]}, {\"y\": [1, 2, 3, 4, 5, 6, 7, 9, 10]}, {\"y\": [2, 3, 4, 5, 6, 7, 9, 10]}, {\"y\": [1, 2, 3, 4, 5, 7, 9, 10]}, {\"y\": [2, 3, 4, 5, 7, 9, 10]}, {\"y\": [1, 4, 5, 6, 7, 9, 10]}, {\"y\": [1, 2, 4, 5, 6, 7, 9, 10]}, {\"y\": [1, 4, 5, 7, 9, 10]}, {\"y\": [1, 2, 4, 5, 7, 9, 10]}, {\"y\": [2, 4, 5, 6, 7, 9, 10]}, {\"y\": [2, 4, 5, 7, 9, 10]}, {\"y\": [1, 3, 5, 6, 7, 9, 10]}, {\"y\": [1, 3, 6, 7, 9, 10]}, {\"y\": [1, 5, 6, 7, 9, 10]}, {\"y\": [1, 6, 7, 9, 10]}, {\"y\": [1, 2, 3, 5, 6, 7, 9, 10]}, {\"y\": [1, 2, 5, 6, 7, 9, 10]}, {\"y\": [1, 2, 3, 6, 7, 9, 10]}, {\"y\": [1, 2, 6, 7, 9, 10]}, {\"y\": [1, 3, 5, 7, 9, 10]}, {\"y\": [1, 2, 3, 5, 7, 9, 10]}, {\"y\": [1, 3, 7, 9, 10]}, {\"y\": [1, 2, 3, 7, 9, 10]}, {\"y\": [1, 5, 7, 9, 10]}, {\"y\": [1, 7, 9, 10]}, {\"y\": [1, 2, 5, 7, 9, 10]}, {\"y\": [1, 2, 7, 9, 10]}, {\"y\": [2, 3, 5, 6, 7, 9, 10]}, {\"y\": [2, 3, 5, 7, 9, 10]}, {\"y\": [2, 5, 6, 7, 9, 10]}, {\"y\": [2, 5, 7, 9, 10]}, {\"y\": [2, 3, 6, 7, 9, 10]}, {\"y\": [2, 3, 7, 9, 10]}, {\"y\": [2, 6, 7, 9, 10]}, {\"y\": [2, 7, 9, 10]}, {\"y\": [1, 2, 3, 5, 6, 7, 9]}, {\"y\": [2, 3, 5, 6, 7, 9]}, {\"y\": [1, 3, 5, 6, 7, 9]}, {\"y\": [1, 2, 3, 6, 7, 9]}, {\"y\": [2, 3, 6, 7, 9]}, {\"y\": [1, 3, 6, 7, 9]}, {\"y\": [1, 2, 3, 5, 7, 9]}, {\"y\": [1, 2, 3, 7, 9]}, {\"y\": [2, 3, 5, 7, 9]}, {\"y\": [2, 3, 7, 9]}, {\"y\": [1, 3, 5, 7, 9]}, {\"y\": [1, 3, 7, 9]}, {\"y\": [1, 2, 5, 6, 7, 9]}, {\"y\": [1, 2, 5, 7, 9]}, {\"y\": [2, 5, 6, 7, 9]}, {\"y\": [2, 5, 7, 9]}, {\"y\": [1, 2, 6, 7, 9]}, {\"y\": [1, 2, 7, 9]}, {\"y\": [2, 6, 7, 9]}, {\"y\": [2, 7, 9]}, {\"y\": [1, 5, 6, 7, 9]}, {\"y\": [1, 6, 7, 9]}, {\"y\": [1, 5, 7, 9]}, {\"y\": [1, 7, 9]}, {\"y\": [1, 2, 4, 5, 6, 7, 9]}, {\"y\": [1, 2, 3, 4, 5, 6, 7, 9]}, {\"y\": [1, 4, 5, 6, 7, 9]}, {\"y\": [1, 3, 4, 5, 6, 7, 9]}, {\"y\": [1, 2, 4, 5, 7, 9]}, {\"y\": [1, 2, 3, 4, 5, 7, 9]}, {\"y\": [1, 4, 5, 7, 9]}, {\"y\": [1, 3, 4, 5, 7, 9]}, {\"y\": [1, 2, 4, 6, 7, 9]}, {\"y\": [1, 2, 4, 7, 9]}, {\"y\": [1, 2, 3, 4, 6, 7, 9]}, {\"y\": [1, 2, 3, 4, 7, 9]}, {\"y\": [1, 4, 6, 7, 9]}, {\"y\": [1, 3, 4, 6, 7, 9]}, {\"y\": [1, 4, 7, 9]}, {\"y\": [1, 3, 4, 7, 9]}, {\"y\": [2, 4, 5, 6, 7, 9]}, {\"y\": [2, 4, 6, 7, 9]}, {\"y\": [2, 4, 5, 7, 9]}, {\"y\": [2, 4, 7, 9]}, {\"y\": [2, 3, 4, 5, 6, 7, 9]}, {\"y\": [2, 3, 4, 6, 7, 9]}, {\"y\": [3, 4, 5, 6, 7, 9]}, {\"y\": [3, 4, 6, 7, 9]}, {\"y\": [2, 3, 4, 5, 7, 9]}, {\"y\": [2, 3, 4, 7, 9]}, {\"y\": [3, 4, 5, 7, 9]}, {\"y\": [3, 4, 7, 9]}, {\"y\": [2, 3, 4, 5, 6, 9]}, {\"y\": [1, 2, 3, 4, 5, 6, 9]}, {\"y\": [2, 4, 5, 6, 9]}, {\"y\": [1, 2, 4, 5, 6, 9]}, {\"y\": [2, 3, 4, 5, 9]}, {\"y\": [2, 4, 5, 9]}, {\"y\": [1, 2, 3, 4, 5, 9]}, {\"y\": [1, 2, 4, 5, 9]}, {\"y\": [3, 4, 5, 6, 9]}, {\"y\": [1, 3, 4, 5, 6, 9]}, {\"y\": [3, 4, 5, 9]}, {\"y\": [1, 3, 4, 5, 9]}, {\"y\": [1, 4, 5, 6, 9]}, {\"y\": [1, 4, 5, 9]}, {\"y\": [2, 3, 5, 6, 9]}, {\"y\": [1, 2, 3, 5, 6, 9]}, {\"y\": [1, 3, 5, 6, 9]}, {\"y\": [2, 3, 5, 9]}, {\"y\": [1, 2, 3, 5, 9]}, {\"y\": [1, 3, 5, 9]}, {\"y\": [2, 5, 6, 9]}, {\"y\": [2, 5, 9]}, {\"y\": [1, 2, 5, 6, 9]}, {\"y\": [1, 2, 5, 9]}, {\"y\": [1, 5, 6, 9]}, {\"y\": [1, 5, 9]}, {\"y\": [2, 3, 4, 6, 9]}, {\"y\": [2, 3, 6, 9]}, {\"y\": [2, 4, 6, 9]}, {\"y\": [2, 6, 9]}, {\"y\": [1, 2, 3, 4, 6, 9]}, {\"y\": [1, 2, 3, 6, 9]}, {\"y\": [1, 2, 4, 6, 9]}, {\"y\": [1, 2, 6, 9]}, {\"y\": [3, 4, 6, 9]}, {\"y\": [1, 3, 4, 6, 9]}, {\"y\": [1, 4, 6, 9]}, {\"y\": [1, 3, 6, 9]}, {\"y\": [1, 6, 9]}, {\"y\": [2, 3, 4, 9]}, {\"y\": [1, 2, 3, 4, 9]}, {\"y\": [1, 3, 4, 9]}, {\"y\": [2, 3, 9]}, {\"y\": [1, 2, 3, 9]}, {\"y\": [1, 3, 9]}, {\"y\": [2, 4, 9]}, {\"y\": [2, 9]}, {\"y\": [1, 2, 4, 9]}, {\"y\": [1, 2, 9]}, {\"y\": [1, 4, 9]}, {\"y\": [1, 9]}, {\"y\": [2, 3, 4, 8, 9]}, {\"y\": [2, 3, 4, 6, 8, 9]}, {\"y\": [2, 4, 8, 9]}, {\"y\": [2, 4, 6, 8, 9]}, {\"y\": [2, 3, 4, 5, 8, 9]}, {\"y\": [2, 4, 5, 8, 9]}, {\"y\": [2, 3, 4, 5, 6, 8, 9]}, {\"y\": [2, 4, 5, 6, 8, 9]}, {\"y\": [1, 2, 3, 4, 8, 9]}, {\"y\": [1, 2, 3, 4, 6, 8, 9]}, {\"y\": [1, 2, 3, 4, 5, 8, 9]}, {\"y\": [1, 2, 3, 4, 5, 6, 8, 9]}, {\"y\": [1, 2, 4, 8, 9]}, {\"y\": [1, 2, 4, 5, 8, 9]}, {\"y\": [1, 2, 4, 6, 8, 9]}, {\"y\": [1, 2, 4, 5, 6, 8, 9]}, {\"y\": [1, 2, 3, 8, 9]}, {\"y\": [2, 3, 8, 9]}, {\"y\": [1, 2, 8, 9]}, {\"y\": [2, 8, 9]}, {\"y\": [1, 2, 3, 6, 8, 9]}, {\"y\": [2, 3, 6, 8, 9]}, {\"y\": [1, 2, 6, 8, 9]}, {\"y\": [2, 6, 8, 9]}, {\"y\": [1, 2, 3, 5, 8, 9]}, {\"y\": [1, 2, 3, 5, 6, 8, 9]}, {\"y\": [1, 2, 5, 8, 9]}, {\"y\": [1, 2, 5, 6, 8, 9]}, {\"y\": [2, 3, 5, 8, 9]}, {\"y\": [2, 5, 8, 9]}, {\"y\": [2, 3, 5, 6, 8, 9]}, {\"y\": [2, 5, 6, 8, 9]}, {\"y\": [1, 3, 8, 9]}, {\"y\": [1, 3, 5, 8, 9]}, {\"y\": [1, 3, 4, 8, 9]}, {\"y\": [1, 3, 4, 5, 8, 9]}, {\"y\": [3, 4, 5, 8, 9]}, {\"y\": [1, 3, 6, 8, 9]}, {\"y\": [1, 3, 4, 6, 8, 9]}, {\"y\": [1, 3, 5, 6, 8, 9]}, {\"y\": [1, 3, 4, 5, 6, 8, 9]}, {\"y\": [3, 4, 6, 8, 9]}, {\"y\": [3, 4, 5, 6, 8, 9]}, {\"y\": [1, 8, 9]}, {\"y\": [1, 6, 8, 9]}, {\"y\": [1, 4, 8, 9]}, {\"y\": [1, 4, 6, 8, 9]}, {\"y\": [1, 5, 8, 9]}, {\"y\": [1, 4, 5, 8, 9]}, {\"y\": [1, 5, 6, 8, 9]}, {\"y\": [1, 4, 5, 6, 8, 9]}, {\"y\": [1, 3, 7, 8, 9]}, {\"y\": [1, 7, 8, 9]}, {\"y\": [1, 2, 3, 7, 8, 9]}, {\"y\": [1, 2, 7, 8, 9]}, {\"y\": [1, 3, 5, 7, 8, 9]}, {\"y\": [1, 2, 3, 5, 7, 8, 9]}, {\"y\": [1, 5, 7, 8, 9]}, {\"y\": [1, 2, 5, 7, 8, 9]}, {\"y\": [1, 3, 6, 7, 8, 9]}, {\"y\": [1, 3, 5, 6, 7, 8, 9]}, {\"y\": [1, 6, 7, 8, 9]}, {\"y\": [1, 5, 6, 7, 8, 9]}, {\"y\": [1, 2, 3, 6, 7, 8, 9]}, {\"y\": [1, 2, 6, 7, 8, 9]}, {\"y\": [1, 2, 3, 5, 6, 7, 8, 9]}, {\"y\": [1, 2, 5, 6, 7, 8, 9]}, {\"y\": [1, 3, 4, 7, 8, 9]}, {\"y\": [1, 3, 4, 6, 7, 8, 9]}, {\"y\": [1, 2, 3, 4, 7, 8, 9]}, {\"y\": [1, 2, 3, 4, 6, 7, 8, 9]}, {\"y\": [1, 3, 4, 5, 7, 8, 9]}, {\"y\": [1, 3, 4, 5, 6, 7, 8, 9]}, {\"y\": [1, 2, 3, 4, 5, 7, 8, 9]}, {\"y\": [1, 2, 3, 4, 5, 6, 7, 8, 9]}, {\"y\": [1, 4, 7, 8, 9]}, {\"y\": [1, 4, 5, 7, 8, 9]}, {\"y\": [1, 2, 4, 7, 8, 9]}, {\"y\": [1, 2, 4, 5, 7, 8, 9]}, {\"y\": [1, 4, 6, 7, 8, 9]}, {\"y\": [3, 4, 7]}, {\"y\": [3, 4, 7, 10]}, {\"y\": [3, 4, 7, 8]}, {\"y\": [3, 4, 7, 8, 10]}, {\"y\": [3, 4, 7, 8, 9]}, {\"y\": [3, 4, 6]}, {\"y\": [3, 4, 6, 10]}, {\"y\": [3, 4, 6, 8]}, {\"y\": [3, 4, 6, 8, 10]}, {\"y\": [3, 4, 6, 7]}, {\"y\": [3, 4, 6, 7, 10]}, {\"y\": [3, 4, 6, 7, 8]}, {\"y\": [3, 4, 6, 7, 8, 10]}, {\"y\": [3, 4, 6, 7, 8, 9]}, {\"y\": [3, 4, 5]}, {\"y\": [3, 4, 5, 10]}, {\"y\": [3, 4, 5, 8]}, {\"y\": [3, 4, 5, 8, 10]}, {\"y\": [3, 4, 5, 7]}, {\"y\": [3, 4, 5, 7, 10]}, {\"y\": [3, 4, 5, 7, 8]}, {\"y\": [3, 4, 5, 7, 8, 10]}, {\"y\": [3, 4, 5, 7, 8, 9]}, {\"y\": [3, 4, 5, 6]}, {\"y\": [3, 4, 5, 6, 10]}, {\"y\": [3, 4, 5, 6, 8]}, {\"y\": [3, 4, 5, 6, 8, 10]}, {\"y\": [3, 4, 5, 6, 7]}, {\"y\": [3, 4, 5, 6, 7, 10]}, {\"y\": [3, 4, 5, 6, 7, 8]}, {\"y\": [3, 4, 5, 6, 7, 8, 10]}, {\"y\": [3, 4, 5, 6, 7, 8, 9]}, {\"y\": [2]}, {\"y\": [2, 10]}, {\"y\": [2, 8]}, {\"y\": [2, 8, 10]}, {\"y\": [2, 7]}, {\"y\": [2, 7, 10]}, {\"y\": [2, 7, 8]}, {\"y\": [2, 7, 8, 10]}, {\"y\": [2, 7, 8, 9]}, {\"y\": [2, 6]}, {\"y\": [2, 6, 10]}, {\"y\": [2, 6, 8]}, {\"y\": [2, 6, 8, 10]}, {\"y\": [2, 6, 7]}, {\"y\": [2, 6, 7, 10]}, {\"y\": [2, 6, 7, 8]}, {\"y\": [2, 6, 7, 8, 10]}, {\"y\": [2, 6, 7, 8, 9]}, {\"y\": [2, 5]}, {\"y\": [2, 5, 10]}, {\"y\": [2, 5, 8]}, {\"y\": [2, 5, 8, 10]}, {\"y\": [2, 5, 7]}, {\"y\": [2, 5, 7, 10]}, {\"y\": [2, 5, 7, 8]}, {\"y\": [2, 5, 7, 8, 10]}, {\"y\": [2, 5, 7, 8, 9]}, {\"y\": [2, 5, 6]}, {\"y\": [2, 5, 6, 10]}, {\"y\": [2, 5, 6, 8]}, {\"y\": [2, 5, 6, 8, 10]}, {\"y\": [2, 5, 6, 7]}, {\"y\": [2, 5, 6, 7, 10]}, {\"y\": [2, 5, 6, 7, 8]}, {\"y\": [2, 5, 6, 7, 8, 10]}, {\"y\": [2, 5, 6, 7, 8, 9]}, {\"y\": [2, 4]}, {\"y\": [2, 4, 10]}, {\"y\": [2, 4, 8]}, {\"y\": [2, 4, 8, 10]}, {\"y\": [2, 4, 7]}, {\"y\": [2, 4, 7, 10]}, {\"y\": [2, 4, 7, 8]}, {\"y\": [2, 4, 7, 8, 10]}, {\"y\": [2, 4, 7, 8, 9]}, {\"y\": [2, 4, 6]}, {\"y\": [2, 4, 6, 10]}, {\"y\": [2, 4, 6, 8]}, {\"y\": [2, 4, 6, 8, 10]}, {\"y\": [2, 4, 6, 7]}, {\"y\": [2, 4, 6, 7, 10]}, {\"y\": [2, 4, 6, 7, 8]}, {\"y\": [2, 4, 6, 7, 8, 10]}, {\"y\": [2, 4, 6, 7, 8, 9]}, {\"y\": [2, 4, 5]}, {\"y\": [2, 4, 5, 10]}, {\"y\": [2, 4, 5, 8]}, {\"y\": [2, 4, 5, 8, 10]}, {\"y\": [2, 4, 5, 7]}, {\"y\": [2, 4, 5, 7, 10]}, {\"y\": [2, 4, 5, 7, 8]}, {\"y\": [2, 4, 5, 7, 8, 10]}, {\"y\": [2, 4, 5, 7, 8, 9]}, {\"y\": [2, 4, 5, 6]}, {\"y\": [2, 4, 5, 6, 10]}, {\"y\": [2, 4, 5, 6, 8]}, {\"y\": [2, 4, 5, 6, 8, 10]}, {\"y\": [2, 4, 5, 6, 7]}, {\"y\": [2, 4, 5, 6, 7, 10]}, {\"y\": [2, 4, 5, 6, 7, 8]}, {\"y\": [2, 4, 5, 6, 7, 8, 10]}, {\"y\": [2, 4, 5, 6, 7, 8, 9]}, {\"y\": [2, 3]}, {\"y\": [2, 3, 10]}, {\"y\": [2, 3, 8]}, {\"y\": [2, 3, 8, 10]}, {\"y\": [2, 3, 7]}, {\"y\": [2, 3, 7, 10]}, {\"y\": [2, 3, 7, 8]}, {\"y\": [2, 3, 7, 8, 10]}, {\"y\": [2, 3, 7, 8, 9]}, {\"y\": [2, 3, 6]}, {\"y\": [2, 3, 6, 10]}, {\"y\": [2, 3, 6, 8]}, {\"y\": [2, 3, 6, 8, 10]}, {\"y\": [2, 3, 6, 7]}, {\"y\": [2, 3, 6, 7, 10]}, {\"y\": [2, 3, 6, 7, 8]}, {\"y\": [2, 3, 6, 7, 8, 10]}, {\"y\": [2, 3, 6, 7, 8, 9]}, {\"y\": [2, 3, 5]}, {\"y\": [2, 3, 5, 10]}, {\"y\": [2, 3, 5, 8]}, {\"y\": [2, 3, 5, 8, 10]}, {\"y\": [2, 3, 5, 7]}, {\"y\": [2, 3, 5, 7, 10]}, {\"y\": [2, 3, 5, 7, 8]}, {\"y\": [2, 3, 5, 7, 8, 10]}, {\"y\": [2, 3, 5, 7, 8, 9]}, {\"y\": [2, 3, 5, 6]}, {\"y\": [2, 3, 5, 6, 10]}, {\"y\": [2, 3, 5, 6, 8]}, {\"y\": [2, 3, 5, 6, 8, 10]}, {\"y\": [2, 3, 5, 6, 7]}, {\"y\": [2, 3, 5, 6, 7, 10]}, {\"y\": [2, 3, 5, 6, 7, 8]}, {\"y\": [2, 3, 5, 6, 7, 8, 10]}, {\"y\": [2, 3, 5, 6, 7, 8, 9]}, {\"y\": [2, 3, 4]}, {\"y\": [2, 3, 4, 10]}, {\"y\": [2, 3, 4, 8]}, {\"y\": [2, 3, 4, 8, 10]}, {\"y\": [2, 3, 4, 7]}, {\"y\": [2, 3, 4, 7, 10]}, {\"y\": [2, 3, 4, 7, 8]}, {\"y\": [2, 3, 4, 7, 8, 10]}, {\"y\": [2, 3, 4, 7, 8, 9]}, {\"y\": [2, 3, 4, 6]}, {\"y\": [2, 3, 4, 6, 10]}, {\"y\": [1, 2, 4, 6, 7, 8, 9]}, {\"y\": [1, 4, 5, 6, 7, 8, 9]}, {\"y\": [1, 2, 4, 5, 6, 7, 8, 9]}, {\"y\": [2, 3, 4, 5, 6, 7, 8, 9]}, {\"y\": [2, 3, 4, 6, 7, 8, 9]}, {\"y\": [2, 3, 4, 5, 7, 8, 9]}, {\"y\": [2, 3, 4, 5, 6, 7, 8]}, {\"y\": [1, 2, 3, 4, 5, 6, 7, 8]}, {\"y\": [1, 2, 4, 5, 6, 7, 8]}, {\"y\": [2, 3, 4, 5, 7, 8]}, {\"y\": [1, 2, 3, 4, 5, 7, 8]}, {\"y\": [1, 2, 4, 5, 7, 8]}, {\"y\": [1, 3, 4, 5, 6, 7, 8]}, {\"y\": [1, 3, 4, 5, 7, 8]}, {\"y\": [1, 4, 5, 6, 7, 8]}, {\"y\": [1, 4, 5, 7, 8]}, {\"y\": [1, 2, 3, 4, 6, 7, 8]}, {\"y\": [2, 3, 4, 6, 7, 8]}, {\"y\": [1, 3, 4, 6, 7, 8]}, {\"y\": [1, 2, 3, 4, 7, 8]}, {\"y\": [1, 3, 4, 7, 8]}, {\"y\": [1, 2, 4, 6, 7, 8]}, {\"y\": [1, 2, 4, 7, 8]}, {\"y\": [1, 4, 6, 7, 8]}, {\"y\": [1, 4, 7, 8]}, {\"y\": [1, 2, 3, 6, 7, 8]}, {\"y\": [1, 2, 3, 5, 6, 7, 8]}, {\"y\": [1, 2, 6, 7, 8]}, {\"y\": [1, 2, 5, 6, 7, 8]}, {\"y\": [1, 2, 3, 7, 8]}, {\"y\": [1, 2, 3, 5, 7, 8]}, {\"y\": [1, 2, 7, 8]}, {\"y\": [1, 2, 5, 7, 8]}, {\"y\": [1, 3, 6, 7, 8]}, {\"y\": [1, 3, 7, 8]}, {\"y\": [1, 6, 7, 8]}, {\"y\": [1, 7, 8]}, {\"y\": [1, 3, 5, 6, 7, 8]}, {\"y\": [1, 5, 6, 7, 8]}, {\"y\": [1, 3, 5, 7, 8]}, {\"y\": [1, 5, 7, 8]}, {\"y\": [1, 2, 3, 6, 8]}, {\"y\": [1, 3, 6, 8]}, {\"y\": [1, 2, 3, 4, 6, 8]}, {\"y\": [1, 3, 4, 6, 8]}, {\"y\": [1, 2, 3, 5, 6, 8]}, {\"y\": [1, 2, 3, 4, 5, 6, 8]}, {\"y\": [1, 3, 5, 6, 8]}, {\"y\": [1, 3, 4, 5, 6, 8]}, {\"y\": [1, 2, 3, 8]}, {\"y\": [1, 2, 3, 5, 8]}, {\"y\": [1, 3, 8]}, {\"y\": [1, 3, 5, 8]}, {\"y\": [1, 2, 3, 4, 8]}, {\"y\": [1, 2, 3, 4, 5, 8]}, {\"y\": [1, 3, 4, 8]}, {\"y\": [1, 3, 4, 5, 8]}, {\"y\": [1, 2, 6, 8]}, {\"y\": [1, 2, 8]}, {\"y\": [1, 2, 4, 6, 8]}, {\"y\": [1, 2, 4, 8]}, {\"y\": [1, 6, 8]}, {\"y\": [1, 8]}, {\"y\": [1, 4, 6, 8]}, {\"y\": [1, 4, 8]}, {\"y\": [1, 2, 5, 6, 8]}, {\"y\": [1, 5, 6, 8]}, {\"y\": [1, 2, 4, 5, 6, 8]}, {\"y\": [1, 4, 5, 6, 8]}, {\"y\": [1, 2, 5, 8]}, {\"y\": [1, 2, 4, 5, 8]}, {\"y\": [1, 5, 8]}, {\"y\": [1, 4, 5, 8]}, {\"y\": [2, 3, 4, 6, 8]}, {\"y\": [2, 3, 4, 5, 6, 8]}, {\"y\": [2, 3, 4, 5, 8]}, {\"y\": [1, 2, 6]}, {\"y\": [1, 2, 3, 6]}, {\"y\": [1, 2, 4, 6]}, {\"y\": [1, 2, 3, 4, 6]}, {\"y\": [1, 2, 5, 6]}, {\"y\": [1, 2, 3, 5, 6]}, {\"y\": [1, 2, 4, 5, 6]}, {\"y\": [1, 2, 3, 4, 5, 6]}, {\"y\": [1, 2]}, {\"y\": [1, 2, 5]}, {\"y\": [1, 2, 4]}, {\"y\": [1, 2, 4, 5]}, {\"y\": [1, 2, 3]}, {\"y\": [1, 2, 3, 4]}, {\"y\": [1, 2, 3, 5]}, {\"y\": [1, 2, 3, 4, 5]}, {\"y\": [1, 6]}, {\"y\": [1]}, {\"y\": [1, 3, 6]}, {\"y\": [1, 3]}, {\"y\": [1, 5, 6]}, {\"y\": [1, 5]}, {\"y\": [1, 3, 5, 6]}, {\"y\": [1, 3, 5]}, {\"y\": [1, 4, 6]}, {\"y\": [1, 4, 5, 6]}, {\"y\": [1, 3, 4, 6]}, {\"y\": [1, 3, 4, 5, 6]}, {\"y\": [1, 4]}, {\"y\": [1, 3, 4]}, {\"y\": [1, 4, 5]}, {\"y\": [1, 3, 4, 5]}, {\"y\": [1, 6, 7]}, {\"y\": [1, 4, 6, 7]}, {\"y\": [1, 2, 6, 7]}, {\"y\": [1, 2, 4, 6, 7]}, {\"y\": [1, 7]}, {\"y\": [1, 2, 7]}, {\"y\": [1, 4, 7]}, {\"y\": [1, 2, 4, 7]}, {\"y\": [1, 5, 6, 7]}, {\"y\": [1, 5, 7]}, {\"y\": [1, 4, 5, 6, 7]}, {\"y\": [1, 4, 5, 7]}, {\"y\": [1, 2, 5, 6, 7]}, {\"y\": [1, 2, 4, 5, 6, 7]}, {\"y\": [1, 2, 5, 7]}, {\"y\": [1, 2, 4, 5, 7]}, {\"y\": [1, 3, 6, 7]}, {\"y\": [1, 3, 5, 6, 7]}, {\"y\": [1, 2, 3, 6, 7]}, {\"y\": [1, 2, 3, 5, 6, 7]}, {\"y\": [1, 3, 7]}, {\"y\": [1, 3, 5, 7]}, {\"y\": [1, 2, 3, 7]}, {\"y\": [1, 2, 3, 5, 7]}, {\"y\": [1, 3, 4, 6, 7]}, {\"y\": [1, 3, 4, 7]}, {\"y\": [1, 2, 3, 4, 6, 7]}, {\"y\": [1, 2, 3, 4, 7]}, {\"y\": [1, 3, 4, 5, 6, 7]}, {\"y\": [1, 2, 3, 4, 5, 6, 7]}, {\"y\": [1, 3, 4, 5, 7]}, {\"y\": [1, 2, 3, 4, 5, 7]}, {\"y\": [2, 3, 4, 6, 7]}, {\"y\": [2, 3, 4, 5, 6, 7]}, {\"y\": [2, 3, 4, 5, 7]}, {\"y\": [2, 3, 4, 5, 6]}, {\"y\": [2, 3, 4, 5]}, {\"y\": [1, 2, 3, 4, 6, 7, 10]}, {\"y\": [1, 3, 4, 6, 7, 10]}, {\"y\": [1, 2, 3, 6, 7, 10]}, {\"y\": [1, 3, 6, 7, 10]}, {\"y\": [1, 2, 4, 6, 7, 10]}, {\"y\": [1, 2, 6, 7, 10]}, {\"y\": [1, 4, 6, 7, 10]}, {\"y\": [1, 6, 7, 10]}, {\"y\": [1, 2, 3, 4, 6, 10]}, {\"y\": [1, 2, 4, 6, 10]}, {\"y\": [1, 3, 4, 6, 10]}, {\"y\": [1, 4, 6, 10]}, {\"y\": [1, 2, 3, 6, 10]}, {\"y\": [1, 3, 6, 10]}, {\"y\": [1, 2, 6, 10]}, {\"y\": [1, 6, 10]}, {\"y\": [1, 2, 3, 4, 5, 6, 7, 10]}, {\"y\": [1, 2, 3, 4, 5, 6, 10]}, {\"y\": [1, 2, 3, 5, 6, 7, 10]}, {\"y\": [1, 2, 3, 5, 6, 10]}, {\"y\": [1, 2, 4, 5, 6, 7, 10]}, {\"y\": [1, 2, 4, 5, 6, 10]}, {\"y\": [1, 2, 5, 6, 7, 10]}, {\"y\": [1, 2, 5, 6, 10]}, {\"y\": [1, 3, 4, 5, 6, 7, 10]}, {\"y\": [1, 4, 5, 6, 7, 10]}, {\"y\": [1, 3, 5, 6, 7, 10]}, {\"y\": [1, 5, 6, 7, 10]}, {\"y\": [1, 3, 4, 5, 6, 10]}, {\"y\": [1, 3, 5, 6, 10]}, {\"y\": [1, 4, 5, 6, 10]}, {\"y\": [1, 5, 6, 10]}, {\"y\": [2, 3, 4, 5, 6, 7, 10]}, {\"y\": [2, 3, 4, 6, 7, 10]}, {\"y\": [2, 3, 4, 5, 6, 10]}, {\"y\": [1, 2, 3, 4, 5, 7, 10]}, {\"y\": [1, 3, 4, 5, 7, 10]}, {\"y\": [1, 2, 3, 4, 7, 10]}, {\"y\": [1, 3, 4, 7, 10]}, {\"y\": [1, 2, 3, 4, 5, 10]}, {\"y\": [1, 2, 3, 4, 10]}, {\"y\": [1, 3, 4, 5, 10]}, {\"y\": [1, 3, 4, 10]}, {\"y\": [1, 2, 4, 5, 7, 10]}, {\"y\": [1, 2, 4, 5, 10]}, {\"y\": [1, 4, 5, 7, 10]}, {\"y\": [1, 4, 5, 10]}, {\"y\": [1, 2, 4, 7, 10]}, {\"y\": [1, 4, 7, 10]}, {\"y\": [1, 2, 4, 10]}, {\"y\": [1, 4, 10]}, {\"y\": [1, 2, 3, 5, 7, 10]}, {\"y\": [1, 2, 5, 7, 10]}, {\"y\": [1, 2, 3, 7, 10]}, {\"y\": [1, 2, 7, 10]}, {\"y\": [1, 2, 3, 5, 10]}, {\"y\": [1, 2, 5, 10]}, {\"y\": [1, 2, 3, 10]}, {\"y\": [1, 2, 10]}, {\"y\": [1, 3, 5, 7, 10]}, {\"y\": [1, 3, 5, 10]}, {\"y\": [1, 3, 7, 10]}, {\"y\": [1, 3, 10]}, {\"y\": [1, 5, 7, 10]}, {\"y\": [1, 7, 10]}, {\"y\": [1, 5, 10]}, {\"y\": [1, 10]}, {\"y\": [2, 3, 4, 5, 7, 10]}, {\"y\": [2, 3, 4, 5, 10]}, {\"y\": [1, 2, 3, 5, 7, 8, 10]}, {\"y\": [1, 2, 3, 4, 5, 7, 8, 10]}, {\"y\": [1, 3, 5, 7, 8, 10]}, {\"y\": [1, 3, 4, 5, 7, 8, 10]}, {\"y\": [1, 2, 5, 7, 8, 10]}, {\"y\": [1, 5, 7, 8, 10]}, {\"y\": [1, 2, 4, 5, 7, 8, 10]}, {\"y\": [1, 4, 5, 7, 8, 10]}, {\"y\": [1, 2, 3, 5, 8, 10]}, {\"y\": [1, 2, 5, 8, 10]}, {\"y\": [1, 2, 3, 4, 5, 8, 10]}, {\"y\": [1, 2, 4, 5, 8, 10]}, {\"y\": [1, 3, 5, 8, 10]}, {\"y\": [1, 3, 4, 5, 8, 10]}, {\"y\": [1, 5, 8, 10]}, {\"y\": [1, 4, 5, 8, 10]}, {\"y\": [1, 2, 3, 7, 8, 10]}, {\"y\": [1, 2, 3, 8, 10]}, {\"y\": [1, 3, 7, 8, 10]}, {\"y\": [1, 3, 8, 10]}, {\"y\": [1, 2, 7, 8, 10]}, {\"y\": [1, 2, 8, 10]}, {\"y\": [1, 7, 8, 10]}, {\"y\": [1, 8, 10]}, {\"y\": [1, 2, 3, 4, 7, 8, 10]}, {\"y\": [1, 2, 4, 7, 8, 10]}, {\"y\": [1, 3, 4, 7, 8, 10]}, {\"y\": [1, 4, 7, 8, 10]}, {\"y\": [1, 2, 3, 4, 8, 10]}, {\"y\": [1, 3, 4, 8, 10]}, {\"y\": [1, 2, 4, 8, 10]}, {\"y\": [1, 4, 8, 10]}, {\"y\": [1, 2, 3, 6, 7, 8, 10]}, {\"y\": [1, 2, 3, 4, 6, 7, 8, 10]}, {\"y\": [1, 2, 3, 5, 6, 7, 8, 10]}, {\"y\": [1, 2, 3, 4, 5, 6, 7, 8, 10]}, {\"y\": [1, 2, 3, 6, 8, 10]}, {\"y\": [1, 2, 3, 5, 6, 8, 10]}, {\"y\": [1, 2, 3, 4, 6, 8, 10]}, {\"y\": [1, 2, 3, 4, 5, 6, 8, 10]}, {\"y\": [1, 2, 6, 7, 8, 10]}, {\"y\": [1, 2, 6, 8, 10]}, {\"y\": [1, 2, 4, 6, 7, 8, 10]}, {\"y\": [1, 2, 4, 6, 8, 10]}, {\"y\": [1, 2, 5, 6, 7, 8, 10]}, {\"y\": [1, 2, 4, 5, 6, 7, 8, 10]}, {\"y\": [1, 2, 5, 6, 8, 10]}, {\"y\": [1, 2, 4, 5, 6, 8, 10]}, {\"y\": [1, 3, 6, 7, 8, 10]}, {\"y\": [1, 6, 7, 8, 10]}, {\"y\": [1, 3, 5, 6, 7, 8, 10]}, {\"y\": [1, 5, 6, 7, 8, 10]}, {\"y\": [1, 3, 6, 8, 10]}, {\"y\": [1, 6, 8, 10]}, {\"y\": [1, 3, 5, 6, 8, 10]}, {\"y\": [1, 5, 6, 8, 10]}, {\"y\": [1, 3, 4, 6, 7, 8, 10]}, {\"y\": [1, 3, 4, 6, 8, 10]}, {\"y\": [1, 3, 4, 5, 6, 7, 8, 10]}, {\"y\": [1, 3, 4, 5, 6, 8, 10]}, {\"y\": [1, 4, 6, 7, 8, 10]}, {\"y\": [1, 4, 5, 6, 7, 8, 10]}, {\"y\": [1, 4, 6, 8, 10]}, {\"y\": [1, 4, 5, 6, 8, 10]}, {\"y\": [2, 3, 4, 6, 7, 8, 10]}, {\"y\": [2, 3, 4, 6, 8, 10]}, {\"y\": [2, 3, 4, 5, 6, 7, 8, 10]}, {\"y\": [2, 3, 4, 5, 6, 8, 10]}, {\"y\": [2, 3, 4, 5, 7, 8, 10]}, {\"y\": [2, 3, 4, 5, 8, 10]}]}\n",
              "```"
            ],
            "text/plain": [
              "<IPython.core.display.Markdown object>"
            ]
          },
          "metadata": {},
          "output_type": "display_data"
        }
      ],
      "source": [
        "%%conjure --number-of-solutions=all\n",
        "letting x be domain set of int(1..10)\n",
        "find y: x"
      ]
    },
    {
      "cell_type": "markdown",
      "metadata": {
        "id": "kU4vcXr5h8_y"
      },
      "source": [
        "### mset"
      ]
    },
    {
      "cell_type": "code",
      "execution_count": null,
      "metadata": {
        "colab": {
          "base_uri": "https://localhost:8080/",
          "height": 54
        },
        "id": "oXWXjNTodX_N",
        "outputId": "0d08493c-fca1-4a1b-9548-6806c6d7417c"
      },
      "outputs": [
        {
          "data": {
            "text/markdown": [
              "```json\n",
              "{\"conjure_solutions\": [{\"y\": []}, {\"y\": [1]}, {\"y\": [2]}, {\"y\": [3]}, {\"y\": [4]}, {\"y\": [5]}, {\"y\": [6]}, {\"y\": [7]}, {\"y\": [8]}, {\"y\": [9]}, {\"y\": [10]}, {\"y\": [1, 2]}, {\"y\": [1, 3]}, {\"y\": [1, 4]}, {\"y\": [1, 5]}, {\"y\": [1, 6]}, {\"y\": [1, 7]}, {\"y\": [1, 8]}, {\"y\": [1, 9]}, {\"y\": [1, 10]}, {\"y\": [2, 3]}, {\"y\": [2, 4]}, {\"y\": [2, 5]}, {\"y\": [2, 6]}, {\"y\": [2, 7]}, {\"y\": [2, 8]}, {\"y\": [2, 9]}, {\"y\": [2, 10]}, {\"y\": [3, 4]}, {\"y\": [3, 5]}, {\"y\": [3, 6]}, {\"y\": [3, 7]}, {\"y\": [3, 8]}, {\"y\": [3, 9]}, {\"y\": [3, 10]}, {\"y\": [4, 5]}, {\"y\": [4, 6]}, {\"y\": [4, 7]}, {\"y\": [4, 8]}, {\"y\": [4, 9]}, {\"y\": [4, 10]}, {\"y\": [5, 6]}, {\"y\": [5, 7]}, {\"y\": [5, 8]}, {\"y\": [5, 9]}, {\"y\": [5, 10]}, {\"y\": [6, 7]}, {\"y\": [6, 8]}, {\"y\": [6, 9]}, {\"y\": [6, 10]}, {\"y\": [7, 8]}, {\"y\": [7, 9]}, {\"y\": [7, 10]}, {\"y\": [8, 9]}, {\"y\": [8, 10]}, {\"y\": [9, 10]}, {\"y\": [1, 2, 3]}, {\"y\": [1, 2, 4]}, {\"y\": [1, 2, 5]}, {\"y\": [1, 2, 6]}, {\"y\": [1, 2, 7]}, {\"y\": [1, 2, 8]}, {\"y\": [1, 2, 9]}, {\"y\": [1, 2, 10]}, {\"y\": [1, 3, 4]}, {\"y\": [1, 3, 5]}, {\"y\": [1, 3, 6]}, {\"y\": [1, 3, 7]}, {\"y\": [1, 3, 8]}, {\"y\": [1, 3, 9]}, {\"y\": [1, 3, 10]}, {\"y\": [1, 4, 5]}, {\"y\": [1, 4, 6]}, {\"y\": [1, 4, 7]}, {\"y\": [1, 4, 8]}, {\"y\": [1, 4, 9]}, {\"y\": [1, 4, 10]}, {\"y\": [1, 5, 6]}, {\"y\": [1, 5, 7]}, {\"y\": [1, 5, 8]}, {\"y\": [1, 5, 9]}, {\"y\": [1, 5, 10]}, {\"y\": [1, 6, 7]}, {\"y\": [1, 6, 8]}, {\"y\": [1, 6, 9]}, {\"y\": [1, 6, 10]}, {\"y\": [1, 7, 8]}, {\"y\": [1, 7, 9]}, {\"y\": [1, 7, 10]}, {\"y\": [1, 8, 9]}, {\"y\": [1, 8, 10]}, {\"y\": [1, 9, 10]}, {\"y\": [2, 3, 4]}, {\"y\": [2, 3, 5]}, {\"y\": [2, 3, 6]}, {\"y\": [2, 3, 7]}, {\"y\": [2, 3, 8]}, {\"y\": [2, 3, 9]}, {\"y\": [2, 3, 10]}, {\"y\": [2, 4, 5]}, {\"y\": [2, 4, 6]}, {\"y\": [2, 4, 7]}, {\"y\": [2, 4, 8]}, {\"y\": [2, 4, 9]}, {\"y\": [2, 4, 10]}, {\"y\": [2, 5, 6]}, {\"y\": [2, 5, 7]}, {\"y\": [2, 5, 8]}, {\"y\": [2, 5, 9]}, {\"y\": [2, 5, 10]}, {\"y\": [2, 6, 7]}, {\"y\": [2, 6, 8]}, {\"y\": [2, 6, 9]}, {\"y\": [2, 6, 10]}, {\"y\": [2, 7, 8]}, {\"y\": [2, 7, 9]}, {\"y\": [2, 7, 10]}, {\"y\": [2, 8, 9]}, {\"y\": [2, 8, 10]}, {\"y\": [2, 9, 10]}, {\"y\": [3, 4, 5]}, {\"y\": [3, 4, 6]}, {\"y\": [3, 4, 7]}, {\"y\": [3, 4, 8]}, {\"y\": [3, 4, 9]}, {\"y\": [3, 4, 10]}, {\"y\": [3, 5, 6]}, {\"y\": [3, 5, 7]}, {\"y\": [3, 5, 8]}, {\"y\": [3, 5, 9]}, {\"y\": [3, 5, 10]}, {\"y\": [3, 6, 7]}, {\"y\": [3, 6, 8]}, {\"y\": [3, 6, 9]}, {\"y\": [3, 6, 10]}, {\"y\": [3, 7, 8]}, {\"y\": [3, 7, 9]}, {\"y\": [3, 7, 10]}, {\"y\": [3, 8, 9]}, {\"y\": [3, 8, 10]}, {\"y\": [3, 9, 10]}, {\"y\": [4, 5, 6]}, {\"y\": [4, 5, 7]}, {\"y\": [4, 5, 8]}, {\"y\": [4, 5, 9]}, {\"y\": [4, 5, 10]}, {\"y\": [4, 6, 7]}, {\"y\": [4, 6, 8]}, {\"y\": [4, 6, 9]}, {\"y\": [4, 6, 10]}, {\"y\": [4, 7, 8]}, {\"y\": [4, 7, 9]}, {\"y\": [4, 7, 10]}, {\"y\": [4, 8, 9]}, {\"y\": [4, 8, 10]}, {\"y\": [4, 9, 10]}, {\"y\": [5, 6, 7]}, {\"y\": [5, 6, 8]}, {\"y\": [5, 6, 9]}, {\"y\": [5, 6, 10]}, {\"y\": [5, 7, 8]}, {\"y\": [5, 7, 9]}, {\"y\": [5, 7, 10]}, {\"y\": [5, 8, 9]}, {\"y\": [5, 8, 10]}, {\"y\": [5, 9, 10]}, {\"y\": [6, 7, 8]}, {\"y\": [6, 7, 9]}, {\"y\": [6, 7, 10]}, {\"y\": [6, 8, 9]}, {\"y\": [6, 8, 10]}, {\"y\": [6, 9, 10]}, {\"y\": [7, 8, 9]}, {\"y\": [7, 8, 10]}, {\"y\": [7, 9, 10]}, {\"y\": [8, 9, 10]}, {\"y\": [1, 2, 2]}, {\"y\": [1, 3, 3]}, {\"y\": [1, 4, 4]}, {\"y\": [1, 5, 5]}, {\"y\": [1, 6, 6]}, {\"y\": [1, 7, 7]}, {\"y\": [1, 8, 8]}, {\"y\": [1, 9, 9]}, {\"y\": [1, 10, 10]}, {\"y\": [2, 3, 3]}, {\"y\": [2, 4, 4]}, {\"y\": [2, 5, 5]}, {\"y\": [2, 6, 6]}, {\"y\": [2, 7, 7]}, {\"y\": [2, 8, 8]}, {\"y\": [2, 9, 9]}, {\"y\": [2, 10, 10]}, {\"y\": [3, 4, 4]}, {\"y\": [3, 5, 5]}, {\"y\": [3, 6, 6]}, {\"y\": [3, 7, 7]}, {\"y\": [3, 8, 8]}, {\"y\": [3, 9, 9]}, {\"y\": [3, 10, 10]}, {\"y\": [9, 9, 10]}, {\"y\": [8, 8, 10]}, {\"y\": [7, 7, 10]}, {\"y\": [6, 6, 10]}, {\"y\": [5, 5, 10]}, {\"y\": [4, 4, 10]}, {\"y\": [3, 3, 10]}, {\"y\": [2, 2, 10]}, {\"y\": [1, 1, 10]}, {\"y\": [2, 2, 8]}, {\"y\": [2, 2, 9]}, {\"y\": [2, 2, 7]}, {\"y\": [2, 2, 6]}, {\"y\": [2, 2, 5]}, {\"y\": [2, 2, 4]}, {\"y\": [2, 2, 3]}, {\"y\": [3, 3, 4]}, {\"y\": [1, 1, 4]}, {\"y\": [3, 3, 5]}, {\"y\": [3, 3, 6]}, {\"y\": [3, 3, 7]}, {\"y\": [3, 3, 9]}, {\"y\": [3, 3, 8]}, {\"y\": [4, 4, 9]}, {\"y\": [5, 5, 9]}, {\"y\": [6, 6, 9]}, {\"y\": [7, 7, 9]}, {\"y\": [8, 8, 9]}, {\"y\": [1, 1, 9]}, {\"y\": [7, 7, 8]}, {\"y\": [6, 6, 8]}, {\"y\": [5, 5, 8]}, {\"y\": [4, 4, 8]}, {\"y\": [1, 1, 8]}, {\"y\": [4, 4, 7]}, {\"y\": [4, 4, 6]}, {\"y\": [4, 4, 5]}, {\"y\": [5, 5, 6]}, {\"y\": [1, 1, 6]}, {\"y\": [5, 5, 7]}, {\"y\": [6, 6, 7]}, {\"y\": [1, 1, 7]}, {\"y\": [1, 1, 5]}, {\"y\": [1, 1, 3]}, {\"y\": [1, 1, 2]}, {\"y\": [4, 4]}, {\"y\": [5, 5]}, {\"y\": [3, 3]}, {\"y\": [1, 1]}, {\"y\": [2, 2]}, {\"y\": [6, 6]}, {\"y\": [7, 7]}, {\"y\": [10, 10]}, {\"y\": [9, 9]}, {\"y\": [8, 8]}, {\"y\": [4, 4, 4]}, {\"y\": [5, 5, 5]}, {\"y\": [3, 3, 3]}, {\"y\": [1, 1, 1]}, {\"y\": [2, 2, 2]}, {\"y\": [6, 6, 6]}, {\"y\": [7, 7, 7]}, {\"y\": [9, 9, 9]}, {\"y\": [10, 10, 10]}, {\"y\": [8, 8, 8]}, {\"y\": [4, 7, 7]}, {\"y\": [4, 6, 6]}, {\"y\": [4, 9, 9]}, {\"y\": [4, 8, 8]}, {\"y\": [4, 10, 10]}, {\"y\": [4, 5, 5]}, {\"y\": [5, 7, 7]}, {\"y\": [5, 6, 6]}, {\"y\": [5, 8, 8]}, {\"y\": [5, 9, 9]}, {\"y\": [5, 10, 10]}, {\"y\": [6, 7, 7]}, {\"y\": [6, 9, 9]}, {\"y\": [7, 9, 9]}, {\"y\": [8, 9, 9]}, {\"y\": [6, 8, 8]}, {\"y\": [6, 10, 10]}, {\"y\": [7, 8, 8]}, {\"y\": [7, 10, 10]}, {\"y\": [9, 10, 10]}, {\"y\": [8, 10, 10]}]}\n",
              "```"
            ],
            "text/plain": [
              "<IPython.core.display.Markdown object>"
            ]
          },
          "metadata": {},
          "output_type": "display_data"
        }
      ],
      "source": [
        "%%conjure --number-of-solutions=all\n",
        "letting x be domain mset (maxSize(3)) of int(1..10)\n",
        "find y: x"
      ]
    },
    {
      "cell_type": "markdown",
      "metadata": {
        "id": "_Bf_WNTBh_2i"
      },
      "source": [
        "### function"
      ]
    },
    {
      "cell_type": "code",
      "execution_count": null,
      "metadata": {
        "colab": {
          "base_uri": "https://localhost:8080/",
          "height": 54
        },
        "id": "HXq0woKHdy0T",
        "outputId": "68c40f5a-d821-408f-9787-cb6534a30ff9"
      },
      "outputs": [
        {
          "data": {
            "text/markdown": [
              "```json\n",
              "{\"conjure_solutions\": [{\"y\": {}}, {\"y\": {\"3\": 4}}, {\"y\": {\"3\": 5}}, {\"y\": {\"3\": 6}}, {\"y\": {\"2\": 4}}, {\"y\": {\"2\": 5}}, {\"y\": {\"2\": 6}}, {\"y\": {\"2\": 4, \"3\": 4}}, {\"y\": {\"2\": 4, \"3\": 5}}, {\"y\": {\"2\": 4, \"3\": 6}}, {\"y\": {\"2\": 5, \"3\": 4}}, {\"y\": {\"2\": 5, \"3\": 5}}, {\"y\": {\"2\": 5, \"3\": 6}}, {\"y\": {\"2\": 6, \"3\": 4}}, {\"y\": {\"2\": 6, \"3\": 5}}, {\"y\": {\"2\": 6, \"3\": 6}}, {\"y\": {\"1\": 4}}, {\"y\": {\"1\": 5}}, {\"y\": {\"1\": 6}}, {\"y\": {\"1\": 4, \"3\": 4}}, {\"y\": {\"1\": 4, \"3\": 5}}, {\"y\": {\"1\": 4, \"3\": 6}}, {\"y\": {\"1\": 5, \"3\": 4}}, {\"y\": {\"1\": 5, \"3\": 5}}, {\"y\": {\"1\": 5, \"3\": 6}}, {\"y\": {\"1\": 6, \"3\": 4}}, {\"y\": {\"1\": 6, \"3\": 5}}, {\"y\": {\"1\": 6, \"3\": 6}}, {\"y\": {\"1\": 4, \"2\": 4}}, {\"y\": {\"1\": 4, \"2\": 5}}, {\"y\": {\"1\": 4, \"2\": 6}}, {\"y\": {\"1\": 5, \"2\": 4}}, {\"y\": {\"1\": 5, \"2\": 5}}, {\"y\": {\"1\": 5, \"2\": 6}}, {\"y\": {\"1\": 6, \"2\": 4}}, {\"y\": {\"1\": 6, \"2\": 5}}, {\"y\": {\"1\": 6, \"2\": 6}}, {\"y\": {\"1\": 4, \"2\": 4, \"3\": 4}}, {\"y\": {\"1\": 4, \"2\": 4, \"3\": 5}}, {\"y\": {\"1\": 4, \"2\": 4, \"3\": 6}}, {\"y\": {\"1\": 4, \"2\": 5, \"3\": 4}}, {\"y\": {\"1\": 4, \"2\": 5, \"3\": 5}}, {\"y\": {\"1\": 4, \"2\": 5, \"3\": 6}}, {\"y\": {\"1\": 4, \"2\": 6, \"3\": 4}}, {\"y\": {\"1\": 4, \"2\": 6, \"3\": 5}}, {\"y\": {\"1\": 4, \"2\": 6, \"3\": 6}}, {\"y\": {\"1\": 5, \"2\": 4, \"3\": 4}}, {\"y\": {\"1\": 5, \"2\": 4, \"3\": 5}}, {\"y\": {\"1\": 5, \"2\": 4, \"3\": 6}}, {\"y\": {\"1\": 5, \"2\": 5, \"3\": 4}}, {\"y\": {\"1\": 5, \"2\": 5, \"3\": 5}}, {\"y\": {\"1\": 5, \"2\": 5, \"3\": 6}}, {\"y\": {\"1\": 5, \"2\": 6, \"3\": 4}}, {\"y\": {\"1\": 5, \"2\": 6, \"3\": 5}}, {\"y\": {\"1\": 5, \"2\": 6, \"3\": 6}}, {\"y\": {\"1\": 6, \"2\": 4, \"3\": 4}}, {\"y\": {\"1\": 6, \"2\": 4, \"3\": 5}}, {\"y\": {\"1\": 6, \"2\": 4, \"3\": 6}}, {\"y\": {\"1\": 6, \"2\": 5, \"3\": 4}}, {\"y\": {\"1\": 6, \"2\": 5, \"3\": 5}}, {\"y\": {\"1\": 6, \"2\": 5, \"3\": 6}}, {\"y\": {\"1\": 6, \"2\": 6, \"3\": 4}}, {\"y\": {\"1\": 6, \"2\": 6, \"3\": 5}}, {\"y\": {\"1\": 6, \"2\": 6, \"3\": 6}}]}\n",
              "```"
            ],
            "text/plain": [
              "<IPython.core.display.Markdown object>"
            ]
          },
          "metadata": {},
          "output_type": "display_data"
        }
      ],
      "source": [
        "%%conjure --number-of-solutions=all\n",
        "letting x be domain function int(1..3) --> int(4..6)\n",
        "find y: x"
      ]
    },
    {
      "cell_type": "markdown",
      "metadata": {
        "id": "tImQiDV2iK4i"
      },
      "source": [
        "### sequence"
      ]
    },
    {
      "cell_type": "code",
      "execution_count": null,
      "metadata": {
        "colab": {
          "base_uri": "https://localhost:8080/",
          "height": 34
        },
        "id": "bV8pv8bYfP6k",
        "outputId": "c6e4ac48-84bb-4e65-d386-4496dfc9a1da"
      },
      "outputs": [
        {
          "data": {
            "text/markdown": [
              "```json\n",
              "{\"y\": [[1, 2, 3], [1, 2, 3]]}\n",
              "```"
            ],
            "text/plain": [
              "<IPython.core.display.Markdown object>"
            ]
          },
          "metadata": {},
          "output_type": "display_data"
        }
      ],
      "source": [
        "%%conjure --number-of-solutions=all --solver=minion\n",
        "letting x be domain sequence (size(2)) of (int(1), int(2), int(3))\n",
        "find y: x"
      ]
    },
    {
      "cell_type": "code",
      "execution_count": null,
      "metadata": {
        "colab": {
          "base_uri": "https://localhost:8080/",
          "height": 34
        },
        "id": "CiziprXJf0ni",
        "outputId": "7ba49110-85c2-48ed-c0ec-26f7f20d17df"
      },
      "outputs": [
        {
          "data": {
            "text/markdown": [
              "```json\n",
              "{\"y\": []}\n",
              "```"
            ],
            "text/plain": [
              "<IPython.core.display.Markdown object>"
            ]
          },
          "metadata": {},
          "output_type": "display_data"
        }
      ],
      "source": [
        "%%conjure --number-of-solutions=all --solver=minion\n",
        "letting x be domain sequence (size(2)) of ()\n",
        "find y: x"
      ]
    },
    {
      "cell_type": "markdown",
      "metadata": {
        "id": "C1vM0096iOth"
      },
      "source": [
        "### relation"
      ]
    },
    {
      "cell_type": "code",
      "execution_count": null,
      "metadata": {
        "colab": {
          "base_uri": "https://localhost:8080/",
          "height": 54
        },
        "id": "QDCZruEdgBG1",
        "outputId": "68ad58e4-99a1-4e41-bf74-65a3ea6badbf"
      },
      "outputs": [
        {
          "data": {
            "text/markdown": [
              "```json\n",
              "{\"conjure_solutions\": [{\"y\": []}, {\"y\": [[3, 6]]}, {\"y\": [[3, 5]]}, {\"y\": [[3, 5], [3, 6]]}, {\"y\": [[3, 4]]}, {\"y\": [[3, 4], [3, 6]]}, {\"y\": [[3, 4], [3, 5]]}, {\"y\": [[3, 4], [3, 5], [3, 6]]}, {\"y\": [[2, 6]]}, {\"y\": [[2, 6], [3, 6]]}, {\"y\": [[2, 6], [3, 5]]}, {\"y\": [[2, 6], [3, 5], [3, 6]]}, {\"y\": [[2, 6], [3, 4]]}, {\"y\": [[2, 6], [3, 4], [3, 6]]}, {\"y\": [[2, 6], [3, 4], [3, 5]]}, {\"y\": [[2, 6], [3, 4], [3, 5], [3, 6]]}, {\"y\": [[2, 5]]}, {\"y\": [[2, 5], [3, 6]]}, {\"y\": [[2, 5], [3, 5]]}, {\"y\": [[2, 5], [3, 5], [3, 6]]}, {\"y\": [[2, 5], [3, 4]]}, {\"y\": [[2, 5], [3, 4], [3, 6]]}, {\"y\": [[2, 5], [3, 4], [3, 5]]}, {\"y\": [[2, 5], [3, 4], [3, 5], [3, 6]]}, {\"y\": [[2, 5], [2, 6]]}, {\"y\": [[2, 5], [2, 6], [3, 6]]}, {\"y\": [[2, 5], [2, 6], [3, 5]]}, {\"y\": [[2, 5], [2, 6], [3, 5], [3, 6]]}, {\"y\": [[2, 5], [2, 6], [3, 4]]}, {\"y\": [[2, 5], [2, 6], [3, 4], [3, 6]]}, {\"y\": [[2, 5], [2, 6], [3, 4], [3, 5]]}, {\"y\": [[2, 5], [2, 6], [3, 4], [3, 5], [3, 6]]}, {\"y\": [[2, 4]]}, {\"y\": [[2, 4], [3, 6]]}, {\"y\": [[2, 4], [3, 5]]}, {\"y\": [[2, 4], [3, 5], [3, 6]]}, {\"y\": [[2, 4], [3, 4]]}, {\"y\": [[2, 4], [3, 4], [3, 6]]}, {\"y\": [[2, 4], [3, 4], [3, 5]]}, {\"y\": [[2, 4], [3, 4], [3, 5], [3, 6]]}, {\"y\": [[2, 4], [2, 6]]}, {\"y\": [[2, 4], [2, 6], [3, 6]]}, {\"y\": [[2, 4], [2, 6], [3, 5]]}, {\"y\": [[2, 4], [2, 6], [3, 5], [3, 6]]}, {\"y\": [[2, 4], [2, 6], [3, 4]]}, {\"y\": [[2, 4], [2, 6], [3, 4], [3, 6]]}, {\"y\": [[2, 4], [2, 6], [3, 4], [3, 5]]}, {\"y\": [[2, 4], [2, 6], [3, 4], [3, 5], [3, 6]]}, {\"y\": [[2, 4], [2, 5]]}, {\"y\": [[2, 4], [2, 5], [3, 6]]}, {\"y\": [[2, 4], [2, 5], [3, 5]]}, {\"y\": [[2, 4], [2, 5], [3, 5], [3, 6]]}, {\"y\": [[2, 4], [2, 5], [3, 4]]}, {\"y\": [[2, 4], [2, 5], [3, 4], [3, 6]]}, {\"y\": [[2, 4], [2, 5], [3, 4], [3, 5]]}, {\"y\": [[2, 4], [2, 5], [3, 4], [3, 5], [3, 6]]}, {\"y\": [[2, 4], [2, 5], [2, 6]]}, {\"y\": [[2, 4], [2, 5], [2, 6], [3, 6]]}, {\"y\": [[2, 4], [2, 5], [2, 6], [3, 5]]}, {\"y\": [[2, 4], [2, 5], [2, 6], [3, 5], [3, 6]]}, {\"y\": [[2, 4], [2, 5], [2, 6], [3, 4]]}, {\"y\": [[2, 4], [2, 5], [2, 6], [3, 4], [3, 6]]}, {\"y\": [[2, 4], [2, 5], [2, 6], [3, 4], [3, 5]]}, {\"y\": [[2, 4], [2, 5], [2, 6], [3, 4], [3, 5], [3, 6]]}, {\"y\": [[1, 6]]}, {\"y\": [[1, 6], [3, 6]]}, {\"y\": [[1, 6], [3, 5]]}, {\"y\": [[1, 6], [3, 5], [3, 6]]}, {\"y\": [[1, 6], [3, 4]]}, {\"y\": [[1, 6], [3, 4], [3, 6]]}, {\"y\": [[1, 6], [3, 4], [3, 5]]}, {\"y\": [[1, 6], [3, 4], [3, 5], [3, 6]]}, {\"y\": [[1, 6], [2, 6]]}, {\"y\": [[1, 6], [2, 6], [3, 6]]}, {\"y\": [[1, 6], [2, 6], [3, 5]]}, {\"y\": [[1, 6], [2, 6], [3, 5], [3, 6]]}, {\"y\": [[1, 6], [2, 6], [3, 4]]}, {\"y\": [[1, 6], [2, 6], [3, 4], [3, 6]]}, {\"y\": [[1, 6], [2, 6], [3, 4], [3, 5]]}, {\"y\": [[1, 6], [2, 6], [3, 4], [3, 5], [3, 6]]}, {\"y\": [[1, 6], [2, 5]]}, {\"y\": [[1, 6], [2, 5], [3, 6]]}, {\"y\": [[1, 6], [2, 5], [3, 5]]}, {\"y\": [[1, 6], [2, 5], [3, 5], [3, 6]]}, {\"y\": [[1, 6], [2, 5], [3, 4]]}, {\"y\": [[1, 6], [2, 5], [3, 4], [3, 6]]}, {\"y\": [[1, 6], [2, 5], [3, 4], [3, 5]]}, {\"y\": [[1, 6], [2, 5], [3, 4], [3, 5], [3, 6]]}, {\"y\": [[1, 6], [2, 5], [2, 6]]}, {\"y\": [[1, 6], [2, 5], [2, 6], [3, 6]]}, {\"y\": [[1, 6], [2, 5], [2, 6], [3, 5]]}, {\"y\": [[1, 6], [2, 5], [2, 6], [3, 5], [3, 6]]}, {\"y\": [[1, 6], [2, 5], [2, 6], [3, 4]]}, {\"y\": [[1, 6], [2, 5], [2, 6], [3, 4], [3, 6]]}, {\"y\": [[1, 6], [2, 5], [2, 6], [3, 4], [3, 5]]}, {\"y\": [[1, 6], [2, 5], [2, 6], [3, 4], [3, 5], [3, 6]]}, {\"y\": [[1, 6], [2, 4]]}, {\"y\": [[1, 6], [2, 4], [3, 6]]}, {\"y\": [[1, 6], [2, 4], [3, 5]]}, {\"y\": [[1, 6], [2, 4], [3, 5], [3, 6]]}, {\"y\": [[1, 6], [2, 4], [3, 4]]}, {\"y\": [[1, 6], [2, 4], [3, 4], [3, 6]]}, {\"y\": [[1, 6], [2, 4], [3, 4], [3, 5]]}, {\"y\": [[1, 6], [2, 4], [3, 4], [3, 5], [3, 6]]}, {\"y\": [[1, 6], [2, 4], [2, 6]]}, {\"y\": [[1, 6], [2, 4], [2, 6], [3, 6]]}, {\"y\": [[1, 6], [2, 4], [2, 6], [3, 5]]}, {\"y\": [[1, 6], [2, 4], [2, 6], [3, 5], [3, 6]]}, {\"y\": [[1, 6], [2, 4], [2, 6], [3, 4]]}, {\"y\": [[1, 6], [2, 4], [2, 6], [3, 4], [3, 6]]}, {\"y\": [[1, 6], [2, 4], [2, 6], [3, 4], [3, 5]]}, {\"y\": [[1, 6], [2, 4], [2, 6], [3, 4], [3, 5], [3, 6]]}, {\"y\": [[1, 6], [2, 4], [2, 5]]}, {\"y\": [[1, 6], [2, 4], [2, 5], [3, 6]]}, {\"y\": [[1, 6], [2, 4], [2, 5], [3, 5]]}, {\"y\": [[1, 6], [2, 4], [2, 5], [3, 5], [3, 6]]}, {\"y\": [[1, 6], [2, 4], [2, 5], [3, 4]]}, {\"y\": [[1, 6], [2, 4], [2, 5], [3, 4], [3, 6]]}, {\"y\": [[1, 6], [2, 4], [2, 5], [3, 4], [3, 5]]}, {\"y\": [[1, 6], [2, 4], [2, 5], [3, 4], [3, 5], [3, 6]]}, {\"y\": [[1, 6], [2, 4], [2, 5], [2, 6]]}, {\"y\": [[1, 6], [2, 4], [2, 5], [2, 6], [3, 6]]}, {\"y\": [[1, 6], [2, 4], [2, 5], [2, 6], [3, 5]]}, {\"y\": [[1, 6], [2, 4], [2, 5], [2, 6], [3, 5], [3, 6]]}, {\"y\": [[1, 6], [2, 4], [2, 5], [2, 6], [3, 4]]}, {\"y\": [[1, 6], [2, 4], [2, 5], [2, 6], [3, 4], [3, 6]]}, {\"y\": [[1, 6], [2, 4], [2, 5], [2, 6], [3, 4], [3, 5]]}, {\"y\": [[1, 6], [2, 4], [2, 5], [2, 6], [3, 4], [3, 5], [3, 6]]}, {\"y\": [[1, 5]]}, {\"y\": [[1, 5], [3, 6]]}, {\"y\": [[1, 5], [3, 5]]}, {\"y\": [[1, 5], [3, 5], [3, 6]]}, {\"y\": [[1, 5], [3, 4]]}, {\"y\": [[1, 5], [3, 4], [3, 6]]}, {\"y\": [[1, 5], [3, 4], [3, 5]]}, {\"y\": [[1, 5], [3, 4], [3, 5], [3, 6]]}, {\"y\": [[1, 5], [2, 6]]}, {\"y\": [[1, 5], [2, 6], [3, 6]]}, {\"y\": [[1, 5], [2, 6], [3, 5]]}, {\"y\": [[1, 5], [2, 6], [3, 5], [3, 6]]}, {\"y\": [[1, 5], [2, 6], [3, 4]]}, {\"y\": [[1, 5], [2, 6], [3, 4], [3, 6]]}, {\"y\": [[1, 5], [2, 6], [3, 4], [3, 5]]}, {\"y\": [[1, 5], [2, 6], [3, 4], [3, 5], [3, 6]]}, {\"y\": [[1, 5], [2, 5]]}, {\"y\": [[1, 5], [2, 5], [3, 6]]}, {\"y\": [[1, 5], [2, 5], [3, 5]]}, {\"y\": [[1, 5], [2, 5], [3, 5], [3, 6]]}, {\"y\": [[1, 5], [2, 5], [3, 4]]}, {\"y\": [[1, 5], [2, 5], [3, 4], [3, 6]]}, {\"y\": [[1, 5], [2, 5], [3, 4], [3, 5]]}, {\"y\": [[1, 5], [2, 5], [3, 4], [3, 5], [3, 6]]}, {\"y\": [[1, 5], [2, 5], [2, 6]]}, {\"y\": [[1, 5], [2, 5], [2, 6], [3, 6]]}, {\"y\": [[1, 5], [2, 5], [2, 6], [3, 5]]}, {\"y\": [[1, 5], [2, 5], [2, 6], [3, 5], [3, 6]]}, {\"y\": [[1, 5], [2, 5], [2, 6], [3, 4]]}, {\"y\": [[1, 5], [2, 5], [2, 6], [3, 4], [3, 6]]}, {\"y\": [[1, 5], [2, 5], [2, 6], [3, 4], [3, 5]]}, {\"y\": [[1, 5], [2, 5], [2, 6], [3, 4], [3, 5], [3, 6]]}, {\"y\": [[1, 5], [2, 4]]}, {\"y\": [[1, 5], [2, 4], [3, 6]]}, {\"y\": [[1, 5], [2, 4], [3, 5]]}, {\"y\": [[1, 5], [2, 4], [3, 5], [3, 6]]}, {\"y\": [[1, 5], [2, 4], [3, 4]]}, {\"y\": [[1, 5], [2, 4], [3, 4], [3, 6]]}, {\"y\": [[1, 5], [2, 4], [3, 4], [3, 5]]}, {\"y\": [[1, 5], [2, 4], [3, 4], [3, 5], [3, 6]]}, {\"y\": [[1, 5], [2, 4], [2, 6]]}, {\"y\": [[1, 5], [2, 4], [2, 6], [3, 6]]}, {\"y\": [[1, 5], [2, 4], [2, 6], [3, 5]]}, {\"y\": [[1, 5], [2, 4], [2, 6], [3, 5], [3, 6]]}, {\"y\": [[1, 5], [2, 4], [2, 6], [3, 4]]}, {\"y\": [[1, 5], [2, 4], [2, 6], [3, 4], [3, 6]]}, {\"y\": [[1, 5], [2, 4], [2, 6], [3, 4], [3, 5]]}, {\"y\": [[1, 5], [2, 4], [2, 6], [3, 4], [3, 5], [3, 6]]}, {\"y\": [[1, 5], [2, 4], [2, 5]]}, {\"y\": [[1, 5], [2, 4], [2, 5], [3, 6]]}, {\"y\": [[1, 5], [2, 4], [2, 5], [3, 5]]}, {\"y\": [[1, 5], [2, 4], [2, 5], [3, 5], [3, 6]]}, {\"y\": [[1, 5], [2, 4], [2, 5], [3, 4]]}, {\"y\": [[1, 5], [2, 4], [2, 5], [3, 4], [3, 6]]}, {\"y\": [[1, 5], [2, 4], [2, 5], [3, 4], [3, 5]]}, {\"y\": [[1, 5], [2, 4], [2, 5], [3, 4], [3, 5], [3, 6]]}, {\"y\": [[1, 5], [2, 4], [2, 5], [2, 6]]}, {\"y\": [[1, 5], [2, 4], [2, 5], [2, 6], [3, 6]]}, {\"y\": [[1, 5], [2, 4], [2, 5], [2, 6], [3, 5]]}, {\"y\": [[1, 5], [2, 4], [2, 5], [2, 6], [3, 5], [3, 6]]}, {\"y\": [[1, 5], [2, 4], [2, 5], [2, 6], [3, 4]]}, {\"y\": [[1, 5], [2, 4], [2, 5], [2, 6], [3, 4], [3, 6]]}, {\"y\": [[1, 5], [2, 4], [2, 5], [2, 6], [3, 4], [3, 5]]}, {\"y\": [[1, 5], [2, 4], [2, 5], [2, 6], [3, 4], [3, 5], [3, 6]]}, {\"y\": [[1, 5], [1, 6]]}, {\"y\": [[1, 5], [1, 6], [3, 6]]}, {\"y\": [[1, 5], [1, 6], [3, 5]]}, {\"y\": [[1, 5], [1, 6], [3, 5], [3, 6]]}, {\"y\": [[1, 5], [1, 6], [3, 4]]}, {\"y\": [[1, 5], [1, 6], [3, 4], [3, 6]]}, {\"y\": [[1, 5], [1, 6], [3, 4], [3, 5]]}, {\"y\": [[1, 5], [1, 6], [3, 4], [3, 5], [3, 6]]}, {\"y\": [[1, 4], [1, 5], [1, 6], [2, 4], [2, 5], [2, 6], [3, 4], [3, 5], [3, 6]]}, {\"y\": [[1, 5], [1, 6], [2, 4], [2, 5], [2, 6], [3, 4], [3, 5], [3, 6]]}, {\"y\": [[1, 4], [1, 6], [2, 4], [2, 5], [2, 6], [3, 4], [3, 5], [3, 6]]}, {\"y\": [[1, 4], [1, 5], [2, 4], [2, 5], [2, 6], [3, 4], [3, 5], [3, 6]]}, {\"y\": [[1, 4], [2, 4], [2, 5], [2, 6], [3, 4], [3, 5], [3, 6]]}, {\"y\": [[1, 4], [1, 5], [1, 6], [2, 5], [2, 6], [3, 4], [3, 5], [3, 6]]}, {\"y\": [[1, 4], [1, 5], [2, 5], [2, 6], [3, 4], [3, 5], [3, 6]]}, {\"y\": [[1, 4], [1, 6], [2, 5], [2, 6], [3, 4], [3, 5], [3, 6]]}, {\"y\": [[1, 4], [2, 5], [2, 6], [3, 4], [3, 5], [3, 6]]}, {\"y\": [[1, 5], [1, 6], [2, 5], [2, 6], [3, 4], [3, 5], [3, 6]]}, {\"y\": [[1, 4], [1, 5], [1, 6], [2, 4], [2, 6], [3, 4], [3, 5], [3, 6]]}, {\"y\": [[1, 4], [1, 5], [1, 6], [2, 6], [3, 4], [3, 5], [3, 6]]}, {\"y\": [[1, 4], [1, 6], [2, 4], [2, 6], [3, 4], [3, 5], [3, 6]]}, {\"y\": [[1, 4], [1, 6], [2, 6], [3, 4], [3, 5], [3, 6]]}, {\"y\": [[1, 4], [1, 5], [2, 4], [2, 6], [3, 4], [3, 5], [3, 6]]}, {\"y\": [[1, 4], [1, 5], [2, 6], [3, 4], [3, 5], [3, 6]]}, {\"y\": [[1, 4], [2, 4], [2, 6], [3, 4], [3, 5], [3, 6]]}, {\"y\": [[1, 4], [2, 6], [3, 4], [3, 5], [3, 6]]}, {\"y\": [[1, 5], [1, 6], [2, 4], [2, 6], [3, 4], [3, 5], [3, 6]]}, {\"y\": [[1, 5], [1, 6], [2, 6], [3, 4], [3, 5], [3, 6]]}, {\"y\": [[1, 4], [1, 5], [1, 6], [2, 4], [3, 4], [3, 5], [3, 6]]}, {\"y\": [[1, 4], [1, 5], [1, 6], [2, 4], [2, 5], [3, 4], [3, 5], [3, 6]]}, {\"y\": [[1, 4], [1, 5], [2, 4], [3, 4], [3, 5], [3, 6]]}, {\"y\": [[1, 4], [1, 5], [2, 4], [2, 5], [3, 4], [3, 5], [3, 6]]}, {\"y\": [[1, 4], [1, 6], [2, 4], [3, 4], [3, 5], [3, 6]]}, {\"y\": [[1, 4], [1, 6], [2, 4], [2, 5], [3, 4], [3, 5], [3, 6]]}, {\"y\": [[1, 4], [2, 4], [3, 4], [3, 5], [3, 6]]}, {\"y\": [[1, 4], [2, 4], [2, 5], [3, 4], [3, 5], [3, 6]]}, {\"y\": [[1, 4], [1, 5], [1, 6], [3, 4], [3, 5], [3, 6]]}, {\"y\": [[1, 4], [1, 6], [3, 4], [3, 5], [3, 6]]}, {\"y\": [[1, 4], [1, 5], [3, 4], [3, 5], [3, 6]]}, {\"y\": [[1, 4], [3, 4], [3, 5], [3, 6]]}, {\"y\": [[1, 4], [1, 5], [1, 6], [2, 5], [3, 4], [3, 5], [3, 6]]}, {\"y\": [[1, 4], [1, 5], [2, 5], [3, 4], [3, 5], [3, 6]]}, {\"y\": [[1, 4], [1, 6], [2, 5], [3, 4], [3, 5], [3, 6]]}, {\"y\": [[1, 4], [2, 5], [3, 4], [3, 5], [3, 6]]}, {\"y\": [[1, 5], [1, 6], [2, 4], [3, 4], [3, 5], [3, 6]]}, {\"y\": [[1, 5], [1, 6], [2, 4], [2, 5], [3, 4], [3, 5], [3, 6]]}, {\"y\": [[1, 5], [1, 6], [2, 5], [3, 4], [3, 5], [3, 6]]}, {\"y\": [[1, 4], [1, 5], [1, 6], [2, 4], [3, 5], [3, 6]]}, {\"y\": [[1, 4], [1, 5], [1, 6], [3, 5], [3, 6]]}, {\"y\": [[1, 4], [1, 5], [1, 6], [2, 4], [2, 5], [3, 5], [3, 6]]}, {\"y\": [[1, 4], [1, 5], [1, 6], [2, 5], [3, 5], [3, 6]]}, {\"y\": [[1, 4], [1, 5], [1, 6], [2, 4], [2, 6], [3, 5], [3, 6]]}, {\"y\": [[1, 4], [1, 5], [1, 6], [2, 4], [2, 5], [2, 6], [3, 5], [3, 6]]}, {\"y\": [[1, 4], [1, 5], [1, 6], [2, 6], [3, 5], [3, 6]]}, {\"y\": [[1, 4], [1, 5], [1, 6], [2, 5], [2, 6], [3, 5], [3, 6]]}, {\"y\": [[1, 4], [1, 6], [2, 4], [3, 5], [3, 6]]}, {\"y\": [[1, 4], [1, 6], [2, 4], [2, 6], [3, 5], [3, 6]]}, {\"y\": [[1, 4], [1, 6], [3, 5], [3, 6]]}, {\"y\": [[1, 4], [1, 6], [2, 6], [3, 5], [3, 6]]}, {\"y\": [[1, 4], [1, 6], [2, 4], [2, 5], [3, 5], [3, 6]]}, {\"y\": [[1, 4], [1, 6], [2, 4], [2, 5], [2, 6], [3, 5], [3, 6]]}, {\"y\": [[1, 4], [1, 6], [2, 5], [3, 5], [3, 6]]}, {\"y\": [[1, 4], [1, 6], [2, 5], [2, 6], [3, 5], [3, 6]]}, {\"y\": [[1, 5], [1, 6], [2, 4], [3, 5], [3, 6]]}, {\"y\": [[1, 5], [1, 6], [2, 4], [2, 5], [3, 5], [3, 6]]}, {\"y\": [[1, 5], [1, 6], [2, 5], [3, 5], [3, 6]]}, {\"y\": [[1, 5], [1, 6], [2, 4], [2, 6], [3, 5], [3, 6]]}, {\"y\": [[1, 5], [1, 6], [2, 6], [3, 5], [3, 6]]}, {\"y\": [[1, 5], [1, 6], [2, 4], [2, 5], [2, 6], [3, 5], [3, 6]]}, {\"y\": [[1, 5], [1, 6], [2, 5], [2, 6], [3, 5], [3, 6]]}, {\"y\": [[1, 4], [1, 5], [2, 4], [3, 5], [3, 6]]}, {\"y\": [[1, 4], [1, 5], [2, 4], [2, 6], [3, 5], [3, 6]]}, {\"y\": [[1, 4], [2, 4], [3, 5], [3, 6]]}, {\"y\": [[1, 4], [2, 4], [2, 6], [3, 5], [3, 6]]}, {\"y\": [[1, 4], [1, 5], [2, 4], [2, 5], [3, 5], [3, 6]]}, {\"y\": [[1, 4], [2, 4], [2, 5], [3, 5], [3, 6]]}, {\"y\": [[1, 4], [1, 5], [2, 4], [2, 5], [2, 6], [3, 5], [3, 6]]}, {\"y\": [[1, 4], [2, 4], [2, 5], [2, 6], [3, 5], [3, 6]]}, {\"y\": [[1, 4], [1, 5], [3, 5], [3, 6]]}, {\"y\": [[1, 4], [1, 5], [2, 5], [3, 5], [3, 6]]}, {\"y\": [[1, 4], [1, 5], [2, 6], [3, 5], [3, 6]]}, {\"y\": [[1, 4], [1, 5], [2, 5], [2, 6], [3, 5], [3, 6]]}, {\"y\": [[1, 4], [3, 5], [3, 6]]}, {\"y\": [[1, 4], [2, 5], [3, 5], [3, 6]]}, {\"y\": [[1, 4], [2, 6], [3, 5], [3, 6]]}, {\"y\": [[1, 4], [2, 5], [2, 6], [3, 5], [3, 6]]}, {\"y\": [[1, 4], [1, 5], [2, 4], [3, 6]]}, {\"y\": [[1, 4], [1, 5], [3, 6]]}, {\"y\": [[1, 4], [1, 5], [1, 6], [2, 4], [3, 6]]}, {\"y\": [[1, 4], [1, 5], [1, 6], [3, 6]]}, {\"y\": [[1, 4], [2, 4], [3, 6]]}, {\"y\": [[1, 4], [3, 6]]}, {\"y\": [[1, 4], [1, 6], [2, 4], [3, 6]]}, {\"y\": [[1, 4], [1, 6], [3, 6]]}, {\"y\": [[1, 4], [1, 5], [2, 4], [2, 6], [3, 6]]}, {\"y\": [[1, 4], [2, 4], [2, 6], [3, 6]]}, {\"y\": [[1, 4], [1, 5], [1, 6], [2, 4], [2, 6], [3, 6]]}, {\"y\": [[1, 4], [1, 6], [2, 4], [2, 6], [3, 6]]}, {\"y\": [[1, 4], [1, 5], [2, 6], [3, 6]]}, {\"y\": [[1, 4], [1, 5], [1, 6], [2, 6], [3, 6]]}, {\"y\": [[1, 4], [2, 6], [3, 6]]}, {\"y\": [[1, 4], [1, 6], [2, 6], [3, 6]]}, {\"y\": [[1, 4], [1, 5], [2, 4], [2, 5], [3, 6]]}, {\"y\": [[1, 4], [1, 5], [2, 4], [2, 5], [2, 6], [3, 6]]}, {\"y\": [[1, 4], [1, 5], [2, 5], [3, 6]]}, {\"y\": [[1, 4], [1, 5], [2, 5], [2, 6], [3, 6]]}, {\"y\": [[1, 4], [2, 4], [2, 5], [3, 6]]}, {\"y\": [[1, 4], [2, 4], [2, 5], [2, 6], [3, 6]]}, {\"y\": [[1, 4], [2, 5], [3, 6]]}, {\"y\": [[1, 4], [2, 5], [2, 6], [3, 6]]}, {\"y\": [[1, 4], [1, 5], [1, 6], [2, 4], [2, 5], [3, 6]]}, {\"y\": [[1, 4], [1, 6], [2, 4], [2, 5], [3, 6]]}, {\"y\": [[1, 4], [1, 5], [1, 6], [2, 5], [3, 6]]}, {\"y\": [[1, 4], [1, 6], [2, 5], [3, 6]]}, {\"y\": [[1, 4], [1, 5], [1, 6], [2, 4], [2, 5], [2, 6], [3, 6]]}, {\"y\": [[1, 4], [1, 5], [1, 6], [2, 5], [2, 6], [3, 6]]}, {\"y\": [[1, 4], [1, 6], [2, 4], [2, 5], [2, 6], [3, 6]]}, {\"y\": [[1, 4], [1, 6], [2, 5], [2, 6], [3, 6]]}, {\"y\": [[1, 5], [1, 6], [2, 4], [2, 5], [3, 6]]}, {\"y\": [[1, 5], [1, 6], [2, 4], [3, 6]]}, {\"y\": [[1, 5], [1, 6], [2, 4], [2, 5], [2, 6], [3, 6]]}, {\"y\": [[1, 5], [1, 6], [2, 4], [2, 6], [3, 6]]}, {\"y\": [[1, 5], [1, 6], [2, 5], [3, 6]]}, {\"y\": [[1, 5], [1, 6], [2, 5], [2, 6], [3, 6]]}, {\"y\": [[1, 5], [1, 6], [2, 6], [3, 6]]}, {\"y\": [[1, 4], [1, 5], [1, 6], [2, 4], [2, 5], [3, 4], [3, 6]]}, {\"y\": [[1, 4], [1, 5], [2, 4], [2, 5], [3, 4], [3, 6]]}, {\"y\": [[1, 5], [1, 6], [2, 4], [2, 5], [3, 4], [3, 6]]}, {\"y\": [[1, 4], [1, 5], [1, 6], [2, 4], [2, 5], [2, 6], [3, 4], [3, 6]]}, {\"y\": [[1, 4], [1, 5], [2, 4], [2, 5], [2, 6], [3, 4], [3, 6]]}, {\"y\": [[1, 5], [1, 6], [2, 4], [2, 5], [2, 6], [3, 4], [3, 6]]}, {\"y\": [[1, 4], [1, 5], [1, 6], [2, 5], [3, 4], [3, 6]]}, {\"y\": [[1, 4], [1, 5], [1, 6], [2, 5], [2, 6], [3, 4], [3, 6]]}, {\"y\": [[1, 4], [1, 5], [2, 5], [3, 4], [3, 6]]}, {\"y\": [[1, 4], [1, 5], [2, 5], [2, 6], [3, 4], [3, 6]]}, {\"y\": [[1, 5], [1, 6], [2, 5], [3, 4], [3, 6]]}, {\"y\": [[1, 5], [1, 6], [2, 5], [2, 6], [3, 4], [3, 6]]}, {\"y\": [[1, 4], [1, 5], [1, 6], [2, 4], [3, 4], [3, 6]]}, {\"y\": [[1, 4], [1, 5], [1, 6], [3, 4], [3, 6]]}, {\"y\": [[1, 4], [1, 5], [2, 4], [3, 4], [3, 6]]}, {\"y\": [[1, 4], [1, 5], [3, 4], [3, 6]]}, {\"y\": [[1, 4], [1, 5], [1, 6], [2, 4], [2, 6], [3, 4], [3, 6]]}, {\"y\": [[1, 4], [1, 5], [1, 6], [2, 6], [3, 4], [3, 6]]}, {\"y\": [[1, 4], [1, 5], [2, 4], [2, 6], [3, 4], [3, 6]]}, {\"y\": [[1, 4], [1, 5], [2, 6], [3, 4], [3, 6]]}, {\"y\": [[1, 5], [1, 6], [2, 4], [3, 4], [3, 6]]}, {\"y\": [[1, 5], [1, 6], [2, 4], [2, 6], [3, 4], [3, 6]]}, {\"y\": [[1, 5], [1, 6], [2, 6], [3, 4], [3, 6]]}, {\"y\": [[1, 4], [1, 6], [2, 4], [3, 4], [3, 6]]}, {\"y\": [[1, 4], [1, 6], [2, 4], [2, 5], [3, 4], [3, 6]]}, {\"y\": [[1, 4], [1, 6], [2, 4], [2, 6], [3, 4], [3, 6]]}, {\"y\": [[1, 4], [1, 6], [2, 4], [2, 5], [2, 6], [3, 4], [3, 6]]}, {\"y\": [[1, 4], [1, 6], [3, 4], [3, 6]]}, {\"y\": [[1, 4], [1, 6], [2, 5], [3, 4], [3, 6]]}, {\"y\": [[1, 4], [1, 6], [2, 6], [3, 4], [3, 6]]}, {\"y\": [[1, 4], [1, 6], [2, 5], [2, 6], [3, 4], [3, 6]]}, {\"y\": [[1, 4], [2, 4], [3, 4], [3, 6]]}, {\"y\": [[1, 4], [2, 4], [2, 5], [3, 4], [3, 6]]}, {\"y\": [[1, 4], [3, 4], [3, 6]]}, {\"y\": [[1, 4], [2, 5], [3, 4], [3, 6]]}, {\"y\": [[1, 4], [2, 4], [2, 6], [3, 4], [3, 6]]}, {\"y\": [[1, 4], [2, 6], [3, 4], [3, 6]]}, {\"y\": [[1, 4], [2, 4], [2, 5], [2, 6], [3, 4], [3, 6]]}, {\"y\": [[1, 4], [2, 5], [2, 6], [3, 4], [3, 6]]}, {\"y\": [[1, 4], [1, 6], [2, 4], [3, 4]]}, {\"y\": [[1, 4], [1, 5], [1, 6], [2, 4], [3, 4]]}, {\"y\": [[1, 4], [2, 4], [3, 4]]}, {\"y\": [[1, 4], [1, 5], [2, 4], [3, 4]]}, {\"y\": [[1, 4], [1, 6], [2, 4], [2, 6], [3, 4]]}, {\"y\": [[1, 4], [2, 4], [2, 6], [3, 4]]}, {\"y\": [[1, 4], [1, 5], [1, 6], [2, 4], [2, 6], [3, 4]]}, {\"y\": [[1, 4], [1, 5], [2, 4], [2, 6], [3, 4]]}, {\"y\": [[1, 4], [1, 6], [2, 4], [2, 5], [3, 4]]}, {\"y\": [[1, 4], [1, 6], [2, 4], [2, 5], [2, 6], [3, 4]]}, {\"y\": [[1, 4], [1, 5], [1, 6], [2, 4], [2, 5], [3, 4]]}, {\"y\": [[1, 4], [1, 5], [1, 6], [2, 4], [2, 5], [2, 6], [3, 4]]}, {\"y\": [[1, 4], [2, 4], [2, 5], [3, 4]]}, {\"y\": [[1, 4], [1, 5], [2, 4], [2, 5], [3, 4]]}, {\"y\": [[1, 4], [2, 4], [2, 5], [2, 6], [3, 4]]}, {\"y\": [[1, 4], [1, 5], [2, 4], [2, 5], [2, 6], [3, 4]]}, {\"y\": [[1, 4], [1, 6], [3, 4]]}, {\"y\": [[1, 4], [1, 6], [2, 5], [3, 4]]}, {\"y\": [[1, 4], [3, 4]]}, {\"y\": [[1, 4], [2, 5], [3, 4]]}, {\"y\": [[1, 4], [1, 6], [2, 6], [3, 4]]}, {\"y\": [[1, 4], [1, 6], [2, 5], [2, 6], [3, 4]]}, {\"y\": [[1, 4], [2, 6], [3, 4]]}, {\"y\": [[1, 4], [2, 5], [2, 6], [3, 4]]}, {\"y\": [[1, 4], [1, 5], [1, 6], [3, 4]]}, {\"y\": [[1, 4], [1, 5], [1, 6], [2, 6], [3, 4]]}, {\"y\": [[1, 4], [1, 5], [3, 4]]}, {\"y\": [[1, 4], [1, 5], [2, 6], [3, 4]]}, {\"y\": [[1, 4], [1, 5], [1, 6], [2, 5], [3, 4]]}, {\"y\": [[1, 4], [1, 5], [2, 5], [3, 4]]}, {\"y\": [[1, 4], [1, 5], [1, 6], [2, 5], [2, 6], [3, 4]]}, {\"y\": [[1, 4], [1, 5], [2, 5], [2, 6], [3, 4]]}, {\"y\": [[1, 4], [1, 6]]}, {\"y\": [[1, 4], [1, 5], [1, 6]]}, {\"y\": [[1, 4], [1, 6], [2, 4]]}, {\"y\": [[1, 4], [1, 5], [1, 6], [2, 4]]}, {\"y\": [[1, 4], [1, 6], [2, 5]]}, {\"y\": [[1, 4], [1, 6], [2, 4], [2, 5]]}, {\"y\": [[1, 4], [1, 5], [1, 6], [2, 5]]}, {\"y\": [[1, 4], [1, 5], [1, 6], [2, 4], [2, 5]]}, {\"y\": [[1, 4], [1, 6], [2, 6]]}, {\"y\": [[1, 4], [1, 6], [2, 5], [2, 6]]}, {\"y\": [[1, 4], [1, 5], [1, 6], [2, 6]]}, {\"y\": [[1, 4], [1, 5], [1, 6], [2, 5], [2, 6]]}, {\"y\": [[1, 4], [1, 6], [2, 4], [2, 6]]}, {\"y\": [[1, 4], [1, 5], [1, 6], [2, 4], [2, 6]]}, {\"y\": [[1, 4], [1, 6], [2, 4], [2, 5], [2, 6]]}, {\"y\": [[1, 4], [1, 5], [1, 6], [2, 4], [2, 5], [2, 6]]}, {\"y\": [[1, 4]]}, {\"y\": [[1, 4], [2, 6]]}, {\"y\": [[1, 4], [2, 4]]}, {\"y\": [[1, 4], [2, 4], [2, 6]]}, {\"y\": [[1, 4], [2, 5]]}, {\"y\": [[1, 4], [2, 5], [2, 6]]}, {\"y\": [[1, 4], [2, 4], [2, 5]]}, {\"y\": [[1, 4], [2, 4], [2, 5], [2, 6]]}, {\"y\": [[1, 4], [1, 5]]}, {\"y\": [[1, 4], [1, 5], [2, 5]]}, {\"y\": [[1, 4], [1, 5], [2, 4]]}, {\"y\": [[1, 4], [1, 5], [2, 4], [2, 5]]}, {\"y\": [[1, 4], [1, 5], [2, 6]]}, {\"y\": [[1, 4], [1, 5], [2, 4], [2, 6]]}, {\"y\": [[1, 4], [1, 5], [2, 5], [2, 6]]}, {\"y\": [[1, 4], [1, 5], [2, 4], [2, 5], [2, 6]]}, {\"y\": [[1, 5], [1, 6], [2, 6]]}, {\"y\": [[1, 5], [1, 6], [2, 5]]}, {\"y\": [[1, 5], [1, 6], [2, 5], [2, 6]]}, {\"y\": [[1, 5], [1, 6], [2, 4]]}, {\"y\": [[1, 5], [1, 6], [2, 4], [2, 5]]}, {\"y\": [[1, 5], [1, 6], [2, 4], [2, 6]]}, {\"y\": [[1, 5], [1, 6], [2, 4], [2, 5], [2, 6]]}, {\"y\": [[1, 5], [1, 6], [2, 4], [3, 4]]}, {\"y\": [[1, 5], [1, 6], [2, 6], [3, 4]]}, {\"y\": [[1, 5], [1, 6], [2, 4], [2, 6], [3, 4]]}, {\"y\": [[1, 5], [1, 6], [2, 5], [3, 4]]}, {\"y\": [[1, 5], [1, 6], [2, 5], [2, 6], [3, 4]]}, {\"y\": [[1, 5], [1, 6], [2, 4], [2, 5], [3, 4]]}, {\"y\": [[1, 5], [1, 6], [2, 4], [2, 5], [2, 6], [3, 4]]}, {\"y\": [[1, 4], [1, 5], [1, 6], [3, 5]]}, {\"y\": [[1, 4], [1, 5], [1, 6], [3, 4], [3, 5]]}, {\"y\": [[1, 4], [1, 5], [1, 6], [2, 5], [3, 5]]}, {\"y\": [[1, 5], [1, 6], [2, 5], [3, 5]]}, {\"y\": [[1, 4], [1, 5], [1, 6], [2, 5], [3, 4], [3, 5]]}, {\"y\": [[1, 5], [1, 6], [2, 5], [3, 4], [3, 5]]}, {\"y\": [[1, 4], [1, 5], [3, 5]]}, {\"y\": [[1, 4], [1, 5], [3, 4], [3, 5]]}, {\"y\": [[1, 4], [1, 5], [2, 5], [3, 5]]}, {\"y\": [[1, 4], [1, 5], [2, 5], [3, 4], [3, 5]]}, {\"y\": [[1, 4], [1, 5], [1, 6], [2, 4], [3, 5]]}, {\"y\": [[1, 4], [1, 5], [1, 6], [2, 4], [2, 5], [3, 5]]}, {\"y\": [[1, 5], [1, 6], [2, 4], [3, 5]]}, {\"y\": [[1, 5], [1, 6], [2, 4], [2, 5], [3, 5]]}, {\"y\": [[1, 4], [1, 5], [2, 4], [3, 5]]}, {\"y\": [[1, 4], [1, 5], [2, 4], [2, 5], [3, 5]]}, {\"y\": [[1, 4], [1, 5], [1, 6], [2, 4], [3, 4], [3, 5]]}, {\"y\": [[1, 5], [1, 6], [2, 4], [3, 4], [3, 5]]}, {\"y\": [[1, 4], [1, 5], [2, 4], [3, 4], [3, 5]]}, {\"y\": [[1, 4], [1, 5], [1, 6], [2, 4], [2, 5], [3, 4], [3, 5]]}, {\"y\": [[1, 5], [1, 6], [2, 4], [2, 5], [3, 4], [3, 5]]}, {\"y\": [[1, 4], [1, 5], [2, 4], [2, 5], [3, 4], [3, 5]]}, {\"y\": [[1, 4], [1, 5], [1, 6], [2, 4], [2, 6], [3, 5]]}, {\"y\": [[1, 4], [1, 5], [1, 6], [2, 6], [3, 5]]}, {\"y\": [[1, 4], [1, 5], [1, 6], [2, 4], [2, 6], [3, 4], [3, 5]]}, {\"y\": [[1, 4], [1, 5], [1, 6], [2, 6], [3, 4], [3, 5]]}, {\"y\": [[1, 4], [1, 5], [1, 6], [2, 4], [2, 5], [2, 6], [3, 5]]}, {\"y\": [[1, 4], [1, 5], [1, 6], [2, 4], [2, 5], [2, 6], [3, 4], [3, 5]]}, {\"y\": [[1, 4], [1, 5], [1, 6], [2, 5], [2, 6], [3, 5]]}, {\"y\": [[1, 4], [1, 5], [1, 6], [2, 5], [2, 6], [3, 4], [3, 5]]}, {\"y\": [[1, 5], [1, 6], [2, 4], [2, 6], [3, 5]]}, {\"y\": [[1, 5], [1, 6], [2, 6], [3, 5]]}, {\"y\": [[1, 5], [1, 6], [2, 4], [2, 5], [2, 6], [3, 5]]}, {\"y\": [[1, 5], [1, 6], [2, 5], [2, 6], [3, 5]]}, {\"y\": [[1, 5], [1, 6], [2, 4], [2, 6], [3, 4], [3, 5]]}, {\"y\": [[1, 5], [1, 6], [2, 4], [2, 5], [2, 6], [3, 4], [3, 5]]}, {\"y\": [[1, 5], [1, 6], [2, 6], [3, 4], [3, 5]]}, {\"y\": [[1, 5], [1, 6], [2, 5], [2, 6], [3, 4], [3, 5]]}, {\"y\": [[1, 4], [1, 5], [2, 4], [2, 6], [3, 5]]}, {\"y\": [[1, 4], [1, 5], [2, 4], [2, 6], [3, 4], [3, 5]]}, {\"y\": [[1, 4], [1, 5], [2, 6], [3, 5]]}, {\"y\": [[1, 4], [1, 5], [2, 6], [3, 4], [3, 5]]}, {\"y\": [[1, 4], [1, 5], [2, 4], [2, 5], [2, 6], [3, 5]]}, {\"y\": [[1, 4], [1, 5], [2, 4], [2, 5], [2, 6], [3, 4], [3, 5]]}, {\"y\": [[1, 4], [1, 5], [2, 5], [2, 6], [3, 5]]}, {\"y\": [[1, 4], [1, 5], [2, 5], [2, 6], [3, 4], [3, 5]]}, {\"y\": [[1, 4], [1, 6], [2, 4], [2, 6], [3, 5]]}, {\"y\": [[1, 4], [2, 4], [2, 6], [3, 5]]}, {\"y\": [[1, 4], [1, 6], [2, 4], [2, 5], [2, 6], [3, 5]]}, {\"y\": [[1, 4], [2, 4], [2, 5], [2, 6], [3, 5]]}, {\"y\": [[1, 4], [1, 6], [2, 4], [3, 5]]}, {\"y\": [[1, 4], [1, 6], [2, 4], [2, 5], [3, 5]]}, {\"y\": [[1, 4], [2, 4], [3, 5]]}, {\"y\": [[1, 4], [2, 4], [2, 5], [3, 5]]}, {\"y\": [[1, 4], [1, 6], [2, 6], [3, 5]]}, {\"y\": [[1, 4], [1, 6], [3, 5]]}, {\"y\": [[1, 4], [2, 6], [3, 5]]}, {\"y\": [[1, 4], [3, 5]]}, {\"y\": [[1, 4], [1, 6], [2, 5], [2, 6], [3, 5]]}, {\"y\": [[1, 4], [2, 5], [2, 6], [3, 5]]}, {\"y\": [[1, 4], [1, 6], [2, 5], [3, 5]]}, {\"y\": [[1, 4], [2, 5], [3, 5]]}, {\"y\": [[1, 4], [1, 6], [2, 4], [2, 6], [3, 4], [3, 5]]}, {\"y\": [[1, 4], [1, 6], [2, 6], [3, 4], [3, 5]]}, {\"y\": [[1, 4], [1, 6], [2, 4], [2, 5], [2, 6], [3, 4], [3, 5]]}, {\"y\": [[1, 4], [1, 6], [2, 5], [2, 6], [3, 4], [3, 5]]}, {\"y\": [[1, 4], [1, 6], [2, 4], [3, 4], [3, 5]]}, {\"y\": [[1, 4], [1, 6], [3, 4], [3, 5]]}, {\"y\": [[1, 4], [1, 6], [2, 4], [2, 5], [3, 4], [3, 5]]}, {\"y\": [[1, 4], [1, 6], [2, 5], [3, 4], [3, 5]]}, {\"y\": [[1, 4], [2, 4], [2, 6], [3, 4], [3, 5]]}, {\"y\": [[1, 4], [2, 4], [3, 4], [3, 5]]}, {\"y\": [[1, 4], [2, 4], [2, 5], [2, 6], [3, 4], [3, 5]]}, {\"y\": [[1, 4], [2, 4], [2, 5], [3, 4], [3, 5]]}, {\"y\": [[1, 4], [2, 6], [3, 4], [3, 5]]}, {\"y\": [[1, 4], [2, 5], [2, 6], [3, 4], [3, 5]]}, {\"y\": [[1, 4], [3, 4], [3, 5]]}, {\"y\": [[1, 4], [2, 5], [3, 4], [3, 5]]}]}\n",
              "```"
            ],
            "text/plain": [
              "<IPython.core.display.Markdown object>"
            ]
          },
          "metadata": {},
          "output_type": "display_data"
        }
      ],
      "source": [
        "%%conjure --number-of-solutions=all\n",
        "letting x be domain relation of (int(1..3)*int(4..6))\n",
        "find y: x"
      ]
    },
    {
      "cell_type": "markdown",
      "metadata": {
        "id": "cl9uKVMmiTFb"
      },
      "source": [
        "### partition"
      ]
    },
    {
      "cell_type": "code",
      "execution_count": null,
      "metadata": {
        "colab": {
          "base_uri": "https://localhost:8080/",
          "height": 34
        },
        "id": "7GaK5um0ggOD",
        "outputId": "c1ed1c78-8b0f-4854-e879-55e1eb3da26f"
      },
      "outputs": [
        {
          "data": {
            "text/markdown": [
              "```json\n",
              "{\"conjure_solutions\": [{\"y\": [[1, 2]]}, {\"y\": [[1], [2]]}]}\n",
              "```"
            ],
            "text/plain": [
              "<IPython.core.display.Markdown object>"
            ]
          },
          "metadata": {},
          "output_type": "display_data"
        }
      ],
      "source": [
        "%%conjure --number-of-solutions=all\n",
        "letting x be domain partition from int(1..2)\n",
        "find y: x"
      ]
    }
  ],
  "metadata": {
    "colab": {
      "provenance": []
    },
    "kernelspec": {
      "display_name": "Python 3",
      "name": "python3"
    },
    "language_info": {
      "name": "python"
    }
  },
  "nbformat": 4,
  "nbformat_minor": 0
}
