{
  "nbformat": 4,
  "nbformat_minor": 0,
  "metadata": {
    "colab": {
      "provenance": [],
      "authorship_tag": "ABX9TyMnXI7ubXaHTFJqKHwJiHKm",
      "include_colab_link": true
    },
    "kernelspec": {
      "name": "python3",
      "display_name": "Python 3"
    },
    "language_info": {
      "name": "python"
    }
  },
  "cells": [
    {
      "cell_type": "markdown",
      "metadata": {
        "id": "view-in-github",
        "colab_type": "text"
      },
      "source": [
        "<a href=\"https://colab.research.google.com/github/conjure-cp/conjure/blob/main/docs/notebooks/division_n_fractions.ipynb\" target=\"_parent\"><img src=\"https://colab.research.google.com/assets/colab-badge.svg\" alt=\"Open In Colab\"/></a>"
      ]
    },
    {
      "cell_type": "markdown",
      "source": [
        "# Division"
      ],
      "metadata": {
        "id": "a_TUIK1urOYq"
      }
    },
    {
      "cell_type": "markdown",
      "source": [
        "In Essence, division is performed using the  / operator"
      ],
      "metadata": {
        "id": "XPmO6LvUrVIZ"
      }
    },
    {
      "cell_type": "markdown",
      "source": [
        "This performs **integer** division such that for integers `x`and `y` , with ` y!=0`\n",
        "\n",
        "```\n",
        "(x % y) + y * (x / y) = x\n",
        "```\n",
        "\n"
      ],
      "metadata": {
        "id": "FgSmzdvtrizI"
      }
    },
    {
      "cell_type": "markdown",
      "source": [
        "For example, for the n-fractions problem as defined for n = 3. described [here.](https://www.csplib.org/Problems/prob041/). Using a solution inspired by [Number Puzzle.](https://github.com/conjure-cp/conjure/blob/main/docs/tutorials/NumberPuzzle.rst)"
      ],
      "metadata": {
        "id": "107u7-orsSlo"
      }
    },
    {
      "cell_type": "markdown",
      "source": [
        "We need to find 9 distinct non-zero digits such that\n",
        "\n",
        "```\n",
        "A    D    G\n",
        "-- + -- + -- == 1\n",
        "BC   EF   HI\n",
        "```\n",
        "```\n",
        "where BC = 10*B + C, EF = 10*E + F and HI = 10*H + I\n",
        "```\n",
        "\n"
      ],
      "metadata": {
        "id": "-bBvxiw0sr8T"
      }
    },
    {
      "cell_type": "markdown",
      "source": [
        "Your first instinct to solve this problem might be like this:"
      ],
      "metadata": {
        "id": "o89vv4RhtSi2"
      }
    },
    {
      "cell_type": "code",
      "source": [
        "!source <(curl -s https://raw.githubusercontent.com/conjure-cp/conjure-notebook/v0.0.8/scripts/install-colab.sh)\n",
        "%load_ext conjure"
      ],
      "metadata": {
        "colab": {
          "base_uri": "https://localhost:8080/"
        },
        "id": "qrA8mhVNtXCw",
        "outputId": "ff4dab80-f1a2-44b7-c10a-015b18518946"
      },
      "execution_count": null,
      "outputs": [
        {
          "output_type": "stream",
          "name": "stdout",
          "text": [
            "Installing Conjure version v2.5.0 and Conjure Notebook version v0.0.8...\n",
            "Conjure is already installed.\n",
            "Conjure notebook is already installed.\n",
            "Conjure: The Automated Constraint Modelling Tool\n",
            "Release version 2.5.0\n",
            "Repository version 41536c055 (2023-05-18 14:03:02 +0100)\n",
            "The conjure extension is already loaded. To reload it, use:\n",
            "  %reload_ext conjure\n"
          ]
        }
      ]
    },
    {
      "cell_type": "code",
      "source": [
        "%%conjure\n",
        " letting variables be new type enum {A, B, C, D, E, F, G, H, I}\n",
        " find f : function (injective) variables --> int(1..9)\n",
        " such that\n",
        "      (( f(A) /( (10*f(B)) + f(C) )) +  ( f(D) /( (10*f(E)) + f(F) )) +  ( f(G) /( (10*f(H)) + f(I) ))) = 1"
      ],
      "metadata": {
        "colab": {
          "base_uri": "https://localhost:8080/",
          "height": 64
        },
        "id": "itpqwHZotZ85",
        "outputId": "67de9d6a-854b-40ba-be4a-1ab27a8da8ce"
      },
      "execution_count": null,
      "outputs": [
        {
          "output_type": "display_data",
          "data": {
            "text/plain": [
              "<IPython.core.display.Markdown object>"
            ],
            "text/markdown": "No solution"
          },
          "metadata": {}
        },
        {
          "output_type": "display_data",
          "data": {
            "text/plain": [
              "<IPython.core.display.Markdown object>"
            ],
            "text/markdown": "```json\n{\"conjure_solutions\": []}\n```"
          },
          "metadata": {}
        }
      ]
    },
    {
      "cell_type": "markdown",
      "source": [
        "However, if you run the cell, you see that there are no solutions. This is incorrect, likely caused due to using integer division, instead of typical float division"
      ],
      "metadata": {
        "id": "6Jon3hl8u7WX"
      }
    },
    {
      "cell_type": "markdown",
      "source": [
        "However, if you manipulate equation to use multiplication instead of division"
      ],
      "metadata": {
        "id": "e8ZO7oSnvLrL"
      }
    },
    {
      "cell_type": "markdown",
      "source": [
        "\n",
        "prepare to add the fractions:\n",
        "```\n",
        "A(EF)(HI)          D(BC)(HI)       G(BC)(EF)\n",
        "------------- + -------------- + -------------- == 1\n",
        "(BC)(EF)(HI)     (BC)(EF)(HI)     (BC)(EF)(HI)\n",
        "```\n",
        "add the fractions\n",
        "```\n",
        "   A(EF)(HI) + D(BC)(HI) + G(BC)(EF)\n",
        "---------------------------------------- == 1\n",
        "              (BC)(EF)(HI)   \n",
        "\n",
        "```\n",
        "multiply out the denomiator\n",
        "```\n",
        "A(EF)(HI) + D(BC)(HI) + G(BC)(EF) =  (BC)(EF)(HI)  \n",
        "```"
      ],
      "metadata": {
        "id": "KxsRxD7xyluF"
      }
    },
    {
      "cell_type": "markdown",
      "source": [
        "Use minion instead of default chuffed (unsure why chuffed is producing errors for this)"
      ],
      "metadata": {
        "id": "XxxHmoxEL8U8"
      }
    },
    {
      "cell_type": "code",
      "source": [
        "%%conjure --solver=minion --number-of-solutions=all\n",
        "\n",
        "letting variables be new type enum {A, B, C, D, E, F, G, H, I}\n",
        "find f : function (injective) variables --> int(1..9)\n",
        "such that\n",
        "     ( f(A) * ( (10 * f(E)) + f(F))  * ( (10 * f(H)) + f(I)) ) + ( f(D) * ((10 * f(B)) + f(C)) * ( (10*f(H)) + f(I) ) ) + ( f(G) * ( (10*f(B)) + f(C) ) * ( (10*f(E)) + f(F) )) =\n",
        "     ( ((10*f(B))+f(C)) * ((10*f(E))+f(F)) * ((10*f(H))+f(I)) )\n"
      ],
      "metadata": {
        "colab": {
          "base_uri": "https://localhost:8080/",
          "height": 54
        },
        "id": "dsWLEcCsveV0",
        "outputId": "5355c257-fcee-4780-e25a-b1da324e3333"
      },
      "execution_count": null,
      "outputs": [
        {
          "output_type": "display_data",
          "data": {
            "text/plain": [
              "<IPython.core.display.Markdown object>"
            ],
            "text/markdown": "```json\n{\"conjure_solutions\": [{\"f\": {\"A\": 5, \"B\": 3, \"C\": 4, \"D\": 7, \"E\": 6, \"F\": 8, \"G\": 9, \"H\": 1, \"I\": 2}}, {\"f\": {\"A\": 5, \"B\": 3, \"C\": 4, \"D\": 9, \"E\": 1, \"F\": 2, \"G\": 7, \"H\": 6, \"I\": 8}}, {\"f\": {\"A\": 7, \"B\": 6, \"C\": 8, \"D\": 5, \"E\": 3, \"F\": 4, \"G\": 9, \"H\": 1, \"I\": 2}}, {\"f\": {\"A\": 7, \"B\": 6, \"C\": 8, \"D\": 9, \"E\": 1, \"F\": 2, \"G\": 5, \"H\": 3, \"I\": 4}}, {\"f\": {\"A\": 9, \"B\": 1, \"C\": 2, \"D\": 5, \"E\": 3, \"F\": 4, \"G\": 7, \"H\": 6, \"I\": 8}}, {\"f\": {\"A\": 9, \"B\": 1, \"C\": 2, \"D\": 7, \"E\": 6, \"F\": 8, \"G\": 5, \"H\": 3, \"I\": 4}}]}\n```"
          },
          "metadata": {}
        }
      ]
    },
    {
      "cell_type": "markdown",
      "source": [
        "You get results similar to expected. You may get multiple solutions, bu they are just different variations of the same 3 fractions."
      ],
      "metadata": {
        "id": "hmRkViGqvg2l"
      }
    }
  ]
}
