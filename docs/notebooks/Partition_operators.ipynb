{
  "nbformat": 4,
  "nbformat_minor": 0,
  "metadata": {
    "colab": {
      "provenance": [],
      "toc_visible": true
    },
    "kernelspec": {
      "name": "python3",
      "display_name": "Python 3"
    },
    "language_info": {
      "name": "python"
    }
  },
  "cells": [
     {
      "cell_type": "markdown",
      "metadata": {
        "colab_type": "text",
        "id": "view-in-github"
      },
      "source": [
        "<a href=\"https://colab.research.google.com/github/conjure-cp/conjure/blob/main/docs/notebooks/Partition_operators.ipynb\" target=\"_parent\"><img src=\"https://colab.research.google.com/assets/colab-badge.svg\" alt=\"Open In Colab\"/></a>"
      ]
    },
    {
      "cell_type": "markdown",
      "metadata": {
        "id": "yJb1FZ0maDVX"
      },
      "source": [
        "# Partition operators"
      ]
    },
    {
      "cell_type": "code",
      "execution_count": 1,
      "metadata": {
        "colab": {
          "base_uri": "https://localhost:8080/",
          "height": 139
        },
        "id": "AX2ttj1Ip5TP",
        "outputId": "5b15d67c-580f-4999-a9cd-be58acb894eb"
      },
      "outputs": [
        {
          "output_type": "stream",
          "name": "stdout",
          "text": [
            "Installing Conjure version v2.5.0 and Conjure Notebook version v0.0.8...\n",
            "Downloading...\n",
            "Conjure: The Automated Constraint Modelling Tool\n",
            "Release version 2.5.0\n",
            "Repository version 41536c055 (2023-05-18 14:03:02 +0100)\n"
          ]
        },
        {
          "output_type": "display_data",
          "data": {
            "text/plain": [
              "<IPython.core.display.Javascript object>"
            ],
            "application/javascript": [
              "\"use strict\";\n",
              "\n",
              "CodeMirror.defineMode(\"text/conjure\", function (config) {\n",
              "\n",
              "    var isOperatorChar = /[+\\-*=<>%^\\/]/;\n",
              "\n",
              "    var keywords = {\n",
              "        \"forall\": true,\n",
              "        \"allDifferent\": true,\n",
              "        \"allDiff\": true,\n",
              "        \"alldifferent_except\": true,\n",
              "        \"dim\": true,\n",
              "        \"toSet\": true,\n",
              "        \"toMSet\": true,\n",
              "        \"toRelation\": true,\n",
              "        \"maximising\": true,\n",
              "        \"minimising\": true,\n",
              "        \"forAll\": true,\n",
              "        \"exists\": true,\n",
              "        \"toInt\": true,\n",
              "        \"sum\": true,\n",
              "        \"be\": true,\n",
              "        \"bijective\": true,\n",
              "        \"bool\": true,\n",
              "        \"by\": true,\n",
              "        \"complete\": true,\n",
              "        \"defined\": true,\n",
              "        \"domain\": true,\n",
              "        \"in\": true,\n",
              "        \"or\": true,\n",
              "        \"and\": true,\n",
              "        \"false\": true,\n",
              "        \"find\": true,\n",
              "        \"from\": true,\n",
              "        \"function\": true,\n",
              "        \"given\": true,\n",
              "        \"image\": true,\n",
              "        \"indexed\": true,\n",
              "        \"injective\": true,\n",
              "        \"int\": true,\n",
              "        \"intersect\": true,\n",
              "        \"freq\": true,\n",
              "        \"lambda\": true,\n",
              "        \"language\": true,\n",
              "        \"letting\": true,\n",
              "        \"matrix\": true,\n",
              "        \"maxNumParts\": true,\n",
              "        \"maxOccur\": true,\n",
              "        \"maxPartSize\": true,\n",
              "        \"maxSize\": true,\n",
              "        \"minNumParts\": true,\n",
              "        \"minOccur\": true,\n",
              "        \"minPartSize\": true,\n",
              "        \"minSize\": true,\n",
              "        \"mset\": true,\n",
              "        \"numParts\": true,\n",
              "        \"of\": true,\n",
              "        \"partial\": true,\n",
              "        \"partition\": true,\n",
              "        \"partSize\": true,\n",
              "        \"preImage\": true,\n",
              "        \"quantifier\": true,\n",
              "        \"range\": true,\n",
              "        \"regular\": true,\n",
              "        \"relation\": true,\n",
              "        \"representation\": true,\n",
              "        \"set\": true,\n",
              "        \"size\": true,\n",
              "        \"subset\": true,\n",
              "        \"subsetEq\": true,\n",
              "        \"such\": true,\n",
              "        \"supset\": true,\n",
              "        \"supsetEq\": true,\n",
              "        \"surjective\": true,\n",
              "        \"that\": true,\n",
              "        \"together\": true,\n",
              "        \"enum\": true,\n",
              "        \"total\": true,\n",
              "        \"true\": true,\n",
              "        \"new\": true,\n",
              "        \"type\": true,\n",
              "        \"tuple\": true,\n",
              "        \"union\": true,\n",
              "        \"where\": true,\n",
              "        \"branching\": true,\n",
              "        \"on\": true\n",
              "    };  \n",
              "    var punc = \":;,.(){}[]\";\n",
              "\n",
              "    function tokenBase(stream, state) {\n",
              "        var ch = stream.next();\n",
              "        if (ch == '\"') {\n",
              "            state.tokenize.push(tokenString);\n",
              "            return tokenString(stream, state);\n",
              "        }\n",
              "        if (/[\\d\\.]/.test(ch)) {\n",
              "            if (ch == \".\") {\n",
              "                stream.match(/^[0-9]+([eE][\\-+]?[0-9]+)?/);\n",
              "            } else if (ch == \"0\") {\n",
              "                stream.match(/^[xX][0-9a-fA-F]+/) || stream.match(/^0[0-7]+/);\n",
              "            } else {\n",
              "                stream.match(/^[0-9]*\\.?[0-9]*([eE][\\-+]?[0-9]+)?/);\n",
              "            }\n",
              "            return \"number\";\n",
              "        }\n",
              "        if (ch == \"/\") {\n",
              "            if (stream.eat(\"*\")) {\n",
              "                state.tokenize.push(tokenComment);\n",
              "                return tokenComment(stream, state);\n",
              "            }\n",
              "        }\n",
              "        if (ch == \"$\") {\n",
              "            stream.skipToEnd();\n",
              "            return \"comment\";\n",
              "        }\n",
              "        if (isOperatorChar.test(ch)) {\n",
              "            stream.eatWhile(isOperatorChar);\n",
              "            return \"operator\";\n",
              "        }\n",
              "        if (punc.indexOf(ch) > -1) {\n",
              "            return \"punctuation\";\n",
              "        }\n",
              "        stream.eatWhile(/[\\w\\$_\\xa1-\\uffff]/);\n",
              "        var cur = stream.current();\n",
              "        \n",
              "        if (keywords.propertyIsEnumerable(cur)) {\n",
              "            return \"keyword\";\n",
              "        }\n",
              "        return \"variable\";\n",
              "    }\n",
              "\n",
              "    function tokenComment(stream, state) {\n",
              "        var maybeEnd = false, ch;\n",
              "        while (ch = stream.next()) {\n",
              "            if (ch == \"/\" && maybeEnd) {\n",
              "                state.tokenize.pop();\n",
              "                break;\n",
              "            }\n",
              "            maybeEnd = (ch == \"*\");\n",
              "        }\n",
              "        return \"comment\";\n",
              "    }\n",
              "\n",
              "    function tokenUntilClosingParen() {\n",
              "        var depth = 0;\n",
              "        return function (stream, state, prev) {\n",
              "            var inner = tokenBase(stream, state, prev);\n",
              "            console.log(\"untilClosing\", inner, stream.current());\n",
              "            if (inner == \"punctuation\") {\n",
              "                if (stream.current() == \"(\") {\n",
              "                    ++depth;\n",
              "                } else if (stream.current() == \")\") {\n",
              "                    if (depth == 0) {\n",
              "                        stream.backUp(1)\n",
              "                        state.tokenize.pop()\n",
              "                        return state.tokenize[state.tokenize.length - 1](stream, state)\n",
              "                    } else {\n",
              "                        --depth;\n",
              "                    }\n",
              "                }\n",
              "            }\n",
              "            return inner;\n",
              "        }\n",
              "    }\n",
              "\n",
              "    function tokenString(stream, state) {\n",
              "        var escaped = false, next, end = false;\n",
              "        while ((next = stream.next()) != null) {\n",
              "            if (next == '(' && escaped) {\n",
              "                state.tokenize.push(tokenUntilClosingParen());\n",
              "                return \"string\";\n",
              "            }\n",
              "            if (next == '\"' && !escaped) { end = true; break; }\n",
              "            escaped = !escaped && next == \"\\\\\";\n",
              "        }\n",
              "        if (end || !escaped)\n",
              "            state.tokenize.pop();\n",
              "        return \"string\";\n",
              "    }\n",
              "\n",
              "    return {\n",
              "        startState: function (basecolumn) {\n",
              "            return {\n",
              "                tokenize: []\n",
              "            };\n",
              "        },\n",
              "\n",
              "        token: function (stream, state) {\n",
              "            if (stream.eatSpace()) return null;\n",
              "            var style = (state.tokenize[state.tokenize.length - 1] || tokenBase)(stream, state);\n",
              "            console.log(\"token\", style);\n",
              "            return style;\n",
              "        },\n",
              "\n",
              "        blockCommentStart: \"/*\",\n",
              "        blockCommentEnd: \"*/\",\n",
              "        lineComment: \"$\"\n",
              "    };\n",
              "});\n",
              "\n",
              "\n",
              "CodeMirror.defineMIME(\"text/conjure\", \"text/conjure\");\n",
              "\n",
              "require(['notebook/js/codecell'], function (codecell) {\n",
              "    codecell.CodeCell.options_default.highlight_modes['magic_text/conjure'] = { 'reg': [/%?%conjure/] };\n",
              "    Jupyter.notebook.events.one('kernel_ready.Kernel', function () {\n",
              "        Jupyter.notebook.get_cells().map(function (cell) {\n",
              "            if (cell.cell_type == 'code') { cell.auto_highlight(); }\n",
              "        });\n",
              "    });\n",
              "});\n",
              "\n"
            ]
          },
          "metadata": {}
        },
        {
          "output_type": "stream",
          "name": "stdout",
          "text": [
            "Conjure extension is loaded.\n",
            "For usage help run: %conjure_help\n"
          ]
        }
      ],
      "source": [
        "!source <(curl -s https://raw.githubusercontent.com/conjure-cp/conjure-notebook/v0.0.8/scripts/install-colab.sh)\n",
        "%reload_ext conjure"
      ]
    },
    {
      "cell_type": "markdown",
      "source": [
        "apart: test if a list of elements are not all contained in one part of the partition"
      ],
      "metadata": {
        "id": "BQRIT0kSquc1"
      }
    },
    {
      "cell_type": "code",
      "source": [
        "%%conjure --number-of-solutions=all --solver=kissat\n",
        "letting P be partition({1,2},{3},{4,5,6})\n",
        "find a: bool such that a = apart({3,5},P)"
      ],
      "metadata": {
        "colab": {
          "base_uri": "https://localhost:8080/",
          "height": 34
        },
        "id": "jeb6NpsOquSH",
        "outputId": "72ad64c0-32b5-49a1-cca2-1d876c38bf98"
      },
      "execution_count": 8,
      "outputs": [
        {
          "output_type": "display_data",
          "data": {
            "text/plain": [
              "<IPython.core.display.Markdown object>"
            ],
            "text/markdown": "```json\n{\"a\": true}\n```"
          },
          "metadata": {}
        }
      ]
    },
    {
      "cell_type": "code",
      "source": [
        "%%conjure --number-of-solutions=all --solver=kissat\n",
        "letting P be partition({1,2},{3},{4,5,6})\n",
        "find a: bool such that a = apart({3,5},P)"
      ],
      "metadata": {
        "id": "xGT4iIO4qGN5"
      },
      "execution_count": null,
      "outputs": []
    },
    {
      "cell_type": "code",
      "source": [
        "%%conjure --number-of-solutions=all --solver=kissat\n",
        "letting P be partition({1,2},{3},{4,5,6})\n",
        "find a: bool such that a = apart({1,2},P)"
      ],
      "metadata": {
        "colab": {
          "base_uri": "https://localhost:8080/",
          "height": 34
        },
        "id": "XYLPwTbbqGL2",
        "outputId": "3294abd1-64c4-49cf-b58a-05f409275ba2"
      },
      "execution_count": 9,
      "outputs": [
        {
          "output_type": "display_data",
          "data": {
            "text/plain": [
              "<IPython.core.display.Markdown object>"
            ],
            "text/markdown": "```json\n{\"a\": false}\n```"
          },
          "metadata": {}
        }
      ]
    },
    {
      "cell_type": "markdown",
      "source": [
        "participants: union of all parts of a partition"
      ],
      "metadata": {
        "id": "iQT4RbYO3VP6"
      }
    },
    {
      "cell_type": "code",
      "source": [
        "%%conjure --number-of-solutions=all --solver=kissat\n",
        "letting P be partition({1,2},{3},{4,5,6})\n",
        "find b : set of int(1..6) such that b = participants(P)"
      ],
      "metadata": {
        "colab": {
          "base_uri": "https://localhost:8080/",
          "height": 34
        },
        "id": "jA-_fTS_qGJq",
        "outputId": "7e884b5e-db2e-4604-d389-25afe73e090b"
      },
      "execution_count": 10,
      "outputs": [
        {
          "output_type": "display_data",
          "data": {
            "text/plain": [
              "<IPython.core.display.Markdown object>"
            ],
            "text/markdown": "```json\n{\"b\": [1, 2, 3, 4, 5, 6]}\n```"
          },
          "metadata": {}
        }
      ]
    },
    {
      "cell_type": "code",
      "source": [
        "%%conjure --number-of-solutions=all --solver=kissat\n",
        "letting P be partition({1,2},{3},{4,5,6})\n",
        "find b : set of int(1..10) such that b = participants(P)"
      ],
      "metadata": {
        "colab": {
          "base_uri": "https://localhost:8080/",
          "height": 34
        },
        "id": "x-v7Wkbs3ksA",
        "outputId": "d315ac6d-807a-4524-bf2a-04a7c545102a"
      },
      "execution_count": 14,
      "outputs": [
        {
          "output_type": "display_data",
          "data": {
            "text/plain": [
              "<IPython.core.display.Markdown object>"
            ],
            "text/markdown": "```json\n{\"b\": [1, 2, 3, 4, 5, 6]}\n```"
          },
          "metadata": {}
        }
      ]
    },
    {
      "cell_type": "code",
      "source": [
        "%%conjure --number-of-solutions=all --solver=kissat\n",
        "letting P be partition({1,2},{3})\n",
        "find b : set of int(1..6) such that b = participants(P)"
      ],
      "metadata": {
        "colab": {
          "base_uri": "https://localhost:8080/",
          "height": 34
        },
        "id": "Ibd7iyIM3tx1",
        "outputId": "a3c19468-82f2-4064-d21e-9a2c5c287dc1"
      },
      "execution_count": 12,
      "outputs": [
        {
          "output_type": "display_data",
          "data": {
            "text/plain": [
              "<IPython.core.display.Markdown object>"
            ],
            "text/markdown": "```json\n{\"b\": [1, 2, 3]}\n```"
          },
          "metadata": {}
        }
      ]
    },
    {
      "cell_type": "markdown",
      "source": [
        "party: part of partition that contains specified element"
      ],
      "metadata": {
        "id": "kRVQ-awd3teG"
      }
    },
    {
      "cell_type": "code",
      "source": [
        "%%conjure --number-of-solutions=all --solver=kissat\n",
        "letting P be partition({1,2},{3},{4,5,6})\n",
        "find c : set of int(1..6) such that c = party(4,P)"
      ],
      "metadata": {
        "colab": {
          "base_uri": "https://localhost:8080/",
          "height": 34
        },
        "id": "OyENeGBAqGGE",
        "outputId": "fb8edbd4-a3b7-4ed3-e6d0-5d3b4b26ac48"
      },
      "execution_count": 17,
      "outputs": [
        {
          "output_type": "display_data",
          "data": {
            "text/plain": [
              "<IPython.core.display.Markdown object>"
            ],
            "text/markdown": "```json\n{\"c\": [4, 5, 6]}\n```"
          },
          "metadata": {}
        }
      ]
    },
    {
      "cell_type": "code",
      "source": [
        "%%conjure --number-of-solutions=all --solver=kissat\n",
        "letting P be partition({1,2},{3},{4,5,6})\n",
        "find c : set of int(1..6) such that c = party(2,P)"
      ],
      "metadata": {
        "colab": {
          "base_uri": "https://localhost:8080/",
          "height": 34
        },
        "id": "2Y9bdhAJ4xWa",
        "outputId": "c5377a13-8c6a-41c9-8955-dfeab7cf49a7"
      },
      "execution_count": 18,
      "outputs": [
        {
          "output_type": "display_data",
          "data": {
            "text/plain": [
              "<IPython.core.display.Markdown object>"
            ],
            "text/markdown": "```json\n{\"c\": [1, 2]}\n```"
          },
          "metadata": {}
        }
      ]
    },
    {
      "cell_type": "markdown",
      "source": [
        "parts: partition to its set of parts"
      ],
      "metadata": {
        "id": "Sw2m_BYr5mY2"
      }
    },
    {
      "cell_type": "code",
      "source": [
        "%%conjure --number-of-solutions=all --solver=kissat\n",
        "letting P be partition({1,2},{3},{4,5,6})\n",
        "find d : bool such that d = ({{1,2},{3},{4,5,6}} = parts(P))"
      ],
      "metadata": {
        "colab": {
          "base_uri": "https://localhost:8080/",
          "height": 34
        },
        "id": "jh-aG246qF4X",
        "outputId": "9a127e46-c1f2-4a70-f564-10bfdef8f9b9"
      },
      "execution_count": 19,
      "outputs": [
        {
          "output_type": "display_data",
          "data": {
            "text/plain": [
              "<IPython.core.display.Markdown object>"
            ],
            "text/markdown": "```json\n{\"d\": true}\n```"
          },
          "metadata": {}
        }
      ]
    },
    {
      "cell_type": "code",
      "source": [
        "%%conjure --number-of-solutions=all --solver=kissat\n",
        "letting P be partition({1,2},{3},{4,5,6})\n",
        "find d : bool such that d = ({{3},{4,5,6}} = parts(P))"
      ],
      "metadata": {
        "colab": {
          "base_uri": "https://localhost:8080/",
          "height": 34
        },
        "id": "iyOh_afYqFrA",
        "outputId": "65a22ddf-0273-4bd9-b849-f74ddd725afb"
      },
      "execution_count": 20,
      "outputs": [
        {
          "output_type": "display_data",
          "data": {
            "text/plain": [
              "<IPython.core.display.Markdown object>"
            ],
            "text/markdown": "```json\n{\"d\": false}\n```"
          },
          "metadata": {}
        }
      ]
    },
    {
      "cell_type": "code",
      "source": [
        "%%conjure --number-of-solutions=all --solver=kissat\n",
        "letting P be partition({1,2},{3},{4,5,6},{9})\n",
        "find d : bool such that d = ({{1,2},{3},{4,5,6},{9}} = parts(P))"
      ],
      "metadata": {
        "colab": {
          "base_uri": "https://localhost:8080/",
          "height": 34
        },
        "id": "sTZuEx_b6Vdh",
        "outputId": "93b4b3d1-1650-44a8-eb32-51f4caf88b0e"
      },
      "execution_count": 22,
      "outputs": [
        {
          "output_type": "display_data",
          "data": {
            "text/plain": [
              "<IPython.core.display.Markdown object>"
            ],
            "text/markdown": "```json\n{\"d\": true}\n```"
          },
          "metadata": {}
        }
      ]
    },
    {
      "cell_type": "markdown",
      "source": [
        "together: test if a list of elements are all in the same part of the partition"
      ],
      "metadata": {
        "id": "IU3aCAU76smL"
      }
    },
    {
      "cell_type": "code",
      "source": [
        "%%conjure --number-of-solutions=all --solver=kissat\n",
        "letting P be partition({1,2},{3},{4,5,6})\n",
        "find e : bool such that e = together({1,2},P)"
      ],
      "metadata": {
        "colab": {
          "base_uri": "https://localhost:8080/",
          "height": 34
        },
        "id": "TC1yqSW565Ie",
        "outputId": "1ec610fd-38a7-4888-f9b6-df68543a0231"
      },
      "execution_count": 24,
      "outputs": [
        {
          "output_type": "display_data",
          "data": {
            "text/plain": [
              "<IPython.core.display.Markdown object>"
            ],
            "text/markdown": "```json\n{\"e\": true}\n```"
          },
          "metadata": {}
        }
      ]
    },
    {
      "cell_type": "code",
      "source": [
        "%%conjure --number-of-solutions=all --solver=kissat\n",
        "letting P be partition({1,2},{3},{4,5,6})\n",
        "find e : bool such that e = together({1,6},P)"
      ],
      "metadata": {
        "colab": {
          "base_uri": "https://localhost:8080/",
          "height": 34
        },
        "id": "iw3SHa608Ujo",
        "outputId": "1557d994-1b79-4abf-dd07-b89fb138cebf"
      },
      "execution_count": 25,
      "outputs": [
        {
          "output_type": "display_data",
          "data": {
            "text/plain": [
              "<IPython.core.display.Markdown object>"
            ],
            "text/markdown": "```json\n{\"e\": false}\n```"
          },
          "metadata": {}
        }
      ]
    },
    {
      "cell_type": "code",
      "source": [
        "%%conjure --number-of-solutions=all --solver=kissat\n",
        "letting P be partition({1,2},{3},{4,5,6})\n",
        "find e : bool such that e = together({4,5,6},P)"
      ],
      "metadata": {
        "colab": {
          "base_uri": "https://localhost:8080/",
          "height": 34
        },
        "id": "uRoUvgpf6409",
        "outputId": "5d1a15f4-a287-41f9-afb8-01351a3431ba"
      },
      "execution_count": 26,
      "outputs": [
        {
          "output_type": "display_data",
          "data": {
            "text/plain": [
              "<IPython.core.display.Markdown object>"
            ],
            "text/markdown": "```json\n{\"e\": true}\n```"
          },
          "metadata": {}
        }
      ]
    }
  ]
}
