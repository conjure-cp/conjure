{
  "cells": [
    {
      "cell_type": "markdown",
      "metadata": {
        "colab_type": "text",
        "id": "view-in-github"
      },
      "source": [
        "<a href=\"https://colab.research.google.com/github/conjure-cp/conjure/blob/main/docs/notebooks/functionDemonstration.ipynb\" target=\"_parent\"><img src=\"https://colab.research.google.com/assets/colab-badge.svg\" alt=\"Open In Colab\"/></a>"
      ]
    },
    {
      "cell_type": "markdown",
      "metadata": {
        "id": "yJb1FZ0maDVX"
      },
      "source": [
        "# Function Domains Demonstrations"
      ]
    },
    {
      "cell_type": "code",
      "execution_count": null,
      "metadata": {
        "colab": {
          "base_uri": "https://localhost:8080/",
          "height": 139
        },
        "id": "LXXtCG_TAc82",
        "outputId": "96847a67-34c8-4678-e519-96cd5b9345e2"
      },
      "outputs": [
        {
          "name": "stdout",
          "output_type": "stream",
          "text": [
            "Installing Conjure version v2.5.0 and Conjure Notebook version v0.0.8...\n",
            "Downloading...\n",
            "Conjure: The Automated Constraint Modelling Tool\n",
            "Release version 2.5.0\n",
            "Repository version 41536c055 (2023-05-18 14:03:02 +0100)\n"
          ]
        },
        {
          "data": {
            "application/javascript": "\"use strict\";\n\nCodeMirror.defineMode(\"text/conjure\", function (config) {\n\n    var isOperatorChar = /[+\\-*=<>%^\\/]/;\n\n    var keywords = {\n        \"forall\": true,\n        \"allDifferent\": true,\n        \"allDiff\": true,\n        \"alldifferent_except\": true,\n        \"dim\": true,\n        \"toSet\": true,\n        \"toMSet\": true,\n        \"toRelation\": true,\n        \"maximising\": true,\n        \"minimising\": true,\n        \"forAll\": true,\n        \"exists\": true,\n        \"toInt\": true,\n        \"sum\": true,\n        \"be\": true,\n        \"bijective\": true,\n        \"bool\": true,\n        \"by\": true,\n        \"complete\": true,\n        \"defined\": true,\n        \"domain\": true,\n        \"in\": true,\n        \"or\": true,\n        \"and\": true,\n        \"false\": true,\n        \"find\": true,\n        \"from\": true,\n        \"function\": true,\n        \"given\": true,\n        \"image\": true,\n        \"indexed\": true,\n        \"injective\": true,\n        \"int\": true,\n        \"intersect\": true,\n        \"freq\": true,\n        \"lambda\": true,\n        \"language\": true,\n        \"letting\": true,\n        \"matrix\": true,\n        \"maxNumParts\": true,\n        \"maxOccur\": true,\n        \"maxPartSize\": true,\n        \"maxSize\": true,\n        \"minNumParts\": true,\n        \"minOccur\": true,\n        \"minPartSize\": true,\n        \"minSize\": true,\n        \"mset\": true,\n        \"numParts\": true,\n        \"of\": true,\n        \"partial\": true,\n        \"partition\": true,\n        \"partSize\": true,\n        \"preImage\": true,\n        \"quantifier\": true,\n        \"range\": true,\n        \"regular\": true,\n        \"relation\": true,\n        \"representation\": true,\n        \"set\": true,\n        \"size\": true,\n        \"subset\": true,\n        \"subsetEq\": true,\n        \"such\": true,\n        \"supset\": true,\n        \"supsetEq\": true,\n        \"surjective\": true,\n        \"that\": true,\n        \"together\": true,\n        \"enum\": true,\n        \"total\": true,\n        \"true\": true,\n        \"new\": true,\n        \"type\": true,\n        \"tuple\": true,\n        \"union\": true,\n        \"where\": true,\n        \"branching\": true,\n        \"on\": true\n    };  \n    var punc = \":;,.(){}[]\";\n\n    function tokenBase(stream, state) {\n        var ch = stream.next();\n        if (ch == '\"') {\n            state.tokenize.push(tokenString);\n            return tokenString(stream, state);\n        }\n        if (/[\\d\\.]/.test(ch)) {\n            if (ch == \".\") {\n                stream.match(/^[0-9]+([eE][\\-+]?[0-9]+)?/);\n            } else if (ch == \"0\") {\n                stream.match(/^[xX][0-9a-fA-F]+/) || stream.match(/^0[0-7]+/);\n            } else {\n                stream.match(/^[0-9]*\\.?[0-9]*([eE][\\-+]?[0-9]+)?/);\n            }\n            return \"number\";\n        }\n        if (ch == \"/\") {\n            if (stream.eat(\"*\")) {\n                state.tokenize.push(tokenComment);\n                return tokenComment(stream, state);\n            }\n        }\n        if (ch == \"$\") {\n            stream.skipToEnd();\n            return \"comment\";\n        }\n        if (isOperatorChar.test(ch)) {\n            stream.eatWhile(isOperatorChar);\n            return \"operator\";\n        }\n        if (punc.indexOf(ch) > -1) {\n            return \"punctuation\";\n        }\n        stream.eatWhile(/[\\w\\$_\\xa1-\\uffff]/);\n        var cur = stream.current();\n        \n        if (keywords.propertyIsEnumerable(cur)) {\n            return \"keyword\";\n        }\n        return \"variable\";\n    }\n\n    function tokenComment(stream, state) {\n        var maybeEnd = false, ch;\n        while (ch = stream.next()) {\n            if (ch == \"/\" && maybeEnd) {\n                state.tokenize.pop();\n                break;\n            }\n            maybeEnd = (ch == \"*\");\n        }\n        return \"comment\";\n    }\n\n    function tokenUntilClosingParen() {\n        var depth = 0;\n        return function (stream, state, prev) {\n            var inner = tokenBase(stream, state, prev);\n            console.log(\"untilClosing\", inner, stream.current());\n            if (inner == \"punctuation\") {\n                if (stream.current() == \"(\") {\n                    ++depth;\n                } else if (stream.current() == \")\") {\n                    if (depth == 0) {\n                        stream.backUp(1)\n                        state.tokenize.pop()\n                        return state.tokenize[state.tokenize.length - 1](stream, state)\n                    } else {\n                        --depth;\n                    }\n                }\n            }\n            return inner;\n        }\n    }\n\n    function tokenString(stream, state) {\n        var escaped = false, next, end = false;\n        while ((next = stream.next()) != null) {\n            if (next == '(' && escaped) {\n                state.tokenize.push(tokenUntilClosingParen());\n                return \"string\";\n            }\n            if (next == '\"' && !escaped) { end = true; break; }\n            escaped = !escaped && next == \"\\\\\";\n        }\n        if (end || !escaped)\n            state.tokenize.pop();\n        return \"string\";\n    }\n\n    return {\n        startState: function (basecolumn) {\n            return {\n                tokenize: []\n            };\n        },\n\n        token: function (stream, state) {\n            if (stream.eatSpace()) return null;\n            var style = (state.tokenize[state.tokenize.length - 1] || tokenBase)(stream, state);\n            console.log(\"token\", style);\n            return style;\n        },\n\n        blockCommentStart: \"/*\",\n        blockCommentEnd: \"*/\",\n        lineComment: \"$\"\n    };\n});\n\n\nCodeMirror.defineMIME(\"text/conjure\", \"text/conjure\");\n\nrequire(['notebook/js/codecell'], function (codecell) {\n    codecell.CodeCell.options_default.highlight_modes['magic_text/conjure'] = { 'reg': [/%?%conjure/] };\n    Jupyter.notebook.events.one('kernel_ready.Kernel', function () {\n        Jupyter.notebook.get_cells().map(function (cell) {\n            if (cell.cell_type == 'code') { cell.auto_highlight(); }\n        });\n    });\n});\n\n",
            "text/plain": [
              "<IPython.core.display.Javascript object>"
            ]
          },
          "metadata": {},
          "output_type": "display_data"
        },
        {
          "name": "stdout",
          "output_type": "stream",
          "text": [
            "Conjure extension is loaded.\n",
            "For usage help run: %conjure_help\n"
          ]
        }
      ],
      "source": [
        "!source <(curl -s https://raw.githubusercontent.com/conjure-cp/conjure-notebook/v0.0.8/scripts/install-colab.sh)\n",
        "%load_ext conjure"
      ]
    },
    {
      "cell_type": "markdown",
      "metadata": {
        "id": "eDfXxvyTB4QS"
      },
      "source": [
        "You can assign a function with no attributes, as below. This gives every possible combination (the power set of solutions)."
      ]
    },
    {
      "cell_type": "code",
      "execution_count": null,
      "metadata": {
        "colab": {
          "base_uri": "https://localhost:8080/",
          "height": 54
        },
        "id": "LwUJCuKHA1Xi",
        "outputId": "957187f1-ca26-4604-9521-7cafe55ad30f"
      },
      "outputs": [
        {
          "data": {
            "text/markdown": [
              "```json\n",
              "{\"conjure_solutions\": [{\"f\": {}}, {\"f\": {\"C\": 1}}, {\"f\": {\"C\": 2}}, {\"f\": {\"C\": 3}}, {\"f\": {\"B\": 1}}, {\"f\": {\"B\": 2}}, {\"f\": {\"B\": 3}}, {\"f\": {\"B\": 1, \"C\": 1}}, {\"f\": {\"B\": 1, \"C\": 2}}, {\"f\": {\"B\": 1, \"C\": 3}}, {\"f\": {\"B\": 2, \"C\": 1}}, {\"f\": {\"B\": 2, \"C\": 2}}, {\"f\": {\"B\": 2, \"C\": 3}}, {\"f\": {\"B\": 3, \"C\": 1}}, {\"f\": {\"B\": 3, \"C\": 2}}, {\"f\": {\"B\": 3, \"C\": 3}}, {\"f\": {\"A\": 1}}, {\"f\": {\"A\": 2}}, {\"f\": {\"A\": 3}}, {\"f\": {\"A\": 1, \"C\": 1}}, {\"f\": {\"A\": 1, \"C\": 2}}, {\"f\": {\"A\": 1, \"C\": 3}}, {\"f\": {\"A\": 2, \"C\": 1}}, {\"f\": {\"A\": 2, \"C\": 2}}, {\"f\": {\"A\": 2, \"C\": 3}}, {\"f\": {\"A\": 3, \"C\": 1}}, {\"f\": {\"A\": 3, \"C\": 2}}, {\"f\": {\"A\": 3, \"C\": 3}}, {\"f\": {\"A\": 1, \"B\": 1}}, {\"f\": {\"A\": 1, \"B\": 2}}, {\"f\": {\"A\": 1, \"B\": 3}}, {\"f\": {\"A\": 2, \"B\": 1}}, {\"f\": {\"A\": 2, \"B\": 2}}, {\"f\": {\"A\": 2, \"B\": 3}}, {\"f\": {\"A\": 3, \"B\": 1}}, {\"f\": {\"A\": 3, \"B\": 2}}, {\"f\": {\"A\": 3, \"B\": 3}}, {\"f\": {\"A\": 1, \"B\": 1, \"C\": 1}}, {\"f\": {\"A\": 1, \"B\": 1, \"C\": 2}}, {\"f\": {\"A\": 1, \"B\": 1, \"C\": 3}}, {\"f\": {\"A\": 1, \"B\": 2, \"C\": 1}}, {\"f\": {\"A\": 1, \"B\": 2, \"C\": 2}}, {\"f\": {\"A\": 1, \"B\": 2, \"C\": 3}}, {\"f\": {\"A\": 1, \"B\": 3, \"C\": 1}}, {\"f\": {\"A\": 1, \"B\": 3, \"C\": 2}}, {\"f\": {\"A\": 1, \"B\": 3, \"C\": 3}}, {\"f\": {\"A\": 2, \"B\": 1, \"C\": 1}}, {\"f\": {\"A\": 2, \"B\": 1, \"C\": 2}}, {\"f\": {\"A\": 2, \"B\": 1, \"C\": 3}}, {\"f\": {\"A\": 2, \"B\": 2, \"C\": 1}}, {\"f\": {\"A\": 2, \"B\": 2, \"C\": 2}}, {\"f\": {\"A\": 2, \"B\": 2, \"C\": 3}}, {\"f\": {\"A\": 2, \"B\": 3, \"C\": 1}}, {\"f\": {\"A\": 2, \"B\": 3, \"C\": 2}}, {\"f\": {\"A\": 2, \"B\": 3, \"C\": 3}}, {\"f\": {\"A\": 3, \"B\": 1, \"C\": 1}}, {\"f\": {\"A\": 3, \"B\": 1, \"C\": 2}}, {\"f\": {\"A\": 3, \"B\": 1, \"C\": 3}}, {\"f\": {\"A\": 3, \"B\": 2, \"C\": 1}}, {\"f\": {\"A\": 3, \"B\": 2, \"C\": 2}}, {\"f\": {\"A\": 3, \"B\": 2, \"C\": 3}}, {\"f\": {\"A\": 3, \"B\": 3, \"C\": 1}}, {\"f\": {\"A\": 3, \"B\": 3, \"C\": 2}}, {\"f\": {\"A\": 3, \"B\": 3, \"C\": 3}}]}\n",
              "```"
            ],
            "text/plain": [
              "<IPython.core.display.Markdown object>"
            ]
          },
          "metadata": {},
          "output_type": "display_data"
        }
      ],
      "source": [
        "%%conjure --number-of-solutions=all\n",
        "letting letters be new type enum {A, B, C}\n",
        "find f: function letters --> int (1..3)"
      ]
    },
    {
      "cell_type": "markdown",
      "metadata": {
        "id": "8K9l1r_PCnAD"
      },
      "source": [
        "The ```injective``` attribute means elements of the defined map uniquely to elements of the range."
      ]
    },
    {
      "cell_type": "code",
      "execution_count": null,
      "metadata": {
        "colab": {
          "base_uri": "https://localhost:8080/",
          "height": 54
        },
        "id": "pEBUYKmHCB77",
        "outputId": "f0d44114-a359-48c3-80eb-b25a98c930e6"
      },
      "outputs": [
        {
          "data": {
            "text/markdown": [
              "```json\n",
              "{\"conjure_solutions\": [{\"f\": {}}, {\"f\": {\"C\": 1}}, {\"f\": {\"C\": 2}}, {\"f\": {\"C\": 3}}, {\"f\": {\"B\": 1}}, {\"f\": {\"B\": 2}}, {\"f\": {\"B\": 3}}, {\"f\": {\"B\": 1, \"C\": 2}}, {\"f\": {\"B\": 1, \"C\": 3}}, {\"f\": {\"B\": 2, \"C\": 1}}, {\"f\": {\"B\": 2, \"C\": 3}}, {\"f\": {\"B\": 3, \"C\": 1}}, {\"f\": {\"B\": 3, \"C\": 2}}, {\"f\": {\"A\": 1}}, {\"f\": {\"A\": 2}}, {\"f\": {\"A\": 3}}, {\"f\": {\"A\": 1, \"C\": 2}}, {\"f\": {\"A\": 1, \"C\": 3}}, {\"f\": {\"A\": 2, \"C\": 1}}, {\"f\": {\"A\": 2, \"C\": 3}}, {\"f\": {\"A\": 3, \"C\": 1}}, {\"f\": {\"A\": 3, \"C\": 2}}, {\"f\": {\"A\": 1, \"B\": 2}}, {\"f\": {\"A\": 1, \"B\": 3}}, {\"f\": {\"A\": 2, \"B\": 1}}, {\"f\": {\"A\": 2, \"B\": 3}}, {\"f\": {\"A\": 3, \"B\": 1}}, {\"f\": {\"A\": 3, \"B\": 2}}, {\"f\": {\"A\": 1, \"B\": 2, \"C\": 3}}, {\"f\": {\"A\": 1, \"B\": 3, \"C\": 2}}, {\"f\": {\"A\": 2, \"B\": 1, \"C\": 3}}, {\"f\": {\"A\": 2, \"B\": 3, \"C\": 1}}, {\"f\": {\"A\": 3, \"B\": 1, \"C\": 2}}, {\"f\": {\"A\": 3, \"B\": 2, \"C\": 1}}]}\n",
              "```"
            ],
            "text/plain": [
              "<IPython.core.display.Markdown object>"
            ]
          },
          "metadata": {},
          "output_type": "display_data"
        }
      ],
      "source": [
        "%%conjure --number-of-solutions=all\n",
        "letting letters be new type enum {A, B, C}\n",
        "find f: function (injective) letters --> int (1..3)"
      ]
    },
    {
      "cell_type": "markdown",
      "metadata": {
        "id": "ANVgWTG-Vf_4"
      },
      "source": [
        "The ```surjective``` attribute means there is a mapping to every element of the range."
      ]
    },
    {
      "cell_type": "code",
      "execution_count": null,
      "metadata": {
        "colab": {
          "base_uri": "https://localhost:8080/",
          "height": 54
        },
        "id": "K4KWVr1CC_Nz",
        "outputId": "283b9f30-f20c-41f2-bed9-0d10f6d202e7"
      },
      "outputs": [
        {
          "data": {
            "text/markdown": [
              "```json\n",
              "{\"conjure_solutions\": [{\"f\": {\"A\": 1, \"B\": 2, \"C\": 3}}, {\"f\": {\"A\": 1, \"B\": 3, \"C\": 2}}, {\"f\": {\"A\": 2, \"B\": 1, \"C\": 3}}, {\"f\": {\"A\": 2, \"B\": 3, \"C\": 1}}, {\"f\": {\"A\": 3, \"B\": 1, \"C\": 2}}, {\"f\": {\"A\": 3, \"B\": 2, \"C\": 1}}]}\n",
              "```"
            ],
            "text/plain": [
              "<IPython.core.display.Markdown object>"
            ]
          },
          "metadata": {},
          "output_type": "display_data"
        }
      ],
      "source": [
        "%%conjure --number-of-solutions=all\n",
        "letting letters be new type enum {A, B, C}\n",
        "find f: function (surjective) letters --> int (1..3)"
      ]
    },
    {
      "cell_type": "markdown",
      "metadata": {
        "id": "RWNFwuWoC7pM"
      },
      "source": [
        "The ```bijective``` makes the definition unique both ways. As in every defined element maps to one range element and every range element has a defined element that maps to it. The function is both ```injective``` and ```surjective```."
      ]
    },
    {
      "cell_type": "code",
      "execution_count": null,
      "metadata": {
        "colab": {
          "base_uri": "https://localhost:8080/",
          "height": 54
        },
        "id": "OfT-MuABCqRb",
        "outputId": "ed9c078e-b29b-4864-97ec-041d40d0cb48"
      },
      "outputs": [
        {
          "data": {
            "text/markdown": [
              "```json\n",
              "{\"conjure_solutions\": [{\"f\": {\"A\": 1, \"B\": 2, \"C\": 3}}, {\"f\": {\"A\": 1, \"B\": 3, \"C\": 2}}, {\"f\": {\"A\": 2, \"B\": 1, \"C\": 3}}, {\"f\": {\"A\": 2, \"B\": 3, \"C\": 1}}, {\"f\": {\"A\": 3, \"B\": 1, \"C\": 2}}, {\"f\": {\"A\": 3, \"B\": 2, \"C\": 1}}]}\n",
              "```"
            ],
            "text/plain": [
              "<IPython.core.display.Markdown object>"
            ]
          },
          "metadata": {},
          "output_type": "display_data"
        }
      ],
      "source": [
        "%%conjure --number-of-solutions=all\n",
        "letting letters be new type enum {A, B, C}\n",
        "find f: function (bijective) letters --> int (1..3)"
      ]
    },
    {
      "cell_type": "markdown",
      "metadata": {
        "id": "Ey2x92DOV6kp"
      },
      "source": [
        "The ```size(n)``` attribute means there are ```n``` number of mappings in the function."
      ]
    },
    {
      "cell_type": "code",
      "execution_count": null,
      "metadata": {
        "colab": {
          "base_uri": "https://localhost:8080/",
          "height": 54
        },
        "id": "XzfL8zBnDnZl",
        "outputId": "6d81c7c2-1653-4736-c94c-b68ca6b28e3d"
      },
      "outputs": [
        {
          "data": {
            "text/markdown": [
              "```json\n",
              "{\"conjure_solutions\": [{\"f\": {\"B\": 1, \"C\": 1}}, {\"f\": {\"B\": 1, \"C\": 2}}, {\"f\": {\"B\": 1, \"C\": 3}}, {\"f\": {\"B\": 2, \"C\": 1}}, {\"f\": {\"B\": 2, \"C\": 2}}, {\"f\": {\"B\": 2, \"C\": 3}}, {\"f\": {\"B\": 3, \"C\": 1}}, {\"f\": {\"B\": 3, \"C\": 2}}, {\"f\": {\"B\": 3, \"C\": 3}}, {\"f\": {\"A\": 1, \"C\": 1}}, {\"f\": {\"A\": 1, \"C\": 2}}, {\"f\": {\"A\": 1, \"C\": 3}}, {\"f\": {\"A\": 2, \"C\": 1}}, {\"f\": {\"A\": 2, \"C\": 2}}, {\"f\": {\"A\": 2, \"C\": 3}}, {\"f\": {\"A\": 3, \"C\": 1}}, {\"f\": {\"A\": 3, \"C\": 2}}, {\"f\": {\"A\": 3, \"C\": 3}}, {\"f\": {\"A\": 1, \"B\": 1}}, {\"f\": {\"A\": 1, \"B\": 2}}, {\"f\": {\"A\": 1, \"B\": 3}}, {\"f\": {\"A\": 2, \"B\": 1}}, {\"f\": {\"A\": 2, \"B\": 2}}, {\"f\": {\"A\": 2, \"B\": 3}}, {\"f\": {\"A\": 3, \"B\": 1}}, {\"f\": {\"A\": 3, \"B\": 2}}, {\"f\": {\"A\": 3, \"B\": 3}}]}\n",
              "```"
            ],
            "text/plain": [
              "<IPython.core.display.Markdown object>"
            ]
          },
          "metadata": {},
          "output_type": "display_data"
        }
      ],
      "source": [
        "%%conjure --number-of-solutions=all\n",
        "letting letters be new type enum {A, B, C}\n",
        "find f: function (size(2)) letters --> int (1..3)"
      ]
    },
    {
      "cell_type": "markdown",
      "metadata": {
        "id": "aep2w82yWFFI"
      },
      "source": [
        "The ```minSize(n)``` attribute means there are at least ```n``` mappings in the function."
      ]
    },
    {
      "cell_type": "code",
      "execution_count": null,
      "metadata": {
        "colab": {
          "base_uri": "https://localhost:8080/",
          "height": 54
        },
        "id": "QpV9X_B1D8oV",
        "outputId": "5b3415a3-1834-44c9-e8ee-a39bbe01f082"
      },
      "outputs": [
        {
          "data": {
            "text/markdown": [
              "```json\n",
              "{\"conjure_solutions\": [{\"f\": {\"B\": 1, \"C\": 1}}, {\"f\": {\"B\": 1, \"C\": 2}}, {\"f\": {\"B\": 1, \"C\": 3}}, {\"f\": {\"B\": 2, \"C\": 1}}, {\"f\": {\"B\": 2, \"C\": 2}}, {\"f\": {\"B\": 2, \"C\": 3}}, {\"f\": {\"B\": 3, \"C\": 1}}, {\"f\": {\"B\": 3, \"C\": 2}}, {\"f\": {\"B\": 3, \"C\": 3}}, {\"f\": {\"A\": 1, \"C\": 1}}, {\"f\": {\"A\": 1, \"C\": 2}}, {\"f\": {\"A\": 1, \"C\": 3}}, {\"f\": {\"A\": 2, \"C\": 1}}, {\"f\": {\"A\": 2, \"C\": 2}}, {\"f\": {\"A\": 2, \"C\": 3}}, {\"f\": {\"A\": 3, \"C\": 1}}, {\"f\": {\"A\": 3, \"C\": 2}}, {\"f\": {\"A\": 3, \"C\": 3}}, {\"f\": {\"A\": 1, \"B\": 1}}, {\"f\": {\"A\": 1, \"B\": 2}}, {\"f\": {\"A\": 1, \"B\": 3}}, {\"f\": {\"A\": 2, \"B\": 1}}, {\"f\": {\"A\": 2, \"B\": 2}}, {\"f\": {\"A\": 2, \"B\": 3}}, {\"f\": {\"A\": 3, \"B\": 1}}, {\"f\": {\"A\": 3, \"B\": 2}}, {\"f\": {\"A\": 3, \"B\": 3}}, {\"f\": {\"A\": 1, \"B\": 1, \"C\": 1}}, {\"f\": {\"A\": 1, \"B\": 1, \"C\": 2}}, {\"f\": {\"A\": 1, \"B\": 1, \"C\": 3}}, {\"f\": {\"A\": 1, \"B\": 2, \"C\": 1}}, {\"f\": {\"A\": 1, \"B\": 2, \"C\": 2}}, {\"f\": {\"A\": 1, \"B\": 2, \"C\": 3}}, {\"f\": {\"A\": 1, \"B\": 3, \"C\": 1}}, {\"f\": {\"A\": 1, \"B\": 3, \"C\": 2}}, {\"f\": {\"A\": 1, \"B\": 3, \"C\": 3}}, {\"f\": {\"A\": 2, \"B\": 1, \"C\": 1}}, {\"f\": {\"A\": 2, \"B\": 1, \"C\": 2}}, {\"f\": {\"A\": 2, \"B\": 1, \"C\": 3}}, {\"f\": {\"A\": 2, \"B\": 2, \"C\": 1}}, {\"f\": {\"A\": 2, \"B\": 2, \"C\": 2}}, {\"f\": {\"A\": 2, \"B\": 2, \"C\": 3}}, {\"f\": {\"A\": 2, \"B\": 3, \"C\": 1}}, {\"f\": {\"A\": 2, \"B\": 3, \"C\": 2}}, {\"f\": {\"A\": 2, \"B\": 3, \"C\": 3}}, {\"f\": {\"A\": 3, \"B\": 1, \"C\": 1}}, {\"f\": {\"A\": 3, \"B\": 1, \"C\": 2}}, {\"f\": {\"A\": 3, \"B\": 1, \"C\": 3}}, {\"f\": {\"A\": 3, \"B\": 2, \"C\": 1}}, {\"f\": {\"A\": 3, \"B\": 2, \"C\": 2}}, {\"f\": {\"A\": 3, \"B\": 2, \"C\": 3}}, {\"f\": {\"A\": 3, \"B\": 3, \"C\": 1}}, {\"f\": {\"A\": 3, \"B\": 3, \"C\": 2}}, {\"f\": {\"A\": 3, \"B\": 3, \"C\": 3}}]}\n",
              "```"
            ],
            "text/plain": [
              "<IPython.core.display.Markdown object>"
            ]
          },
          "metadata": {},
          "output_type": "display_data"
        }
      ],
      "source": [
        "%%conjure --number-of-solutions=all\n",
        "letting letters be new type enum {A, B, C}\n",
        "find f: function (minSize(2)) letters --> int (1..3)"
      ]
    },
    {
      "cell_type": "markdown",
      "metadata": {
        "id": "Je6Oc9RdWJJ4"
      },
      "source": [
        "The ```maxSize(n)``` attribute means there are at most ```n``` mappings in the function."
      ]
    },
    {
      "cell_type": "code",
      "execution_count": null,
      "metadata": {
        "colab": {
          "base_uri": "https://localhost:8080/",
          "height": 54
        },
        "id": "BvNsmmVTEDpl",
        "outputId": "0f36e733-7541-419a-afc9-4e4b1fda2ba7"
      },
      "outputs": [
        {
          "data": {
            "text/markdown": [
              "```json\n",
              "{\"conjure_solutions\": [{\"f\": {}}, {\"f\": {\"C\": 1}}, {\"f\": {\"C\": 2}}, {\"f\": {\"C\": 3}}, {\"f\": {\"B\": 1}}, {\"f\": {\"B\": 2}}, {\"f\": {\"B\": 3}}, {\"f\": {\"B\": 1, \"C\": 1}}, {\"f\": {\"B\": 1, \"C\": 2}}, {\"f\": {\"B\": 1, \"C\": 3}}, {\"f\": {\"B\": 2, \"C\": 1}}, {\"f\": {\"B\": 2, \"C\": 2}}, {\"f\": {\"B\": 2, \"C\": 3}}, {\"f\": {\"B\": 3, \"C\": 1}}, {\"f\": {\"B\": 3, \"C\": 2}}, {\"f\": {\"B\": 3, \"C\": 3}}, {\"f\": {\"A\": 1}}, {\"f\": {\"A\": 2}}, {\"f\": {\"A\": 3}}, {\"f\": {\"A\": 1, \"C\": 1}}, {\"f\": {\"A\": 1, \"C\": 2}}, {\"f\": {\"A\": 1, \"C\": 3}}, {\"f\": {\"A\": 2, \"C\": 1}}, {\"f\": {\"A\": 2, \"C\": 2}}, {\"f\": {\"A\": 2, \"C\": 3}}, {\"f\": {\"A\": 3, \"C\": 1}}, {\"f\": {\"A\": 3, \"C\": 2}}, {\"f\": {\"A\": 3, \"C\": 3}}, {\"f\": {\"A\": 1, \"B\": 1}}, {\"f\": {\"A\": 1, \"B\": 2}}, {\"f\": {\"A\": 1, \"B\": 3}}, {\"f\": {\"A\": 2, \"B\": 1}}, {\"f\": {\"A\": 2, \"B\": 2}}, {\"f\": {\"A\": 2, \"B\": 3}}, {\"f\": {\"A\": 3, \"B\": 1}}, {\"f\": {\"A\": 3, \"B\": 2}}, {\"f\": {\"A\": 3, \"B\": 3}}]}\n",
              "```"
            ],
            "text/plain": [
              "<IPython.core.display.Markdown object>"
            ]
          },
          "metadata": {},
          "output_type": "display_data"
        }
      ],
      "source": [
        "%%conjure --number-of-solutions=all\n",
        "letting letters be new type enum {A, B, C}\n",
        "find f: function (maxSize(2)) letters --> int (1..3)"
      ]
    },
    {
      "cell_type": "markdown",
      "metadata": {
        "id": "9dHSikBaWV7I"
      },
      "source": [
        "The ```total``` attribute means that there is a mapping for every element in the defined set."
      ]
    },
    {
      "cell_type": "code",
      "execution_count": null,
      "metadata": {
        "colab": {
          "base_uri": "https://localhost:8080/",
          "height": 54
        },
        "id": "T_YgYjAFEKkV",
        "outputId": "cacfc785-7818-4833-bd5c-15d059c47f64"
      },
      "outputs": [
        {
          "data": {
            "text/markdown": [
              "```json\n",
              "{\"conjure_solutions\": [{\"f\": {\"A\": 1, \"B\": 1, \"C\": 1}}, {\"f\": {\"A\": 1, \"B\": 1, \"C\": 2}}, {\"f\": {\"A\": 1, \"B\": 1, \"C\": 3}}, {\"f\": {\"A\": 1, \"B\": 2, \"C\": 1}}, {\"f\": {\"A\": 1, \"B\": 2, \"C\": 2}}, {\"f\": {\"A\": 1, \"B\": 2, \"C\": 3}}, {\"f\": {\"A\": 1, \"B\": 3, \"C\": 1}}, {\"f\": {\"A\": 1, \"B\": 3, \"C\": 2}}, {\"f\": {\"A\": 1, \"B\": 3, \"C\": 3}}, {\"f\": {\"A\": 2, \"B\": 1, \"C\": 1}}, {\"f\": {\"A\": 2, \"B\": 1, \"C\": 2}}, {\"f\": {\"A\": 2, \"B\": 1, \"C\": 3}}, {\"f\": {\"A\": 2, \"B\": 2, \"C\": 1}}, {\"f\": {\"A\": 2, \"B\": 2, \"C\": 2}}, {\"f\": {\"A\": 2, \"B\": 2, \"C\": 3}}, {\"f\": {\"A\": 2, \"B\": 3, \"C\": 1}}, {\"f\": {\"A\": 2, \"B\": 3, \"C\": 2}}, {\"f\": {\"A\": 2, \"B\": 3, \"C\": 3}}, {\"f\": {\"A\": 3, \"B\": 1, \"C\": 1}}, {\"f\": {\"A\": 3, \"B\": 1, \"C\": 2}}, {\"f\": {\"A\": 3, \"B\": 1, \"C\": 3}}, {\"f\": {\"A\": 3, \"B\": 2, \"C\": 1}}, {\"f\": {\"A\": 3, \"B\": 2, \"C\": 2}}, {\"f\": {\"A\": 3, \"B\": 2, \"C\": 3}}, {\"f\": {\"A\": 3, \"B\": 3, \"C\": 1}}, {\"f\": {\"A\": 3, \"B\": 3, \"C\": 2}}, {\"f\": {\"A\": 3, \"B\": 3, \"C\": 3}}]}\n",
              "```"
            ],
            "text/plain": [
              "<IPython.core.display.Markdown object>"
            ]
          },
          "metadata": {},
          "output_type": "display_data"
        }
      ],
      "source": [
        "%%conjure --number-of-solutions=all\n",
        "letting letters be new type enum {A, B, C}\n",
        "find f: function (total) letters --> int (1..3)"
      ]
    },
    {
      "cell_type": "markdown",
      "metadata": {
        "id": "IRnQdT4sWcBY"
      },
      "source": [
        "You can define the function to have multiple attributes."
      ]
    },
    {
      "cell_type": "code",
      "execution_count": null,
      "metadata": {
        "colab": {
          "base_uri": "https://localhost:8080/",
          "height": 54
        },
        "id": "IpJi8lVhERbl",
        "outputId": "82528d5e-0cc7-467a-cc8c-277d3ad2ab78"
      },
      "outputs": [
        {
          "data": {
            "text/markdown": [
              "```json\n",
              "{\"conjure_solutions\": [{\"f\": {\"B\": 1, \"C\": 2}}, {\"f\": {\"B\": 1, \"C\": 3}}, {\"f\": {\"B\": 2, \"C\": 1}}, {\"f\": {\"B\": 2, \"C\": 3}}, {\"f\": {\"B\": 3, \"C\": 1}}, {\"f\": {\"B\": 3, \"C\": 2}}, {\"f\": {\"A\": 1, \"C\": 2}}, {\"f\": {\"A\": 1, \"C\": 3}}, {\"f\": {\"A\": 2, \"C\": 1}}, {\"f\": {\"A\": 2, \"C\": 3}}, {\"f\": {\"A\": 3, \"C\": 1}}, {\"f\": {\"A\": 3, \"C\": 2}}, {\"f\": {\"A\": 1, \"B\": 2}}, {\"f\": {\"A\": 1, \"B\": 3}}, {\"f\": {\"A\": 2, \"B\": 1}}, {\"f\": {\"A\": 2, \"B\": 3}}, {\"f\": {\"A\": 3, \"B\": 1}}, {\"f\": {\"A\": 3, \"B\": 2}}, {\"f\": {\"A\": 1, \"B\": 2, \"C\": 3}}, {\"f\": {\"A\": 1, \"B\": 3, \"C\": 2}}, {\"f\": {\"A\": 2, \"B\": 1, \"C\": 3}}, {\"f\": {\"A\": 2, \"B\": 3, \"C\": 1}}, {\"f\": {\"A\": 3, \"B\": 1, \"C\": 2}}, {\"f\": {\"A\": 3, \"B\": 2, \"C\": 1}}]}\n",
              "```"
            ],
            "text/plain": [
              "<IPython.core.display.Markdown object>"
            ]
          },
          "metadata": {},
          "output_type": "display_data"
        }
      ],
      "source": [
        "%%conjure --number-of-solutions=all\n",
        "letting letters be new type enum {A, B, C}\n",
        "find f: function (injective, minSize(2)) letters --> int (1..3)"
      ]
    },
    {
      "cell_type": "markdown",
      "metadata": {
        "id": "D_ObHMeeXiAi"
      },
      "source": [
        "You can define a function explicitly too, using input --> value  pairs."
      ]
    },
    {
      "cell_type": "code",
      "execution_count": null,
      "metadata": {
        "colab": {
          "base_uri": "https://localhost:8080/",
          "height": 34
        },
        "id": "JJ8d_g2oWm0p",
        "outputId": "2019a1cc-8279-4d6a-9b47-c3370c4f5434"
      },
      "outputs": [
        {
          "data": {
            "text/markdown": [
              "```json\n",
              "{}\n",
              "```"
            ],
            "text/plain": [
              "<IPython.core.display.Markdown object>"
            ]
          },
          "metadata": {},
          "output_type": "display_data"
        }
      ],
      "source": [
        "%%conjure --number-of-solutions=all --solver=minion\n",
        "letting f be function(0-->1, 1-->0)\n"
      ]
    }
  ],
  "metadata": {
    "colab": {
      "provenance": []
    },
    "kernelspec": {
      "display_name": "Python 3",
      "name": "python3"
    },
    "language_info": {
      "name": "python"
    }
  },
  "nbformat": 4,
  "nbformat_minor": 0
}
