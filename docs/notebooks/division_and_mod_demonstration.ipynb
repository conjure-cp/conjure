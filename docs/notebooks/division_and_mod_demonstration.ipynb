{
  "nbformat": 4,
  "nbformat_minor": 0,
  "metadata": {
    "colab": {
      "provenance": [],
      "include_colab_link": true
    },
    "kernelspec": {
      "name": "python3",
      "display_name": "Python 3"
    },
    "language_info": {
      "name": "python"
    }
  },
  "cells": [
    {
      "cell_type": "markdown",
      "metadata": {
        "id": "view-in-github",
        "colab_type": "text"
      },
      "source": [
        "<a href=\"https://colab.research.google.com/github/conjure-cp/conjure/docs/notebooks/division_and_mod_demonstration.ipynb\" target=\"_parent\"><img src=\"https://colab.research.google.com/assets/colab-badge.svg\" alt=\"Open In Colab\"/></a>"
      ]
    },
    {
      "cell_type": "markdown",
      "source": [
        "#Division and Mod Demonstration"
      ],
      "metadata": {
        "id": "lXgnuThVh9Gv"
      }
    },
    {
      "cell_type": "code",
      "source": [
        "!source <(curl -s https://raw.githubusercontent.com/conjure-cp/conjure-notebook/v0.0.8/scripts/install-colab.sh)\n",
        "%load_ext conjure"
      ],
      "metadata": {
        "colab": {
          "base_uri": "https://localhost:8080/",
          "height": 156
        },
        "id": "qrA8mhVNtXCw",
        "outputId": "2452b88c-61c6-4f34-a15b-618d7887ad9d"
      },
      "execution_count": null,
      "outputs": [
        {
          "output_type": "stream",
          "name": "stdout",
          "text": [
            "Installing Conjure version v2.5.0 and Conjure Notebook version v0.0.8...\n",
            "Conjure is already installed.\n",
            "Conjure notebook is already installed.\n",
            "Conjure: The Automated Constraint Modelling Tool\n",
            "Release version 2.5.0\n",
            "Repository version 41536c055 (2023-05-18 14:03:02 +0100)\n"
          ]
        },
        {
          "output_type": "display_data",
          "data": {
            "text/plain": [
              "<IPython.core.display.Javascript object>"
            ],
            "application/javascript": [
              "\"use strict\";\n",
              "\n",
              "CodeMirror.defineMode(\"text/conjure\", function (config) {\n",
              "\n",
              "    var isOperatorChar = /[+\\-*=<>%^\\/]/;\n",
              "\n",
              "    var keywords = {\n",
              "        \"forall\": true,\n",
              "        \"allDifferent\": true,\n",
              "        \"allDiff\": true,\n",
              "        \"alldifferent_except\": true,\n",
              "        \"dim\": true,\n",
              "        \"toSet\": true,\n",
              "        \"toMSet\": true,\n",
              "        \"toRelation\": true,\n",
              "        \"maximising\": true,\n",
              "        \"minimising\": true,\n",
              "        \"forAll\": true,\n",
              "        \"exists\": true,\n",
              "        \"toInt\": true,\n",
              "        \"sum\": true,\n",
              "        \"be\": true,\n",
              "        \"bijective\": true,\n",
              "        \"bool\": true,\n",
              "        \"by\": true,\n",
              "        \"complete\": true,\n",
              "        \"defined\": true,\n",
              "        \"domain\": true,\n",
              "        \"in\": true,\n",
              "        \"or\": true,\n",
              "        \"and\": true,\n",
              "        \"false\": true,\n",
              "        \"find\": true,\n",
              "        \"from\": true,\n",
              "        \"function\": true,\n",
              "        \"given\": true,\n",
              "        \"image\": true,\n",
              "        \"indexed\": true,\n",
              "        \"injective\": true,\n",
              "        \"int\": true,\n",
              "        \"intersect\": true,\n",
              "        \"freq\": true,\n",
              "        \"lambda\": true,\n",
              "        \"language\": true,\n",
              "        \"letting\": true,\n",
              "        \"matrix\": true,\n",
              "        \"maxNumParts\": true,\n",
              "        \"maxOccur\": true,\n",
              "        \"maxPartSize\": true,\n",
              "        \"maxSize\": true,\n",
              "        \"minNumParts\": true,\n",
              "        \"minOccur\": true,\n",
              "        \"minPartSize\": true,\n",
              "        \"minSize\": true,\n",
              "        \"mset\": true,\n",
              "        \"numParts\": true,\n",
              "        \"of\": true,\n",
              "        \"partial\": true,\n",
              "        \"partition\": true,\n",
              "        \"partSize\": true,\n",
              "        \"preImage\": true,\n",
              "        \"quantifier\": true,\n",
              "        \"range\": true,\n",
              "        \"regular\": true,\n",
              "        \"relation\": true,\n",
              "        \"representation\": true,\n",
              "        \"set\": true,\n",
              "        \"size\": true,\n",
              "        \"subset\": true,\n",
              "        \"subsetEq\": true,\n",
              "        \"such\": true,\n",
              "        \"supset\": true,\n",
              "        \"supsetEq\": true,\n",
              "        \"surjective\": true,\n",
              "        \"that\": true,\n",
              "        \"together\": true,\n",
              "        \"enum\": true,\n",
              "        \"total\": true,\n",
              "        \"true\": true,\n",
              "        \"new\": true,\n",
              "        \"type\": true,\n",
              "        \"tuple\": true,\n",
              "        \"union\": true,\n",
              "        \"where\": true,\n",
              "        \"branching\": true,\n",
              "        \"on\": true\n",
              "    };  \n",
              "    var punc = \":;,.(){}[]\";\n",
              "\n",
              "    function tokenBase(stream, state) {\n",
              "        var ch = stream.next();\n",
              "        if (ch == '\"') {\n",
              "            state.tokenize.push(tokenString);\n",
              "            return tokenString(stream, state);\n",
              "        }\n",
              "        if (/[\\d\\.]/.test(ch)) {\n",
              "            if (ch == \".\") {\n",
              "                stream.match(/^[0-9]+([eE][\\-+]?[0-9]+)?/);\n",
              "            } else if (ch == \"0\") {\n",
              "                stream.match(/^[xX][0-9a-fA-F]+/) || stream.match(/^0[0-7]+/);\n",
              "            } else {\n",
              "                stream.match(/^[0-9]*\\.?[0-9]*([eE][\\-+]?[0-9]+)?/);\n",
              "            }\n",
              "            return \"number\";\n",
              "        }\n",
              "        if (ch == \"/\") {\n",
              "            if (stream.eat(\"*\")) {\n",
              "                state.tokenize.push(tokenComment);\n",
              "                return tokenComment(stream, state);\n",
              "            }\n",
              "        }\n",
              "        if (ch == \"$\") {\n",
              "            stream.skipToEnd();\n",
              "            return \"comment\";\n",
              "        }\n",
              "        if (isOperatorChar.test(ch)) {\n",
              "            stream.eatWhile(isOperatorChar);\n",
              "            return \"operator\";\n",
              "        }\n",
              "        if (punc.indexOf(ch) > -1) {\n",
              "            return \"punctuation\";\n",
              "        }\n",
              "        stream.eatWhile(/[\\w\\$_\\xa1-\\uffff]/);\n",
              "        var cur = stream.current();\n",
              "        \n",
              "        if (keywords.propertyIsEnumerable(cur)) {\n",
              "            return \"keyword\";\n",
              "        }\n",
              "        return \"variable\";\n",
              "    }\n",
              "\n",
              "    function tokenComment(stream, state) {\n",
              "        var maybeEnd = false, ch;\n",
              "        while (ch = stream.next()) {\n",
              "            if (ch == \"/\" && maybeEnd) {\n",
              "                state.tokenize.pop();\n",
              "                break;\n",
              "            }\n",
              "            maybeEnd = (ch == \"*\");\n",
              "        }\n",
              "        return \"comment\";\n",
              "    }\n",
              "\n",
              "    function tokenUntilClosingParen() {\n",
              "        var depth = 0;\n",
              "        return function (stream, state, prev) {\n",
              "            var inner = tokenBase(stream, state, prev);\n",
              "            console.log(\"untilClosing\", inner, stream.current());\n",
              "            if (inner == \"punctuation\") {\n",
              "                if (stream.current() == \"(\") {\n",
              "                    ++depth;\n",
              "                } else if (stream.current() == \")\") {\n",
              "                    if (depth == 0) {\n",
              "                        stream.backUp(1)\n",
              "                        state.tokenize.pop()\n",
              "                        return state.tokenize[state.tokenize.length - 1](stream, state)\n",
              "                    } else {\n",
              "                        --depth;\n",
              "                    }\n",
              "                }\n",
              "            }\n",
              "            return inner;\n",
              "        }\n",
              "    }\n",
              "\n",
              "    function tokenString(stream, state) {\n",
              "        var escaped = false, next, end = false;\n",
              "        while ((next = stream.next()) != null) {\n",
              "            if (next == '(' && escaped) {\n",
              "                state.tokenize.push(tokenUntilClosingParen());\n",
              "                return \"string\";\n",
              "            }\n",
              "            if (next == '\"' && !escaped) { end = true; break; }\n",
              "            escaped = !escaped && next == \"\\\\\";\n",
              "        }\n",
              "        if (end || !escaped)\n",
              "            state.tokenize.pop();\n",
              "        return \"string\";\n",
              "    }\n",
              "\n",
              "    return {\n",
              "        startState: function (basecolumn) {\n",
              "            return {\n",
              "                tokenize: []\n",
              "            };\n",
              "        },\n",
              "\n",
              "        token: function (stream, state) {\n",
              "            if (stream.eatSpace()) return null;\n",
              "            var style = (state.tokenize[state.tokenize.length - 1] || tokenBase)(stream, state);\n",
              "            console.log(\"token\", style);\n",
              "            return style;\n",
              "        },\n",
              "\n",
              "        blockCommentStart: \"/*\",\n",
              "        blockCommentEnd: \"*/\",\n",
              "        lineComment: \"$\"\n",
              "    };\n",
              "});\n",
              "\n",
              "\n",
              "CodeMirror.defineMIME(\"text/conjure\", \"text/conjure\");\n",
              "\n",
              "require(['notebook/js/codecell'], function (codecell) {\n",
              "    codecell.CodeCell.options_default.highlight_modes['magic_text/conjure'] = { 'reg': [/%?%conjure/] };\n",
              "    Jupyter.notebook.events.one('kernel_ready.Kernel', function () {\n",
              "        Jupyter.notebook.get_cells().map(function (cell) {\n",
              "            if (cell.cell_type == 'code') { cell.auto_highlight(); }\n",
              "        });\n",
              "    });\n",
              "});\n",
              "\n"
            ]
          },
          "metadata": {}
        },
        {
          "output_type": "stream",
          "name": "stdout",
          "text": [
            "Conjure extension is loaded.\n",
            "For usage help run: %conjure_help\n"
          ]
        }
      ]
    },
    {
      "cell_type": "markdown",
      "source": [
        "This shows that the / operator will tend to round down using -5 <= x, y <= 5 as an example"
      ],
      "metadata": {
        "id": "oF-0P-yiiLv9"
      }
    },
    {
      "cell_type": "code",
      "source": [
        "%%conjure --number-of-solutions=all\n",
        "find x, y, z: int(-5..5) such that (x / y) = z\n",
        "\n",
        "\n",
        "\n",
        "\n",
        "\n",
        "\n",
        "\n"
      ],
      "metadata": {
        "colab": {
          "base_uri": "https://localhost:8080/",
          "height": 54
        },
        "id": "IvGYS8ZYoiek",
        "outputId": "4383424b-5fab-43ab-9a1f-1585f0280153"
      },
      "execution_count": null,
      "outputs": [
        {
          "output_type": "display_data",
          "data": {
            "text/plain": [
              "<IPython.core.display.Markdown object>"
            ],
            "text/markdown": "```json\n{\"conjure_solutions\": [{\"x\": -5, \"y\": -5, \"z\": 1}, {\"x\": -5, \"y\": -4, \"z\": 1}, {\"x\": -5, \"y\": -3, \"z\": 1}, {\"x\": -5, \"y\": -2, \"z\": 2}, {\"x\": -5, \"y\": -1, \"z\": 5}, {\"x\": -5, \"y\": 1, \"z\": -5}, {\"x\": -5, \"y\": 2, \"z\": -3}, {\"x\": -5, \"y\": 3, \"z\": -2}, {\"x\": -5, \"y\": 4, \"z\": -2}, {\"x\": -5, \"y\": 5, \"z\": -1}, {\"x\": -4, \"y\": -5, \"z\": 0}, {\"x\": -4, \"y\": -4, \"z\": 1}, {\"x\": -4, \"y\": -3, \"z\": 1}, {\"x\": -4, \"y\": -2, \"z\": 2}, {\"x\": -4, \"y\": -1, \"z\": 4}, {\"x\": -4, \"y\": 1, \"z\": -4}, {\"x\": -4, \"y\": 2, \"z\": -2}, {\"x\": -4, \"y\": 3, \"z\": -2}, {\"x\": -4, \"y\": 4, \"z\": -1}, {\"x\": -4, \"y\": 5, \"z\": -1}, {\"x\": -3, \"y\": -5, \"z\": 0}, {\"x\": -3, \"y\": -4, \"z\": 0}, {\"x\": -3, \"y\": -3, \"z\": 1}, {\"x\": -3, \"y\": -2, \"z\": 1}, {\"x\": -3, \"y\": -1, \"z\": 3}, {\"x\": -3, \"y\": 1, \"z\": -3}, {\"x\": -3, \"y\": 2, \"z\": -2}, {\"x\": -3, \"y\": 3, \"z\": -1}, {\"x\": -3, \"y\": 4, \"z\": -1}, {\"x\": -3, \"y\": 5, \"z\": -1}, {\"x\": -2, \"y\": -5, \"z\": 0}, {\"x\": -2, \"y\": -4, \"z\": 0}, {\"x\": -2, \"y\": -3, \"z\": 0}, {\"x\": -2, \"y\": -2, \"z\": 1}, {\"x\": -2, \"y\": -1, \"z\": 2}, {\"x\": -2, \"y\": 1, \"z\": -2}, {\"x\": -2, \"y\": 2, \"z\": -1}, {\"x\": -2, \"y\": 3, \"z\": -1}, {\"x\": -2, \"y\": 4, \"z\": -1}, {\"x\": -2, \"y\": 5, \"z\": -1}, {\"x\": -1, \"y\": -5, \"z\": 0}, {\"x\": -1, \"y\": -4, \"z\": 0}, {\"x\": -1, \"y\": -3, \"z\": 0}, {\"x\": -1, \"y\": -2, \"z\": 0}, {\"x\": -1, \"y\": -1, \"z\": 1}, {\"x\": -1, \"y\": 1, \"z\": -1}, {\"x\": -1, \"y\": 2, \"z\": -1}, {\"x\": -1, \"y\": 3, \"z\": -1}, {\"x\": -1, \"y\": 4, \"z\": -1}, {\"x\": -1, \"y\": 5, \"z\": -1}, {\"x\": 0, \"y\": -5, \"z\": 0}, {\"x\": 0, \"y\": -4, \"z\": 0}, {\"x\": 0, \"y\": -3, \"z\": 0}, {\"x\": 0, \"y\": -2, \"z\": 0}, {\"x\": 0, \"y\": -1, \"z\": 0}, {\"x\": 0, \"y\": 1, \"z\": 0}, {\"x\": 0, \"y\": 2, \"z\": 0}, {\"x\": 0, \"y\": 3, \"z\": 0}, {\"x\": 0, \"y\": 4, \"z\": 0}, {\"x\": 0, \"y\": 5, \"z\": 0}, {\"x\": 1, \"y\": -5, \"z\": -1}, {\"x\": 1, \"y\": -4, \"z\": -1}, {\"x\": 1, \"y\": -3, \"z\": -1}, {\"x\": 1, \"y\": -2, \"z\": -1}, {\"x\": 1, \"y\": -1, \"z\": -1}, {\"x\": 1, \"y\": 1, \"z\": 1}, {\"x\": 1, \"y\": 2, \"z\": 0}, {\"x\": 1, \"y\": 3, \"z\": 0}, {\"x\": 1, \"y\": 4, \"z\": 0}, {\"x\": 1, \"y\": 5, \"z\": 0}, {\"x\": 2, \"y\": -5, \"z\": -1}, {\"x\": 2, \"y\": -4, \"z\": -1}, {\"x\": 2, \"y\": -3, \"z\": -1}, {\"x\": 2, \"y\": -2, \"z\": -1}, {\"x\": 2, \"y\": -1, \"z\": -2}, {\"x\": 2, \"y\": 1, \"z\": 2}, {\"x\": 2, \"y\": 2, \"z\": 1}, {\"x\": 2, \"y\": 3, \"z\": 0}, {\"x\": 2, \"y\": 4, \"z\": 0}, {\"x\": 2, \"y\": 5, \"z\": 0}, {\"x\": 3, \"y\": -5, \"z\": -1}, {\"x\": 3, \"y\": -4, \"z\": -1}, {\"x\": 3, \"y\": -3, \"z\": -1}, {\"x\": 3, \"y\": -2, \"z\": -2}, {\"x\": 3, \"y\": -1, \"z\": -3}, {\"x\": 3, \"y\": 1, \"z\": 3}, {\"x\": 3, \"y\": 2, \"z\": 1}, {\"x\": 3, \"y\": 3, \"z\": 1}, {\"x\": 3, \"y\": 4, \"z\": 0}, {\"x\": 3, \"y\": 5, \"z\": 0}, {\"x\": 4, \"y\": -5, \"z\": -1}, {\"x\": 4, \"y\": -4, \"z\": -1}, {\"x\": 4, \"y\": -3, \"z\": -2}, {\"x\": 4, \"y\": -2, \"z\": -2}, {\"x\": 4, \"y\": -1, \"z\": -4}, {\"x\": 4, \"y\": 1, \"z\": 4}, {\"x\": 4, \"y\": 2, \"z\": 2}, {\"x\": 4, \"y\": 3, \"z\": 1}, {\"x\": 4, \"y\": 4, \"z\": 1}, {\"x\": 4, \"y\": 5, \"z\": 0}, {\"x\": 5, \"y\": -5, \"z\": -1}, {\"x\": 5, \"y\": -4, \"z\": -2}, {\"x\": 5, \"y\": -3, \"z\": -2}, {\"x\": 5, \"y\": -2, \"z\": -3}, {\"x\": 5, \"y\": -1, \"z\": -5}, {\"x\": 5, \"y\": 1, \"z\": 5}, {\"x\": 5, \"y\": 2, \"z\": 2}, {\"x\": 5, \"y\": 3, \"z\": 1}, {\"x\": 5, \"y\": 4, \"z\": 1}, {\"x\": 5, \"y\": 5, \"z\": 1}]}\n```"
          },
          "metadata": {}
        }
      ]
    },
    {
      "cell_type": "markdown",
      "source": [
        "The results to x % y are harder to predict once you start to use negative values"
      ],
      "metadata": {
        "id": "k_Sd_jLdja0E"
      }
    },
    {
      "cell_type": "code",
      "source": [
        "%%conjure --number-of-solutions=all\n",
        "find x, y, z : int(-5..5) such that (x % y) = z"
      ],
      "metadata": {
        "colab": {
          "base_uri": "https://localhost:8080/",
          "height": 54
        },
        "id": "g8peGg7ainZl",
        "outputId": "740046fe-367b-4cac-ce59-4532ed460afb"
      },
      "execution_count": null,
      "outputs": [
        {
          "output_type": "display_data",
          "data": {
            "text/plain": [
              "<IPython.core.display.Markdown object>"
            ],
            "text/markdown": "```json\n{\"conjure_solutions\": [{\"x\": -5, \"y\": -5, \"z\": 0}, {\"x\": -5, \"y\": -4, \"z\": -1}, {\"x\": -5, \"y\": -3, \"z\": -2}, {\"x\": -5, \"y\": -2, \"z\": -1}, {\"x\": -5, \"y\": -1, \"z\": 0}, {\"x\": -5, \"y\": 1, \"z\": 0}, {\"x\": -5, \"y\": 2, \"z\": 1}, {\"x\": -5, \"y\": 3, \"z\": 1}, {\"x\": -5, \"y\": 4, \"z\": 3}, {\"x\": -5, \"y\": 5, \"z\": 0}, {\"x\": -4, \"y\": -5, \"z\": -4}, {\"x\": -4, \"y\": -4, \"z\": 0}, {\"x\": -4, \"y\": -3, \"z\": -1}, {\"x\": -4, \"y\": -2, \"z\": 0}, {\"x\": -4, \"y\": -1, \"z\": 0}, {\"x\": -4, \"y\": 1, \"z\": 0}, {\"x\": -4, \"y\": 2, \"z\": 0}, {\"x\": -4, \"y\": 3, \"z\": 2}, {\"x\": -4, \"y\": 4, \"z\": 0}, {\"x\": -4, \"y\": 5, \"z\": 1}, {\"x\": -3, \"y\": -5, \"z\": -3}, {\"x\": -3, \"y\": -4, \"z\": -3}, {\"x\": -3, \"y\": -3, \"z\": 0}, {\"x\": -3, \"y\": -2, \"z\": -1}, {\"x\": -3, \"y\": -1, \"z\": 0}, {\"x\": -3, \"y\": 1, \"z\": 0}, {\"x\": -3, \"y\": 2, \"z\": 1}, {\"x\": -3, \"y\": 3, \"z\": 0}, {\"x\": -3, \"y\": 4, \"z\": 1}, {\"x\": -3, \"y\": 5, \"z\": 2}, {\"x\": -2, \"y\": -5, \"z\": -2}, {\"x\": -2, \"y\": -4, \"z\": -2}, {\"x\": -2, \"y\": -3, \"z\": -2}, {\"x\": -2, \"y\": -2, \"z\": 0}, {\"x\": -2, \"y\": -1, \"z\": 0}, {\"x\": -2, \"y\": 1, \"z\": 0}, {\"x\": -2, \"y\": 2, \"z\": 0}, {\"x\": -2, \"y\": 3, \"z\": 1}, {\"x\": -2, \"y\": 4, \"z\": 2}, {\"x\": -2, \"y\": 5, \"z\": 3}, {\"x\": -1, \"y\": -5, \"z\": -1}, {\"x\": -1, \"y\": -4, \"z\": -1}, {\"x\": -1, \"y\": -3, \"z\": -1}, {\"x\": -1, \"y\": -2, \"z\": -1}, {\"x\": -1, \"y\": -1, \"z\": 0}, {\"x\": -1, \"y\": 1, \"z\": 0}, {\"x\": -1, \"y\": 2, \"z\": 1}, {\"x\": -1, \"y\": 3, \"z\": 2}, {\"x\": -1, \"y\": 4, \"z\": 3}, {\"x\": -1, \"y\": 5, \"z\": 4}, {\"x\": 0, \"y\": -5, \"z\": 0}, {\"x\": 0, \"y\": -4, \"z\": 0}, {\"x\": 0, \"y\": -3, \"z\": 0}, {\"x\": 0, \"y\": -2, \"z\": 0}, {\"x\": 0, \"y\": -1, \"z\": 0}, {\"x\": 0, \"y\": 1, \"z\": 0}, {\"x\": 0, \"y\": 2, \"z\": 0}, {\"x\": 0, \"y\": 3, \"z\": 0}, {\"x\": 0, \"y\": 4, \"z\": 0}, {\"x\": 0, \"y\": 5, \"z\": 0}, {\"x\": 1, \"y\": -5, \"z\": -4}, {\"x\": 1, \"y\": -4, \"z\": -3}, {\"x\": 1, \"y\": -3, \"z\": -2}, {\"x\": 1, \"y\": -2, \"z\": -1}, {\"x\": 1, \"y\": -1, \"z\": 0}, {\"x\": 1, \"y\": 1, \"z\": 0}, {\"x\": 1, \"y\": 2, \"z\": 1}, {\"x\": 1, \"y\": 3, \"z\": 1}, {\"x\": 1, \"y\": 4, \"z\": 1}, {\"x\": 1, \"y\": 5, \"z\": 1}, {\"x\": 2, \"y\": -5, \"z\": -3}, {\"x\": 2, \"y\": -4, \"z\": -2}, {\"x\": 2, \"y\": -3, \"z\": -1}, {\"x\": 2, \"y\": -2, \"z\": 0}, {\"x\": 2, \"y\": -1, \"z\": 0}, {\"x\": 2, \"y\": 1, \"z\": 0}, {\"x\": 2, \"y\": 2, \"z\": 0}, {\"x\": 2, \"y\": 3, \"z\": 2}, {\"x\": 2, \"y\": 4, \"z\": 2}, {\"x\": 2, \"y\": 5, \"z\": 2}, {\"x\": 3, \"y\": -5, \"z\": -2}, {\"x\": 3, \"y\": -4, \"z\": -1}, {\"x\": 3, \"y\": -3, \"z\": 0}, {\"x\": 3, \"y\": -2, \"z\": -1}, {\"x\": 3, \"y\": -1, \"z\": 0}, {\"x\": 3, \"y\": 1, \"z\": 0}, {\"x\": 3, \"y\": 2, \"z\": 1}, {\"x\": 3, \"y\": 3, \"z\": 0}, {\"x\": 3, \"y\": 4, \"z\": 3}, {\"x\": 3, \"y\": 5, \"z\": 3}, {\"x\": 4, \"y\": -5, \"z\": -1}, {\"x\": 4, \"y\": -4, \"z\": 0}, {\"x\": 4, \"y\": -3, \"z\": -2}, {\"x\": 4, \"y\": -2, \"z\": 0}, {\"x\": 4, \"y\": -1, \"z\": 0}, {\"x\": 4, \"y\": 1, \"z\": 0}, {\"x\": 4, \"y\": 2, \"z\": 0}, {\"x\": 4, \"y\": 3, \"z\": 1}, {\"x\": 4, \"y\": 4, \"z\": 0}, {\"x\": 4, \"y\": 5, \"z\": 4}, {\"x\": 5, \"y\": -5, \"z\": 0}, {\"x\": 5, \"y\": -4, \"z\": -3}, {\"x\": 5, \"y\": -3, \"z\": -1}, {\"x\": 5, \"y\": -2, \"z\": -1}, {\"x\": 5, \"y\": -1, \"z\": 0}, {\"x\": 5, \"y\": 1, \"z\": 0}, {\"x\": 5, \"y\": 2, \"z\": 1}, {\"x\": 5, \"y\": 3, \"z\": 2}, {\"x\": 5, \"y\": 4, \"z\": 1}, {\"x\": 5, \"y\": 5, \"z\": 0}]}\n```"
          },
          "metadata": {}
        }
      ]
    },
    {
      "cell_type": "markdown",
      "source": [
        "This is to ensure\n",
        "```\n",
        "(x % y) + y * (x / y) = x``` holds"
      ],
      "metadata": {
        "id": "7URyPeT_jmg2"
      }
    },
    {
      "cell_type": "code",
      "source": [
        "%%conjure --number-of-solutions=all\n",
        "find x, y, a, b : int(-5..5) such that a = (x % y) /\\ b = (x / y) /\\ a + y * b = x"
      ],
      "metadata": {
        "colab": {
          "base_uri": "https://localhost:8080/",
          "height": 54
        },
        "id": "EIr4l-BCj1cd",
        "outputId": "f4153189-8c2c-4f6f-9584-00bd33bc313f"
      },
      "execution_count": null,
      "outputs": [
        {
          "output_type": "display_data",
          "data": {
            "text/plain": [
              "<IPython.core.display.Markdown object>"
            ],
            "text/markdown": "```json\n{\"conjure_solutions\": [{\"a\": 0, \"b\": 1, \"x\": -5, \"y\": -5}, {\"a\": -1, \"b\": 1, \"x\": -5, \"y\": -4}, {\"a\": -2, \"b\": 1, \"x\": -5, \"y\": -3}, {\"a\": -1, \"b\": 2, \"x\": -5, \"y\": -2}, {\"a\": 0, \"b\": 5, \"x\": -5, \"y\": -1}, {\"a\": 0, \"b\": -5, \"x\": -5, \"y\": 1}, {\"a\": 1, \"b\": -3, \"x\": -5, \"y\": 2}, {\"a\": 1, \"b\": -2, \"x\": -5, \"y\": 3}, {\"a\": 3, \"b\": -2, \"x\": -5, \"y\": 4}, {\"a\": 0, \"b\": -1, \"x\": -5, \"y\": 5}, {\"a\": -4, \"b\": 0, \"x\": -4, \"y\": -5}, {\"a\": 0, \"b\": 1, \"x\": -4, \"y\": -4}, {\"a\": -1, \"b\": 1, \"x\": -4, \"y\": -3}, {\"a\": 0, \"b\": 2, \"x\": -4, \"y\": -2}, {\"a\": 0, \"b\": 4, \"x\": -4, \"y\": -1}, {\"a\": 0, \"b\": -4, \"x\": -4, \"y\": 1}, {\"a\": 0, \"b\": -2, \"x\": -4, \"y\": 2}, {\"a\": 2, \"b\": -2, \"x\": -4, \"y\": 3}, {\"a\": 0, \"b\": -1, \"x\": -4, \"y\": 4}, {\"a\": 1, \"b\": -1, \"x\": -4, \"y\": 5}, {\"a\": -3, \"b\": 0, \"x\": -3, \"y\": -5}, {\"a\": -3, \"b\": 0, \"x\": -3, \"y\": -4}, {\"a\": 0, \"b\": 1, \"x\": -3, \"y\": -3}, {\"a\": -1, \"b\": 1, \"x\": -3, \"y\": -2}, {\"a\": 0, \"b\": 3, \"x\": -3, \"y\": -1}, {\"a\": 0, \"b\": -3, \"x\": -3, \"y\": 1}, {\"a\": 1, \"b\": -2, \"x\": -3, \"y\": 2}, {\"a\": 0, \"b\": -1, \"x\": -3, \"y\": 3}, {\"a\": 1, \"b\": -1, \"x\": -3, \"y\": 4}, {\"a\": 2, \"b\": -1, \"x\": -3, \"y\": 5}, {\"a\": -2, \"b\": 0, \"x\": -2, \"y\": -5}, {\"a\": -2, \"b\": 0, \"x\": -2, \"y\": -4}, {\"a\": -2, \"b\": 0, \"x\": -2, \"y\": -3}, {\"a\": 0, \"b\": 1, \"x\": -2, \"y\": -2}, {\"a\": 0, \"b\": 2, \"x\": -2, \"y\": -1}, {\"a\": 0, \"b\": -2, \"x\": -2, \"y\": 1}, {\"a\": 0, \"b\": -1, \"x\": -2, \"y\": 2}, {\"a\": 1, \"b\": -1, \"x\": -2, \"y\": 3}, {\"a\": 2, \"b\": -1, \"x\": -2, \"y\": 4}, {\"a\": 3, \"b\": -1, \"x\": -2, \"y\": 5}, {\"a\": -1, \"b\": 0, \"x\": -1, \"y\": -5}, {\"a\": -1, \"b\": 0, \"x\": -1, \"y\": -4}, {\"a\": -1, \"b\": 0, \"x\": -1, \"y\": -3}, {\"a\": -1, \"b\": 0, \"x\": -1, \"y\": -2}, {\"a\": 0, \"b\": 1, \"x\": -1, \"y\": -1}, {\"a\": 0, \"b\": -1, \"x\": -1, \"y\": 1}, {\"a\": 1, \"b\": -1, \"x\": -1, \"y\": 2}, {\"a\": 2, \"b\": -1, \"x\": -1, \"y\": 3}, {\"a\": 3, \"b\": -1, \"x\": -1, \"y\": 4}, {\"a\": 4, \"b\": -1, \"x\": -1, \"y\": 5}, {\"a\": 0, \"b\": 0, \"x\": 0, \"y\": -5}, {\"a\": 0, \"b\": 0, \"x\": 0, \"y\": -4}, {\"a\": 0, \"b\": 0, \"x\": 0, \"y\": -3}, {\"a\": 0, \"b\": 0, \"x\": 0, \"y\": -2}, {\"a\": 0, \"b\": 0, \"x\": 0, \"y\": -1}, {\"a\": 0, \"b\": 0, \"x\": 0, \"y\": 1}, {\"a\": 0, \"b\": 0, \"x\": 0, \"y\": 2}, {\"a\": 0, \"b\": 0, \"x\": 0, \"y\": 3}, {\"a\": 0, \"b\": 0, \"x\": 0, \"y\": 4}, {\"a\": 0, \"b\": 0, \"x\": 0, \"y\": 5}, {\"a\": -4, \"b\": -1, \"x\": 1, \"y\": -5}, {\"a\": -3, \"b\": -1, \"x\": 1, \"y\": -4}, {\"a\": -2, \"b\": -1, \"x\": 1, \"y\": -3}, {\"a\": -1, \"b\": -1, \"x\": 1, \"y\": -2}, {\"a\": 0, \"b\": -1, \"x\": 1, \"y\": -1}, {\"a\": 0, \"b\": 1, \"x\": 1, \"y\": 1}, {\"a\": 1, \"b\": 0, \"x\": 1, \"y\": 2}, {\"a\": 1, \"b\": 0, \"x\": 1, \"y\": 3}, {\"a\": 1, \"b\": 0, \"x\": 1, \"y\": 4}, {\"a\": 1, \"b\": 0, \"x\": 1, \"y\": 5}, {\"a\": -3, \"b\": -1, \"x\": 2, \"y\": -5}, {\"a\": -2, \"b\": -1, \"x\": 2, \"y\": -4}, {\"a\": -1, \"b\": -1, \"x\": 2, \"y\": -3}, {\"a\": 0, \"b\": -1, \"x\": 2, \"y\": -2}, {\"a\": 0, \"b\": -2, \"x\": 2, \"y\": -1}, {\"a\": 0, \"b\": 2, \"x\": 2, \"y\": 1}, {\"a\": 0, \"b\": 1, \"x\": 2, \"y\": 2}, {\"a\": 2, \"b\": 0, \"x\": 2, \"y\": 3}, {\"a\": 2, \"b\": 0, \"x\": 2, \"y\": 4}, {\"a\": 2, \"b\": 0, \"x\": 2, \"y\": 5}, {\"a\": -2, \"b\": -1, \"x\": 3, \"y\": -5}, {\"a\": -1, \"b\": -1, \"x\": 3, \"y\": -4}, {\"a\": 0, \"b\": -1, \"x\": 3, \"y\": -3}, {\"a\": -1, \"b\": -2, \"x\": 3, \"y\": -2}, {\"a\": 0, \"b\": -3, \"x\": 3, \"y\": -1}, {\"a\": 0, \"b\": 3, \"x\": 3, \"y\": 1}, {\"a\": 1, \"b\": 1, \"x\": 3, \"y\": 2}, {\"a\": 0, \"b\": 1, \"x\": 3, \"y\": 3}, {\"a\": 3, \"b\": 0, \"x\": 3, \"y\": 4}, {\"a\": 3, \"b\": 0, \"x\": 3, \"y\": 5}, {\"a\": -1, \"b\": -1, \"x\": 4, \"y\": -5}, {\"a\": 0, \"b\": -1, \"x\": 4, \"y\": -4}, {\"a\": -2, \"b\": -2, \"x\": 4, \"y\": -3}, {\"a\": 0, \"b\": -2, \"x\": 4, \"y\": -2}, {\"a\": 0, \"b\": -4, \"x\": 4, \"y\": -1}, {\"a\": 0, \"b\": 4, \"x\": 4, \"y\": 1}, {\"a\": 0, \"b\": 2, \"x\": 4, \"y\": 2}, {\"a\": 1, \"b\": 1, \"x\": 4, \"y\": 3}, {\"a\": 0, \"b\": 1, \"x\": 4, \"y\": 4}, {\"a\": 4, \"b\": 0, \"x\": 4, \"y\": 5}, {\"a\": 0, \"b\": -1, \"x\": 5, \"y\": -5}, {\"a\": -3, \"b\": -2, \"x\": 5, \"y\": -4}, {\"a\": -1, \"b\": -2, \"x\": 5, \"y\": -3}, {\"a\": -1, \"b\": -3, \"x\": 5, \"y\": -2}, {\"a\": 0, \"b\": -5, \"x\": 5, \"y\": -1}, {\"a\": 0, \"b\": 5, \"x\": 5, \"y\": 1}, {\"a\": 1, \"b\": 2, \"x\": 5, \"y\": 2}, {\"a\": 2, \"b\": 1, \"x\": 5, \"y\": 3}, {\"a\": 1, \"b\": 1, \"x\": 5, \"y\": 4}, {\"a\": 0, \"b\": 1, \"x\": 5, \"y\": 5}]}\n```"
          },
          "metadata": {}
        }
      ]
    }
  ]
}
