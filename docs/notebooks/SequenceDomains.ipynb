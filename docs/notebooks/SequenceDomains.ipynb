{
  "cells": [
    {
      "cell_type": "markdown",
      "metadata": {},
      "source": [
        "<a href=\"https://colab.research.google.com/github/conjure-cp/conjure/blob/main/docs/notebooks/SequenceDomains.ipynb\" target=\"_parent\"><img src=\"https://colab.research.google.com/assets/colab-badge.svg\" alt=\"Open In Colab\"/></a>"
      ]
    },
    {
      "cell_type": "markdown",
      "metadata": {
        "id": "QdzknvgFjJpM"
      },
      "source": [
        "## Sequence"
      ]
    },
    {
      "cell_type": "code",
      "execution_count": 1,
      "metadata": {
        "colab": {
          "base_uri": "https://localhost:8080/",
          "height": 150
        },
        "id": "nBQDiwTSbPNq",
        "outputId": "c18fe8fd-0fe6-43a6-c5c0-d6f4789612f6"
      },
      "outputs": [
        {
          "name": "stdout",
          "output_type": "stream",
          "text": [
            "Installing Conjure version v2.5.1 and Conjure Notebook version v0.0.10...\n",
            "Conjure is already installed.\n",
            "Conjure notebook is already installed.\n",
            "Conjure: The Automated Constraint Modelling Tool\n",
            "Release version 2.5.1\n",
            "Repository version a9cbc2e (2023-11-07 23:44:00 +0000)\n"
          ]
        },
        {
          "data": {
            "application/javascript": "\"use strict\";\n\nCodeMirror.defineMode(\"text/conjure\", function (config) {\n\n    var isOperatorChar = /[+\\-*=<>%^\\/]/;\n\n    var keywords = {\n        \"forall\": true,\n        \"allDifferent\": true,\n        \"allDiff\": true,\n        \"alldifferent_except\": true,\n        \"dim\": true,\n        \"toSet\": true,\n        \"toMSet\": true,\n        \"toRelation\": true,\n        \"maximising\": true,\n        \"minimising\": true,\n        \"forAll\": true,\n        \"exists\": true,\n        \"toInt\": true,\n        \"sum\": true,\n        \"be\": true,\n        \"bijective\": true,\n        \"bool\": true,\n        \"by\": true,\n        \"complete\": true,\n        \"defined\": true,\n        \"domain\": true,\n        \"in\": true,\n        \"or\": true,\n        \"and\": true,\n        \"false\": true,\n        \"find\": true,\n        \"from\": true,\n        \"function\": true,\n        \"given\": true,\n        \"image\": true,\n        \"indexed\": true,\n        \"injective\": true,\n        \"int\": true,\n        \"intersect\": true,\n        \"freq\": true,\n        \"lambda\": true,\n        \"language\": true,\n        \"letting\": true,\n        \"matrix\": true,\n        \"maxNumParts\": true,\n        \"maxOccur\": true,\n        \"maxPartSize\": true,\n        \"maxSize\": true,\n        \"minNumParts\": true,\n        \"minOccur\": true,\n        \"minPartSize\": true,\n        \"minSize\": true,\n        \"mset\": true,\n        \"numParts\": true,\n        \"of\": true,\n        \"partial\": true,\n        \"partition\": true,\n        \"partSize\": true,\n        \"preImage\": true,\n        \"quantifier\": true,\n        \"range\": true,\n        \"regular\": true,\n        \"relation\": true,\n        \"representation\": true,\n        \"set\": true,\n        \"size\": true,\n        \"subset\": true,\n        \"subsetEq\": true,\n        \"such\": true,\n        \"supset\": true,\n        \"supsetEq\": true,\n        \"surjective\": true,\n        \"that\": true,\n        \"together\": true,\n        \"enum\": true,\n        \"total\": true,\n        \"true\": true,\n        \"new\": true,\n        \"type\": true,\n        \"tuple\": true,\n        \"union\": true,\n        \"where\": true,\n        \"branching\": true,\n        \"on\": true\n    };  \n    var punc = \":;,.(){}[]\";\n\n    function tokenBase(stream, state) {\n        var ch = stream.next();\n        if (ch == '\"') {\n            state.tokenize.push(tokenString);\n            return tokenString(stream, state);\n        }\n        if (/[\\d\\.]/.test(ch)) {\n            if (ch == \".\") {\n                stream.match(/^[0-9]+([eE][\\-+]?[0-9]+)?/);\n            } else if (ch == \"0\") {\n                stream.match(/^[xX][0-9a-fA-F]+/) || stream.match(/^0[0-7]+/);\n            } else {\n                stream.match(/^[0-9]*\\.?[0-9]*([eE][\\-+]?[0-9]+)?/);\n            }\n            return \"number\";\n        }\n        if (ch == \"/\") {\n            if (stream.eat(\"*\")) {\n                state.tokenize.push(tokenComment);\n                return tokenComment(stream, state);\n            }\n        }\n        if (ch == \"$\") {\n            stream.skipToEnd();\n            return \"comment\";\n        }\n        if (isOperatorChar.test(ch)) {\n            stream.eatWhile(isOperatorChar);\n            return \"operator\";\n        }\n        if (punc.indexOf(ch) > -1) {\n            return \"punctuation\";\n        }\n        stream.eatWhile(/[\\w\\$_\\xa1-\\uffff]/);\n        var cur = stream.current();\n        \n        if (keywords.propertyIsEnumerable(cur)) {\n            return \"keyword\";\n        }\n        return \"variable\";\n    }\n\n    function tokenComment(stream, state) {\n        var maybeEnd = false, ch;\n        while (ch = stream.next()) {\n            if (ch == \"/\" && maybeEnd) {\n                state.tokenize.pop();\n                break;\n            }\n            maybeEnd = (ch == \"*\");\n        }\n        return \"comment\";\n    }\n\n    function tokenUntilClosingParen() {\n        var depth = 0;\n        return function (stream, state, prev) {\n            var inner = tokenBase(stream, state, prev);\n            console.log(\"untilClosing\", inner, stream.current());\n            if (inner == \"punctuation\") {\n                if (stream.current() == \"(\") {\n                    ++depth;\n                } else if (stream.current() == \")\") {\n                    if (depth == 0) {\n                        stream.backUp(1)\n                        state.tokenize.pop()\n                        return state.tokenize[state.tokenize.length - 1](stream, state)\n                    } else {\n                        --depth;\n                    }\n                }\n            }\n            return inner;\n        }\n    }\n\n    function tokenString(stream, state) {\n        var escaped = false, next, end = false;\n        while ((next = stream.next()) != null) {\n            if (next == '(' && escaped) {\n                state.tokenize.push(tokenUntilClosingParen());\n                return \"string\";\n            }\n            if (next == '\"' && !escaped) { end = true; break; }\n            escaped = !escaped && next == \"\\\\\";\n        }\n        if (end || !escaped)\n            state.tokenize.pop();\n        return \"string\";\n    }\n\n    return {\n        startState: function (basecolumn) {\n            return {\n                tokenize: []\n            };\n        },\n\n        token: function (stream, state) {\n            if (stream.eatSpace()) return null;\n            var style = (state.tokenize[state.tokenize.length - 1] || tokenBase)(stream, state);\n            console.log(\"token\", style);\n            return style;\n        },\n\n        blockCommentStart: \"/*\",\n        blockCommentEnd: \"*/\",\n        lineComment: \"$\"\n    };\n});\n\n\nCodeMirror.defineMIME(\"text/conjure\", \"text/conjure\");\n\nrequire(['notebook/js/codecell'], function (codecell) {\n    codecell.CodeCell.options_default.highlight_modes['magic_text/conjure'] = { 'reg': [/%?%conjure/] };\n    Jupyter.notebook.events.one('kernel_ready.Kernel', function () {\n        Jupyter.notebook.get_cells().map(function (cell) {\n            if (cell.cell_type == 'code') { cell.auto_highlight(); }\n        });\n    });\n});\n\n",
            "text/plain": [
              "<IPython.core.display.Javascript object>"
            ]
          },
          "metadata": {},
          "output_type": "display_data"
        },
        {
          "data": {
            "text/markdown": [
              "Conjure extension is loaded - run `%conjure_help`"
            ],
            "text/plain": [
              "<IPython.core.display.Markdown object>"
            ]
          },
          "metadata": {},
          "output_type": "display_data"
        }
      ],
      "source": [
        "!source <(curl -s https://raw.githubusercontent.com/conjure-cp/conjure-notebook/v0.0.10/scripts/install-colab.sh)\n",
        "%load_ext conjure"
      ]
    },
    {
      "cell_type": "markdown",
      "metadata": {
        "id": "tkHT-L6JjWhe"
      },
      "source": [
        "Can explicitly define sequences as:"
      ]
    },
    {
      "cell_type": "code",
      "execution_count": 2,
      "metadata": {
        "colab": {
          "base_uri": "https://localhost:8080/",
          "height": 317
        },
        "id": "FD6FyexFjnVm",
        "outputId": "b323f8b6-e41e-44bd-b224-62eab13d79b3"
      },
      "outputs": [
        {
          "data": {
            "text/markdown": [
              "```json\n",
              "{}\n",
              "```"
            ],
            "text/plain": [
              "<IPython.core.display.Markdown object>"
            ]
          },
          "metadata": {},
          "output_type": "display_data"
        },
        {
          "data": {
            "text/markdown": [
              "| Statistic | Value |\n",
              "|:-|-:|\n",
              "| SolverTotalTime | 0.000 |\n",
              "| SavileRowClauseOut | 0 |\n",
              "| SavileRowTotalTime | 0.065 |\n",
              "| SolverFailures | 0 |\n",
              "| SolverSatisfiable | 1 |\n",
              "| SavileRowTimeOut | 0 |\n",
              "| SolverTimeOut | 0 |\n",
              "| SolverNodes | 1 |\n"
            ],
            "text/plain": [
              "<IPython.core.display.Markdown object>"
            ]
          },
          "metadata": {},
          "output_type": "display_data"
        }
      ],
      "source": [
        "%%conjure\n",
        "letting x be sequence()"
      ]
    },
    {
      "cell_type": "code",
      "execution_count": 3,
      "metadata": {
        "colab": {
          "base_uri": "https://localhost:8080/",
          "height": 317
        },
        "id": "XSYVVNRCjVh1",
        "outputId": "818fda6f-f273-474d-b53c-ebd6d6dcbc4a"
      },
      "outputs": [
        {
          "data": {
            "text/markdown": [
              "```json\n",
              "{}\n",
              "```"
            ],
            "text/plain": [
              "<IPython.core.display.Markdown object>"
            ]
          },
          "metadata": {},
          "output_type": "display_data"
        },
        {
          "data": {
            "text/markdown": [
              "| Statistic | Value |\n",
              "|:-|-:|\n",
              "| SolverTotalTime | 0.000 |\n",
              "| SavileRowClauseOut | 0 |\n",
              "| SavileRowTotalTime | 0.179 |\n",
              "| SolverFailures | 0 |\n",
              "| SolverSatisfiable | 1 |\n",
              "| SavileRowTimeOut | 0 |\n",
              "| SolverTimeOut | 0 |\n",
              "| SolverNodes | 1 |\n"
            ],
            "text/plain": [
              "<IPython.core.display.Markdown object>"
            ]
          },
          "metadata": {},
          "output_type": "display_data"
        }
      ],
      "source": [
        "%%conjure\n",
        "letting x be sequence (1,2,5)"
      ]
    },
    {
      "cell_type": "markdown",
      "metadata": {
        "id": "OknMQ-d0kVen"
      },
      "source": [
        "You can implicitly define a sequence but needs a size or maxSize attribute."
      ]
    },
    {
      "cell_type": "code",
      "execution_count": 4,
      "metadata": {
        "colab": {
          "base_uri": "https://localhost:8080/",
          "height": 317
        },
        "id": "oD2LJmudk_zI",
        "outputId": "f67d367b-9eab-4644-8c80-ecccce3aaf8c"
      },
      "outputs": [
        {
          "data": {
            "text/markdown": [
              "```json\n",
              "{}\n",
              "```"
            ],
            "text/plain": [
              "<IPython.core.display.Markdown object>"
            ]
          },
          "metadata": {},
          "output_type": "display_data"
        },
        {
          "data": {
            "text/markdown": [
              "| Statistic | Value |\n",
              "|:-|-:|\n",
              "| SolverTotalTime | 0.000 |\n",
              "| SavileRowClauseOut | 0 |\n",
              "| SavileRowTotalTime | 0.124 |\n",
              "| SolverFailures | 1 |\n",
              "| SolverSatisfiable | 1 |\n",
              "| SavileRowTimeOut | 0 |\n",
              "| SolverTimeOut | 0 |\n",
              "| SolverNodes | 1 |\n"
            ],
            "text/plain": [
              "<IPython.core.display.Markdown object>"
            ]
          },
          "metadata": {},
          "output_type": "display_data"
        }
      ],
      "source": [
        "%%conjure --number-of-solutions=all\n",
        "letting s be domain sequence (size 3) of (int(1..3))\n"
      ]
    },
    {
      "cell_type": "markdown",
      "metadata": {
        "id": "a41ArIZ5j-5R"
      },
      "source": [
        "Are indexed by ordinals starting at 1."
      ]
    },
    {
      "cell_type": "code",
      "execution_count": 5,
      "metadata": {
        "colab": {
          "base_uri": "https://localhost:8080/",
          "height": 365
        },
        "id": "CXZkk4TSkDKy",
        "outputId": "2a393f01-9f6a-42bd-b52e-0a56cfd747c6"
      },
      "outputs": [
        {
          "data": {
            "text/markdown": [
              "## Solution 1"
            ],
            "text/plain": [
              "<IPython.core.display.Markdown object>"
            ]
          },
          "metadata": {},
          "output_type": "display_data"
        },
        {
          "data": {
            "text/markdown": [
              "```json\n",
              "[{\"x\": [1, 1, 1]}, {\"x\": [1, 1, 2]}, {\"x\": [1, 1, 3]}, {\"x\": [1, 2, 1]}, {\"x\": [1, 2, 2]}, {\"x\": [1, 2, 3]}, {\"x\": [1, 3, 1]}, {\"x\": [1, 3, 2]}, {\"x\": [1, 3, 3]}]\n",
              "```"
            ],
            "text/plain": [
              "<IPython.core.display.Markdown object>"
            ]
          },
          "metadata": {},
          "output_type": "display_data"
        },
        {
          "data": {
            "text/markdown": [
              "| Statistic | Value |\n",
              "|:-|-:|\n",
              "| SolverTotalTime | 0.000 |\n",
              "| SavileRowClauseOut | 0 |\n",
              "| SavileRowTotalTime | 0.073 |\n",
              "| SolverFailures | 9 |\n",
              "| SolverSatisfiable | 1 |\n",
              "| SavileRowTimeOut | 0 |\n",
              "| SolverTimeOut | 0 |\n",
              "| SolverNodes | 9 |\n"
            ],
            "text/plain": [
              "<IPython.core.display.Markdown object>"
            ]
          },
          "metadata": {},
          "output_type": "display_data"
        }
      ],
      "source": [
        "%%conjure+ --number-of-solutions=all\n",
        "find x: s such that x(1) = 1"
      ]
    },
    {
      "cell_type": "markdown",
      "metadata": {
        "id": "YiEg08XmmkL3"
      },
      "source": [
        "Uses the same attributes as functions. They are total by default."
      ]
    },
    {
      "cell_type": "markdown",
      "metadata": {
        "id": "GkbCRT-KsFt7"
      },
      "source": [
        "size n - produces sequences of length n"
      ]
    },
    {
      "cell_type": "markdown",
      "metadata": {
        "id": "Ckz7_bYjCFmu"
      },
      "source": [
        "injective - each member of domain appears at most once (indices map uniquely to elements of range"
      ]
    },
    {
      "cell_type": "code",
      "execution_count": 6,
      "metadata": {
        "colab": {
          "base_uri": "https://localhost:8080/",
          "height": 385
        },
        "id": "mOMXCrmRlrIZ",
        "outputId": "b8b7faeb-c68b-4395-e889-383db3e73f8e"
      },
      "outputs": [
        {
          "data": {
            "text/markdown": [
              "## Solution 1"
            ],
            "text/plain": [
              "<IPython.core.display.Markdown object>"
            ]
          },
          "metadata": {},
          "output_type": "display_data"
        },
        {
          "data": {
            "text/markdown": [
              "```json\n",
              "[{\"y\": []}, {\"y\": [1]}, {\"y\": [2]}, {\"y\": [3]}, {\"y\": [1, 2]}, {\"y\": [1, 3]}, {\"y\": [2, 1]}, {\"y\": [2, 3]}, {\"y\": [3, 1]}, {\"y\": [3, 2]}, {\"y\": [1, 2, 3]}, {\"y\": [1, 3, 2]}, {\"y\": [2, 1, 3]}, {\"y\": [2, 3, 1]}, {\"y\": [3, 1, 2]}, {\"y\": [3, 2, 1]}]\n",
              "```"
            ],
            "text/plain": [
              "<IPython.core.display.Markdown object>"
            ]
          },
          "metadata": {},
          "output_type": "display_data"
        },
        {
          "data": {
            "text/markdown": [
              "| Statistic | Value |\n",
              "|:-|-:|\n",
              "| SolverTotalTime | 0.005 |\n",
              "| SavileRowClauseOut | 0 |\n",
              "| SavileRowTotalTime | 0.165 |\n",
              "| SolverFailures | 16 |\n",
              "| SolverSatisfiable | 1 |\n",
              "| SavileRowTimeOut | 0 |\n",
              "| SolverTimeOut | 0 |\n",
              "| SolverNodes | 16 |\n"
            ],
            "text/plain": [
              "<IPython.core.display.Markdown object>"
            ]
          },
          "metadata": {},
          "output_type": "display_data"
        }
      ],
      "source": [
        "%%conjure --number-of-solutions=all\n",
        "letting s be domain sequence (maxSize 5, injective) of (int(1..3))\n",
        "find y: s"
      ]
    },
    {
      "cell_type": "markdown",
      "metadata": {
        "id": "k8GmmNALugU1"
      },
      "source": [
        "surjective - features every element of domain range, at least once."
      ]
    },
    {
      "cell_type": "code",
      "execution_count": 7,
      "metadata": {
        "colab": {
          "base_uri": "https://localhost:8080/",
          "height": 385
        },
        "id": "BfU5qsGRl5Ov",
        "outputId": "2690e566-80a9-4c3d-ceac-45dff779763a"
      },
      "outputs": [
        {
          "data": {
            "text/markdown": [
              "## Solution 1"
            ],
            "text/plain": [
              "<IPython.core.display.Markdown object>"
            ]
          },
          "metadata": {},
          "output_type": "display_data"
        },
        {
          "data": {
            "text/markdown": [
              "```json\n",
              "[{\"y\": [1, 2, 3]}, {\"y\": [1, 3, 2]}, {\"y\": [2, 1, 3]}, {\"y\": [2, 3, 1]}, {\"y\": [3, 1, 2]}, {\"y\": [3, 2, 1]}, {\"y\": [1, 1, 2, 3]}, {\"y\": [1, 1, 3, 2]}, {\"y\": [1, 2, 1, 3]}, {\"y\": [1, 2, 2, 3]}, {\"y\": [1, 2, 3, 1]}, {\"y\": [1, 2, 3, 2]}, {\"y\": [1, 2, 3, 3]}, {\"y\": [1, 3, 1, 2]}, {\"y\": [1, 3, 2, 1]}, {\"y\": [1, 3, 2, 2]}, {\"y\": [1, 3, 2, 3]}, {\"y\": [1, 3, 3, 2]}, {\"y\": [2, 1, 1, 3]}, {\"y\": [2, 1, 2, 3]}, {\"y\": [2, 1, 3, 1]}, {\"y\": [2, 1, 3, 2]}, {\"y\": [2, 1, 3, 3]}, {\"y\": [2, 2, 1, 3]}, {\"y\": [2, 2, 3, 1]}, {\"y\": [2, 3, 1, 1]}, {\"y\": [2, 3, 1, 2]}, {\"y\": [2, 3, 1, 3]}, {\"y\": [2, 3, 2, 1]}, {\"y\": [2, 3, 3, 1]}, {\"y\": [3, 1, 1, 2]}, {\"y\": [3, 1, 2, 1]}, {\"y\": [3, 1, 2, 2]}, {\"y\": [3, 1, 2, 3]}, {\"y\": [3, 1, 3, 2]}, {\"y\": [3, 2, 1, 1]}, {\"y\": [3, 2, 1, 2]}, {\"y\": [3, 2, 1, 3]}, {\"y\": [3, 2, 2, 1]}, {\"y\": [3, 2, 3, 1]}, {\"y\": [3, 3, 1, 2]}, {\"y\": [3, 3, 2, 1]}, {\"y\": [1, 1, 1, 2, 3]}, {\"y\": [1, 1, 1, 3, 2]}, {\"y\": [1, 1, 2, 1, 3]}, {\"y\": [1, 1, 2, 2, 3]}, {\"y\": [1, 1, 2, 3, 1]}, {\"y\": [1, 1, 2, 3, 2]}, {\"y\": [1, 1, 2, 3, 3]}, {\"y\": [1, 1, 3, 1, 2]}, {\"y\": [1, 1, 3, 2, 1]}, {\"y\": [1, 1, 3, 2, 2]}, {\"y\": [1, 1, 3, 2, 3]}, {\"y\": [1, 1, 3, 3, 2]}, {\"y\": [1, 2, 1, 1, 3]}, {\"y\": [1, 2, 1, 2, 3]}, {\"y\": [1, 2, 1, 3, 1]}, {\"y\": [1, 2, 1, 3, 2]}, {\"y\": [1, 2, 1, 3, 3]}, {\"y\": [1, 2, 2, 1, 3]}, {\"y\": [1, 2, 2, 2, 3]}, {\"y\": [1, 2, 2, 3, 1]}, {\"y\": [1, 2, 2, 3, 2]}, {\"y\": [1, 2, 2, 3, 3]}, {\"y\": [1, 2, 3, 1, 1]}, {\"y\": [1, 2, 3, 1, 2]}, {\"y\": [1, 2, 3, 1, 3]}, {\"y\": [1, 2, 3, 2, 1]}, {\"y\": [1, 2, 3, 2, 2]}, {\"y\": [1, 2, 3, 2, 3]}, {\"y\": [1, 2, 3, 3, 1]}, {\"y\": [1, 2, 3, 3, 2]}, {\"y\": [1, 2, 3, 3, 3]}, {\"y\": [1, 3, 1, 1, 2]}, {\"y\": [1, 3, 1, 2, 1]}, {\"y\": [1, 3, 1, 2, 2]}, {\"y\": [1, 3, 1, 2, 3]}, {\"y\": [1, 3, 1, 3, 2]}, {\"y\": [1, 3, 2, 1, 1]}, {\"y\": [1, 3, 2, 1, 2]}, {\"y\": [1, 3, 2, 1, 3]}, {\"y\": [1, 3, 2, 2, 1]}, {\"y\": [1, 3, 2, 2, 2]}, {\"y\": [1, 3, 2, 2, 3]}, {\"y\": [1, 3, 2, 3, 1]}, {\"y\": [1, 3, 2, 3, 2]}, {\"y\": [1, 3, 2, 3, 3]}, {\"y\": [1, 3, 3, 1, 2]}, {\"y\": [1, 3, 3, 2, 1]}, {\"y\": [1, 3, 3, 2, 2]}, {\"y\": [1, 3, 3, 2, 3]}, {\"y\": [1, 3, 3, 3, 2]}, {\"y\": [2, 1, 1, 1, 3]}, {\"y\": [2, 1, 1, 2, 3]}, {\"y\": [2, 1, 1, 3, 1]}, {\"y\": [2, 1, 1, 3, 2]}, {\"y\": [2, 1, 1, 3, 3]}, {\"y\": [2, 1, 2, 1, 3]}, {\"y\": [2, 1, 2, 2, 3]}, {\"y\": [2, 1, 2, 3, 1]}, {\"y\": [2, 1, 2, 3, 2]}, {\"y\": [2, 1, 2, 3, 3]}, {\"y\": [2, 1, 3, 1, 1]}, {\"y\": [2, 1, 3, 1, 2]}, {\"y\": [2, 1, 3, 1, 3]}, {\"y\": [2, 1, 3, 2, 1]}, {\"y\": [2, 1, 3, 2, 2]}, {\"y\": [2, 1, 3, 2, 3]}, {\"y\": [2, 1, 3, 3, 1]}, {\"y\": [2, 1, 3, 3, 2]}, {\"y\": [2, 1, 3, 3, 3]}, {\"y\": [2, 2, 1, 1, 3]}, {\"y\": [2, 2, 1, 2, 3]}, {\"y\": [2, 2, 1, 3, 1]}, {\"y\": [2, 2, 1, 3, 2]}, {\"y\": [2, 2, 1, 3, 3]}, {\"y\": [2, 2, 2, 1, 3]}, {\"y\": [2, 2, 2, 3, 1]}, {\"y\": [2, 2, 3, 1, 1]}, {\"y\": [2, 2, 3, 1, 2]}, {\"y\": [2, 2, 3, 1, 3]}, {\"y\": [2, 2, 3, 2, 1]}, {\"y\": [2, 2, 3, 3, 1]}, {\"y\": [2, 3, 1, 1, 1]}, {\"y\": [2, 3, 1, 1, 2]}, {\"y\": [2, 3, 1, 1, 3]}, {\"y\": [2, 3, 1, 2, 1]}, {\"y\": [2, 3, 1, 2, 2]}, {\"y\": [2, 3, 1, 2, 3]}, {\"y\": [2, 3, 1, 3, 1]}, {\"y\": [2, 3, 1, 3, 2]}, {\"y\": [2, 3, 1, 3, 3]}, {\"y\": [2, 3, 2, 1, 1]}, {\"y\": [2, 3, 2, 1, 2]}, {\"y\": [2, 3, 2, 1, 3]}, {\"y\": [2, 3, 2, 2, 1]}, {\"y\": [2, 3, 2, 3, 1]}, {\"y\": [2, 3, 3, 1, 1]}, {\"y\": [2, 3, 3, 1, 2]}, {\"y\": [2, 3, 3, 1, 3]}, {\"y\": [2, 3, 3, 2, 1]}, {\"y\": [2, 3, 3, 3, 1]}, {\"y\": [3, 1, 1, 1, 2]}, {\"y\": [3, 1, 1, 2, 1]}, {\"y\": [3, 1, 1, 2, 2]}, {\"y\": [3, 1, 1, 2, 3]}, {\"y\": [3, 1, 1, 3, 2]}, {\"y\": [3, 1, 2, 1, 1]}, {\"y\": [3, 1, 2, 1, 2]}, {\"y\": [3, 1, 2, 1, 3]}, {\"y\": [3, 1, 2, 2, 1]}, {\"y\": [3, 1, 2, 2, 2]}, {\"y\": [3, 1, 2, 2, 3]}, {\"y\": [3, 1, 2, 3, 1]}, {\"y\": [3, 1, 2, 3, 2]}, {\"y\": [3, 1, 2, 3, 3]}, {\"y\": [3, 1, 3, 1, 2]}, {\"y\": [3, 1, 3, 2, 1]}, {\"y\": [3, 1, 3, 2, 2]}, {\"y\": [3, 1, 3, 2, 3]}, {\"y\": [3, 1, 3, 3, 2]}, {\"y\": [3, 2, 1, 1, 1]}, {\"y\": [3, 2, 1, 1, 2]}, {\"y\": [3, 2, 1, 1, 3]}, {\"y\": [3, 2, 1, 2, 1]}, {\"y\": [3, 2, 1, 2, 2]}, {\"y\": [3, 2, 1, 2, 3]}, {\"y\": [3, 2, 1, 3, 1]}, {\"y\": [3, 2, 1, 3, 2]}, {\"y\": [3, 2, 1, 3, 3]}, {\"y\": [3, 2, 2, 1, 1]}, {\"y\": [3, 2, 2, 1, 2]}, {\"y\": [3, 2, 2, 1, 3]}, {\"y\": [3, 2, 2, 2, 1]}, {\"y\": [3, 2, 2, 3, 1]}, {\"y\": [3, 2, 3, 1, 1]}, {\"y\": [3, 2, 3, 1, 2]}, {\"y\": [3, 2, 3, 1, 3]}, {\"y\": [3, 2, 3, 2, 1]}, {\"y\": [3, 2, 3, 3, 1]}, {\"y\": [3, 3, 1, 1, 2]}, {\"y\": [3, 3, 1, 2, 1]}, {\"y\": [3, 3, 1, 2, 2]}, {\"y\": [3, 3, 1, 2, 3]}, {\"y\": [3, 3, 1, 3, 2]}, {\"y\": [3, 3, 2, 1, 1]}, {\"y\": [3, 3, 2, 1, 2]}, {\"y\": [3, 3, 2, 1, 3]}, {\"y\": [3, 3, 2, 2, 1]}, {\"y\": [3, 3, 2, 3, 1]}, {\"y\": [3, 3, 3, 1, 2]}, {\"y\": [3, 3, 3, 2, 1]}]\n",
              "```"
            ],
            "text/plain": [
              "<IPython.core.display.Markdown object>"
            ]
          },
          "metadata": {},
          "output_type": "display_data"
        },
        {
          "data": {
            "text/markdown": [
              "| Statistic | Value |\n",
              "|:-|-:|\n",
              "| SolverTotalTime | 0.007 |\n",
              "| SavileRowClauseOut | 0 |\n",
              "| SavileRowTotalTime | 0.171 |\n",
              "| SolverFailures | 197 |\n",
              "| SolverSatisfiable | 1 |\n",
              "| SavileRowTimeOut | 0 |\n",
              "| SolverTimeOut | 0 |\n",
              "| SolverNodes | 200 |\n"
            ],
            "text/plain": [
              "<IPython.core.display.Markdown object>"
            ]
          },
          "metadata": {},
          "output_type": "display_data"
        }
      ],
      "source": [
        "%%conjure --number-of-solutions=all\n",
        "letting s be domain sequence (maxSize 5, surjective) of (int(1..3))\n",
        "find y: s"
      ]
    },
    {
      "cell_type": "markdown",
      "metadata": {
        "id": "TzuRn4Iturbr"
      },
      "source": [
        "bijective - both injective and surjective"
      ]
    },
    {
      "cell_type": "code",
      "execution_count": 8,
      "metadata": {
        "colab": {
          "base_uri": "https://localhost:8080/",
          "height": 365
        },
        "id": "dvk9j3UFmBeT",
        "outputId": "7b2bff7e-9d2e-4530-8f7a-8bf2b558333f"
      },
      "outputs": [
        {
          "data": {
            "text/markdown": [
              "## Solution 1"
            ],
            "text/plain": [
              "<IPython.core.display.Markdown object>"
            ]
          },
          "metadata": {},
          "output_type": "display_data"
        },
        {
          "data": {
            "text/markdown": [
              "```json\n",
              "[{\"y\": [1, 2, 3]}, {\"y\": [1, 3, 2]}, {\"y\": [2, 1, 3]}, {\"y\": [2, 3, 1]}, {\"y\": [3, 1, 2]}, {\"y\": [3, 2, 1]}]\n",
              "```"
            ],
            "text/plain": [
              "<IPython.core.display.Markdown object>"
            ]
          },
          "metadata": {},
          "output_type": "display_data"
        },
        {
          "data": {
            "text/markdown": [
              "| Statistic | Value |\n",
              "|:-|-:|\n",
              "| SolverTotalTime | 0.001 |\n",
              "| SavileRowClauseOut | 0 |\n",
              "| SavileRowTotalTime | 0.216 |\n",
              "| SolverFailures | 6 |\n",
              "| SolverSatisfiable | 1 |\n",
              "| SavileRowTimeOut | 0 |\n",
              "| SolverTimeOut | 0 |\n",
              "| SolverNodes | 6 |\n"
            ],
            "text/plain": [
              "<IPython.core.display.Markdown object>"
            ]
          },
          "metadata": {},
          "output_type": "display_data"
        }
      ],
      "source": [
        "%%conjure --number-of-solutions=all\n",
        "letting s be domain sequence (maxSize 5, bijective) of (int(1..3))\n",
        "find y: s"
      ]
    },
    {
      "cell_type": "markdown",
      "metadata": {
        "id": "kihP0c47sYpU"
      },
      "source": [
        "maxSize n - produces sequences up to lengths of n"
      ]
    },
    {
      "cell_type": "code",
      "execution_count": 9,
      "metadata": {
        "colab": {
          "base_uri": "https://localhost:8080/",
          "height": 385
        },
        "id": "DbwKM-ZAmMXa",
        "outputId": "5548da50-fcf0-41f3-8dc9-e9cd4e55e0bc"
      },
      "outputs": [
        {
          "data": {
            "text/markdown": [
              "## Solution 1"
            ],
            "text/plain": [
              "<IPython.core.display.Markdown object>"
            ]
          },
          "metadata": {},
          "output_type": "display_data"
        },
        {
          "data": {
            "text/markdown": [
              "```json\n",
              "[{\"y\": []}, {\"y\": [1]}, {\"y\": [2]}, {\"y\": [3]}, {\"y\": [4]}, {\"y\": [5]}, {\"y\": [1, 1]}, {\"y\": [1, 2]}, {\"y\": [1, 3]}, {\"y\": [1, 4]}, {\"y\": [1, 5]}, {\"y\": [2, 1]}, {\"y\": [2, 2]}, {\"y\": [2, 3]}, {\"y\": [2, 4]}, {\"y\": [2, 5]}, {\"y\": [3, 1]}, {\"y\": [3, 2]}, {\"y\": [3, 3]}, {\"y\": [3, 4]}, {\"y\": [3, 5]}, {\"y\": [4, 1]}, {\"y\": [4, 2]}, {\"y\": [4, 3]}, {\"y\": [4, 4]}, {\"y\": [4, 5]}, {\"y\": [5, 1]}, {\"y\": [5, 2]}, {\"y\": [5, 3]}, {\"y\": [5, 4]}, {\"y\": [5, 5]}, {\"y\": [1, 1, 1]}, {\"y\": [1, 1, 2]}, {\"y\": [1, 1, 3]}, {\"y\": [1, 1, 4]}, {\"y\": [1, 1, 5]}, {\"y\": [1, 2, 1]}, {\"y\": [1, 2, 2]}, {\"y\": [1, 2, 3]}, {\"y\": [1, 2, 4]}, {\"y\": [1, 2, 5]}, {\"y\": [1, 3, 1]}, {\"y\": [1, 3, 2]}, {\"y\": [1, 3, 3]}, {\"y\": [1, 3, 4]}, {\"y\": [1, 3, 5]}, {\"y\": [1, 4, 1]}, {\"y\": [1, 4, 2]}, {\"y\": [1, 4, 3]}, {\"y\": [1, 4, 4]}, {\"y\": [1, 4, 5]}, {\"y\": [1, 5, 1]}, {\"y\": [1, 5, 2]}, {\"y\": [1, 5, 3]}, {\"y\": [1, 5, 4]}, {\"y\": [1, 5, 5]}, {\"y\": [2, 1, 1]}, {\"y\": [2, 1, 2]}, {\"y\": [2, 1, 3]}, {\"y\": [2, 1, 4]}, {\"y\": [2, 1, 5]}, {\"y\": [2, 2, 1]}, {\"y\": [2, 2, 2]}, {\"y\": [2, 2, 3]}, {\"y\": [2, 2, 4]}, {\"y\": [2, 2, 5]}, {\"y\": [2, 3, 1]}, {\"y\": [2, 3, 2]}, {\"y\": [2, 3, 3]}, {\"y\": [2, 3, 4]}, {\"y\": [2, 3, 5]}, {\"y\": [2, 4, 1]}, {\"y\": [2, 4, 2]}, {\"y\": [2, 4, 3]}, {\"y\": [2, 4, 4]}, {\"y\": [2, 4, 5]}, {\"y\": [2, 5, 1]}, {\"y\": [2, 5, 2]}, {\"y\": [2, 5, 3]}, {\"y\": [2, 5, 4]}, {\"y\": [2, 5, 5]}, {\"y\": [3, 1, 1]}, {\"y\": [3, 1, 2]}, {\"y\": [3, 1, 3]}, {\"y\": [3, 1, 4]}, {\"y\": [3, 1, 5]}, {\"y\": [3, 2, 1]}, {\"y\": [3, 2, 2]}, {\"y\": [3, 2, 3]}, {\"y\": [3, 2, 4]}, {\"y\": [3, 2, 5]}, {\"y\": [3, 3, 1]}, {\"y\": [3, 3, 2]}, {\"y\": [3, 3, 3]}, {\"y\": [3, 3, 4]}, {\"y\": [3, 3, 5]}, {\"y\": [3, 4, 1]}, {\"y\": [3, 4, 2]}, {\"y\": [3, 4, 3]}, {\"y\": [3, 4, 4]}, {\"y\": [3, 4, 5]}, {\"y\": [3, 5, 1]}, {\"y\": [3, 5, 2]}, {\"y\": [3, 5, 3]}, {\"y\": [3, 5, 4]}, {\"y\": [3, 5, 5]}, {\"y\": [4, 1, 1]}, {\"y\": [4, 1, 2]}, {\"y\": [4, 1, 3]}, {\"y\": [4, 1, 4]}, {\"y\": [4, 1, 5]}, {\"y\": [4, 2, 1]}, {\"y\": [4, 2, 2]}, {\"y\": [4, 2, 3]}, {\"y\": [4, 2, 4]}, {\"y\": [4, 2, 5]}, {\"y\": [4, 3, 1]}, {\"y\": [4, 3, 2]}, {\"y\": [4, 3, 3]}, {\"y\": [4, 3, 4]}, {\"y\": [4, 3, 5]}, {\"y\": [4, 4, 1]}, {\"y\": [4, 4, 2]}, {\"y\": [4, 4, 3]}, {\"y\": [4, 4, 4]}, {\"y\": [4, 4, 5]}, {\"y\": [4, 5, 1]}, {\"y\": [4, 5, 2]}, {\"y\": [4, 5, 3]}, {\"y\": [4, 5, 4]}, {\"y\": [4, 5, 5]}, {\"y\": [5, 1, 1]}, {\"y\": [5, 1, 2]}, {\"y\": [5, 1, 3]}, {\"y\": [5, 1, 4]}, {\"y\": [5, 1, 5]}, {\"y\": [5, 2, 1]}, {\"y\": [5, 2, 2]}, {\"y\": [5, 2, 3]}, {\"y\": [5, 2, 4]}, {\"y\": [5, 2, 5]}, {\"y\": [5, 3, 1]}, {\"y\": [5, 3, 2]}, {\"y\": [5, 3, 3]}, {\"y\": [5, 3, 4]}, {\"y\": [5, 3, 5]}, {\"y\": [5, 4, 1]}, {\"y\": [5, 4, 2]}, {\"y\": [5, 4, 3]}, {\"y\": [5, 4, 4]}, {\"y\": [5, 4, 5]}, {\"y\": [5, 5, 1]}, {\"y\": [5, 5, 2]}, {\"y\": [5, 5, 3]}, {\"y\": [5, 5, 4]}, {\"y\": [5, 5, 5]}]\n",
              "```"
            ],
            "text/plain": [
              "<IPython.core.display.Markdown object>"
            ]
          },
          "metadata": {},
          "output_type": "display_data"
        },
        {
          "data": {
            "text/markdown": [
              "| Statistic | Value |\n",
              "|:-|-:|\n",
              "| SolverTotalTime | 0.018 |\n",
              "| SavileRowClauseOut | 0 |\n",
              "| SavileRowTotalTime | 0.101 |\n",
              "| SolverFailures | 156 |\n",
              "| SolverSatisfiable | 1 |\n",
              "| SavileRowTimeOut | 0 |\n",
              "| SolverTimeOut | 0 |\n",
              "| SolverNodes | 158 |\n"
            ],
            "text/plain": [
              "<IPython.core.display.Markdown object>"
            ]
          },
          "metadata": {},
          "output_type": "display_data"
        }
      ],
      "source": [
        "%%conjure --number-of-solutions=all\n",
        "letting s be domain sequence (maxSize 3) of (int(1..5))\n",
        "find y: s"
      ]
    },
    {
      "cell_type": "markdown",
      "metadata": {
        "id": "tXpTTKj5sgnk"
      },
      "source": [
        "minSize n - produces sequences at least of length n"
      ]
    },
    {
      "cell_type": "code",
      "execution_count": 10,
      "metadata": {
        "colab": {
          "base_uri": "https://localhost:8080/",
          "height": 385
        },
        "id": "D-px2ylpmRfx",
        "outputId": "cfc149f2-6582-487d-9d4d-d1629f3071ec"
      },
      "outputs": [
        {
          "data": {
            "text/markdown": [
              "## Solution 1"
            ],
            "text/plain": [
              "<IPython.core.display.Markdown object>"
            ]
          },
          "metadata": {},
          "output_type": "display_data"
        },
        {
          "data": {
            "text/markdown": [
              "```json\n",
              "[{\"y\": [1, 1, 1]}, {\"y\": [1, 1, 2]}, {\"y\": [1, 1, 3]}, {\"y\": [1, 1, 4]}, {\"y\": [1, 1, 5]}, {\"y\": [1, 2, 1]}, {\"y\": [1, 2, 2]}, {\"y\": [1, 2, 3]}, {\"y\": [1, 2, 4]}, {\"y\": [1, 2, 5]}, {\"y\": [1, 3, 1]}, {\"y\": [1, 3, 2]}, {\"y\": [1, 3, 3]}, {\"y\": [1, 3, 4]}, {\"y\": [1, 3, 5]}, {\"y\": [1, 4, 1]}, {\"y\": [1, 4, 2]}, {\"y\": [1, 4, 3]}, {\"y\": [1, 4, 4]}, {\"y\": [1, 4, 5]}, {\"y\": [1, 5, 1]}, {\"y\": [1, 5, 2]}, {\"y\": [1, 5, 3]}, {\"y\": [1, 5, 4]}, {\"y\": [1, 5, 5]}, {\"y\": [2, 1, 1]}, {\"y\": [2, 1, 2]}, {\"y\": [2, 1, 3]}, {\"y\": [2, 1, 4]}, {\"y\": [2, 1, 5]}, {\"y\": [2, 2, 1]}, {\"y\": [2, 2, 2]}, {\"y\": [2, 2, 3]}, {\"y\": [2, 2, 4]}, {\"y\": [2, 2, 5]}, {\"y\": [2, 3, 1]}, {\"y\": [2, 3, 2]}, {\"y\": [2, 3, 3]}, {\"y\": [2, 3, 4]}, {\"y\": [2, 3, 5]}, {\"y\": [2, 4, 1]}, {\"y\": [2, 4, 2]}, {\"y\": [2, 4, 3]}, {\"y\": [2, 4, 4]}, {\"y\": [2, 4, 5]}, {\"y\": [2, 5, 1]}, {\"y\": [2, 5, 2]}, {\"y\": [2, 5, 3]}, {\"y\": [2, 5, 4]}, {\"y\": [2, 5, 5]}, {\"y\": [3, 1, 1]}, {\"y\": [3, 1, 2]}, {\"y\": [3, 1, 3]}, {\"y\": [3, 1, 4]}, {\"y\": [3, 1, 5]}, {\"y\": [3, 2, 1]}, {\"y\": [3, 2, 2]}, {\"y\": [3, 2, 3]}, {\"y\": [3, 2, 4]}, {\"y\": [3, 2, 5]}, {\"y\": [3, 3, 1]}, {\"y\": [3, 3, 2]}, {\"y\": [3, 3, 3]}, {\"y\": [3, 3, 4]}, {\"y\": [3, 3, 5]}, {\"y\": [3, 4, 1]}, {\"y\": [3, 4, 2]}, {\"y\": [3, 4, 3]}, {\"y\": [3, 4, 4]}, {\"y\": [3, 4, 5]}, {\"y\": [3, 5, 1]}, {\"y\": [3, 5, 2]}, {\"y\": [3, 5, 3]}, {\"y\": [3, 5, 4]}, {\"y\": [3, 5, 5]}, {\"y\": [4, 1, 1]}, {\"y\": [4, 1, 2]}, {\"y\": [4, 1, 3]}, {\"y\": [4, 1, 4]}, {\"y\": [4, 1, 5]}, {\"y\": [4, 2, 1]}, {\"y\": [4, 2, 2]}, {\"y\": [4, 2, 3]}, {\"y\": [4, 2, 4]}, {\"y\": [4, 2, 5]}, {\"y\": [4, 3, 1]}, {\"y\": [4, 3, 2]}, {\"y\": [4, 3, 3]}, {\"y\": [4, 3, 4]}, {\"y\": [4, 3, 5]}, {\"y\": [4, 4, 1]}, {\"y\": [4, 4, 2]}, {\"y\": [4, 4, 3]}, {\"y\": [4, 4, 4]}, {\"y\": [4, 4, 5]}, {\"y\": [4, 5, 1]}, {\"y\": [4, 5, 2]}, {\"y\": [4, 5, 3]}, {\"y\": [4, 5, 4]}, {\"y\": [4, 5, 5]}, {\"y\": [5, 1, 1]}, {\"y\": [5, 1, 2]}, {\"y\": [5, 1, 3]}, {\"y\": [5, 1, 4]}, {\"y\": [5, 1, 5]}, {\"y\": [5, 2, 1]}, {\"y\": [5, 2, 2]}, {\"y\": [5, 2, 3]}, {\"y\": [5, 2, 4]}, {\"y\": [5, 2, 5]}, {\"y\": [5, 3, 1]}, {\"y\": [5, 3, 2]}, {\"y\": [5, 3, 3]}, {\"y\": [5, 3, 4]}, {\"y\": [5, 3, 5]}, {\"y\": [5, 4, 1]}, {\"y\": [5, 4, 2]}, {\"y\": [5, 4, 3]}, {\"y\": [5, 4, 4]}, {\"y\": [5, 4, 5]}, {\"y\": [5, 5, 1]}, {\"y\": [5, 5, 2]}, {\"y\": [5, 5, 3]}, {\"y\": [5, 5, 4]}, {\"y\": [5, 5, 5]}, {\"y\": [1, 1, 1, 1]}, {\"y\": [1, 1, 1, 2]}, {\"y\": [1, 1, 1, 3]}, {\"y\": [1, 1, 1, 4]}, {\"y\": [1, 1, 1, 5]}, {\"y\": [1, 1, 2, 1]}, {\"y\": [1, 1, 2, 2]}, {\"y\": [1, 1, 2, 3]}, {\"y\": [1, 1, 2, 4]}, {\"y\": [1, 1, 2, 5]}, {\"y\": [1, 1, 3, 1]}, {\"y\": [1, 1, 3, 2]}, {\"y\": [1, 1, 3, 3]}, {\"y\": [1, 1, 3, 4]}, {\"y\": [1, 1, 3, 5]}, {\"y\": [1, 1, 4, 1]}, {\"y\": [1, 1, 4, 2]}, {\"y\": [1, 1, 4, 3]}, {\"y\": [1, 1, 4, 4]}, {\"y\": [1, 1, 4, 5]}, {\"y\": [1, 1, 5, 1]}, {\"y\": [1, 1, 5, 2]}, {\"y\": [1, 1, 5, 3]}, {\"y\": [1, 1, 5, 4]}, {\"y\": [1, 1, 5, 5]}, {\"y\": [1, 2, 1, 1]}, {\"y\": [1, 2, 1, 2]}, {\"y\": [1, 2, 1, 3]}, {\"y\": [1, 2, 1, 4]}, {\"y\": [1, 2, 1, 5]}, {\"y\": [1, 2, 2, 1]}, {\"y\": [1, 2, 2, 2]}, {\"y\": [1, 2, 2, 3]}, {\"y\": [1, 2, 2, 4]}, {\"y\": [1, 2, 2, 5]}, {\"y\": [1, 2, 3, 1]}, {\"y\": [1, 2, 3, 2]}, {\"y\": [1, 2, 3, 3]}, {\"y\": [1, 2, 3, 4]}, {\"y\": [1, 2, 3, 5]}, {\"y\": [1, 2, 4, 1]}, {\"y\": [1, 2, 4, 2]}, {\"y\": [1, 2, 4, 3]}, {\"y\": [1, 2, 4, 4]}, {\"y\": [1, 2, 4, 5]}, {\"y\": [1, 2, 5, 1]}, {\"y\": [1, 2, 5, 2]}, {\"y\": [1, 2, 5, 3]}, {\"y\": [1, 2, 5, 4]}, {\"y\": [1, 2, 5, 5]}, {\"y\": [1, 3, 1, 1]}, {\"y\": [1, 3, 1, 2]}, {\"y\": [1, 3, 1, 3]}, {\"y\": [1, 3, 1, 4]}, {\"y\": [1, 3, 1, 5]}, {\"y\": [1, 3, 2, 1]}, {\"y\": [1, 3, 2, 2]}, {\"y\": [1, 3, 2, 3]}, {\"y\": [1, 3, 2, 4]}, {\"y\": [1, 3, 2, 5]}, {\"y\": [1, 3, 3, 1]}, {\"y\": [1, 3, 3, 2]}, {\"y\": [1, 3, 3, 3]}, {\"y\": [1, 3, 3, 4]}, {\"y\": [1, 3, 3, 5]}, {\"y\": [1, 3, 4, 1]}, {\"y\": [1, 3, 4, 2]}, {\"y\": [1, 3, 4, 3]}, {\"y\": [1, 3, 4, 4]}, {\"y\": [1, 3, 4, 5]}, {\"y\": [1, 3, 5, 1]}, {\"y\": [1, 3, 5, 2]}, {\"y\": [1, 3, 5, 3]}, {\"y\": [1, 3, 5, 4]}, {\"y\": [1, 3, 5, 5]}, {\"y\": [5, 5, 5, 5, 5]}, {\"y\": [4, 5, 5, 5, 5]}, {\"y\": [3, 5, 5, 5, 5]}, {\"y\": [2, 5, 5, 5, 5]}, {\"y\": [1, 5, 5, 5, 5]}, {\"y\": [2, 4, 5, 5, 5]}, {\"y\": [2, 3, 5, 5, 5]}, {\"y\": [2, 2, 5, 5, 5]}, {\"y\": [2, 1, 5, 5, 5]}, {\"y\": [3, 2, 5, 5, 5]}, {\"y\": [4, 2, 5, 5, 5]}, {\"y\": [5, 2, 5, 5, 5]}, {\"y\": [1, 2, 5, 5, 5]}, {\"y\": [5, 3, 5, 5, 5]}, {\"y\": [5, 4, 5, 5, 5]}, {\"y\": [5, 1, 5, 5, 5]}, {\"y\": [4, 4, 5, 5, 5]}, {\"y\": [3, 4, 5, 5, 5]}, {\"y\": [1, 4, 5, 5, 5]}, {\"y\": [3, 3, 5, 5, 5]}, {\"y\": [3, 1, 5, 5, 5]}, {\"y\": [4, 3, 5, 5, 5]}, {\"y\": [1, 3, 5, 5, 5]}, {\"y\": [4, 1, 5, 5, 5]}, {\"y\": [1, 1, 5, 5, 5]}, {\"y\": [4, 3, 1, 5, 5]}, {\"y\": [4, 3, 4, 5, 5]}, {\"y\": [4, 3, 3, 5, 5]}, {\"y\": [4, 3, 2, 5, 5]}, {\"y\": [4, 2, 3, 5, 5]}, {\"y\": [4, 2, 4, 5, 5]}, {\"y\": [4, 2, 1, 5, 5]}, {\"y\": [4, 2, 2, 5, 5]}, {\"y\": [4, 4, 1, 5, 5]}, {\"y\": [4, 4, 4, 5, 5]}, {\"y\": [4, 4, 3, 5, 5]}, {\"y\": [4, 4, 2, 5, 5]}, {\"y\": [4, 1, 3, 5, 5]}, {\"y\": [4, 5, 3, 5, 5]}, {\"y\": [4, 1, 4, 5, 5]}, {\"y\": [4, 5, 4, 5, 5]}, {\"y\": [4, 1, 1, 5, 5]}, {\"y\": [4, 1, 2, 5, 5]}, {\"y\": [4, 5, 1, 5, 5]}, {\"y\": [4, 5, 2, 5, 5]}, {\"y\": [3, 1, 1, 5, 5]}, {\"y\": [2, 1, 1, 5, 5]}, {\"y\": [5, 1, 1, 5, 5]}, {\"y\": [1, 1, 1, 5, 5]}, {\"y\": [3, 1, 4, 5, 5]}, {\"y\": [2, 1, 4, 5, 5]}, {\"y\": [5, 1, 4, 5, 5]}, {\"y\": [1, 1, 4, 5, 5]}, {\"y\": [3, 1, 3, 5, 5]}, {\"y\": [3, 1, 2, 5, 5]}, {\"y\": [2, 1, 3, 5, 5]}, {\"y\": [5, 1, 3, 5, 5]}, {\"y\": [1, 1, 3, 5, 5]}, {\"y\": [2, 1, 2, 5, 5]}, {\"y\": [5, 1, 2, 5, 5]}, {\"y\": [1, 1, 2, 5, 5]}, {\"y\": [2, 4, 3, 5, 5]}, {\"y\": [2, 3, 3, 5, 5]}, {\"y\": [2, 2, 3, 5, 5]}, {\"y\": [2, 5, 3, 5, 5]}, {\"y\": [5, 4, 3, 5, 5]}, {\"y\": [5, 2, 3, 5, 5]}, {\"y\": [5, 3, 3, 5, 5]}, {\"y\": [5, 5, 3, 5, 5]}, {\"y\": [3, 3, 3, 5, 5]}, {\"y\": [1, 3, 3, 5, 5]}, {\"y\": [3, 4, 3, 5, 5]}, {\"y\": [3, 2, 3, 5, 5]}, {\"y\": [3, 5, 3, 5, 5]}, {\"y\": [1, 2, 3, 5, 5]}, {\"y\": [1, 4, 3, 5, 5]}, {\"y\": [1, 5, 3, 5, 5]}, {\"y\": [3, 4, 1, 5, 5]}, {\"y\": [3, 4, 4, 5, 5]}, {\"y\": [3, 4, 2, 5, 5]}, {\"y\": [3, 2, 4, 5, 5]}, {\"y\": [3, 2, 1, 5, 5]}, {\"y\": [3, 2, 2, 5, 5]}, {\"y\": [3, 3, 1, 5, 5]}, {\"y\": [3, 5, 1, 5, 5]}, {\"y\": [3, 3, 4, 5, 5]}, {\"y\": [3, 3, 2, 5, 5]}, {\"y\": [3, 5, 4, 5, 5]}, {\"y\": [3, 5, 2, 5, 5]}, {\"y\": [2, 3, 4, 5, 5]}, {\"y\": [5, 3, 4, 5, 5]}, {\"y\": [1, 3, 4, 5, 5]}, {\"y\": [2, 3, 1, 5, 5]}, {\"y\": [5, 3, 1, 5, 5]}, {\"y\": [1, 3, 1, 5, 5]}, {\"y\": [2, 3, 2, 5, 5]}, {\"y\": [5, 3, 2, 5, 5]}, {\"y\": [1, 3, 2, 5, 5]}, {\"y\": [5, 4, 4, 5, 5]}, {\"y\": [5, 2, 4, 5, 5]}, {\"y\": [5, 5, 4, 5, 5]}, {\"y\": [2, 4, 4, 5, 5]}, {\"y\": [2, 2, 4, 5, 5]}, {\"y\": [2, 5, 4, 5, 5]}, {\"y\": [1, 4, 4, 5, 5]}, {\"y\": [1, 2, 4, 5, 5]}, {\"y\": [1, 5, 4, 5, 5]}, {\"y\": [2, 4, 1, 5, 5]}, {\"y\": [2, 4, 2, 5, 5]}, {\"y\": [2, 2, 1, 5, 5]}, {\"y\": [2, 2, 2, 5, 5]}, {\"y\": [2, 5, 1, 5, 5]}, {\"y\": [2, 5, 2, 5, 5]}, {\"y\": [5, 2, 1, 5, 5]}, {\"y\": [1, 2, 1, 5, 5]}, {\"y\": [5, 4, 1, 5, 5]}, {\"y\": [1, 4, 1, 5, 5]}, {\"y\": [5, 5, 1, 5, 5]}, {\"y\": [1, 5, 1, 5, 5]}, {\"y\": [5, 4, 2, 5, 5]}, {\"y\": [5, 2, 2, 5, 5]}, {\"y\": [5, 5, 2, 5, 5]}, {\"y\": [1, 4, 2, 5, 5]}, {\"y\": [1, 2, 2, 5, 5]}, {\"y\": [1, 5, 2, 5, 5]}, {\"y\": [5, 2, 1, 1, 5]}, {\"y\": [5, 2, 1, 4, 5]}, {\"y\": [5, 2, 1, 3, 5]}, {\"y\": [5, 2, 1, 2, 5]}, {\"y\": [5, 2, 2, 3, 5]}, {\"y\": [5, 2, 2, 4, 5]}, {\"y\": [5, 2, 2, 1, 5]}, {\"y\": [5, 2, 2, 2, 5]}, {\"y\": [5, 2, 4, 1, 5]}, {\"y\": [5, 2, 4, 4, 5]}, {\"y\": [5, 2, 4, 3, 5]}, {\"y\": [5, 2, 4, 2, 5]}, {\"y\": [5, 2, 3, 3, 5]}, {\"y\": [5, 2, 5, 3, 5]}, {\"y\": [5, 2, 3, 4, 5]}, {\"y\": [5, 2, 5, 4, 5]}, {\"y\": [5, 2, 3, 1, 5]}, {\"y\": [5, 2, 3, 2, 5]}, {\"y\": [5, 2, 5, 1, 5]}, {\"y\": [5, 2, 5, 2, 5]}, {\"y\": [5, 4, 4, 1, 5]}, {\"y\": [5, 3, 4, 1, 5]}, {\"y\": [5, 5, 4, 1, 5]}, {\"y\": [5, 1, 4, 1, 5]}, {\"y\": [5, 4, 4, 4, 5]}, {\"y\": [5, 4, 4, 3, 5]}, {\"y\": [5, 4, 4, 2, 5]}, {\"y\": [5, 3, 4, 4, 5]}, {\"y\": [5, 5, 4, 4, 5]}, {\"y\": [5, 1, 4, 4, 5]}, {\"y\": [5, 3, 4, 3, 5]}, {\"y\": [5, 5, 4, 3, 5]}, {\"y\": [5, 1, 4, 3, 5]}, {\"y\": [5, 3, 4, 2, 5]}, {\"y\": [5, 5, 4, 2, 5]}, {\"y\": [5, 1, 4, 2, 5]}, {\"y\": [5, 3, 3, 3, 5]}, {\"y\": [5, 3, 1, 3, 5]}, {\"y\": [5, 3, 2, 3, 5]}, {\"y\": [5, 3, 5, 3, 5]}, {\"y\": [5, 3, 3, 4, 5]}, {\"y\": [5, 3, 1, 4, 5]}, {\"y\": [5, 3, 2, 4, 5]}, {\"y\": [5, 3, 5, 4, 5]}, {\"y\": [5, 3, 3, 1, 5]}, {\"y\": [5, 3, 3, 2, 5]}, {\"y\": [5, 3, 2, 1, 5]}, {\"y\": [5, 3, 1, 1, 5]}, {\"y\": [5, 3, 5, 1, 5]}, {\"y\": [5, 3, 1, 2, 5]}, {\"y\": [5, 3, 2, 2, 5]}, {\"y\": [5, 3, 5, 2, 5]}, {\"y\": [5, 4, 2, 1, 5]}, {\"y\": [5, 5, 2, 1, 5]}, {\"y\": [5, 1, 2, 1, 5]}, {\"y\": [5, 5, 1, 1, 5]}, {\"y\": [5, 4, 1, 1, 5]}, {\"y\": [5, 1, 1, 1, 5]}, {\"y\": [5, 4, 3, 1, 5]}, {\"y\": [5, 4, 5, 1, 5]}, {\"y\": [5, 5, 3, 1, 5]}, {\"y\": [5, 1, 3, 1, 5]}, {\"y\": [5, 5, 5, 1, 5]}, {\"y\": [5, 1, 5, 1, 5]}, {\"y\": [5, 5, 3, 4, 5]}, {\"y\": [5, 5, 3, 3, 5]}, {\"y\": [5, 5, 3, 2, 5]}, {\"y\": [5, 4, 3, 4, 5]}, {\"y\": [5, 4, 3, 3, 5]}, {\"y\": [5, 4, 3, 2, 5]}, {\"y\": [5, 1, 3, 4, 5]}, {\"y\": [5, 1, 3, 3, 5]}, {\"y\": [5, 1, 3, 2, 5]}, {\"y\": [5, 4, 1, 3, 5]}, {\"y\": [5, 4, 2, 3, 5]}, {\"y\": [5, 4, 5, 3, 5]}, {\"y\": [5, 4, 1, 4, 5]}, {\"y\": [5, 4, 2, 4, 5]}, {\"y\": [5, 4, 5, 4, 5]}, {\"y\": [5, 4, 1, 2, 5]}, {\"y\": [5, 4, 2, 2, 5]}, {\"y\": [5, 4, 5, 2, 5]}, {\"y\": [5, 5, 1, 4, 5]}, {\"y\": [5, 1, 1, 4, 5]}, {\"y\": [5, 5, 2, 4, 5]}, {\"y\": [5, 1, 2, 4, 5]}, {\"y\": [5, 5, 5, 4, 5]}, {\"y\": [5, 1, 5, 4, 5]}, {\"y\": [5, 5, 2, 3, 5]}, {\"y\": [5, 5, 2, 2, 5]}, {\"y\": [5, 5, 1, 3, 5]}, {\"y\": [5, 5, 1, 2, 5]}, {\"y\": [5, 5, 5, 3, 5]}, {\"y\": [5, 5, 5, 2, 5]}, {\"y\": [5, 1, 1, 3, 5]}, {\"y\": [5, 1, 2, 3, 5]}, {\"y\": [5, 1, 5, 3, 5]}, {\"y\": [5, 1, 2, 2, 5]}, {\"y\": [5, 1, 1, 2, 5]}, {\"y\": [5, 1, 5, 2, 5]}, {\"y\": [2, 5, 1, 3, 5]}, {\"y\": [1, 5, 1, 3, 5]}, {\"y\": [3, 5, 1, 3, 5]}, {\"y\": [4, 5, 1, 3, 5]}, {\"y\": [3, 1, 1, 3, 5]}, {\"y\": [1, 1, 1, 3, 5]}, {\"y\": [2, 1, 1, 3, 5]}, {\"y\": [4, 1, 1, 3, 5]}, {\"y\": [2, 4, 1, 3, 5]}, {\"y\": [1, 4, 1, 3, 5]}, {\"y\": [3, 4, 1, 3, 5]}, {\"y\": [4, 4, 1, 3, 5]}, {\"y\": [3, 3, 1, 3, 5]}, {\"y\": [3, 2, 1, 3, 5]}, {\"y\": [1, 3, 1, 3, 5]}, {\"y\": [2, 3, 1, 3, 5]}, {\"y\": [4, 3, 1, 3, 5]}, {\"y\": [2, 2, 1, 3, 5]}, {\"y\": [1, 2, 1, 3, 5]}, {\"y\": [4, 2, 1, 3, 5]}, {\"y\": [1, 3, 2, 3, 5]}, {\"y\": [1, 3, 3, 3, 5]}, {\"y\": [1, 3, 5, 3, 5]}, {\"y\": [1, 3, 4, 3, 5]}, {\"y\": [1, 5, 2, 3, 5]}, {\"y\": [1, 5, 3, 3, 5]}, {\"y\": [1, 5, 5, 3, 5]}, {\"y\": [1, 5, 4, 3, 5]}, {\"y\": [1, 4, 2, 3, 5]}, {\"y\": [1, 1, 2, 3, 5]}, {\"y\": [1, 2, 2, 3, 5]}, {\"y\": [1, 4, 3, 3, 5]}, {\"y\": [1, 4, 5, 3, 5]}, {\"y\": [1, 4, 4, 3, 5]}, {\"y\": [1, 1, 3, 3, 5]}, {\"y\": [1, 2, 3, 3, 5]}, {\"y\": [1, 1, 5, 3, 5]}, {\"y\": [1, 1, 4, 3, 5]}, {\"y\": [1, 2, 5, 3, 5]}, {\"y\": [1, 2, 4, 3, 5]}, {\"y\": [2, 1, 5, 3, 5]}, {\"y\": [3, 1, 5, 3, 5]}, {\"y\": [4, 1, 5, 3, 5]}, {\"y\": [2, 4, 5, 3, 5]}, {\"y\": [3, 4, 5, 3, 5]}, {\"y\": [4, 4, 5, 3, 5]}, {\"y\": [3, 3, 5, 3, 5]}, {\"y\": [3, 5, 5, 3, 5]}, {\"y\": [3, 2, 5, 3, 5]}, {\"y\": [2, 3, 5, 3, 5]}, {\"y\": [4, 3, 5, 3, 5]}, {\"y\": [2, 5, 5, 3, 5]}, {\"y\": [2, 2, 5, 3, 5]}, {\"y\": [4, 5, 5, 3, 5]}, {\"y\": [4, 2, 5, 3, 5]}, {\"y\": [2, 5, 3, 3, 5]}, {\"y\": [2, 5, 2, 3, 5]}, {\"y\": [2, 5, 4, 3, 5]}, {\"y\": [2, 4, 3, 3, 5]}, {\"y\": [2, 4, 2, 3, 5]}, {\"y\": [2, 4, 4, 3, 5]}, {\"y\": [2, 3, 3, 3, 5]}, {\"y\": [2, 1, 3, 3, 5]}, {\"y\": [2, 2, 3, 3, 5]}, {\"y\": [2, 3, 2, 3, 5]}, {\"y\": [2, 3, 4, 3, 5]}, {\"y\": [2, 1, 2, 3, 5]}, {\"y\": [2, 2, 2, 3, 5]}, {\"y\": [2, 1, 4, 3, 5]}, {\"y\": [2, 2, 4, 3, 5]}, {\"y\": [3, 1, 2, 3, 5]}, {\"y\": [4, 1, 2, 3, 5]}, {\"y\": [3, 1, 3, 3, 5]}, {\"y\": [4, 1, 3, 3, 5]}, {\"y\": [3, 1, 4, 3, 5]}, {\"y\": [4, 1, 4, 3, 5]}, {\"y\": [3, 3, 2, 3, 5]}, {\"y\": [3, 4, 2, 3, 5]}, {\"y\": [3, 5, 2, 3, 5]}, {\"y\": [3, 2, 2, 3, 5]}, {\"y\": [4, 3, 2, 3, 5]}, {\"y\": [4, 4, 2, 3, 5]}, {\"y\": [4, 5, 2, 3, 5]}, {\"y\": [4, 2, 2, 3, 5]}, {\"y\": [3, 3, 3, 3, 5]}, {\"y\": [3, 3, 4, 3, 5]}, {\"y\": [3, 4, 3, 3, 5]}, {\"y\": [3, 5, 3, 3, 5]}, {\"y\": [3, 2, 3, 3, 5]}, {\"y\": [3, 5, 4, 3, 5]}, {\"y\": [3, 4, 4, 3, 5]}, {\"y\": [3, 2, 4, 3, 5]}, {\"y\": [4, 3, 3, 3, 5]}, {\"y\": [4, 4, 3, 3, 5]}, {\"y\": [4, 5, 3, 3, 5]}, {\"y\": [4, 2, 3, 3, 5]}, {\"y\": [4, 5, 4, 3, 5]}, {\"y\": [4, 3, 4, 3, 5]}, {\"y\": [4, 4, 4, 3, 5]}, {\"y\": [4, 2, 4, 3, 5]}, {\"y\": [3, 4, 3, 4, 5]}, {\"y\": [3, 4, 3, 2, 5]}, {\"y\": [3, 4, 3, 1, 5]}, {\"y\": [3, 3, 3, 2, 5]}, {\"y\": [3, 3, 3, 4, 5]}, {\"y\": [3, 3, 3, 1, 5]}, {\"y\": [3, 5, 3, 4, 5]}, {\"y\": [3, 5, 3, 2, 5]}, {\"y\": [3, 5, 3, 1, 5]}, {\"y\": [3, 2, 3, 2, 5]}, {\"y\": [3, 1, 3, 2, 5]}, {\"y\": [3, 2, 3, 4, 5]}, {\"y\": [3, 2, 3, 1, 5]}, {\"y\": [3, 1, 3, 4, 5]}, {\"y\": [3, 1, 3, 1, 5]}, {\"y\": [4, 5, 3, 4, 5]}, {\"y\": [2, 5, 3, 4, 5]}, {\"y\": [1, 5, 3, 4, 5]}, {\"y\": [4, 3, 3, 4, 5]}, {\"y\": [2, 3, 3, 4, 5]}, {\"y\": [1, 3, 3, 4, 5]}, {\"y\": [4, 4, 3, 4, 5]}, {\"y\": [4, 2, 3, 4, 5]}, {\"y\": [4, 1, 3, 4, 5]}, {\"y\": [2, 4, 3, 4, 5]}, {\"y\": [1, 4, 3, 4, 5]}, {\"y\": [2, 2, 3, 4, 5]}, {\"y\": [2, 1, 3, 4, 5]}, {\"y\": [1, 2, 3, 4, 5]}, {\"y\": [1, 1, 3, 4, 5]}, {\"y\": [2, 2, 3, 2, 5]}, {\"y\": [2, 2, 3, 1, 5]}, {\"y\": [4, 2, 3, 2, 5]}, {\"y\": [4, 2, 3, 1, 5]}, {\"y\": [1, 2, 3, 2, 5]}, {\"y\": [1, 2, 3, 1, 5]}, {\"y\": [4, 4, 3, 2, 5]}, {\"y\": [4, 3, 3, 2, 5]}, {\"y\": [4, 5, 3, 2, 5]}, {\"y\": [4, 1, 3, 2, 5]}, {\"y\": [4, 4, 3, 1, 5]}, {\"y\": [4, 3, 3, 1, 5]}, {\"y\": [4, 5, 3, 1, 5]}, {\"y\": [4, 1, 3, 1, 5]}, {\"y\": [2, 4, 3, 2, 5]}, {\"y\": [1, 4, 3, 2, 5]}, {\"y\": [2, 3, 3, 2, 5]}, {\"y\": [2, 5, 3, 2, 5]}, {\"y\": [2, 1, 3, 2, 5]}, {\"y\": [1, 3, 3, 2, 5]}, {\"y\": [1, 5, 3, 2, 5]}, {\"y\": [1, 1, 3, 2, 5]}, {\"y\": [2, 3, 3, 1, 5]}, {\"y\": [2, 5, 3, 1, 5]}, {\"y\": [2, 4, 3, 1, 5]}, {\"y\": [2, 1, 3, 1, 5]}, {\"y\": [1, 3, 3, 1, 5]}, {\"y\": [1, 4, 3, 1, 5]}, {\"y\": [1, 5, 3, 1, 5]}, {\"y\": [1, 1, 3, 1, 5]}, {\"y\": [2, 5, 4, 2, 5]}, {\"y\": [2, 5, 2, 2, 5]}, {\"y\": [2, 5, 5, 2, 5]}, {\"y\": [2, 5, 1, 2, 5]}, {\"y\": [2, 3, 4, 2, 5]}, {\"y\": [2, 3, 2, 2, 5]}, {\"y\": [2, 3, 5, 2, 5]}, {\"y\": [2, 3, 1, 2, 5]}, {\"y\": [2, 4, 2, 2, 5]}, {\"y\": [2, 4, 4, 2, 5]}, {\"y\": [2, 4, 5, 2, 5]}, {\"y\": [2, 4, 1, 2, 5]}, {\"y\": [2, 2, 5, 2, 5]}, {\"y\": [2, 1, 5, 2, 5]}, {\"y\": [2, 2, 4, 2, 5]}, {\"y\": [1, 4, 1, 1]}, {\"y\": [1, 4, 1, 2]}, {\"y\": [1, 4, 1, 3]}, {\"y\": [1, 4, 1, 4]}, {\"y\": [1, 4, 1, 5]}, {\"y\": [1, 4, 2, 1]}, {\"y\": [1, 4, 2, 2]}, {\"y\": [1, 4, 2, 3]}, {\"y\": [1, 4, 2, 4]}, {\"y\": [1, 4, 2, 5]}, {\"y\": [1, 4, 3, 1]}, {\"y\": [1, 4, 3, 2]}, {\"y\": [1, 4, 3, 3]}, {\"y\": [1, 4, 3, 4]}, {\"y\": [1, 4, 3, 5]}, {\"y\": [1, 4, 4, 1]}, {\"y\": [1, 4, 4, 2]}, {\"y\": [1, 4, 4, 3]}, {\"y\": [1, 4, 4, 4]}, {\"y\": [1, 4, 4, 5]}, {\"y\": [1, 4, 5, 1]}, {\"y\": [1, 4, 5, 2]}, {\"y\": [1, 4, 5, 3]}, {\"y\": [1, 4, 5, 4]}, {\"y\": [1, 4, 5, 5]}, {\"y\": [1, 5, 1, 1]}, {\"y\": [1, 5, 1, 2]}, {\"y\": [1, 5, 1, 3]}, {\"y\": [1, 5, 1, 4]}, {\"y\": [1, 5, 1, 5]}, {\"y\": [1, 5, 2, 1]}, {\"y\": [1, 5, 2, 2]}, {\"y\": [1, 5, 2, 3]}, {\"y\": [1, 5, 2, 4]}, {\"y\": [1, 5, 2, 5]}, {\"y\": [1, 5, 3, 1]}, {\"y\": [1, 5, 3, 2]}, {\"y\": [1, 5, 3, 3]}, {\"y\": [1, 5, 3, 4]}, {\"y\": [1, 5, 3, 5]}, {\"y\": [1, 5, 4, 1]}, {\"y\": [1, 5, 4, 2]}, {\"y\": [1, 5, 4, 3]}, {\"y\": [1, 5, 4, 4]}, {\"y\": [1, 5, 4, 5]}, {\"y\": [1, 5, 5, 1]}, {\"y\": [1, 5, 5, 2]}, {\"y\": [1, 5, 5, 3]}, {\"y\": [1, 5, 5, 4]}, {\"y\": [1, 5, 5, 5]}, {\"y\": [2, 1, 1, 1]}, {\"y\": [2, 1, 1, 2]}, {\"y\": [2, 1, 1, 3]}, {\"y\": [2, 1, 1, 4]}, {\"y\": [2, 1, 1, 5]}, {\"y\": [2, 1, 2, 1]}, {\"y\": [2, 1, 2, 2]}, {\"y\": [2, 1, 2, 3]}, {\"y\": [2, 1, 2, 4]}, {\"y\": [2, 1, 2, 5]}, {\"y\": [2, 1, 3, 1]}, {\"y\": [2, 1, 3, 2]}, {\"y\": [2, 1, 3, 3]}, {\"y\": [2, 1, 3, 4]}, {\"y\": [2, 1, 3, 5]}, {\"y\": [2, 1, 4, 1]}, {\"y\": [2, 1, 4, 2]}, {\"y\": [2, 1, 4, 3]}, {\"y\": [2, 1, 4, 4]}, {\"y\": [2, 1, 4, 5]}, {\"y\": [2, 1, 5, 1]}, {\"y\": [2, 1, 5, 2]}, {\"y\": [2, 1, 5, 3]}, {\"y\": [2, 1, 5, 4]}, {\"y\": [2, 1, 5, 5]}, {\"y\": [2, 2, 1, 1]}, {\"y\": [2, 2, 1, 2]}, {\"y\": [2, 2, 1, 3]}, {\"y\": [2, 2, 1, 4]}, {\"y\": [2, 2, 1, 5]}, {\"y\": [2, 2, 2, 1]}, {\"y\": [2, 2, 2, 2]}, {\"y\": [2, 2, 2, 3]}, {\"y\": [2, 2, 2, 4]}, {\"y\": [2, 2, 2, 5]}, {\"y\": [2, 2, 3, 1]}, {\"y\": [2, 2, 3, 2]}, {\"y\": [2, 2, 3, 3]}, {\"y\": [2, 2, 3, 4]}, {\"y\": [2, 2, 3, 5]}, {\"y\": [2, 2, 4, 1]}, {\"y\": [2, 2, 4, 2]}, {\"y\": [2, 2, 4, 3]}, {\"y\": [2, 2, 4, 4]}, {\"y\": [2, 2, 4, 5]}, {\"y\": [2, 2, 5, 1]}, {\"y\": [2, 2, 5, 2]}, {\"y\": [2, 2, 5, 3]}, {\"y\": [2, 2, 5, 4]}, {\"y\": [2, 2, 5, 5]}, {\"y\": [2, 3, 1, 1]}, {\"y\": [2, 3, 1, 2]}, {\"y\": [2, 3, 1, 3]}, {\"y\": [2, 3, 1, 4]}, {\"y\": [2, 3, 1, 5]}, {\"y\": [2, 3, 2, 1]}, {\"y\": [2, 3, 2, 2]}, {\"y\": [2, 3, 2, 3]}, {\"y\": [2, 3, 2, 4]}, {\"y\": [2, 3, 2, 5]}, {\"y\": [2, 3, 3, 1]}, {\"y\": [2, 3, 3, 2]}, {\"y\": [2, 3, 3, 3]}, {\"y\": [2, 3, 3, 4]}, {\"y\": [2, 3, 3, 5]}, {\"y\": [2, 3, 4, 1]}, {\"y\": [2, 3, 4, 2]}, {\"y\": [2, 3, 4, 3]}, {\"y\": [2, 3, 4, 4]}, {\"y\": [2, 3, 4, 5]}, {\"y\": [2, 3, 5, 1]}, {\"y\": [2, 3, 5, 2]}, {\"y\": [2, 3, 5, 3]}, {\"y\": [2, 3, 5, 4]}, {\"y\": [2, 3, 5, 5]}, {\"y\": [2, 4, 1, 1]}, {\"y\": [2, 4, 1, 2]}, {\"y\": [2, 4, 1, 3]}, {\"y\": [2, 4, 1, 4]}, {\"y\": [2, 4, 1, 5]}, {\"y\": [2, 4, 2, 1]}, {\"y\": [2, 4, 2, 2]}, {\"y\": [2, 4, 2, 3]}, {\"y\": [2, 4, 2, 4]}, {\"y\": [2, 4, 2, 5]}, {\"y\": [2, 4, 3, 1]}, {\"y\": [2, 4, 3, 2]}, {\"y\": [2, 4, 3, 3]}, {\"y\": [2, 4, 3, 4]}, {\"y\": [2, 4, 3, 5]}, {\"y\": [2, 4, 4, 1]}, {\"y\": [2, 4, 4, 2]}, {\"y\": [2, 4, 4, 3]}, {\"y\": [2, 4, 4, 4]}, {\"y\": [2, 4, 4, 5]}, {\"y\": [2, 4, 5, 1]}, {\"y\": [2, 4, 5, 2]}, {\"y\": [2, 4, 5, 3]}, {\"y\": [2, 4, 5, 4]}, {\"y\": [2, 4, 5, 5]}, {\"y\": [2, 5, 1, 1]}, {\"y\": [2, 5, 1, 2]}, {\"y\": [2, 5, 1, 3]}, {\"y\": [2, 5, 1, 4]}, {\"y\": [2, 5, 1, 5]}, {\"y\": [2, 5, 2, 1]}, {\"y\": [2, 5, 2, 2]}, {\"y\": [2, 5, 2, 3]}, {\"y\": [2, 5, 2, 4]}, {\"y\": [2, 5, 2, 5]}, {\"y\": [2, 5, 3, 1]}, {\"y\": [2, 5, 3, 2]}, {\"y\": [2, 5, 3, 3]}, {\"y\": [2, 5, 3, 4]}, {\"y\": [2, 5, 3, 5]}, {\"y\": [2, 5, 4, 1]}, {\"y\": [2, 5, 4, 2]}, {\"y\": [2, 5, 4, 3]}, {\"y\": [2, 5, 4, 4]}, {\"y\": [2, 5, 4, 5]}, {\"y\": [2, 5, 5, 1]}, {\"y\": [2, 5, 5, 2]}, {\"y\": [2, 5, 5, 3]}, {\"y\": [2, 5, 5, 4]}, {\"y\": [2, 5, 5, 5]}, {\"y\": [3, 1, 1, 1]}, {\"y\": [3, 1, 1, 2]}, {\"y\": [3, 1, 1, 3]}, {\"y\": [3, 1, 1, 4]}, {\"y\": [3, 1, 1, 5]}, {\"y\": [3, 1, 2, 1]}, {\"y\": [3, 1, 2, 2]}, {\"y\": [3, 1, 2, 3]}, {\"y\": [3, 1, 2, 4]}, {\"y\": [3, 1, 2, 5]}, {\"y\": [3, 1, 3, 1]}, {\"y\": [3, 1, 3, 2]}, {\"y\": [3, 1, 3, 3]}, {\"y\": [3, 1, 3, 4]}, {\"y\": [3, 1, 3, 5]}, {\"y\": [3, 1, 4, 1]}, {\"y\": [3, 1, 4, 2]}, {\"y\": [3, 1, 4, 3]}, {\"y\": [3, 1, 4, 4]}, {\"y\": [3, 1, 4, 5]}, {\"y\": [3, 1, 5, 1]}, {\"y\": [3, 1, 5, 2]}, {\"y\": [3, 1, 5, 3]}, {\"y\": [3, 1, 5, 4]}, {\"y\": [3, 1, 5, 5]}, {\"y\": [2, 2, 2, 2, 5]}, {\"y\": [2, 2, 1, 2, 5]}, {\"y\": [2, 1, 2, 2, 5]}, {\"y\": [2, 1, 4, 2, 5]}, {\"y\": [2, 1, 1, 2, 5]}, {\"y\": [2, 1, 2, 1, 5]}, {\"y\": [2, 1, 2, 4, 5]}, {\"y\": [2, 2, 2, 1, 5]}, {\"y\": [2, 2, 2, 4, 5]}, {\"y\": [2, 4, 2, 1, 5]}, {\"y\": [2, 3, 2, 1, 5]}, {\"y\": [2, 5, 2, 1, 5]}, {\"y\": [2, 3, 2, 4, 5]}, {\"y\": [2, 4, 2, 4, 5]}, {\"y\": [2, 5, 2, 4, 5]}, {\"y\": [2, 4, 4, 1, 5]}, {\"y\": [2, 4, 5, 1, 5]}, {\"y\": [2, 4, 1, 1, 5]}, {\"y\": [2, 3, 4, 1, 5]}, {\"y\": [2, 3, 5, 1, 5]}, {\"y\": [2, 3, 1, 1, 5]}, {\"y\": [2, 2, 4, 1, 5]}, {\"y\": [2, 1, 4, 1, 5]}, {\"y\": [2, 5, 4, 1, 5]}, {\"y\": [2, 1, 5, 1, 5]}, {\"y\": [2, 1, 1, 1, 5]}, {\"y\": [2, 2, 5, 1, 5]}, {\"y\": [2, 5, 5, 1, 5]}, {\"y\": [2, 2, 1, 1, 5]}, {\"y\": [2, 5, 1, 1, 5]}, {\"y\": [2, 2, 4, 4, 5]}, {\"y\": [2, 2, 5, 4, 5]}, {\"y\": [2, 2, 1, 4, 5]}, {\"y\": [2, 3, 4, 4, 5]}, {\"y\": [2, 4, 4, 4, 5]}, {\"y\": [2, 1, 4, 4, 5]}, {\"y\": [2, 5, 4, 4, 5]}, {\"y\": [2, 3, 5, 4, 5]}, {\"y\": [2, 4, 5, 4, 5]}, {\"y\": [2, 1, 5, 4, 5]}, {\"y\": [2, 5, 5, 4, 5]}, {\"y\": [2, 3, 1, 4, 5]}, {\"y\": [2, 4, 1, 4, 5]}, {\"y\": [2, 1, 1, 4, 5]}, {\"y\": [2, 5, 1, 4, 5]}, {\"y\": [1, 3, 5, 4, 5]}, {\"y\": [4, 3, 5, 4, 5]}, {\"y\": [3, 3, 5, 4, 5]}, {\"y\": [4, 4, 5, 4, 5]}, {\"y\": [1, 4, 5, 4, 5]}, {\"y\": [3, 4, 5, 4, 5]}, {\"y\": [1, 1, 5, 4, 5]}, {\"y\": [4, 1, 5, 4, 5]}, {\"y\": [3, 1, 5, 4, 5]}, {\"y\": [4, 2, 5, 4, 5]}, {\"y\": [4, 5, 5, 4, 5]}, {\"y\": [1, 2, 5, 4, 5]}, {\"y\": [3, 2, 5, 4, 5]}, {\"y\": [1, 5, 5, 4, 5]}, {\"y\": [3, 5, 5, 4, 5]}, {\"y\": [1, 2, 4, 4, 5]}, {\"y\": [1, 2, 1, 4, 5]}, {\"y\": [1, 2, 2, 4, 5]}, {\"y\": [4, 2, 4, 4, 5]}, {\"y\": [4, 2, 1, 4, 5]}, {\"y\": [4, 2, 2, 4, 5]}, {\"y\": [3, 2, 4, 4, 5]}, {\"y\": [3, 2, 1, 4, 5]}, {\"y\": [3, 2, 2, 4, 5]}, {\"y\": [1, 4, 4, 4, 5]}, {\"y\": [1, 3, 4, 4, 5]}, {\"y\": [1, 1, 4, 4, 5]}, {\"y\": [1, 5, 4, 4, 5]}, {\"y\": [1, 4, 1, 4, 5]}, {\"y\": [1, 3, 1, 4, 5]}, {\"y\": [1, 1, 1, 4, 5]}, {\"y\": [1, 5, 1, 4, 5]}, {\"y\": [1, 4, 2, 4, 5]}, {\"y\": [1, 3, 2, 4, 5]}, {\"y\": [1, 1, 2, 4, 5]}, {\"y\": [1, 5, 2, 4, 5]}, {\"y\": [4, 1, 1, 4, 5]}, {\"y\": [3, 1, 1, 4, 5]}, {\"y\": [4, 3, 1, 4, 5]}, {\"y\": [3, 3, 1, 4, 5]}, {\"y\": [4, 4, 1, 4, 5]}, {\"y\": [4, 5, 1, 4, 5]}, {\"y\": [3, 4, 1, 4, 5]}, {\"y\": [3, 5, 1, 4, 5]}, {\"y\": [4, 4, 4, 4, 5]}, {\"y\": [4, 4, 2, 4, 5]}, {\"y\": [4, 3, 4, 4, 5]}, {\"y\": [4, 3, 2, 4, 5]}, {\"y\": [4, 1, 4, 4, 5]}, {\"y\": [4, 5, 4, 4, 5]}, {\"y\": [4, 1, 2, 4, 5]}, {\"y\": [4, 5, 2, 4, 5]}, {\"y\": [3, 4, 4, 4, 5]}, {\"y\": [3, 1, 4, 4, 5]}, {\"y\": [3, 3, 4, 4, 5]}, {\"y\": [3, 5, 4, 4, 5]}, {\"y\": [3, 4, 2, 4, 5]}, {\"y\": [3, 1, 2, 4, 5]}, {\"y\": [3, 3, 2, 4, 5]}, {\"y\": [3, 5, 2, 4, 5]}, {\"y\": [4, 4, 4, 1, 5]}, {\"y\": [4, 4, 4, 2, 5]}, {\"y\": [3, 4, 4, 1, 5]}, {\"y\": [3, 4, 4, 2, 5]}, {\"y\": [1, 4, 4, 1, 5]}, {\"y\": [1, 4, 4, 2, 5]}, {\"y\": [4, 3, 4, 1, 5]}, {\"y\": [4, 3, 4, 2, 5]}, {\"y\": [4, 1, 4, 1, 5]}, {\"y\": [4, 2, 4, 1, 5]}, {\"y\": [4, 5, 4, 1, 5]}, {\"y\": [4, 1, 4, 2, 5]}, {\"y\": [4, 2, 4, 2, 5]}, {\"y\": [4, 5, 4, 2, 5]}, {\"y\": [3, 1, 4, 1, 5]}, {\"y\": [1, 1, 4, 1, 5]}, {\"y\": [3, 3, 4, 1, 5]}, {\"y\": [3, 2, 4, 1, 5]}, {\"y\": [3, 5, 4, 1, 5]}, {\"y\": [1, 3, 4, 1, 5]}, {\"y\": [1, 2, 4, 1, 5]}, {\"y\": [1, 5, 4, 1, 5]}, {\"y\": [3, 3, 4, 2, 5]}, {\"y\": [3, 2, 4, 2, 5]}, {\"y\": [3, 1, 4, 2, 5]}, {\"y\": [3, 5, 4, 2, 5]}, {\"y\": [1, 3, 4, 2, 5]}, {\"y\": [1, 2, 4, 2, 5]}, {\"y\": [1, 1, 4, 2, 5]}, {\"y\": [1, 5, 4, 2, 5]}, {\"y\": [3, 3, 2, 1, 5]}, {\"y\": [3, 3, 1, 1, 5]}, {\"y\": [3, 3, 5, 1, 5]}, {\"y\": [3, 2, 2, 1, 5]}, {\"y\": [3, 2, 1, 1, 5]}, {\"y\": [3, 2, 5, 1, 5]}, {\"y\": [3, 1, 2, 1, 5]}, {\"y\": [3, 1, 1, 1, 5]}, {\"y\": [3, 1, 5, 1, 5]}, {\"y\": [3, 4, 2, 1, 5]}, {\"y\": [3, 5, 2, 1, 5]}, {\"y\": [3, 4, 1, 1, 5]}, {\"y\": [3, 4, 5, 1, 5]}, {\"y\": [3, 5, 1, 1, 5]}, {\"y\": [3, 5, 5, 1, 5]}, {\"y\": [3, 4, 1, 2, 5]}, {\"y\": [3, 1, 1, 2, 5]}, {\"y\": [3, 2, 1, 2, 5]}, {\"y\": [3, 3, 1, 2, 5]}, {\"y\": [3, 5, 1, 2, 5]}, {\"y\": [3, 4, 2, 2, 5]}, {\"y\": [3, 4, 5, 2, 5]}, {\"y\": [3, 1, 2, 2, 5]}, {\"y\": [3, 2, 2, 2, 5]}, {\"y\": [3, 3, 2, 2, 5]}, {\"y\": [3, 5, 2, 2, 5]}, {\"y\": [3, 1, 5, 2, 5]}, {\"y\": [3, 3, 5, 2, 5]}, {\"y\": [3, 2, 5, 2, 5]}, {\"y\": [3, 5, 5, 2, 5]}, {\"y\": [1, 4, 2, 2, 5]}, {\"y\": [4, 4, 2, 2, 5]}, {\"y\": [1, 2, 2, 2, 5]}, {\"y\": [4, 2, 2, 2, 5]}, {\"y\": [1, 3, 2, 2, 5]}, {\"y\": [4, 3, 2, 2, 5]}, {\"y\": [1, 1, 2, 2, 5]}, {\"y\": [1, 5, 2, 2, 5]}, {\"y\": [4, 1, 2, 2, 5]}, {\"y\": [4, 5, 2, 2, 5]}, {\"y\": [1, 1, 1, 2, 5]}, {\"y\": [1, 1, 5, 2, 5]}, {\"y\": [4, 1, 1, 2, 5]}, {\"y\": [4, 1, 5, 2, 5]}, {\"y\": [1, 3, 1, 2, 5]}, {\"y\": [1, 2, 1, 2, 5]}, {\"y\": [1, 4, 1, 2, 5]}, {\"y\": [1, 5, 1, 2, 5]}, {\"y\": [1, 3, 5, 2, 5]}, {\"y\": [1, 2, 5, 2, 5]}, {\"y\": [1, 4, 5, 2, 5]}, {\"y\": [1, 5, 5, 2, 5]}, {\"y\": [4, 4, 1, 2, 5]}, {\"y\": [4, 3, 1, 2, 5]}, {\"y\": [4, 2, 1, 2, 5]}, {\"y\": [4, 5, 1, 2, 5]}, {\"y\": [4, 2, 5, 2, 5]}, {\"y\": [4, 3, 5, 2, 5]}, {\"y\": [4, 4, 5, 2, 5]}, {\"y\": [4, 5, 5, 2, 5]}, {\"y\": [1, 4, 1, 1, 5]}, {\"y\": [1, 3, 1, 1, 5]}, {\"y\": [1, 2, 1, 1, 5]}, {\"y\": [1, 1, 1, 1, 5]}, {\"y\": [1, 5, 1, 1, 5]}, {\"y\": [4, 2, 1, 1, 5]}, {\"y\": [4, 3, 1, 1, 5]}, {\"y\": [4, 4, 1, 1, 5]}, {\"y\": [4, 1, 1, 1, 5]}, {\"y\": [4, 5, 1, 1, 5]}, {\"y\": [1, 4, 5, 1, 5]}, {\"y\": [1, 4, 2, 1, 5]}, {\"y\": [1, 3, 5, 1, 5]}, {\"y\": [1, 3, 2, 1, 5]}, {\"y\": [1, 2, 5, 1, 5]}, {\"y\": [1, 1, 5, 1, 5]}, {\"y\": [1, 5, 5, 1, 5]}, {\"y\": [1, 2, 2, 1, 5]}, {\"y\": [1, 1, 2, 1, 5]}, {\"y\": [1, 5, 2, 1, 5]}, {\"y\": [4, 2, 5, 1, 5]}, {\"y\": [4, 3, 5, 1, 5]}, {\"y\": [4, 4, 5, 1, 5]}, {\"y\": [4, 1, 5, 1, 5]}, {\"y\": [4, 5, 5, 1, 5]}, {\"y\": [4, 2, 2, 1, 5]}, {\"y\": [4, 3, 2, 1, 5]}, {\"y\": [4, 4, 2, 1, 5]}, {\"y\": [4, 1, 2, 1, 5]}, {\"y\": [4, 5, 2, 1, 5]}, {\"y\": [4, 2, 5, 1, 4]}, {\"y\": [4, 2, 5, 1, 3]}, {\"y\": [4, 2, 5, 1, 2]}, {\"y\": [4, 2, 5, 1, 1]}, {\"y\": [4, 4, 5, 1, 2]}, {\"y\": [4, 4, 5, 1, 3]}, {\"y\": [4, 4, 5, 1, 4]}, {\"y\": [4, 4, 5, 1, 1]}, {\"y\": [4, 3, 5, 1, 4]}, {\"y\": [4, 3, 5, 1, 3]}, {\"y\": [4, 3, 5, 1, 2]}, {\"y\": [4, 3, 5, 1, 1]}, {\"y\": [4, 1, 5, 1, 2]}, {\"y\": [4, 5, 5, 1, 2]}, {\"y\": [4, 1, 5, 1, 3]}, {\"y\": [4, 1, 5, 1, 4]}, {\"y\": [4, 1, 5, 1, 1]}, {\"y\": [4, 5, 5, 1, 4]}, {\"y\": [4, 5, 5, 1, 3]}, {\"y\": [4, 5, 5, 1, 1]}, {\"y\": [4, 1, 2, 1, 3]}, {\"y\": [4, 1, 1, 1, 3]}, {\"y\": [4, 1, 4, 1, 3]}, {\"y\": [4, 1, 3, 1, 3]}, {\"y\": [4, 1, 2, 1, 4]}, {\"y\": [4, 1, 1, 1, 4]}, {\"y\": [4, 1, 4, 1, 4]}, {\"y\": [4, 1, 3, 1, 4]}, {\"y\": [4, 1, 2, 1, 2]}, {\"y\": [4, 1, 2, 1, 1]}, {\"y\": [4, 1, 1, 1, 2]}, {\"y\": [4, 1, 4, 1, 2]}, {\"y\": [4, 1, 3, 1, 2]}, {\"y\": [4, 1, 1, 1, 1]}, {\"y\": [4, 1, 4, 1, 1]}, {\"y\": [4, 1, 3, 1, 1]}, {\"y\": [4, 3, 2, 1, 2]}, {\"y\": [4, 4, 2, 1, 2]}, {\"y\": [4, 2, 2, 1, 2]}, {\"y\": [4, 5, 2, 1, 2]}, {\"y\": [4, 3, 1, 1, 2]}, {\"y\": [4, 4, 1, 1, 2]}, {\"y\": [4, 2, 1, 1, 2]}, {\"y\": [4, 5, 1, 1, 2]}, {\"y\": [4, 3, 4, 1, 2]}, {\"y\": [4, 3, 3, 1, 2]}, {\"y\": [4, 4, 4, 1, 2]}, {\"y\": [4, 2, 4, 1, 2]}, {\"y\": [4, 5, 4, 1, 2]}, {\"y\": [4, 2, 3, 1, 2]}, {\"y\": [4, 4, 3, 1, 2]}, {\"y\": [4, 5, 3, 1, 2]}, {\"y\": [4, 4, 4, 1, 4]}, {\"y\": [4, 4, 4, 1, 3]}, {\"y\": [4, 4, 4, 1, 1]}, {\"y\": [4, 2, 4, 1, 4]}, {\"y\": [4, 2, 4, 1, 3]}, {\"y\": [4, 2, 4, 1, 1]}, {\"y\": [4, 3, 4, 1, 4]}, {\"y\": [4, 5, 4, 1, 4]}, {\"y\": [4, 3, 4, 1, 3]}, {\"y\": [4, 3, 4, 1, 1]}, {\"y\": [4, 5, 4, 1, 3]}, {\"y\": [4, 5, 4, 1, 1]}, {\"y\": [4, 3, 1, 1, 3]}, {\"y\": [4, 3, 2, 1, 3]}, {\"y\": [4, 3, 3, 1, 3]}, {\"y\": [4, 3, 1, 1, 4]}, {\"y\": [4, 3, 2, 1, 4]}, {\"y\": [4, 3, 3, 1, 4]}, {\"y\": [4, 3, 1, 1, 1]}, {\"y\": [4, 3, 2, 1, 1]}, {\"y\": [4, 3, 3, 1, 1]}, {\"y\": [4, 4, 1, 1, 3]}, {\"y\": [4, 2, 1, 1, 3]}, {\"y\": [4, 5, 1, 1, 3]}, {\"y\": [4, 4, 2, 1, 3]}, {\"y\": [4, 2, 2, 1, 3]}, {\"y\": [4, 5, 2, 1, 3]}, {\"y\": [4, 4, 3, 1, 3]}, {\"y\": [4, 2, 3, 1, 3]}, {\"y\": [4, 5, 3, 1, 3]}, {\"y\": [4, 4, 2, 1, 4]}, {\"y\": [4, 4, 2, 1, 1]}, {\"y\": [4, 2, 2, 1, 4]}, {\"y\": [4, 2, 2, 1, 1]}, {\"y\": [4, 5, 2, 1, 4]}, {\"y\": [4, 5, 2, 1, 1]}, {\"y\": [4, 2, 1, 1, 4]}, {\"y\": [4, 2, 3, 1, 4]}, {\"y\": [4, 4, 1, 1, 4]}, {\"y\": [4, 4, 3, 1, 4]}, {\"y\": [4, 5, 1, 1, 4]}, {\"y\": [4, 5, 3, 1, 4]}, {\"y\": [4, 4, 1, 1, 1]}, {\"y\": [4, 2, 1, 1, 1]}, {\"y\": [4, 5, 1, 1, 1]}, {\"y\": [4, 4, 3, 1, 1]}, {\"y\": [4, 2, 3, 1, 1]}, {\"y\": [4, 5, 3, 1, 1]}, {\"y\": [1, 2, 1, 1, 4]}, {\"y\": [3, 2, 1, 1, 4]}, {\"y\": [5, 2, 1, 1, 4]}, {\"y\": [2, 2, 1, 1, 4]}, {\"y\": [5, 2, 1, 1, 1]}, {\"y\": [1, 2, 1, 1, 1]}, {\"y\": [3, 2, 1, 1, 1]}, {\"y\": [2, 2, 1, 1, 1]}, {\"y\": [3, 2, 1, 1, 3]}, {\"y\": [1, 2, 1, 1, 3]}, {\"y\": [5, 2, 1, 1, 3]}, {\"y\": [2, 2, 1, 1, 3]}, {\"y\": [5, 2, 1, 1, 2]}, {\"y\": [1, 2, 1, 1, 2]}, {\"y\": [3, 2, 1, 1, 2]}, {\"y\": [2, 2, 1, 1, 2]}, {\"y\": [3, 4, 1, 1, 4]}, {\"y\": [3, 3, 1, 1, 4]}, {\"y\": [3, 5, 1, 1, 4]}, {\"y\": [3, 1, 1, 1, 4]}, {\"y\": [1, 4, 1, 1, 4]}, {\"y\": [5, 4, 1, 1, 4]}, {\"y\": [2, 4, 1, 1, 4]}, {\"y\": [5, 3, 1, 1, 4]}, {\"y\": [5, 5, 1, 1, 4]}, {\"y\": [5, 1, 1, 1, 4]}, {\"y\": [1, 3, 1, 1, 4]}, {\"y\": [2, 3, 1, 1, 4]}, {\"y\": [1, 5, 1, 1, 4]}, {\"y\": [1, 1, 1, 1, 4]}, {\"y\": [2, 5, 1, 1, 4]}, {\"y\": [2, 1, 1, 1, 4]}, {\"y\": [1, 4, 1, 1, 3]}, {\"y\": [1, 4, 1, 1, 1]}, {\"y\": [1, 4, 1, 1, 2]}, {\"y\": [1, 3, 1, 1, 3]}, {\"y\": [1, 3, 1, 1, 1]}, {\"y\": [1, 3, 1, 1, 2]}, {\"y\": [1, 5, 1, 1, 3]}, {\"y\": [1, 1, 1, 1, 3]}, {\"y\": [1, 5, 1, 1, 1]}, {\"y\": [1, 5, 1, 1, 2]}, {\"y\": [1, 1, 1, 1, 1]}, {\"y\": [1, 1, 1, 1, 2]}, {\"y\": [5, 5, 1, 1, 1]}, {\"y\": [3, 5, 1, 1, 1]}, {\"y\": [2, 5, 1, 1, 1]}, {\"y\": [5, 5, 1, 1, 3]}, {\"y\": [3, 5, 1, 1, 3]}, {\"y\": [2, 5, 1, 1, 3]}, {\"y\": [5, 5, 1, 1, 2]}, {\"y\": [3, 5, 1, 1, 2]}, {\"y\": [2, 5, 1, 1, 2]}, {\"y\": [5, 3, 1, 1, 1]}, {\"y\": [5, 4, 1, 1, 1]}, {\"y\": [5, 1, 1, 1, 1]}, {\"y\": [3, 3, 1, 1, 1]}, {\"y\": [2, 3, 1, 1, 1]}, {\"y\": [3, 4, 1, 1, 1]}, {\"y\": [3, 1, 1, 1, 1]}, {\"y\": [2, 4, 1, 1, 1]}, {\"y\": [2, 1, 1, 1, 1]}, {\"y\": [3, 4, 1, 1, 3]}, {\"y\": [3, 4, 1, 1, 2]}, {\"y\": [3, 3, 1, 1, 3]}, {\"y\": [3, 3, 1, 1, 2]}, {\"y\": [3, 1, 1, 1, 3]}, {\"y\": [3, 1, 1, 1, 2]}, {\"y\": [5, 3, 1, 1, 3]}, {\"y\": [2, 3, 1, 1, 3]}, {\"y\": [5, 4, 1, 1, 3]}, {\"y\": [2, 4, 1, 1, 3]}, {\"y\": [5, 1, 1, 1, 3]}, {\"y\": [2, 1, 1, 1, 3]}, {\"y\": [5, 4, 1, 1, 2]}, {\"y\": [5, 3, 1, 1, 2]}, {\"y\": [5, 1, 1, 1, 2]}, {\"y\": [2, 4, 1, 1, 2]}, {\"y\": [2, 3, 1, 1, 2]}, {\"y\": [2, 1, 1, 1, 2]}, {\"y\": [5, 4, 2, 1, 3]}, {\"y\": [5, 4, 3, 1, 3]}, {\"y\": [5, 4, 4, 1, 3]}, {\"y\": [5, 4, 5, 1, 3]}, {\"y\": [5, 4, 3, 1, 2]}, {\"y\": [5, 4, 2, 1, 2]}, {\"y\": [5, 4, 4, 1, 2]}, {\"y\": [5, 4, 5, 1, 2]}, {\"y\": [5, 4, 4, 1, 1]}, {\"y\": [5, 4, 2, 1, 1]}, {\"y\": [5, 4, 3, 1, 1]}, {\"y\": [5, 4, 5, 1, 1]}, {\"y\": [5, 4, 3, 1, 4]}, {\"y\": [5, 4, 2, 1, 4]}, {\"y\": [5, 4, 4, 1, 4]}, {\"y\": [5, 4, 5, 1, 4]}, {\"y\": [5, 3, 4, 1, 3]}, {\"y\": [5, 1, 4, 1, 3]}, {\"y\": [5, 2, 4, 1, 3]}, {\"y\": [5, 5, 4, 1, 3]}, {\"y\": [5, 3, 2, 1, 3]}, {\"y\": [5, 3, 3, 1, 3]}, {\"y\": [5, 3, 5, 1, 3]}, {\"y\": [5, 1, 3, 1, 3]}, {\"y\": [5, 2, 3, 1, 3]}, {\"y\": [5, 5, 3, 1, 3]}, {\"y\": [5, 1, 2, 1, 3]}, {\"y\": [5, 2, 2, 1, 3]}, {\"y\": [5, 5, 2, 1, 3]}, {\"y\": [5, 1, 5, 1, 3]}, {\"y\": [5, 2, 5, 1, 3]}, {\"y\": [5, 5, 5, 1, 3]}, {\"y\": [5, 3, 2, 1, 2]}, {\"y\": [5, 3, 2, 1, 1]}, {\"y\": [5, 3, 2, 1, 4]}, {\"y\": [5, 3, 3, 1, 2]}, {\"y\": [5, 3, 3, 1, 1]}, {\"y\": [5, 3, 3, 1, 4]}, {\"y\": [5, 3, 4, 1, 2]}, {\"y\": [5, 3, 5, 1, 2]}, {\"y\": [5, 3, 4, 1, 1]}, {\"y\": [5, 3, 4, 1, 4]}, {\"y\": [5, 3, 5, 1, 1]}, {\"y\": [5, 3, 5, 1, 4]}, {\"y\": [5, 1, 4, 1, 1]}, {\"y\": [5, 2, 4, 1, 1]}, {\"y\": [5, 5, 4, 1, 1]}, {\"y\": [5, 2, 3, 1, 1]}, {\"y\": [5, 1, 3, 1, 1]}, {\"y\": [5, 5, 3, 1, 1]}, {\"y\": [5, 1, 2, 1, 1]}, {\"y\": [5, 1, 5, 1, 1]}, {\"y\": [5, 2, 2, 1, 1]}, {\"y\": [5, 5, 2, 1, 1]}, {\"y\": [5, 2, 5, 1, 1]}, {\"y\": [5, 5, 5, 1, 1]}, {\"y\": [5, 2, 2, 1, 2]}, {\"y\": [5, 2, 2, 1, 4]}, {\"y\": [5, 2, 4, 1, 2]}, {\"y\": [5, 2, 4, 1, 4]}, {\"y\": [5, 2, 3, 1, 2]}, {\"y\": [5, 2, 5, 1, 2]}, {\"y\": [5, 2, 3, 1, 4]}, {\"y\": [5, 2, 5, 1, 4]}, {\"y\": [5, 1, 3, 1, 2]}, {\"y\": [5, 5, 3, 1, 2]}, {\"y\": [5, 1, 3, 1, 4]}, {\"y\": [5, 5, 3, 1, 4]}, {\"y\": [5, 1, 4, 1, 2]}, {\"y\": [5, 1, 2, 1, 2]}, {\"y\": [5, 1, 5, 1, 2]}, {\"y\": [5, 5, 4, 1, 2]}, {\"y\": [5, 5, 2, 1, 2]}, {\"y\": [5, 5, 5, 1, 2]}, {\"y\": [5, 1, 4, 1, 4]}, {\"y\": [5, 1, 2, 1, 4]}, {\"y\": [5, 1, 5, 1, 4]}, {\"y\": [5, 5, 4, 1, 4]}, {\"y\": [5, 5, 2, 1, 4]}, {\"y\": [5, 5, 5, 1, 4]}, {\"y\": [3, 1, 4, 1, 2]}, {\"y\": [2, 1, 4, 1, 2]}, {\"y\": [1, 1, 4, 1, 2]}, {\"y\": [2, 1, 2, 1, 2]}, {\"y\": [3, 1, 2, 1, 2]}, {\"y\": [1, 1, 2, 1, 2]}, {\"y\": [3, 1, 3, 1, 2]}, {\"y\": [2, 1, 3, 1, 2]}, {\"y\": [1, 1, 3, 1, 2]}, {\"y\": [2, 1, 5, 1, 2]}, {\"y\": [3, 1, 5, 1, 2]}, {\"y\": [1, 1, 5, 1, 2]}, {\"y\": [3, 2, 3, 1, 2]}, {\"y\": [3, 5, 3, 1, 2]}, {\"y\": [3, 3, 3, 1, 2]}, {\"y\": [3, 4, 3, 1, 2]}, {\"y\": [2, 2, 3, 1, 2]}, {\"y\": [1, 2, 3, 1, 2]}, {\"y\": [2, 5, 3, 1, 2]}, {\"y\": [2, 3, 3, 1, 2]}, {\"y\": [2, 4, 3, 1, 2]}, {\"y\": [1, 5, 3, 1, 2]}, {\"y\": [1, 3, 3, 1, 2]}, {\"y\": [1, 4, 3, 1, 2]}, {\"y\": [2, 5, 2, 1, 2]}, {\"y\": [2, 5, 4, 1, 2]}, {\"y\": [2, 5, 5, 1, 2]}, {\"y\": [2, 3, 2, 1, 2]}, {\"y\": [2, 2, 2, 1, 2]}, {\"y\": [2, 4, 2, 1, 2]}, {\"y\": [2, 3, 4, 1, 2]}, {\"y\": [2, 3, 5, 1, 2]}, {\"y\": [2, 2, 4, 1, 2]}, {\"y\": [2, 4, 4, 1, 2]}, {\"y\": [2, 2, 5, 1, 2]}, {\"y\": [2, 4, 5, 1, 2]}, {\"y\": [3, 3, 4, 1, 2]}, {\"y\": [1, 3, 4, 1, 2]}, {\"y\": [3, 3, 2, 1, 2]}, {\"y\": [1, 3, 2, 1, 2]}, {\"y\": [3, 3, 5, 1, 2]}, {\"y\": [1, 3, 5, 1, 2]}, {\"y\": [3, 2, 4, 1, 2]}, {\"y\": [3, 5, 4, 1, 2]}, {\"y\": [3, 4, 4, 1, 2]}, {\"y\": [1, 2, 4, 1, 2]}, {\"y\": [1, 5, 4, 1, 2]}, {\"y\": [1, 4, 4, 1, 2]}, {\"y\": [3, 2, 2, 1, 2]}, {\"y\": [3, 2, 5, 1, 2]}, {\"y\": [3, 5, 2, 1, 2]}, {\"y\": [3, 4, 2, 1, 2]}, {\"y\": [3, 5, 5, 1, 2]}, {\"y\": [3, 4, 5, 1, 2]}, {\"y\": [1, 5, 2, 1, 2]}, {\"y\": [1, 5, 5, 1, 2]}, {\"y\": [1, 2, 2, 1, 2]}, {\"y\": [1, 4, 2, 1, 2]}, {\"y\": [1, 2, 5, 1, 2]}, {\"y\": [1, 4, 5, 1, 2]}, {\"y\": [3, 2, 2, 1, 4]}, {\"y\": [3, 2, 2, 1, 1]}, {\"y\": [3, 2, 2, 1, 3]}, {\"y\": [1, 2, 2, 1, 4]}, {\"y\": [1, 2, 2, 1, 1]}, {\"y\": [1, 2, 2, 1, 3]}, {\"y\": [2, 2, 2, 1, 4]}, {\"y\": [2, 2, 2, 1, 1]}, {\"y\": [2, 2, 2, 1, 3]}, {\"y\": [3, 5, 2, 1, 4]}, {\"y\": [3, 5, 2, 1, 1]}, {\"y\": [3, 5, 2, 1, 3]}, {\"y\": [3, 3, 2, 1, 1]}, {\"y\": [3, 4, 2, 1, 1]}, {\"y\": [3, 1, 2, 1, 1]}, {\"y\": [3, 3, 2, 1, 4]}, {\"y\": [3, 3, 2, 1, 3]}, {\"y\": [3, 4, 2, 1, 4]}, {\"y\": [3, 1, 2, 1, 4]}, {\"y\": [3, 4, 2, 1, 3]}, {\"y\": [3, 1, 2, 1, 3]}, {\"y\": [1, 3, 2, 1, 4]}, {\"y\": [2, 3, 2, 1, 4]}, {\"y\": [1, 4, 2, 1, 4]}, {\"y\": [1, 5, 2, 1, 4]}, {\"y\": [1, 1, 2, 1, 4]}, {\"y\": [2, 4, 2, 1, 4]}, {\"y\": [2, 5, 2, 1, 4]}, {\"y\": [2, 1, 2, 1, 4]}, {\"y\": [1, 3, 2, 1, 1]}, {\"y\": [1, 3, 2, 1, 3]}, {\"y\": [2, 3, 2, 1, 1]}, {\"y\": [2, 3, 2, 1, 3]}, {\"y\": [1, 4, 2, 1, 1]}, {\"y\": [1, 5, 2, 1, 1]}, {\"y\": [1, 1, 2, 1, 1]}, {\"y\": [1, 4, 2, 1, 3]}, {\"y\": [1, 5, 2, 1, 3]}, {\"y\": [1, 1, 2, 1, 3]}, {\"y\": [2, 4, 2, 1, 1]}, {\"y\": [2, 5, 2, 1, 1]}, {\"y\": [2, 1, 2, 1, 1]}, {\"y\": [2, 4, 2, 1, 3]}, {\"y\": [2, 5, 2, 1, 3]}, {\"y\": [2, 1, 2, 1, 3]}, {\"y\": [1, 4, 4, 1, 1]}, {\"y\": [1, 4, 5, 1, 1]}, {\"y\": [1, 4, 3, 1, 1]}, {\"y\": [1, 5, 4, 1, 1]}, {\"y\": [1, 5, 5, 1, 1]}, {\"y\": [1, 5, 3, 1, 1]}, {\"y\": [1, 3, 4, 1, 1]}, {\"y\": [1, 3, 5, 1, 1]}, {\"y\": [1, 3, 3, 1, 1]}, {\"y\": [1, 2, 4, 1, 1]}, {\"y\": [1, 1, 4, 1, 1]}, {\"y\": [1, 2, 5, 1, 1]}, {\"y\": [1, 2, 3, 1, 1]}, {\"y\": [1, 1, 5, 1, 1]}, {\"y\": [1, 1, 3, 1, 1]}, {\"y\": [2, 2, 5, 1, 1]}, {\"y\": [3, 2, 5, 1, 1]}, {\"y\": [2, 2, 4, 1, 1]}, {\"y\": [3, 2, 4, 1, 1]}, {\"y\": [2, 2, 3, 1, 1]}, {\"y\": [3, 2, 3, 1, 1]}, {\"y\": [2, 5, 4, 1, 1]}, {\"y\": [2, 3, 4, 1, 1]}, {\"y\": [2, 4, 4, 1, 1]}, {\"y\": [2, 1, 4, 1, 1]}, {\"y\": [2, 3, 5, 1, 1]}, {\"y\": [2, 5, 5, 1, 1]}, {\"y\": [2, 4, 5, 1, 1]}, {\"y\": [2, 1, 5, 1, 1]}, {\"y\": [2, 4, 3, 1, 1]}, {\"y\": [2, 5, 3, 1, 1]}, {\"y\": [2, 3, 3, 1, 1]}, {\"y\": [2, 1, 3, 1, 1]}, {\"y\": [3, 3, 5, 1, 1]}, {\"y\": [3, 5, 5, 1, 1]}, {\"y\": [3, 4, 5, 1, 1]}, {\"y\": [3, 1, 5, 1, 1]}, {\"y\": [3, 4, 4, 1, 1]}, {\"y\": [3, 4, 3, 1, 1]}, {\"y\": [3, 5, 4, 1, 1]}, {\"y\": [3, 3, 4, 1, 1]}, {\"y\": [3, 1, 4, 1, 1]}, {\"y\": [3, 3, 3, 1, 1]}, {\"y\": [3, 5, 3, 1, 1]}, {\"y\": [3, 1, 3, 1, 1]}, {\"y\": [3, 5, 4, 1, 3]}, {\"y\": [3, 5, 4, 1, 4]}, {\"y\": [3, 3, 4, 1, 3]}, {\"y\": [3, 3, 4, 1, 4]}, {\"y\": [3, 4, 4, 1, 3]}, {\"y\": [3, 4, 4, 1, 4]}, {\"y\": [3, 2, 4, 1, 3]}, {\"y\": [3, 1, 4, 1, 3]}, {\"y\": [3, 2, 4, 1, 4]}, {\"y\": [3, 1, 4, 1, 4]}, {\"y\": [3, 2, 5, 1, 3]}, {\"y\": [3, 2, 3, 1, 3]}, {\"y\": [3, 2, 5, 1, 4]}, {\"y\": [3, 2, 3, 1, 4]}, {\"y\": [3, 3, 5, 1, 3]}, {\"y\": [3, 4, 5, 1, 3]}, {\"y\": [3, 5, 5, 1, 3]}, {\"y\": [3, 1, 5, 1, 3]}, {\"y\": [3, 4, 3, 1, 3]}, {\"y\": [3, 5, 3, 1, 3]}, {\"y\": [3, 3, 3, 1, 3]}, {\"y\": [3, 1, 3, 1, 3]}, {\"y\": [3, 3, 5, 1, 4]}, {\"y\": [3, 5, 5, 1, 4]}, {\"y\": [3, 4, 5, 1, 4]}, {\"y\": [3, 1, 5, 1, 4]}, {\"y\": [3, 4, 3, 1, 4]}, {\"y\": [3, 5, 3, 1, 4]}, {\"y\": [3, 3, 3, 1, 4]}, {\"y\": [3, 1, 3, 1, 4]}, {\"y\": [2, 3, 5, 1, 3]}, {\"y\": [1, 3, 5, 1, 3]}, {\"y\": [2, 5, 5, 1, 3]}, {\"y\": [1, 5, 5, 1, 3]}, {\"y\": [2, 4, 5, 1, 3]}, {\"y\": [1, 4, 5, 1, 3]}, {\"y\": [2, 2, 5, 1, 3]}, {\"y\": [2, 1, 5, 1, 3]}, {\"y\": [1, 2, 5, 1, 3]}, {\"y\": [1, 1, 5, 1, 3]}, {\"y\": [2, 2, 5, 1, 4]}, {\"y\": [1, 2, 5, 1, 4]}, {\"y\": [2, 4, 5, 1, 4]}, {\"y\": [2, 5, 5, 1, 4]}, {\"y\": [2, 3, 5, 1, 4]}, {\"y\": [2, 1, 5, 1, 4]}, {\"y\": [1, 4, 5, 1, 4]}, {\"y\": [1, 5, 5, 1, 4]}, {\"y\": [1, 3, 5, 1, 4]}, {\"y\": [1, 1, 5, 1, 4]}, {\"y\": [2, 2, 3, 1, 4]}, {\"y\": [2, 2, 4, 1, 4]}, {\"y\": [2, 3, 3, 1, 4]}, {\"y\": [2, 3, 4, 1, 4]}, {\"y\": [2, 4, 3, 1, 4]}, {\"y\": [2, 4, 4, 1, 4]}, {\"y\": [2, 5, 3, 1, 4]}, {\"y\": [2, 1, 3, 1, 4]}, {\"y\": [2, 5, 4, 1, 4]}, {\"y\": [2, 1, 4, 1, 4]}, {\"y\": [1, 5, 3, 1, 4]}, {\"y\": [1, 4, 3, 1, 4]}, {\"y\": [1, 3, 3, 1, 4]}, {\"y\": [1, 2, 3, 1, 4]}, {\"y\": [1, 1, 3, 1, 4]}, {\"y\": [1, 5, 4, 1, 4]}, {\"y\": [1, 4, 4, 1, 4]}, {\"y\": [1, 3, 4, 1, 4]}, {\"y\": [1, 2, 4, 1, 4]}, {\"y\": [1, 1, 4, 1, 4]}, {\"y\": [1, 5, 3, 1, 3]}, {\"y\": [1, 2, 3, 1, 3]}, {\"y\": [1, 4, 3, 1, 3]}, {\"y\": [1, 3, 3, 1, 3]}, {\"y\": [1, 1, 3, 1, 3]}, {\"y\": [1, 3, 4, 1, 3]}, {\"y\": [1, 4, 4, 1, 3]}, {\"y\": [1, 2, 4, 1, 3]}, {\"y\": [1, 5, 4, 1, 3]}, {\"y\": [1, 1, 4, 1, 3]}, {\"y\": [2, 5, 3, 1, 3]}, {\"y\": [2, 2, 3, 1, 3]}, {\"y\": [2, 4, 3, 1, 3]}, {\"y\": [2, 3, 3, 1, 3]}, {\"y\": [2, 1, 3, 1, 3]}, {\"y\": [2, 3, 4, 1, 3]}, {\"y\": [2, 4, 4, 1, 3]}, {\"y\": [2, 2, 4, 1, 3]}, {\"y\": [2, 5, 4, 1, 3]}, {\"y\": [2, 1, 4, 1, 3]}, {\"y\": [2, 5, 3, 2, 3]}, {\"y\": [2, 5, 3, 4, 3]}, {\"y\": [2, 5, 3, 3, 3]}, {\"y\": [2, 5, 3, 5, 3]}, {\"y\": [2, 2, 3, 3, 3]}, {\"y\": [2, 2, 3, 4, 3]}, {\"y\": [2, 2, 3, 2, 3]}, {\"y\": [2, 2, 3, 5, 3]}, {\"y\": [2, 4, 3, 2, 3]}, {\"y\": [2, 4, 3, 4, 3]}, {\"y\": [2, 4, 3, 3, 3]}, {\"y\": [2, 4, 3, 5, 3]}, {\"y\": [2, 3, 3, 3, 3]}, {\"y\": [2, 3, 3, 4, 3]}, {\"y\": [2, 3, 3, 2, 3]}, {\"y\": [2, 3, 3, 5, 3]}, {\"y\": [2, 1, 3, 2, 3]}, {\"y\": [2, 1, 3, 4, 3]}, {\"y\": [2, 1, 3, 3, 3]}, {\"y\": [2, 1, 3, 5, 3]}, {\"y\": [2, 3, 4, 3, 3]}, {\"y\": [2, 3, 5, 3, 3]}, {\"y\": [2, 3, 2, 3, 3]}, {\"y\": [2, 3, 1, 3, 3]}, {\"y\": [2, 3, 4, 4, 3]}, {\"y\": [2, 3, 5, 4, 3]}, {\"y\": [2, 3, 2, 4, 3]}, {\"y\": [2, 3, 1, 4, 3]}, {\"y\": [2, 3, 4, 2, 3]}, {\"y\": [2, 3, 4, 5, 3]}, {\"y\": [2, 3, 5, 2, 3]}, {\"y\": [2, 3, 2, 2, 3]}, {\"y\": [2, 3, 1, 2, 3]}, {\"y\": [2, 3, 5, 5, 3]}, {\"y\": [2, 3, 2, 5, 3]}, {\"y\": [2, 3, 1, 5, 3]}, {\"y\": [2, 4, 4, 2, 3]}, {\"y\": [2, 2, 4, 2, 3]}, {\"y\": [2, 5, 4, 2, 3]}, {\"y\": [2, 1, 4, 2, 3]}, {\"y\": [2, 4, 5, 2, 3]}, {\"y\": [2, 2, 5, 2, 3]}, {\"y\": [2, 5, 5, 2, 3]}, {\"y\": [2, 1, 5, 2, 3]}, {\"y\": [2, 4, 2, 2, 3]}, {\"y\": [2, 4, 1, 2, 3]}, {\"y\": [2, 2, 2, 2, 3]}, {\"y\": [2, 5, 2, 2, 3]}, {\"y\": [2, 1, 2, 2, 3]}, {\"y\": [2, 5, 1, 2, 3]}, {\"y\": [2, 2, 1, 2, 3]}, {\"y\": [2, 1, 1, 2, 3]}, {\"y\": [2, 2, 2, 4, 3]}, {\"y\": [2, 2, 2, 3, 3]}, {\"y\": [2, 2, 2, 5, 3]}, {\"y\": [2, 5, 2, 4, 3]}, {\"y\": [2, 5, 2, 3, 3]}, {\"y\": [2, 5, 2, 5, 3]}, {\"y\": [2, 4, 2, 4, 3]}, {\"y\": [2, 1, 2, 4, 3]}, {\"y\": [2, 4, 2, 3, 3]}, {\"y\": [2, 4, 2, 5, 3]}, {\"y\": [2, 1, 2, 3, 3]}, {\"y\": [2, 1, 2, 5, 3]}, {\"y\": [2, 4, 5, 3, 3]}, {\"y\": [2, 4, 4, 3, 3]}, {\"y\": [2, 4, 1, 3, 3]}, {\"y\": [2, 4, 4, 4, 3]}, {\"y\": [2, 4, 5, 4, 3]}, {\"y\": [2, 4, 1, 4, 3]}, {\"y\": [2, 4, 5, 5, 3]}, {\"y\": [2, 4, 4, 5, 3]}, {\"y\": [2, 4, 1, 5, 3]}, {\"y\": [2, 2, 4, 4, 3]}, {\"y\": [2, 5, 4, 4, 3]}, {\"y\": [3, 2, 1, 1]}, {\"y\": [3, 2, 1, 2]}, {\"y\": [3, 2, 1, 3]}, {\"y\": [3, 2, 1, 4]}, {\"y\": [3, 2, 1, 5]}, {\"y\": [3, 2, 2, 1]}, {\"y\": [3, 2, 2, 2]}, {\"y\": [3, 2, 2, 3]}, {\"y\": [3, 2, 2, 4]}, {\"y\": [3, 2, 2, 5]}, {\"y\": [3, 2, 3, 1]}, {\"y\": [3, 2, 3, 2]}, {\"y\": [3, 2, 3, 3]}, {\"y\": [3, 2, 3, 4]}, {\"y\": [3, 2, 3, 5]}, {\"y\": [3, 2, 4, 1]}, {\"y\": [3, 2, 4, 2]}, {\"y\": [3, 2, 4, 3]}, {\"y\": [3, 2, 4, 4]}, {\"y\": [3, 2, 4, 5]}, {\"y\": [3, 2, 5, 1]}, {\"y\": [3, 2, 5, 2]}, {\"y\": [3, 2, 5, 3]}, {\"y\": [3, 2, 5, 4]}, {\"y\": [3, 2, 5, 5]}, {\"y\": [3, 3, 1, 1]}, {\"y\": [3, 3, 1, 2]}, {\"y\": [3, 3, 1, 3]}, {\"y\": [3, 3, 1, 4]}, {\"y\": [3, 3, 1, 5]}, {\"y\": [3, 3, 2, 1]}, {\"y\": [3, 3, 2, 2]}, {\"y\": [3, 3, 2, 3]}, {\"y\": [3, 3, 2, 4]}, {\"y\": [3, 3, 2, 5]}, {\"y\": [3, 3, 3, 1]}, {\"y\": [3, 3, 3, 2]}, {\"y\": [3, 3, 3, 3]}, {\"y\": [3, 3, 3, 4]}, {\"y\": [3, 3, 3, 5]}, {\"y\": [3, 3, 4, 1]}, {\"y\": [3, 3, 4, 2]}, {\"y\": [3, 3, 4, 3]}, {\"y\": [3, 3, 4, 4]}, {\"y\": [3, 3, 4, 5]}, {\"y\": [3, 3, 5, 1]}, {\"y\": [3, 3, 5, 2]}, {\"y\": [3, 3, 5, 3]}, {\"y\": [3, 3, 5, 4]}, {\"y\": [3, 3, 5, 5]}, {\"y\": [3, 4, 1, 1]}, {\"y\": [3, 4, 1, 2]}, {\"y\": [3, 4, 1, 3]}, {\"y\": [3, 4, 1, 4]}, {\"y\": [3, 4, 1, 5]}, {\"y\": [3, 4, 2, 1]}, {\"y\": [3, 4, 2, 2]}, {\"y\": [3, 4, 2, 3]}, {\"y\": [3, 4, 2, 4]}, {\"y\": [3, 4, 2, 5]}, {\"y\": [3, 4, 3, 1]}, {\"y\": [3, 4, 3, 2]}, {\"y\": [3, 4, 3, 3]}, {\"y\": [3, 4, 3, 4]}, {\"y\": [3, 4, 3, 5]}, {\"y\": [3, 4, 4, 1]}, {\"y\": [3, 4, 4, 2]}, {\"y\": [3, 4, 4, 3]}, {\"y\": [3, 4, 4, 4]}, {\"y\": [3, 4, 4, 5]}, {\"y\": [3, 4, 5, 1]}, {\"y\": [3, 4, 5, 2]}, {\"y\": [3, 4, 5, 3]}, {\"y\": [3, 4, 5, 4]}, {\"y\": [3, 4, 5, 5]}, {\"y\": [3, 5, 1, 1]}, {\"y\": [3, 5, 1, 2]}, {\"y\": [3, 5, 1, 3]}, {\"y\": [3, 5, 1, 4]}, {\"y\": [3, 5, 1, 5]}, {\"y\": [3, 5, 2, 1]}, {\"y\": [3, 5, 2, 2]}, {\"y\": [3, 5, 2, 3]}, {\"y\": [3, 5, 2, 4]}, {\"y\": [3, 5, 2, 5]}, {\"y\": [3, 5, 3, 1]}, {\"y\": [3, 5, 3, 2]}, {\"y\": [3, 5, 3, 3]}, {\"y\": [3, 5, 3, 4]}, {\"y\": [3, 5, 3, 5]}, {\"y\": [3, 5, 4, 1]}, {\"y\": [3, 5, 4, 2]}, {\"y\": [3, 5, 4, 3]}, {\"y\": [3, 5, 4, 4]}, {\"y\": [3, 5, 4, 5]}, {\"y\": [3, 5, 5, 1]}, {\"y\": [3, 5, 5, 2]}, {\"y\": [3, 5, 5, 3]}, {\"y\": [3, 5, 5, 4]}, {\"y\": [3, 5, 5, 5]}, {\"y\": [4, 1, 1, 1]}, {\"y\": [4, 1, 1, 2]}, {\"y\": [4, 1, 1, 3]}, {\"y\": [4, 1, 1, 4]}, {\"y\": [4, 1, 1, 5]}, {\"y\": [4, 1, 2, 1]}, {\"y\": [4, 1, 2, 2]}, {\"y\": [4, 1, 2, 3]}, {\"y\": [4, 1, 2, 4]}, {\"y\": [4, 1, 2, 5]}, {\"y\": [4, 1, 3, 1]}, {\"y\": [4, 1, 3, 2]}, {\"y\": [4, 1, 3, 3]}, {\"y\": [4, 1, 3, 4]}, {\"y\": [4, 1, 3, 5]}, {\"y\": [4, 1, 4, 1]}, {\"y\": [4, 1, 4, 2]}, {\"y\": [4, 1, 4, 3]}, {\"y\": [4, 1, 4, 4]}, {\"y\": [4, 1, 4, 5]}, {\"y\": [4, 1, 5, 1]}, {\"y\": [4, 1, 5, 2]}, {\"y\": [4, 1, 5, 3]}, {\"y\": [4, 1, 5, 4]}, {\"y\": [4, 1, 5, 5]}, {\"y\": [4, 2, 1, 1]}, {\"y\": [4, 2, 1, 2]}, {\"y\": [4, 2, 1, 3]}, {\"y\": [4, 2, 1, 4]}, {\"y\": [4, 2, 1, 5]}, {\"y\": [4, 2, 2, 1]}, {\"y\": [4, 2, 2, 2]}, {\"y\": [4, 2, 2, 3]}, {\"y\": [4, 2, 2, 4]}, {\"y\": [4, 2, 2, 5]}, {\"y\": [4, 2, 3, 1]}, {\"y\": [4, 2, 3, 2]}, {\"y\": [4, 2, 3, 3]}, {\"y\": [4, 2, 3, 4]}, {\"y\": [4, 2, 3, 5]}, {\"y\": [4, 2, 4, 1]}, {\"y\": [4, 2, 4, 2]}, {\"y\": [4, 2, 4, 3]}, {\"y\": [4, 2, 4, 4]}, {\"y\": [4, 2, 4, 5]}, {\"y\": [4, 2, 5, 1]}, {\"y\": [4, 2, 5, 2]}, {\"y\": [4, 2, 5, 3]}, {\"y\": [4, 2, 5, 4]}, {\"y\": [4, 2, 5, 5]}, {\"y\": [4, 3, 1, 1]}, {\"y\": [4, 3, 1, 2]}, {\"y\": [4, 3, 1, 3]}, {\"y\": [4, 3, 1, 4]}, {\"y\": [4, 3, 1, 5]}, {\"y\": [4, 3, 2, 1]}, {\"y\": [4, 3, 2, 2]}, {\"y\": [4, 3, 2, 3]}, {\"y\": [4, 3, 2, 4]}, {\"y\": [4, 3, 2, 5]}, {\"y\": [4, 3, 3, 1]}, {\"y\": [4, 3, 3, 2]}, {\"y\": [4, 3, 3, 3]}, {\"y\": [4, 3, 3, 4]}, {\"y\": [4, 3, 3, 5]}, {\"y\": [4, 3, 4, 1]}, {\"y\": [4, 3, 4, 2]}, {\"y\": [4, 3, 4, 3]}, {\"y\": [4, 3, 4, 4]}, {\"y\": [4, 3, 4, 5]}, {\"y\": [4, 3, 5, 1]}, {\"y\": [4, 3, 5, 2]}, {\"y\": [4, 3, 5, 3]}, {\"y\": [4, 3, 5, 4]}, {\"y\": [4, 3, 5, 5]}, {\"y\": [4, 4, 1, 1]}, {\"y\": [4, 4, 1, 2]}, {\"y\": [4, 4, 1, 3]}, {\"y\": [4, 4, 1, 4]}, {\"y\": [4, 4, 1, 5]}, {\"y\": [4, 4, 2, 1]}, {\"y\": [4, 4, 2, 2]}, {\"y\": [4, 4, 2, 3]}, {\"y\": [4, 4, 2, 4]}, {\"y\": [4, 4, 2, 5]}, {\"y\": [4, 4, 3, 1]}, {\"y\": [4, 4, 3, 2]}, {\"y\": [4, 4, 3, 3]}, {\"y\": [4, 4, 3, 4]}, {\"y\": [4, 4, 3, 5]}, {\"y\": [4, 4, 4, 1]}, {\"y\": [4, 4, 4, 2]}, {\"y\": [4, 4, 4, 3]}, {\"y\": [4, 4, 4, 4]}, {\"y\": [4, 4, 4, 5]}, {\"y\": [4, 4, 5, 1]}, {\"y\": [4, 4, 5, 2]}, {\"y\": [4, 4, 5, 3]}, {\"y\": [4, 4, 5, 4]}, {\"y\": [4, 4, 5, 5]}, {\"y\": [2, 1, 4, 4, 3]}, {\"y\": [2, 2, 5, 4, 3]}, {\"y\": [2, 2, 1, 4, 3]}, {\"y\": [2, 5, 5, 4, 3]}, {\"y\": [2, 1, 5, 4, 3]}, {\"y\": [2, 5, 1, 4, 3]}, {\"y\": [2, 1, 1, 4, 3]}, {\"y\": [2, 5, 5, 3, 3]}, {\"y\": [2, 5, 5, 5, 3]}, {\"y\": [2, 5, 1, 3, 3]}, {\"y\": [2, 5, 1, 5, 3]}, {\"y\": [2, 5, 4, 3, 3]}, {\"y\": [2, 5, 4, 5, 3]}, {\"y\": [2, 2, 5, 3, 3]}, {\"y\": [2, 1, 5, 3, 3]}, {\"y\": [2, 2, 5, 5, 3]}, {\"y\": [2, 1, 5, 5, 3]}, {\"y\": [2, 2, 1, 3, 3]}, {\"y\": [2, 2, 4, 3, 3]}, {\"y\": [2, 1, 1, 3, 3]}, {\"y\": [2, 1, 4, 3, 3]}, {\"y\": [2, 2, 1, 5, 3]}, {\"y\": [2, 2, 4, 5, 3]}, {\"y\": [2, 1, 1, 5, 3]}, {\"y\": [2, 1, 4, 5, 3]}, {\"y\": [1, 2, 1, 3, 3]}, {\"y\": [3, 2, 1, 3, 3]}, {\"y\": [5, 2, 1, 3, 3]}, {\"y\": [4, 2, 1, 3, 3]}, {\"y\": [5, 2, 1, 5, 3]}, {\"y\": [3, 2, 1, 5, 3]}, {\"y\": [1, 2, 1, 5, 3]}, {\"y\": [4, 2, 1, 5, 3]}, {\"y\": [1, 2, 1, 4, 3]}, {\"y\": [3, 2, 1, 4, 3]}, {\"y\": [5, 2, 1, 4, 3]}, {\"y\": [4, 2, 1, 4, 3]}, {\"y\": [5, 2, 1, 2, 3]}, {\"y\": [3, 2, 1, 2, 3]}, {\"y\": [1, 2, 1, 2, 3]}, {\"y\": [4, 2, 1, 2, 3]}, {\"y\": [1, 1, 1, 3, 3]}, {\"y\": [1, 5, 1, 3, 3]}, {\"y\": [1, 4, 1, 3, 3]}, {\"y\": [1, 3, 1, 3, 3]}, {\"y\": [3, 1, 1, 3, 3]}, {\"y\": [3, 5, 1, 3, 3]}, {\"y\": [3, 4, 1, 3, 3]}, {\"y\": [3, 3, 1, 3, 3]}, {\"y\": [5, 5, 1, 3, 3]}, {\"y\": [4, 5, 1, 3, 3]}, {\"y\": [5, 1, 1, 3, 3]}, {\"y\": [5, 4, 1, 3, 3]}, {\"y\": [5, 3, 1, 3, 3]}, {\"y\": [4, 1, 1, 3, 3]}, {\"y\": [4, 4, 1, 3, 3]}, {\"y\": [4, 3, 1, 3, 3]}, {\"y\": [5, 1, 1, 4, 3]}, {\"y\": [5, 1, 1, 5, 3]}, {\"y\": [5, 1, 1, 2, 3]}, {\"y\": [5, 4, 1, 4, 3]}, {\"y\": [5, 4, 1, 5, 3]}, {\"y\": [5, 4, 1, 2, 3]}, {\"y\": [5, 5, 1, 5, 3]}, {\"y\": [5, 3, 1, 5, 3]}, {\"y\": [5, 5, 1, 4, 3]}, {\"y\": [5, 5, 1, 2, 3]}, {\"y\": [5, 3, 1, 4, 3]}, {\"y\": [5, 3, 1, 2, 3]}, {\"y\": [3, 5, 1, 4, 3]}, {\"y\": [1, 5, 1, 4, 3]}, {\"y\": [4, 5, 1, 4, 3]}, {\"y\": [3, 4, 1, 4, 3]}, {\"y\": [1, 4, 1, 4, 3]}, {\"y\": [4, 4, 1, 4, 3]}, {\"y\": [3, 1, 1, 4, 3]}, {\"y\": [3, 3, 1, 4, 3]}, {\"y\": [1, 1, 1, 4, 3]}, {\"y\": [4, 1, 1, 4, 3]}, {\"y\": [1, 3, 1, 4, 3]}, {\"y\": [4, 3, 1, 4, 3]}, {\"y\": [1, 1, 1, 5, 3]}, {\"y\": [1, 1, 1, 2, 3]}, {\"y\": [1, 4, 1, 5, 3]}, {\"y\": [1, 4, 1, 2, 3]}, {\"y\": [1, 5, 1, 5, 3]}, {\"y\": [1, 3, 1, 5, 3]}, {\"y\": [1, 5, 1, 2, 3]}, {\"y\": [1, 3, 1, 2, 3]}, {\"y\": [3, 5, 1, 5, 3]}, {\"y\": [4, 5, 1, 5, 3]}, {\"y\": [3, 5, 1, 2, 3]}, {\"y\": [4, 5, 1, 2, 3]}, {\"y\": [3, 4, 1, 5, 3]}, {\"y\": [3, 1, 1, 5, 3]}, {\"y\": [3, 3, 1, 5, 3]}, {\"y\": [4, 4, 1, 5, 3]}, {\"y\": [4, 1, 1, 5, 3]}, {\"y\": [4, 3, 1, 5, 3]}, {\"y\": [3, 4, 1, 2, 3]}, {\"y\": [3, 1, 1, 2, 3]}, {\"y\": [3, 3, 1, 2, 3]}, {\"y\": [4, 4, 1, 2, 3]}, {\"y\": [4, 1, 1, 2, 3]}, {\"y\": [4, 3, 1, 2, 3]}, {\"y\": [3, 4, 5, 5, 3]}, {\"y\": [3, 4, 4, 5, 3]}, {\"y\": [3, 4, 2, 5, 3]}, {\"y\": [3, 4, 3, 5, 3]}, {\"y\": [3, 1, 2, 5, 3]}, {\"y\": [3, 1, 4, 5, 3]}, {\"y\": [3, 1, 5, 5, 3]}, {\"y\": [3, 1, 3, 5, 3]}, {\"y\": [3, 5, 5, 5, 3]}, {\"y\": [3, 5, 4, 5, 3]}, {\"y\": [3, 5, 2, 5, 3]}, {\"y\": [3, 5, 3, 5, 3]}, {\"y\": [3, 3, 2, 5, 3]}, {\"y\": [3, 2, 2, 5, 3]}, {\"y\": [3, 3, 4, 5, 3]}, {\"y\": [3, 3, 5, 5, 3]}, {\"y\": [3, 3, 3, 5, 3]}, {\"y\": [3, 2, 5, 5, 3]}, {\"y\": [3, 2, 4, 5, 3]}, {\"y\": [3, 2, 3, 5, 3]}, {\"y\": [3, 3, 4, 2, 3]}, {\"y\": [3, 3, 4, 4, 3]}, {\"y\": [3, 3, 4, 3, 3]}, {\"y\": [3, 3, 5, 2, 3]}, {\"y\": [3, 3, 5, 4, 3]}, {\"y\": [3, 3, 5, 3, 3]}, {\"y\": [3, 3, 2, 2, 3]}, {\"y\": [3, 3, 3, 2, 3]}, {\"y\": [3, 3, 2, 4, 3]}, {\"y\": [3, 3, 2, 3, 3]}, {\"y\": [3, 3, 3, 4, 3]}, {\"y\": [3, 3, 3, 3, 3]}, {\"y\": [3, 1, 2, 4, 3]}, {\"y\": [3, 4, 2, 4, 3]}, {\"y\": [3, 5, 2, 4, 3]}, {\"y\": [3, 2, 2, 4, 3]}, {\"y\": [3, 1, 5, 4, 3]}, {\"y\": [3, 4, 5, 4, 3]}, {\"y\": [3, 5, 5, 4, 3]}, {\"y\": [3, 2, 5, 4, 3]}, {\"y\": [3, 1, 4, 4, 3]}, {\"y\": [3, 1, 3, 4, 3]}, {\"y\": [3, 4, 4, 4, 3]}, {\"y\": [3, 5, 4, 4, 3]}, {\"y\": [3, 2, 4, 4, 3]}, {\"y\": [3, 5, 3, 4, 3]}, {\"y\": [3, 4, 3, 4, 3]}, {\"y\": [3, 2, 3, 4, 3]}, {\"y\": [3, 4, 4, 2, 3]}, {\"y\": [3, 4, 4, 3, 3]}, {\"y\": [3, 5, 4, 2, 3]}, {\"y\": [3, 5, 4, 3, 3]}, {\"y\": [3, 1, 4, 2, 3]}, {\"y\": [3, 2, 4, 2, 3]}, {\"y\": [3, 1, 4, 3, 3]}, {\"y\": [3, 2, 4, 3, 3]}, {\"y\": [3, 1, 5, 2, 3]}, {\"y\": [3, 1, 2, 2, 3]}, {\"y\": [3, 1, 3, 2, 3]}, {\"y\": [3, 1, 5, 3, 3]}, {\"y\": [3, 1, 2, 3, 3]}, {\"y\": [3, 1, 3, 3, 3]}, {\"y\": [3, 5, 2, 2, 3]}, {\"y\": [3, 4, 2, 2, 3]}, {\"y\": [3, 2, 2, 2, 3]}, {\"y\": [3, 5, 5, 2, 3]}, {\"y\": [3, 5, 3, 2, 3]}, {\"y\": [3, 4, 5, 2, 3]}, {\"y\": [3, 2, 5, 2, 3]}, {\"y\": [3, 4, 3, 2, 3]}, {\"y\": [3, 2, 3, 2, 3]}, {\"y\": [3, 4, 5, 3, 3]}, {\"y\": [3, 5, 5, 3, 3]}, {\"y\": [3, 2, 5, 3, 3]}, {\"y\": [3, 4, 2, 3, 3]}, {\"y\": [3, 4, 3, 3, 3]}, {\"y\": [3, 5, 2, 3, 3]}, {\"y\": [3, 2, 2, 3, 3]}, {\"y\": [3, 5, 3, 3, 3]}, {\"y\": [3, 2, 3, 3, 3]}, {\"y\": [4, 4, 2, 3, 3]}, {\"y\": [1, 4, 2, 3, 3]}, {\"y\": [5, 4, 2, 3, 3]}, {\"y\": [1, 4, 5, 3, 3]}, {\"y\": [4, 4, 5, 3, 3]}, {\"y\": [5, 4, 5, 3, 3]}, {\"y\": [4, 4, 4, 3, 3]}, {\"y\": [1, 4, 4, 3, 3]}, {\"y\": [5, 4, 4, 3, 3]}, {\"y\": [1, 4, 3, 3, 3]}, {\"y\": [4, 4, 3, 3, 3]}, {\"y\": [5, 4, 3, 3, 3]}, {\"y\": [4, 4, 5, 2, 3]}, {\"y\": [4, 4, 5, 4, 3]}, {\"y\": [4, 4, 5, 5, 3]}, {\"y\": [1, 4, 5, 2, 3]}, {\"y\": [5, 4, 5, 2, 3]}, {\"y\": [1, 4, 5, 4, 3]}, {\"y\": [1, 4, 5, 5, 3]}, {\"y\": [5, 4, 5, 4, 3]}, {\"y\": [5, 4, 5, 5, 3]}, {\"y\": [1, 4, 2, 2, 3]}, {\"y\": [1, 4, 4, 2, 3]}, {\"y\": [1, 4, 3, 2, 3]}, {\"y\": [1, 4, 2, 4, 3]}, {\"y\": [1, 4, 2, 5, 3]}, {\"y\": [1, 4, 4, 4, 3]}, {\"y\": [1, 4, 3, 4, 3]}, {\"y\": [1, 4, 4, 5, 3]}, {\"y\": [1, 4, 3, 5, 3]}, {\"y\": [4, 4, 4, 4, 3]}, {\"y\": [5, 4, 4, 4, 3]}, {\"y\": [4, 4, 2, 4, 3]}, {\"y\": [5, 4, 2, 4, 3]}, {\"y\": [4, 4, 3, 4, 3]}, {\"y\": [5, 4, 3, 4, 3]}, {\"y\": [4, 4, 4, 2, 3]}, {\"y\": [4, 4, 4, 5, 3]}, {\"y\": [4, 4, 2, 2, 3]}, {\"y\": [4, 4, 2, 5, 3]}, {\"y\": [4, 4, 3, 2, 3]}, {\"y\": [4, 4, 3, 5, 3]}, {\"y\": [5, 4, 4, 2, 3]}, {\"y\": [5, 4, 2, 2, 3]}, {\"y\": [5, 4, 3, 2, 3]}, {\"y\": [5, 4, 4, 5, 3]}, {\"y\": [5, 4, 2, 5, 3]}, {\"y\": [5, 4, 3, 5, 3]}, {\"y\": [4, 5, 4, 2, 3]}, {\"y\": [4, 3, 4, 2, 3]}, {\"y\": [4, 2, 4, 2, 3]}, {\"y\": [4, 1, 4, 2, 3]}, {\"y\": [5, 5, 4, 2, 3]}, {\"y\": [5, 3, 4, 2, 3]}, {\"y\": [5, 2, 4, 2, 3]}, {\"y\": [5, 1, 4, 2, 3]}, {\"y\": [1, 5, 4, 2, 3]}, {\"y\": [1, 2, 4, 2, 3]}, {\"y\": [1, 3, 4, 2, 3]}, {\"y\": [1, 1, 4, 2, 3]}, {\"y\": [4, 5, 2, 2, 3]}, {\"y\": [4, 3, 2, 2, 3]}, {\"y\": [4, 2, 2, 2, 3]}, {\"y\": [4, 1, 2, 2, 3]}, {\"y\": [4, 2, 3, 2, 3]}, {\"y\": [4, 2, 5, 2, 3]}, {\"y\": [4, 3, 3, 2, 3]}, {\"y\": [4, 3, 5, 2, 3]}, {\"y\": [4, 5, 3, 2, 3]}, {\"y\": [4, 1, 3, 2, 3]}, {\"y\": [4, 5, 5, 2, 3]}, {\"y\": [4, 1, 5, 2, 3]}, {\"y\": [5, 5, 3, 2, 3]}, {\"y\": [1, 5, 3, 2, 3]}, {\"y\": [5, 3, 3, 2, 3]}, {\"y\": [1, 3, 3, 2, 3]}, {\"y\": [5, 2, 3, 2, 3]}, {\"y\": [5, 1, 3, 2, 3]}, {\"y\": [1, 2, 3, 2, 3]}, {\"y\": [1, 1, 3, 2, 3]}, {\"y\": [5, 2, 2, 2, 3]}, {\"y\": [5, 2, 5, 2, 3]}, {\"y\": [5, 3, 2, 2, 3]}, {\"y\": [5, 3, 5, 2, 3]}, {\"y\": [5, 5, 2, 2, 3]}, {\"y\": [5, 1, 2, 2, 3]}, {\"y\": [5, 5, 5, 2, 3]}, {\"y\": [5, 1, 5, 2, 3]}, {\"y\": [1, 2, 2, 2, 3]}, {\"y\": [1, 2, 5, 2, 3]}, {\"y\": [1, 5, 2, 2, 3]}, {\"y\": [1, 3, 2, 2, 3]}, {\"y\": [1, 1, 2, 2, 3]}, {\"y\": [1, 5, 5, 2, 3]}, {\"y\": [1, 3, 5, 2, 3]}, {\"y\": [1, 1, 5, 2, 3]}, {\"y\": [5, 2, 2, 4, 3]}, {\"y\": [5, 2, 2, 5, 3]}, {\"y\": [5, 2, 2, 3, 3]}, {\"y\": [5, 5, 2, 4, 3]}, {\"y\": [5, 5, 2, 5, 3]}, {\"y\": [5, 5, 2, 3, 3]}, {\"y\": [5, 3, 2, 4, 3]}, {\"y\": [5, 3, 2, 5, 3]}, {\"y\": [5, 3, 2, 3, 3]}, {\"y\": [5, 1, 2, 4, 3]}, {\"y\": [5, 1, 2, 5, 3]}, {\"y\": [5, 1, 2, 3, 3]}, {\"y\": [1, 3, 2, 5, 3]}, {\"y\": [4, 3, 2, 5, 3]}, {\"y\": [1, 3, 2, 4, 3]}, {\"y\": [1, 3, 2, 3, 3]}, {\"y\": [4, 3, 2, 4, 3]}, {\"y\": [4, 3, 2, 3, 3]}, {\"y\": [1, 5, 2, 4, 3]}, {\"y\": [1, 2, 2, 4, 3]}, {\"y\": [1, 1, 2, 4, 3]}, {\"y\": [4, 5, 2, 4, 3]}, {\"y\": [4, 2, 2, 4, 3]}, {\"y\": [4, 1, 2, 4, 3]}, {\"y\": [1, 5, 2, 5, 3]}, {\"y\": [1, 5, 2, 3, 3]}, {\"y\": [1, 2, 2, 5, 3]}, {\"y\": [1, 2, 2, 3, 3]}, {\"y\": [1, 1, 2, 5, 3]}, {\"y\": [1, 1, 2, 3, 3]}, {\"y\": [4, 2, 2, 5, 3]}, {\"y\": [4, 5, 2, 5, 3]}, {\"y\": [4, 1, 2, 5, 3]}, {\"y\": [4, 2, 2, 3, 3]}, {\"y\": [4, 5, 2, 3, 3]}, {\"y\": [4, 1, 2, 3, 3]}, {\"y\": [1, 5, 3, 5, 3]}, {\"y\": [1, 5, 5, 5, 3]}, {\"y\": [1, 5, 4, 5, 3]}, {\"y\": [1, 2, 3, 5, 3]}, {\"y\": [1, 2, 5, 5, 3]}, {\"y\": [1, 2, 4, 5, 3]}, {\"y\": [1, 3, 3, 5, 3]}, {\"y\": [1, 3, 5, 5, 3]}, {\"y\": [1, 3, 4, 5, 3]}, {\"y\": [1, 1, 3, 5, 3]}, {\"y\": [1, 1, 5, 5, 3]}, {\"y\": [1, 1, 4, 5, 3]}, {\"y\": [4, 2, 3, 5, 3]}, {\"y\": [5, 2, 3, 5, 3]}, {\"y\": [4, 2, 5, 5, 3]}, {\"y\": [4, 2, 4, 5, 3]}, {\"y\": [5, 2, 5, 5, 3]}, {\"y\": [5, 2, 4, 5, 3]}, {\"y\": [4, 5, 5, 5, 3]}, {\"y\": [4, 3, 5, 5, 3]}, {\"y\": [4, 1, 5, 5, 3]}, {\"y\": [5, 5, 5, 5, 3]}, {\"y\": [5, 3, 5, 5, 3]}, {\"y\": [5, 1, 5, 5, 3]}, {\"y\": [4, 5, 3, 5, 3]}, {\"y\": [4, 5, 4, 5, 3]}, {\"y\": [4, 3, 3, 5, 3]}, {\"y\": [4, 3, 4, 5, 3]}, {\"y\": [4, 1, 3, 5, 3]}, {\"y\": [4, 1, 4, 5, 3]}, {\"y\": [5, 3, 3, 5, 3]}, {\"y\": [5, 5, 3, 5, 3]}, {\"y\": [5, 1, 3, 5, 3]}, {\"y\": [5, 3, 4, 5, 3]}, {\"y\": [5, 5, 4, 5, 3]}, {\"y\": [5, 1, 4, 5, 3]}, {\"y\": [4, 3, 3, 4, 3]}, {\"y\": [4, 3, 3, 3, 3]}, {\"y\": [4, 5, 3, 4, 3]}, {\"y\": [4, 5, 3, 3, 3]}, {\"y\": [4, 2, 3, 4, 3]}, {\"y\": [4, 2, 3, 3, 3]}, {\"y\": [4, 1, 3, 4, 3]}, {\"y\": [4, 1, 3, 3, 3]}, {\"y\": [5, 5, 3, 4, 3]}, {\"y\": [1, 5, 3, 4, 3]}, {\"y\": [5, 5, 3, 3, 3]}, {\"y\": [1, 5, 3, 3, 3]}, {\"y\": [5, 3, 3, 4, 3]}, {\"y\": [5, 2, 3, 4, 3]}, {\"y\": [5, 1, 3, 4, 3]}, {\"y\": [1, 3, 3, 4, 3]}, {\"y\": [1, 2, 3, 4, 3]}, {\"y\": [1, 1, 3, 4, 3]}, {\"y\": [5, 3, 3, 3, 3]}, {\"y\": [5, 2, 3, 3, 3]}, {\"y\": [5, 1, 3, 3, 3]}, {\"y\": [1, 3, 3, 3, 3]}, {\"y\": [1, 2, 3, 3, 3]}, {\"y\": [1, 1, 3, 3, 3]}, {\"y\": [5, 3, 5, 4, 3]}, {\"y\": [5, 3, 4, 4, 3]}, {\"y\": [5, 3, 5, 3, 3]}, {\"y\": [5, 3, 4, 3, 3]}, {\"y\": [5, 2, 5, 4, 3]}, {\"y\": [5, 2, 4, 4, 3]}, {\"y\": [5, 5, 5, 4, 3]}, {\"y\": [5, 1, 5, 4, 3]}, {\"y\": [5, 5, 4, 4, 3]}, {\"y\": [5, 1, 4, 4, 3]}, {\"y\": [5, 2, 5, 3, 3]}, {\"y\": [5, 2, 4, 3, 3]}, {\"y\": [5, 5, 5, 3, 3]}, {\"y\": [5, 1, 5, 3, 3]}, {\"y\": [5, 5, 4, 3, 3]}, {\"y\": [5, 1, 4, 3, 3]}, {\"y\": [4, 2, 5, 4, 3]}, {\"y\": [1, 2, 5, 4, 3]}, {\"y\": [4, 2, 4, 4, 3]}, {\"y\": [1, 2, 4, 4, 3]}, {\"y\": [4, 3, 5, 4, 3]}, {\"y\": [1, 3, 5, 4, 3]}, {\"y\": [4, 5, 5, 4, 3]}, {\"y\": [4, 5, 1, 1]}, {\"y\": [4, 5, 1, 2]}, {\"y\": [4, 5, 1, 3]}, {\"y\": [4, 5, 1, 4]}, {\"y\": [4, 5, 1, 5]}, {\"y\": [4, 5, 2, 1]}, {\"y\": [4, 5, 2, 2]}, {\"y\": [4, 5, 2, 3]}, {\"y\": [4, 5, 2, 4]}, {\"y\": [4, 5, 2, 5]}, {\"y\": [4, 5, 3, 1]}, {\"y\": [4, 5, 3, 2]}, {\"y\": [4, 5, 3, 3]}, {\"y\": [4, 5, 3, 4]}, {\"y\": [4, 5, 3, 5]}, {\"y\": [4, 5, 4, 1]}, {\"y\": [4, 5, 4, 2]}, {\"y\": [4, 5, 4, 3]}, {\"y\": [4, 5, 4, 4]}, {\"y\": [4, 5, 4, 5]}, {\"y\": [4, 5, 5, 1]}, {\"y\": [4, 5, 5, 2]}, {\"y\": [4, 5, 5, 3]}, {\"y\": [4, 5, 5, 4]}, {\"y\": [4, 5, 5, 5]}, {\"y\": [5, 1, 1, 1]}, {\"y\": [5, 1, 1, 2]}, {\"y\": [5, 1, 1, 3]}, {\"y\": [5, 1, 1, 4]}, {\"y\": [5, 1, 1, 5]}, {\"y\": [5, 1, 2, 1]}, {\"y\": [5, 1, 2, 2]}, {\"y\": [5, 1, 2, 3]}, {\"y\": [5, 1, 2, 4]}, {\"y\": [5, 1, 2, 5]}, {\"y\": [5, 1, 3, 1]}, {\"y\": [5, 1, 3, 2]}, {\"y\": [5, 1, 3, 3]}, {\"y\": [5, 1, 3, 4]}, {\"y\": [5, 1, 3, 5]}, {\"y\": [5, 1, 4, 1]}, {\"y\": [5, 1, 4, 2]}, {\"y\": [5, 1, 4, 3]}, {\"y\": [5, 1, 4, 4]}, {\"y\": [5, 1, 4, 5]}, {\"y\": [5, 1, 5, 1]}, {\"y\": [5, 1, 5, 2]}, {\"y\": [5, 1, 5, 3]}, {\"y\": [5, 1, 5, 4]}, {\"y\": [5, 1, 5, 5]}, {\"y\": [5, 2, 1, 1]}, {\"y\": [5, 2, 1, 2]}, {\"y\": [5, 2, 1, 3]}, {\"y\": [5, 2, 1, 4]}, {\"y\": [5, 2, 1, 5]}, {\"y\": [5, 2, 2, 1]}, {\"y\": [5, 2, 2, 2]}, {\"y\": [5, 2, 2, 3]}, {\"y\": [5, 2, 2, 4]}, {\"y\": [5, 2, 2, 5]}, {\"y\": [5, 2, 3, 1]}, {\"y\": [5, 2, 3, 2]}, {\"y\": [5, 2, 3, 3]}, {\"y\": [5, 2, 3, 4]}, {\"y\": [5, 2, 3, 5]}, {\"y\": [5, 2, 4, 1]}, {\"y\": [5, 2, 4, 2]}, {\"y\": [5, 2, 4, 3]}, {\"y\": [5, 2, 4, 4]}, {\"y\": [5, 2, 4, 5]}, {\"y\": [5, 2, 5, 1]}, {\"y\": [5, 2, 5, 2]}, {\"y\": [5, 2, 5, 3]}, {\"y\": [5, 2, 5, 4]}, {\"y\": [5, 2, 5, 5]}, {\"y\": [5, 3, 1, 1]}, {\"y\": [5, 3, 1, 2]}, {\"y\": [5, 3, 1, 3]}, {\"y\": [5, 3, 1, 4]}, {\"y\": [5, 3, 1, 5]}, {\"y\": [5, 3, 2, 1]}, {\"y\": [5, 3, 2, 2]}, {\"y\": [5, 3, 2, 3]}, {\"y\": [5, 3, 2, 4]}, {\"y\": [5, 3, 2, 5]}, {\"y\": [5, 3, 3, 1]}, {\"y\": [5, 3, 3, 2]}, {\"y\": [5, 3, 3, 3]}, {\"y\": [5, 3, 3, 4]}, {\"y\": [5, 3, 3, 5]}, {\"y\": [5, 3, 4, 1]}, {\"y\": [5, 3, 4, 2]}, {\"y\": [5, 3, 4, 3]}, {\"y\": [5, 3, 4, 4]}, {\"y\": [5, 3, 4, 5]}, {\"y\": [5, 3, 5, 1]}, {\"y\": [5, 3, 5, 2]}, {\"y\": [5, 3, 5, 3]}, {\"y\": [5, 3, 5, 4]}, {\"y\": [5, 3, 5, 5]}, {\"y\": [5, 4, 1, 1]}, {\"y\": [5, 4, 1, 2]}, {\"y\": [5, 4, 1, 3]}, {\"y\": [5, 4, 1, 4]}, {\"y\": [5, 4, 1, 5]}, {\"y\": [5, 4, 2, 1]}, {\"y\": [5, 4, 2, 2]}, {\"y\": [5, 4, 2, 3]}, {\"y\": [5, 4, 2, 4]}, {\"y\": [5, 4, 2, 5]}, {\"y\": [5, 4, 3, 1]}, {\"y\": [5, 4, 3, 2]}, {\"y\": [5, 4, 3, 3]}, {\"y\": [5, 4, 3, 4]}, {\"y\": [5, 4, 3, 5]}, {\"y\": [5, 4, 4, 1]}, {\"y\": [5, 4, 4, 2]}, {\"y\": [5, 4, 4, 3]}, {\"y\": [5, 4, 4, 4]}, {\"y\": [5, 4, 4, 5]}, {\"y\": [5, 4, 5, 1]}, {\"y\": [5, 4, 5, 2]}, {\"y\": [5, 4, 5, 3]}, {\"y\": [5, 4, 5, 4]}, {\"y\": [5, 4, 5, 5]}, {\"y\": [5, 5, 1, 1]}, {\"y\": [5, 5, 1, 2]}, {\"y\": [5, 5, 1, 3]}, {\"y\": [5, 5, 1, 4]}, {\"y\": [5, 5, 1, 5]}, {\"y\": [5, 5, 2, 1]}, {\"y\": [5, 5, 2, 2]}, {\"y\": [5, 5, 2, 3]}, {\"y\": [5, 5, 2, 4]}, {\"y\": [5, 5, 2, 5]}, {\"y\": [5, 5, 3, 1]}, {\"y\": [5, 5, 3, 2]}, {\"y\": [5, 5, 3, 3]}, {\"y\": [5, 5, 3, 4]}, {\"y\": [5, 5, 3, 5]}, {\"y\": [5, 5, 4, 1]}, {\"y\": [5, 5, 4, 2]}, {\"y\": [5, 5, 4, 3]}, {\"y\": [5, 5, 4, 4]}, {\"y\": [5, 5, 4, 5]}, {\"y\": [5, 5, 5, 1]}, {\"y\": [5, 5, 5, 2]}, {\"y\": [5, 5, 5, 3]}, {\"y\": [5, 5, 5, 4]}, {\"y\": [5, 5, 5, 5]}, {\"y\": [1, 1, 1, 2, 1]}, {\"y\": [1, 1, 1, 2, 2]}, {\"y\": [1, 1, 1, 2, 4]}, {\"y\": [1, 1, 1, 3, 1]}, {\"y\": [1, 1, 1, 3, 2]}, {\"y\": [1, 1, 1, 3, 4]}, {\"y\": [1, 1, 1, 4, 1]}, {\"y\": [1, 1, 1, 4, 2]}, {\"y\": [1, 1, 1, 4, 4]}, {\"y\": [1, 1, 1, 5, 1]}, {\"y\": [1, 1, 1, 5, 2]}, {\"y\": [1, 1, 1, 5, 4]}, {\"y\": [1, 1, 2, 2, 1]}, {\"y\": [1, 1, 2, 2, 2]}, {\"y\": [1, 1, 2, 2, 4]}, {\"y\": [1, 1, 2, 3, 1]}, {\"y\": [1, 1, 2, 3, 2]}, {\"y\": [1, 1, 2, 3, 4]}, {\"y\": [1, 1, 2, 4, 1]}, {\"y\": [1, 1, 2, 4, 2]}, {\"y\": [1, 1, 2, 4, 4]}, {\"y\": [1, 1, 2, 5, 1]}, {\"y\": [1, 1, 2, 5, 2]}, {\"y\": [1, 1, 2, 5, 4]}, {\"y\": [1, 1, 3, 2, 1]}, {\"y\": [1, 1, 3, 2, 2]}, {\"y\": [1, 1, 3, 2, 4]}, {\"y\": [1, 1, 3, 3, 1]}, {\"y\": [1, 1, 3, 3, 2]}, {\"y\": [1, 1, 3, 3, 4]}, {\"y\": [1, 1, 3, 4, 1]}, {\"y\": [1, 1, 3, 4, 2]}, {\"y\": [1, 1, 3, 4, 4]}, {\"y\": [1, 1, 3, 5, 1]}, {\"y\": [1, 1, 3, 5, 2]}, {\"y\": [1, 1, 3, 5, 4]}, {\"y\": [1, 1, 4, 2, 1]}, {\"y\": [1, 1, 4, 2, 2]}, {\"y\": [1, 1, 4, 2, 4]}, {\"y\": [1, 1, 4, 3, 1]}, {\"y\": [1, 1, 4, 3, 2]}, {\"y\": [1, 1, 4, 3, 3]}, {\"y\": [1, 1, 4, 3, 4]}, {\"y\": [1, 1, 4, 4, 1]}, {\"y\": [1, 1, 4, 4, 2]}, {\"y\": [4, 1, 5, 4, 3]}, {\"y\": [1, 5, 5, 4, 3]}, {\"y\": [1, 1, 5, 4, 3]}, {\"y\": [1, 5, 4, 4, 3]}, {\"y\": [4, 5, 4, 4, 3]}, {\"y\": [1, 3, 4, 4, 3]}, {\"y\": [1, 1, 4, 4, 3]}, {\"y\": [4, 3, 4, 4, 3]}, {\"y\": [4, 1, 4, 4, 3]}, {\"y\": [1, 3, 4, 3, 3]}, {\"y\": [1, 5, 4, 3, 3]}, {\"y\": [1, 2, 4, 3, 3]}, {\"y\": [1, 3, 5, 3, 3]}, {\"y\": [1, 5, 5, 3, 3]}, {\"y\": [1, 2, 5, 3, 3]}, {\"y\": [1, 1, 5, 3, 3]}, {\"y\": [4, 3, 4, 3, 3]}, {\"y\": [4, 5, 4, 3, 3]}, {\"y\": [4, 2, 4, 3, 3]}, {\"y\": [4, 1, 4, 3, 3]}, {\"y\": [4, 3, 5, 3, 3]}, {\"y\": [4, 5, 5, 3, 3]}, {\"y\": [4, 2, 5, 3, 3]}, {\"y\": [4, 1, 5, 3, 3]}, {\"y\": [4, 3, 4, 3, 4]}, {\"y\": [4, 3, 4, 3, 1]}, {\"y\": [4, 3, 4, 3, 2]}, {\"y\": [4, 5, 4, 3, 1]}, {\"y\": [4, 5, 4, 3, 4]}, {\"y\": [4, 5, 4, 3, 2]}, {\"y\": [4, 2, 4, 3, 4]}, {\"y\": [4, 2, 4, 3, 1]}, {\"y\": [4, 2, 4, 3, 2]}, {\"y\": [4, 1, 4, 3, 1]}, {\"y\": [4, 4, 4, 3, 1]}, {\"y\": [4, 1, 4, 3, 4]}, {\"y\": [4, 1, 4, 3, 2]}, {\"y\": [4, 4, 4, 3, 4]}, {\"y\": [4, 4, 4, 3, 2]}, {\"y\": [1, 2, 4, 3, 4]}, {\"y\": [5, 2, 4, 3, 4]}, {\"y\": [3, 2, 4, 3, 4]}, {\"y\": [2, 2, 4, 3, 4]}, {\"y\": [1, 2, 4, 3, 1]}, {\"y\": [3, 2, 4, 3, 1]}, {\"y\": [5, 2, 4, 3, 1]}, {\"y\": [2, 2, 4, 3, 1]}, {\"y\": [1, 2, 4, 3, 2]}, {\"y\": [3, 2, 4, 3, 2]}, {\"y\": [5, 2, 4, 3, 2]}, {\"y\": [2, 2, 4, 3, 2]}, {\"y\": [1, 3, 4, 3, 4]}, {\"y\": [1, 5, 4, 3, 4]}, {\"y\": [1, 4, 4, 3, 4]}, {\"y\": [3, 3, 4, 3, 4]}, {\"y\": [5, 3, 4, 3, 4]}, {\"y\": [2, 3, 4, 3, 4]}, {\"y\": [3, 5, 4, 3, 4]}, {\"y\": [3, 1, 4, 3, 4]}, {\"y\": [3, 4, 4, 3, 4]}, {\"y\": [5, 1, 4, 3, 4]}, {\"y\": [2, 1, 4, 3, 4]}, {\"y\": [5, 5, 4, 3, 4]}, {\"y\": [5, 4, 4, 3, 4]}, {\"y\": [2, 5, 4, 3, 4]}, {\"y\": [2, 4, 4, 3, 4]}, {\"y\": [5, 5, 4, 3, 1]}, {\"y\": [5, 5, 4, 3, 2]}, {\"y\": [5, 1, 4, 3, 1]}, {\"y\": [5, 1, 4, 3, 2]}, {\"y\": [5, 3, 4, 3, 1]}, {\"y\": [5, 4, 4, 3, 1]}, {\"y\": [5, 3, 4, 3, 2]}, {\"y\": [5, 4, 4, 3, 2]}, {\"y\": [3, 3, 4, 3, 1]}, {\"y\": [1, 3, 4, 3, 1]}, {\"y\": [2, 3, 4, 3, 1]}, {\"y\": [3, 5, 4, 3, 1]}, {\"y\": [1, 5, 4, 3, 1]}, {\"y\": [2, 5, 4, 3, 1]}, {\"y\": [3, 1, 4, 3, 1]}, {\"y\": [3, 4, 4, 3, 1]}, {\"y\": [2, 1, 4, 3, 1]}, {\"y\": [1, 4, 4, 3, 1]}, {\"y\": [2, 4, 4, 3, 1]}, {\"y\": [1, 3, 4, 3, 2]}, {\"y\": [1, 5, 4, 3, 2]}, {\"y\": [1, 4, 4, 3, 2]}, {\"y\": [3, 3, 4, 3, 2]}, {\"y\": [2, 3, 4, 3, 2]}, {\"y\": [3, 5, 4, 3, 2]}, {\"y\": [3, 1, 4, 3, 2]}, {\"y\": [3, 4, 4, 3, 2]}, {\"y\": [2, 5, 4, 3, 2]}, {\"y\": [2, 1, 4, 3, 2]}, {\"y\": [2, 4, 4, 3, 2]}, {\"y\": [3, 3, 5, 3, 2]}, {\"y\": [3, 3, 3, 3, 2]}, {\"y\": [3, 3, 2, 3, 2]}, {\"y\": [3, 3, 1, 3, 2]}, {\"y\": [3, 5, 5, 3, 2]}, {\"y\": [3, 5, 2, 3, 2]}, {\"y\": [3, 5, 3, 3, 2]}, {\"y\": [3, 5, 1, 3, 2]}, {\"y\": [3, 1, 3, 3, 2]}, {\"y\": [3, 1, 5, 3, 2]}, {\"y\": [3, 1, 2, 3, 2]}, {\"y\": [3, 1, 1, 3, 2]}, {\"y\": [3, 2, 2, 3, 2]}, {\"y\": [3, 4, 2, 3, 2]}, {\"y\": [3, 2, 5, 3, 2]}, {\"y\": [3, 2, 3, 3, 2]}, {\"y\": [3, 2, 1, 3, 2]}, {\"y\": [3, 4, 3, 3, 2]}, {\"y\": [3, 4, 5, 3, 2]}, {\"y\": [3, 4, 1, 3, 2]}, {\"y\": [1, 2, 5, 3, 2]}, {\"y\": [2, 2, 5, 3, 2]}, {\"y\": [5, 2, 5, 3, 2]}, {\"y\": [4, 2, 5, 3, 2]}, {\"y\": [1, 2, 3, 3, 2]}, {\"y\": [2, 2, 3, 3, 2]}, {\"y\": [5, 2, 3, 3, 2]}, {\"y\": [4, 2, 3, 3, 2]}, {\"y\": [1, 2, 2, 3, 2]}, {\"y\": [1, 2, 1, 3, 2]}, {\"y\": [2, 2, 2, 3, 2]}, {\"y\": [5, 2, 2, 3, 2]}, {\"y\": [4, 2, 2, 3, 2]}, {\"y\": [2, 2, 1, 3, 2]}, {\"y\": [5, 2, 1, 3, 2]}, {\"y\": [4, 2, 1, 3, 2]}, {\"y\": [2, 1, 2, 3, 2]}, {\"y\": [2, 3, 2, 3, 2]}, {\"y\": [2, 5, 2, 3, 2]}, {\"y\": [2, 4, 2, 3, 2]}, {\"y\": [5, 3, 2, 3, 2]}, {\"y\": [5, 1, 2, 3, 2]}, {\"y\": [5, 5, 2, 3, 2]}, {\"y\": [5, 4, 2, 3, 2]}, {\"y\": [4, 1, 2, 3, 2]}, {\"y\": [1, 3, 2, 3, 2]}, {\"y\": [1, 5, 2, 3, 2]}, {\"y\": [1, 4, 2, 3, 2]}, {\"y\": [4, 5, 2, 3, 2]}, {\"y\": [4, 3, 2, 3, 2]}, {\"y\": [4, 4, 2, 3, 2]}, {\"y\": [1, 3, 3, 3, 2]}, {\"y\": [1, 3, 5, 3, 2]}, {\"y\": [1, 3, 1, 3, 2]}, {\"y\": [1, 5, 3, 3, 2]}, {\"y\": [1, 5, 5, 3, 2]}, {\"y\": [1, 5, 1, 3, 2]}, {\"y\": [1, 4, 3, 3, 2]}, {\"y\": [1, 1, 5, 3, 2]}, {\"y\": [1, 4, 5, 3, 2]}, {\"y\": [1, 4, 1, 3, 2]}, {\"y\": [2, 3, 3, 3, 2]}, {\"y\": [5, 3, 3, 3, 2]}, {\"y\": [4, 3, 3, 3, 2]}, {\"y\": [2, 5, 3, 3, 2]}, {\"y\": [2, 1, 3, 3, 2]}, {\"y\": [2, 4, 3, 3, 2]}, {\"y\": [5, 5, 3, 3, 2]}, {\"y\": [4, 5, 3, 3, 2]}, {\"y\": [5, 1, 3, 3, 2]}, {\"y\": [4, 1, 3, 3, 2]}, {\"y\": [5, 4, 3, 3, 2]}, {\"y\": [4, 4, 3, 3, 2]}, {\"y\": [5, 1, 5, 3, 2]}, {\"y\": [5, 1, 1, 3, 2]}, {\"y\": [5, 5, 5, 3, 2]}, {\"y\": [5, 5, 1, 3, 2]}, {\"y\": [5, 3, 5, 3, 2]}, {\"y\": [5, 4, 5, 3, 2]}, {\"y\": [5, 3, 1, 3, 2]}, {\"y\": [5, 4, 1, 3, 2]}, {\"y\": [2, 3, 5, 3, 2]}, {\"y\": [4, 3, 5, 3, 2]}, {\"y\": [2, 3, 1, 3, 2]}, {\"y\": [4, 3, 1, 3, 2]}, {\"y\": [2, 5, 5, 3, 2]}, {\"y\": [2, 1, 5, 3, 2]}, {\"y\": [2, 4, 5, 3, 2]}, {\"y\": [4, 5, 5, 3, 2]}, {\"y\": [4, 1, 5, 3, 2]}, {\"y\": [4, 4, 5, 3, 2]}, {\"y\": [2, 1, 1, 3, 2]}, {\"y\": [2, 5, 1, 3, 2]}, {\"y\": [2, 4, 1, 3, 2]}, {\"y\": [4, 5, 1, 3, 2]}, {\"y\": [4, 1, 1, 3, 2]}, {\"y\": [4, 4, 1, 3, 2]}, {\"y\": [2, 1, 5, 3, 1]}, {\"y\": [2, 1, 5, 3, 4]}, {\"y\": [2, 5, 5, 3, 1]}, {\"y\": [2, 5, 5, 3, 4]}, {\"y\": [2, 3, 5, 3, 1]}, {\"y\": [2, 3, 5, 3, 4]}, {\"y\": [2, 4, 5, 3, 1]}, {\"y\": [2, 2, 5, 3, 1]}, {\"y\": [2, 4, 5, 3, 4]}, {\"y\": [2, 2, 5, 3, 4]}, {\"y\": [2, 3, 1, 3, 1]}, {\"y\": [2, 3, 3, 3, 1]}, {\"y\": [2, 3, 2, 3, 1]}, {\"y\": [2, 3, 1, 3, 4]}, {\"y\": [2, 3, 3, 3, 4]}, {\"y\": [2, 3, 2, 3, 4]}, {\"y\": [2, 5, 1, 3, 1]}, {\"y\": [2, 1, 1, 3, 1]}, {\"y\": [2, 4, 1, 3, 1]}, {\"y\": [2, 2, 1, 3, 1]}, {\"y\": [2, 5, 3, 3, 1]}, {\"y\": [2, 5, 2, 3, 1]}, {\"y\": [2, 1, 3, 3, 1]}, {\"y\": [2, 4, 3, 3, 1]}, {\"y\": [2, 2, 3, 3, 1]}, {\"y\": [2, 1, 2, 3, 1]}, {\"y\": [2, 4, 2, 3, 1]}, {\"y\": [2, 2, 2, 3, 1]}, {\"y\": [2, 1, 3, 3, 4]}, {\"y\": [2, 4, 3, 3, 4]}, {\"y\": [2, 5, 3, 3, 4]}, {\"y\": [2, 2, 3, 3, 4]}, {\"y\": [2, 1, 1, 3, 4]}, {\"y\": [2, 1, 2, 3, 4]}, {\"y\": [2, 4, 1, 3, 4]}, {\"y\": [2, 5, 1, 3, 4]}, {\"y\": [2, 2, 1, 3, 4]}, {\"y\": [2, 4, 2, 3, 4]}, {\"y\": [2, 5, 2, 3, 4]}, {\"y\": [2, 2, 2, 3, 4]}, {\"y\": [4, 4, 1, 3, 4]}, {\"y\": [5, 4, 1, 3, 4]}, {\"y\": [3, 4, 1, 3, 4]}, {\"y\": [1, 4, 1, 3, 4]}, {\"y\": [4, 4, 3, 3, 4]}, {\"y\": [5, 4, 3, 3, 4]}, {\"y\": [3, 4, 3, 3, 4]}, {\"y\": [1, 4, 3, 3, 4]}, {\"y\": [5, 4, 2, 3, 4]}, {\"y\": [4, 4, 2, 3, 4]}, {\"y\": [3, 4, 2, 3, 4]}, {\"y\": [1, 4, 2, 3, 4]}, {\"y\": [4, 4, 5, 3, 4]}, {\"y\": [5, 4, 5, 3, 4]}, {\"y\": [3, 4, 5, 3, 4]}, {\"y\": [1, 4, 5, 3, 4]}, {\"y\": [3, 5, 3, 3, 4]}, {\"y\": [3, 1, 3, 3, 4]}, {\"y\": [3, 3, 3, 3, 4]}, {\"y\": [3, 2, 3, 3, 4]}, {\"y\": [5, 5, 3, 3, 4]}, {\"y\": [4, 5, 3, 3, 4]}, {\"y\": [1, 5, 3, 3, 4]}, {\"y\": [4, 1, 3, 3, 4]}, {\"y\": [4, 3, 3, 3, 4]}, {\"y\": [4, 2, 3, 3, 4]}, {\"y\": [5, 1, 3, 3, 4]}, {\"y\": [5, 3, 3, 3, 4]}, {\"y\": [5, 2, 3, 3, 4]}, {\"y\": [1, 3, 3, 3, 4]}, {\"y\": [1, 2, 3, 3, 4]}, {\"y\": [5, 3, 1, 3, 4]}, {\"y\": [5, 3, 2, 3, 4]}, {\"y\": [5, 3, 5, 3, 4]}, {\"y\": [5, 1, 2, 3, 4]}, {\"y\": [5, 1, 1, 3, 4]}, {\"y\": [5, 1, 5, 3, 4]}, {\"y\": [5, 5, 1, 3, 4]}, {\"y\": [5, 2, 1, 3, 4]}, {\"y\": [5, 5, 2, 3, 4]}, {\"y\": [5, 5, 5, 3, 4]}, {\"y\": [5, 2, 2, 3, 4]}, {\"y\": [5, 2, 5, 3, 4]}, {\"y\": [4, 3, 2, 3, 4]}, {\"y\": [3, 3, 2, 3, 4]}, {\"y\": [1, 3, 2, 3, 4]}, {\"y\": [4, 5, 2, 3, 4]}, {\"y\": [3, 5, 2, 3, 4]}, {\"y\": [1, 5, 2, 3, 4]}, {\"y\": [4, 1, 2, 3, 4]}, {\"y\": [4, 2, 2, 3, 4]}, {\"y\": [3, 1, 2, 3, 4]}, {\"y\": [3, 2, 2, 3, 4]}, {\"y\": [1, 2, 2, 3, 4]}, {\"y\": [3, 1, 1, 3, 4]}, {\"y\": [3, 1, 5, 3, 4]}, {\"y\": [3, 5, 1, 3, 4]}, {\"y\": [3, 5, 5, 3, 4]}, {\"y\": [3, 3, 1, 3, 4]}, {\"y\": [3, 2, 1, 3, 4]}, {\"y\": [3, 3, 5, 3, 4]}, {\"y\": [3, 2, 5, 3, 4]}, {\"y\": [4, 3, 1, 3, 4]}, {\"y\": [1, 3, 1, 3, 4]}, {\"y\": [4, 3, 5, 3, 4]}, {\"y\": [1, 3, 5, 3, 4]}, {\"y\": [4, 1, 1, 3, 4]}, {\"y\": [4, 5, 1, 3, 4]}, {\"y\": [4, 2, 1, 3, 4]}, {\"y\": [1, 5, 1, 3, 4]}, {\"y\": [1, 2, 1, 3, 4]}, {\"y\": [4, 1, 5, 3, 4]}, {\"y\": [4, 5, 5, 3, 4]}, {\"y\": [4, 2, 5, 3, 4]}, {\"y\": [1, 1, 5, 3, 4]}, {\"y\": [1, 5, 5, 3, 4]}, {\"y\": [1, 2, 5, 3, 4]}, {\"y\": [4, 1, 1, 3, 1]}, {\"y\": [4, 5, 1, 3, 1]}, {\"y\": [4, 3, 1, 3, 1]}, {\"y\": [4, 2, 1, 3, 1]}, {\"y\": [4, 4, 1, 3, 1]}, {\"y\": [4, 1, 5, 3, 1]}, {\"y\": [4, 1, 2, 3, 1]}, {\"y\": [4, 1, 3, 3, 1]}, {\"y\": [4, 5, 5, 3, 1]}, {\"y\": [4, 5, 2, 3, 1]}, {\"y\": [4, 5, 3, 3, 1]}, {\"y\": [4, 3, 5, 3, 1]}, {\"y\": [4, 2, 5, 3, 1]}, {\"y\": [4, 4, 5, 3, 1]}, {\"y\": [4, 3, 2, 3, 1]}, {\"y\": [4, 3, 3, 3, 1]}, {\"y\": [4, 2, 2, 3, 1]}, {\"y\": [4, 4, 2, 3, 1]}, {\"y\": [4, 2, 3, 3, 1]}, {\"y\": [4, 4, 3, 3, 1]}, {\"y\": [3, 3, 2, 3, 1]}, {\"y\": [1, 3, 2, 3, 1]}, {\"y\": [5, 3, 2, 3, 1]}, {\"y\": [3, 2, 2, 3, 1]}, {\"y\": [1, 2, 2, 3, 1]}, {\"y\": [5, 2, 2, 3, 1]}, {\"y\": [3, 5, 2, 3, 1]}, {\"y\": [3, 1, 2, 3, 1]}, {\"y\": [3, 4, 2, 3, 1]}, {\"y\": [1, 5, 2, 3, 1]}, {\"y\": [5, 5, 2, 3, 1]}, {\"y\": [1, 4, 2, 3, 1]}, {\"y\": [5, 1, 2, 3, 1]}, {\"y\": [5, 4, 2, 3, 1]}, {\"y\": [3, 3, 5, 3, 1]}, {\"y\": [3, 3, 3, 3, 1]}, {\"y\": [3, 3, 1, 3, 1]}, {\"y\": [3, 1, 5, 3, 1]}, {\"y\": [3, 1, 3, 3, 1]}, {\"y\": [3, 1, 1, 3, 1]}, {\"y\": [3, 2, 5, 3, 1]}, {\"y\": [3, 5, 5, 3, 1]}, {\"y\": [3, 4, 5, 3, 1]}, {\"y\": [3, 2, 3, 3, 1]}, {\"y\": [3, 2, 1, 3, 1]}, {\"y\": [3, 5, 3, 3, 1]}, {\"y\": [3, 4, 3, 3, 1]}, {\"y\": [3, 5, 1, 3, 1]}, {\"y\": [3, 4, 1, 3, 1]}, {\"y\": [1, 5, 3, 3, 1]}, {\"y\": [5, 5, 3, 3, 1]}, {\"y\": [1, 5, 5, 3, 1]}, {\"y\": [5, 5, 5, 3, 1]}, {\"y\": [1, 5, 1, 3, 1]}, {\"y\": [5, 5, 1, 3, 1]}, {\"y\": [1, 2, 3, 3, 1]}, {\"y\": [1, 3, 3, 3, 1]}, {\"y\": [1, 4, 3, 3, 1]}, {\"y\": [5, 2, 3, 3, 1]}, {\"y\": [5, 3, 3, 3, 1]}, {\"y\": [5, 1, 3, 3, 1]}, {\"y\": [5, 4, 3, 3, 1]}, {\"y\": [1, 2, 5, 3, 1]}, {\"y\": [1, 2, 1, 3, 1]}, {\"y\": [1, 3, 5, 3, 1]}, {\"y\": [1, 1, 5, 3, 1]}, {\"y\": [1, 4, 5, 3, 1]}, {\"y\": [1, 3, 1, 3, 1]}, {\"y\": [1, 4, 1, 3, 1]}, {\"y\": [5, 3, 5, 3, 1]}, {\"y\": [5, 2, 5, 3, 1]}, {\"y\": [5, 1, 5, 3, 1]}, {\"y\": [5, 4, 5, 3, 1]}, {\"y\": [5, 3, 1, 3, 1]}, {\"y\": [5, 2, 1, 3, 1]}, {\"y\": [5, 1, 1, 3, 1]}, {\"y\": [5, 4, 1, 3, 1]}, {\"y\": [5, 2, 5, 4, 1]}, {\"y\": [5, 2, 5, 5, 1]}, {\"y\": [5, 2, 5, 2, 1]}, {\"y\": [5, 3, 5, 5, 1]}, {\"y\": [5, 3, 5, 4, 1]}, {\"y\": [5, 3, 5, 2, 1]}, {\"y\": [5, 1, 5, 4, 1]}, {\"y\": [5, 1, 5, 5, 1]}, {\"y\": [5, 1, 5, 2, 1]}, {\"y\": [5, 4, 5, 5, 1]}, {\"y\": [5, 5, 5, 5, 1]}, {\"y\": [5, 4, 5, 4, 1]}, {\"y\": [5, 4, 5, 2, 1]}, {\"y\": [5, 5, 5, 4, 1]}, {\"y\": [5, 5, 5, 2, 1]}, {\"y\": [1, 3, 5, 4, 1]}, {\"y\": [3, 3, 5, 4, 1]}, {\"y\": [2, 3, 5, 4, 1]}, {\"y\": [4, 3, 5, 4, 1]}, {\"y\": [1, 1, 5, 4, 1]}, {\"y\": [3, 1, 5, 4, 1]}, {\"y\": [2, 1, 5, 4, 1]}, {\"y\": [4, 1, 5, 4, 1]}, {\"y\": [1, 2, 5, 4, 1]}, {\"y\": [1, 4, 5, 4, 1]}, {\"y\": [1, 5, 5, 4, 1]}, {\"y\": [3, 2, 5, 4, 1]}, {\"y\": [2, 2, 5, 4, 1]}, {\"y\": [4, 2, 5, 4, 1]}, {\"y\": [3, 4, 5, 4, 1]}, {\"y\": [3, 5, 5, 4, 1]}, {\"y\": [2, 4, 5, 4, 1]}, {\"y\": [4, 4, 5, 4, 1]}, {\"y\": [2, 5, 5, 4, 1]}, {\"y\": [4, 5, 5, 4, 1]}, {\"y\": [3, 4, 5, 5, 1]}, {\"y\": [3, 4, 5, 2, 1]}, {\"y\": [2, 4, 5, 5, 1]}, {\"y\": [2, 4, 5, 2, 1]}, {\"y\": [1, 4, 5, 5, 1]}, {\"y\": [4, 4, 5, 5, 1]}, {\"y\": [1, 4, 5, 2, 1]}, {\"y\": [4, 4, 5, 2, 1]}, {\"y\": [2, 2, 5, 5, 1]}, {\"y\": [2, 3, 5, 5, 1]}, {\"y\": [2, 1, 5, 5, 1]}, {\"y\": [2, 5, 5, 5, 1]}, {\"y\": [2, 2, 5, 2, 1]}, {\"y\": [2, 3, 5, 2, 1]}, {\"y\": [2, 1, 5, 2, 1]}, {\"y\": [2, 5, 5, 2, 1]}, {\"y\": [3, 2, 5, 5, 1]}, {\"y\": [1, 2, 5, 5, 1]}, {\"y\": [4, 2, 5, 5, 1]}, {\"y\": [3, 3, 5, 5, 1]}, {\"y\": [3, 1, 5, 5, 1]}, {\"y\": [3, 5, 5, 5, 1]}, {\"y\": [1, 3, 5, 5, 1]}, {\"y\": [4, 3, 5, 5, 1]}, {\"y\": [1, 1, 5, 5, 1]}, {\"y\": [1, 5, 5, 5, 1]}, {\"y\": [4, 1, 5, 5, 1]}, {\"y\": [4, 5, 5, 5, 1]}, {\"y\": [1, 1, 5, 2, 1]}, {\"y\": [1, 3, 5, 2, 1]}, {\"y\": [1, 2, 5, 2, 1]}, {\"y\": [1, 5, 5, 2, 1]}, {\"y\": [3, 1, 5, 2, 1]}, {\"y\": [4, 1, 5, 2, 1]}, {\"y\": [3, 3, 5, 2, 1]}, {\"y\": [3, 2, 5, 2, 1]}, {\"y\": [3, 5, 5, 2, 1]}, {\"y\": [4, 3, 5, 2, 1]}, {\"y\": [4, 2, 5, 2, 1]}, {\"y\": [4, 5, 5, 2, 1]}, {\"y\": [3, 3, 3, 2, 1]}, {\"y\": [3, 3, 1, 2, 1]}, {\"y\": [3, 3, 2, 2, 1]}, {\"y\": [3, 3, 4, 2, 1]}, {\"y\": [3, 2, 1, 2, 1]}, {\"y\": [3, 2, 2, 2, 1]}, {\"y\": [3, 2, 3, 2, 1]}, {\"y\": [3, 2, 4, 2, 1]}, {\"y\": [3, 1, 3, 2, 1]}, {\"y\": [3, 1, 2, 2, 1]}, {\"y\": [3, 1, 1, 2, 1]}, {\"y\": [3, 1, 4, 2, 1]}, {\"y\": [3, 4, 1, 2, 1]}, {\"y\": [3, 5, 1, 2, 1]}, {\"y\": [3, 4, 2, 2, 1]}, {\"y\": [3, 4, 3, 2, 1]}, {\"y\": [3, 4, 4, 2, 1]}, {\"y\": [3, 5, 3, 2, 1]}, {\"y\": [3, 5, 2, 2, 1]}, {\"y\": [3, 5, 4, 2, 1]}, {\"y\": [1, 4, 2, 2, 1]}, {\"y\": [4, 4, 2, 2, 1]}, {\"y\": [2, 4, 2, 2, 1]}, {\"y\": [5, 4, 2, 2, 1]}, {\"y\": [1, 4, 3, 2, 1]}, {\"y\": [4, 4, 3, 2, 1]}, {\"y\": [2, 4, 3, 2, 1]}, {\"y\": [5, 4, 3, 2, 1]}, {\"y\": [1, 4, 1, 2, 1]}, {\"y\": [1, 4, 4, 2, 1]}, {\"y\": [2, 4, 1, 2, 1]}, {\"y\": [4, 4, 1, 2, 1]}, {\"y\": [5, 4, 1, 2, 1]}, {\"y\": [4, 4, 4, 2, 1]}, {\"y\": [2, 4, 4, 2, 1]}, {\"y\": [5, 4, 4, 2, 1]}, {\"y\": [2, 1, 1, 2, 1]}, {\"y\": [2, 2, 1, 2, 1]}, {\"y\": [2, 3, 1, 2, 1]}, {\"y\": [2, 5, 1, 2, 1]}, {\"y\": [4, 2, 1, 2, 1]}, {\"y\": [4, 1, 1, 2, 1]}, {\"y\": [4, 3, 1, 2, 1]}, {\"y\": [4, 5, 1, 2, 1]}, {\"y\": [5, 1, 1, 2, 1]}, {\"y\": [1, 3, 1, 2, 1]}, {\"y\": [1, 2, 1, 2, 1]}, {\"y\": [1, 5, 1, 2, 1]}, {\"y\": [5, 2, 1, 2, 1]}, {\"y\": [5, 3, 1, 2, 1]}, {\"y\": [5, 5, 1, 2, 1]}, {\"y\": [2, 3, 3, 2, 1]}, {\"y\": [2, 3, 2, 2, 1]}, {\"y\": [2, 3, 4, 2, 1]}, {\"y\": [2, 2, 3, 2, 1]}, {\"y\": [2, 2, 2, 2, 1]}, {\"y\": [2, 2, 4, 2, 1]}, {\"y\": [2, 1, 3, 2, 1]}, {\"y\": [2, 5, 3, 2, 1]}, {\"y\": [2, 1, 2, 2, 1]}, {\"y\": [2, 1, 4, 2, 1]}, {\"y\": [2, 5, 2, 2, 1]}, {\"y\": [2, 5, 4, 2, 1]}, {\"y\": [1, 2, 2, 2, 1]}, {\"y\": [4, 2, 2, 2, 1]}, {\"y\": [5, 2, 2, 2, 1]}, {\"y\": [4, 1, 2, 2, 1]}, {\"y\": [5, 1, 2, 2, 1]}, {\"y\": [1, 3, 2, 2, 1]}, {\"y\": [1, 5, 2, 2, 1]}, {\"y\": [4, 3, 2, 2, 1]}, {\"y\": [5, 3, 2, 2, 1]}, {\"y\": [4, 5, 2, 2, 1]}, {\"y\": [5, 5, 2, 2, 1]}, {\"y\": [4, 3, 3, 2, 1]}, {\"y\": [4, 3, 4, 2, 1]}, {\"y\": [4, 1, 3, 2, 1]}, {\"y\": [4, 1, 4, 2, 1]}, {\"y\": [4, 2, 3, 2, 1]}, {\"y\": [4, 5, 3, 2, 1]}, {\"y\": [4, 2, 4, 2, 1]}, {\"y\": [4, 5, 4, 2, 1]}, {\"y\": [1, 3, 3, 2, 1]}, {\"y\": [5, 3, 3, 2, 1]}, {\"y\": [1, 3, 4, 2, 1]}, {\"y\": [5, 3, 4, 2, 1]}, {\"y\": [1, 2, 3, 2, 1]}, {\"y\": [1, 5, 3, 2, 1]}, {\"y\": [5, 2, 3, 2, 1]}, {\"y\": [5, 1, 3, 2, 1]}, {\"y\": [5, 5, 3, 2, 1]}, {\"y\": [1, 2, 4, 2, 1]}, {\"y\": [5, 2, 4, 2, 1]}, {\"y\": [1, 5, 4, 2, 1]}, {\"y\": [5, 1, 4, 2, 1]}, {\"y\": [5, 5, 4, 2, 1]}, {\"y\": [1, 2, 3, 5, 1]}, {\"y\": [1, 2, 3, 4, 1]}, {\"y\": [1, 2, 4, 5, 1]}, {\"y\": [1, 2, 4, 4, 1]}, {\"y\": [1, 2, 2, 5, 1]}, {\"y\": [1, 2, 2, 4, 1]}, {\"y\": [1, 2, 1, 5, 1]}, {\"y\": [1, 2, 1, 4, 1]}, {\"y\": [1, 3, 3, 5, 1]}, {\"y\": [1, 4, 3, 5, 1]}, {\"y\": [1, 5, 3, 5, 1]}, {\"y\": [1, 3, 3, 4, 1]}, {\"y\": [1, 4, 3, 4, 1]}, {\"y\": [1, 5, 3, 4, 1]}, {\"y\": [1, 3, 4, 5, 1]}, {\"y\": [1, 3, 2, 5, 1]}, {\"y\": [1, 3, 1, 5, 1]}, {\"y\": [1, 4, 4, 5, 1]}, {\"y\": [1, 1, 4, 5, 1]}, {\"y\": [1, 5, 4, 5, 1]}, {\"y\": [1, 4, 2, 5, 1]}, {\"y\": [1, 4, 1, 5, 1]}, {\"y\": [1, 5, 2, 5, 1]}, {\"y\": [1, 5, 1, 5, 1]}, {\"y\": [1, 3, 4, 4, 1]}, {\"y\": [1, 3, 2, 4, 1]}, {\"y\": [1, 3, 1, 4, 1]}, {\"y\": [1, 4, 4, 4, 1]}, {\"y\": [1, 5, 4, 4, 1]}, {\"y\": [1, 4, 2, 4, 1]}, {\"y\": [1, 4, 1, 4, 1]}, {\"y\": [1, 5, 2, 4, 1]}, {\"y\": [1, 5, 1, 4, 1]}, {\"y\": [2, 4, 2, 4, 1]}, {\"y\": [3, 4, 2, 4, 1]}, {\"y\": [4, 4, 2, 4, 1]}, {\"y\": [5, 4, 2, 4, 1]}, {\"y\": [2, 4, 4, 4, 1]}, {\"y\": [3, 4, 4, 4, 1]}, {\"y\": [4, 4, 4, 4, 1]}, {\"y\": [5, 4, 4, 4, 1]}, {\"y\": [2, 4, 3, 4, 1]}, {\"y\": [2, 4, 1, 4, 1]}, {\"y\": [3, 4, 3, 4, 1]}, {\"y\": [4, 4, 3, 4, 1]}, {\"y\": [5, 4, 3, 4, 1]}, {\"y\": [3, 4, 1, 4, 1]}, {\"y\": [4, 4, 1, 4, 1]}, {\"y\": [5, 4, 1, 4, 1]}, {\"y\": [3, 4, 2, 5, 1]}, {\"y\": [2, 4, 2, 5, 1]}, {\"y\": [4, 4, 2, 5, 1]}, {\"y\": [5, 4, 2, 5, 1]}, {\"y\": [3, 4, 3, 5, 1]}, {\"y\": [3, 4, 4, 5, 1]}, {\"y\": [3, 4, 1, 5, 1]}, {\"y\": [2, 4, 3, 5, 1]}, {\"y\": [4, 4, 3, 5, 1]}, {\"y\": [5, 4, 3, 5, 1]}, {\"y\": [2, 4, 4, 5, 1]}, {\"y\": [2, 4, 1, 5, 1]}, {\"y\": [4, 4, 4, 5, 1]}, {\"y\": [5, 4, 4, 5, 1]}, {\"y\": [4, 4, 1, 5, 1]}, {\"y\": [5, 4, 1, 5, 1]}, {\"y\": [4, 3, 4, 5, 1]}, {\"y\": [4, 2, 4, 5, 1]}, {\"y\": [4, 1, 4, 5, 1]}, {\"y\": [4, 5, 4, 5, 1]}, {\"y\": [4, 3, 3, 5, 1]}, {\"y\": [4, 2, 3, 5, 1]}, {\"y\": [4, 1, 3, 5, 1]}, {\"y\": [4, 5, 3, 5, 1]}, {\"y\": [4, 3, 2, 5, 1]}, {\"y\": [4, 2, 2, 5, 1]}, {\"y\": [4, 1, 2, 5, 1]}, {\"y\": [4, 5, 2, 5, 1]}, {\"y\": [4, 3, 1, 5, 1]}, {\"y\": [4, 1, 1, 5, 1]}, {\"y\": [4, 2, 1, 5, 1]}, {\"y\": [4, 5, 1, 5, 1]}, {\"y\": [2, 3, 2, 5, 1]}, {\"y\": [3, 3, 2, 5, 1]}, {\"y\": [5, 3, 2, 5, 1]}, {\"y\": [3, 2, 2, 5, 1]}, {\"y\": [2, 2, 2, 5, 1]}, {\"y\": [5, 2, 2, 5, 1]}, {\"y\": [2, 1, 2, 5, 1]}, {\"y\": [2, 5, 2, 5, 1]}, {\"y\": [3, 1, 2, 5, 1]}, {\"y\": [5, 1, 2, 5, 1]}, {\"y\": [3, 5, 2, 5, 1]}, {\"y\": [5, 5, 2, 5, 1]}, {\"y\": [3, 1, 3, 5, 1]}, {\"y\": [3, 1, 4, 5, 1]}, {\"y\": [3, 1, 1, 5, 1]}, {\"y\": [3, 2, 3, 5, 1]}, {\"y\": [3, 2, 4, 5, 1]}, {\"y\": [3, 2, 1, 5, 1]}, {\"y\": [3, 3, 3, 5, 1]}, {\"y\": [3, 5, 3, 5, 1]}, {\"y\": [3, 3, 4, 5, 1]}, {\"y\": [3, 3, 1, 5, 1]}, {\"y\": [3, 5, 4, 5, 1]}, {\"y\": [3, 5, 1, 5, 1]}, {\"y\": [2, 3, 4, 5, 1]}, {\"y\": [5, 3, 4, 5, 1]}, {\"y\": [2, 2, 4, 5, 1]}, {\"y\": [5, 2, 4, 5, 1]}, {\"y\": [2, 1, 4, 5, 1]}, {\"y\": [2, 5, 4, 5, 1]}, {\"y\": [5, 1, 4, 5, 1]}, {\"y\": [5, 5, 4, 5, 1]}, {\"y\": [2, 3, 3, 5, 1]}, {\"y\": [2, 3, 1, 5, 1]}, {\"y\": [5, 3, 3, 5, 1]}, {\"y\": [5, 3, 1, 5, 1]}, {\"y\": [2, 1, 3, 5, 1]}, {\"y\": [2, 2, 3, 5, 1]}, {\"y\": [2, 5, 3, 5, 1]}, {\"y\": [2, 1, 1, 5, 1]}, {\"y\": [2, 2, 1, 5, 1]}, {\"y\": [2, 5, 1, 5, 1]}, {\"y\": [5, 1, 3, 5, 1]}, {\"y\": [5, 2, 3, 5, 1]}, {\"y\": [5, 5, 3, 5, 1]}, {\"y\": [5, 2, 1, 5, 1]}, {\"y\": [5, 1, 1, 5, 1]}, {\"y\": [5, 5, 1, 5, 1]}, {\"y\": [2, 1, 3, 4, 1]}, {\"y\": [2, 2, 3, 4, 1]}, {\"y\": [2, 3, 3, 4, 1]}, {\"y\": [2, 5, 3, 4, 1]}, {\"y\": [5, 2, 3, 4, 1]}, {\"y\": [3, 2, 3, 4, 1]}, {\"y\": [4, 2, 3, 4, 1]}, {\"y\": [5, 1, 3, 4, 1]}, {\"y\": [3, 1, 3, 4, 1]}, {\"y\": [4, 1, 3, 4, 1]}, {\"y\": [5, 3, 3, 4, 1]}, {\"y\": [5, 5, 3, 4, 1]}, {\"y\": [3, 3, 3, 4, 1]}, {\"y\": [4, 3, 3, 4, 1]}, {\"y\": [3, 5, 3, 4, 1]}, {\"y\": [4, 5, 3, 4, 1]}, {\"y\": [3, 3, 1, 4, 1]}, {\"y\": [3, 3, 4, 4, 1]}, {\"y\": [3, 3, 2, 4, 1]}, {\"y\": [5, 3, 1, 4, 1]}, {\"y\": [5, 3, 4, 4, 1]}, {\"y\": [5, 3, 2, 4, 1]}, {\"y\": [2, 3, 1, 4, 1]}, {\"y\": [4, 3, 1, 4, 1]}, {\"y\": [2, 3, 4, 4, 1]}, {\"y\": [2, 3, 2, 4, 1]}, {\"y\": [4, 3, 4, 4, 1]}, {\"y\": [4, 3, 2, 4, 1]}, {\"y\": [3, 1, 4, 4, 1]}, {\"y\": [3, 2, 4, 4, 1]}, {\"y\": [3, 5, 4, 4, 1]}, {\"y\": [3, 1, 1, 4, 1]}, {\"y\": [3, 2, 1, 4, 1]}, {\"y\": [3, 5, 1, 4, 1]}, {\"y\": [3, 1, 2, 4, 1]}, {\"y\": [3, 2, 2, 4, 1]}, {\"y\": [3, 5, 2, 4, 1]}, {\"y\": [2, 2, 4, 4, 1]}, {\"y\": [5, 2, 4, 4, 1]}, {\"y\": [4, 2, 4, 4, 1]}, {\"y\": [2, 1, 4, 4, 1]}, {\"y\": [5, 1, 4, 4, 1]}, {\"y\": [4, 1, 4, 4, 1]}, {\"y\": [2, 5, 4, 4, 1]}, {\"y\": [5, 5, 4, 4, 1]}, {\"y\": [4, 5, 4, 4, 1]}, {\"y\": [2, 1, 1, 4, 1]}, {\"y\": [2, 1, 2, 4, 1]}, {\"y\": [5, 1, 1, 4, 1]}, {\"y\": [5, 1, 2, 4, 1]}, {\"y\": [4, 1, 1, 4, 1]}, {\"y\": [4, 1, 2, 4, 1]}, {\"y\": [5, 2, 1, 4, 1]}, {\"y\": [5, 5, 1, 4, 1]}, {\"y\": [2, 2, 1, 4, 1]}, {\"y\": [2, 5, 1, 4, 1]}, {\"y\": [4, 2, 1, 4, 1]}, {\"y\": [4, 5, 1, 4, 1]}, {\"y\": [2, 2, 2, 4, 1]}, {\"y\": [5, 2, 2, 4, 1]}, {\"y\": [4, 2, 2, 4, 1]}, {\"y\": [2, 5, 2, 4, 1]}, {\"y\": [5, 5, 2, 4, 1]}, {\"y\": [4, 5, 2, 4, 1]}, {\"y\": [5, 2, 1, 4, 4]}, {\"y\": [5, 2, 1, 4, 2]}, {\"y\": [5, 2, 2, 4, 4]}, {\"y\": [5, 2, 2, 4, 2]}, {\"y\": [5, 2, 4, 4, 4]}, {\"y\": [5, 2, 4, 4, 2]}, {\"y\": [5, 2, 3, 4, 4]}, {\"y\": [5, 2, 5, 4, 4]}, {\"y\": [5, 2, 3, 4, 2]}, {\"y\": [5, 2, 5, 4, 2]}, {\"y\": [2, 2, 1, 4, 4]}, {\"y\": [3, 2, 1, 4, 4]}, {\"y\": [4, 2, 1, 4, 4]}, {\"y\": [1, 2, 1, 4, 4]}, {\"y\": [2, 2, 1, 4, 2]}, {\"y\": [3, 2, 1, 4, 2]}, {\"y\": [4, 2, 1, 4, 2]}, {\"y\": [1, 2, 1, 4, 2]}, {\"y\": [2, 2, 2, 4, 4]}, {\"y\": [2, 2, 4, 4, 4]}, {\"y\": [2, 2, 3, 4, 4]}, {\"y\": [2, 2, 5, 4, 4]}, {\"y\": [3, 2, 2, 4, 4]}, {\"y\": [4, 2, 2, 4, 4]}, {\"y\": [1, 2, 2, 4, 4]}, {\"y\": [3, 2, 4, 4, 4]}, {\"y\": [3, 2, 3, 4, 4]}, {\"y\": [3, 2, 5, 4, 4]}, {\"y\": [4, 2, 4, 4, 4]}, {\"y\": [1, 2, 4, 4, 4]}, {\"y\": [4, 2, 3, 4, 4]}, {\"y\": [4, 2, 5, 4, 4]}, {\"y\": [1, 2, 3, 4, 4]}, {\"y\": [1, 2, 5, 4, 4]}, {\"y\": [4, 2, 4, 4, 2]}, {\"y\": [4, 2, 3, 4, 2]}, {\"y\": [4, 2, 2, 4, 2]}, {\"y\": [4, 2, 5, 4, 2]}, {\"y\": [3, 2, 4, 4, 2]}, {\"y\": [2, 2, 4, 4, 2]}, {\"y\": [1, 2, 4, 4, 2]}, {\"y\": [3, 2, 3, 4, 2]}, {\"y\": [3, 2, 2, 4, 2]}, {\"y\": [3, 2, 5, 4, 2]}, {\"y\": [2, 2, 3, 4, 2]}, {\"y\": [1, 2, 3, 4, 2]}, {\"y\": [2, 2, 2, 4, 2]}, {\"y\": [2, 2, 5, 4, 2]}, {\"y\": [1, 2, 2, 4, 2]}, {\"y\": [1, 2, 5, 4, 2]}, {\"y\": [2, 1, 3, 4, 2]}, {\"y\": [2, 5, 3, 4, 2]}, {\"y\": [2, 3, 3, 4, 2]}, {\"y\": [2, 4, 3, 4, 2]}, {\"y\": [3, 5, 3, 4, 2]}, {\"y\": [3, 3, 3, 4, 2]}, {\"y\": [3, 1, 3, 4, 2]}, {\"y\": [3, 4, 3, 4, 2]}, {\"y\": [4, 1, 3, 4, 2]}, {\"y\": [4, 3, 3, 4, 2]}, {\"y\": [4, 5, 3, 4, 2]}, {\"y\": [4, 4, 3, 4, 2]}, {\"y\": [1, 5, 3, 4, 2]}, {\"y\": [5, 5, 3, 4, 2]}, {\"y\": [1, 3, 3, 4, 2]}, {\"y\": [1, 4, 3, 4, 2]}, {\"y\": [5, 3, 3, 4, 2]}, {\"y\": [5, 1, 3, 4, 2]}, {\"y\": [5, 4, 3, 4, 2]}, {\"y\": [2, 3, 4, 4, 2]}, {\"y\": [2, 3, 5, 4, 2]}, {\"y\": [2, 3, 2, 4, 2]}, {\"y\": [2, 3, 1, 4, 2]}, {\"y\": [2, 1, 2, 4, 2]}, {\"y\": [2, 1, 4, 4, 2]}, {\"y\": [2, 1, 5, 4, 2]}, {\"y\": [2, 1, 1, 4, 2]}, {\"y\": [2, 5, 4, 4, 2]}, {\"y\": [2, 4, 4, 4, 2]}, {\"y\": [2, 5, 2, 4, 2]}, {\"y\": [2, 5, 5, 4, 2]}, {\"y\": [2, 5, 1, 4, 2]}, {\"y\": [2, 4, 2, 4, 2]}, {\"y\": [2, 4, 5, 4, 2]}, {\"y\": [2, 4, 1, 4, 2]}, {\"y\": [3, 5, 2, 4, 2]}, {\"y\": [4, 5, 2, 4, 2]}, {\"y\": [1, 5, 2, 4, 2]}, {\"y\": [5, 5, 2, 4, 2]}, {\"y\": [3, 5, 4, 4, 2]}, {\"y\": [4, 5, 4, 4, 2]}, {\"y\": [1, 5, 4, 4, 2]}, {\"y\": [5, 5, 4, 4, 2]}, {\"y\": [3, 5, 5, 4, 2]}, {\"y\": [3, 5, 1, 4, 2]}, {\"y\": [4, 5, 5, 4, 2]}, {\"y\": [1, 5, 5, 4, 2]}, {\"y\": [5, 5, 5, 4, 2]}, {\"y\": [4, 5, 1, 4, 2]}, {\"y\": [1, 5, 1, 4, 2]}, {\"y\": [5, 5, 1, 4, 2]}, {\"y\": [4, 1, 5, 4, 2]}, {\"y\": [4, 3, 5, 4, 2]}, {\"y\": [4, 4, 5, 4, 2]}, {\"y\": [1, 3, 5, 4, 2]}, {\"y\": [1, 1, 5, 4, 2]}, {\"y\": [1, 4, 5, 4, 2]}, {\"y\": [3, 1, 5, 4, 2]}, {\"y\": [5, 1, 5, 4, 2]}, {\"y\": [3, 3, 5, 4, 2]}, {\"y\": [3, 4, 5, 4, 2]}, {\"y\": [5, 3, 5, 4, 2]}, {\"y\": [5, 4, 5, 4, 2]}, {\"y\": [3, 3, 4, 4, 2]}, {\"y\": [3, 3, 2, 4, 2]}, {\"y\": [3, 3, 1, 4, 2]}, {\"y\": [3, 1, 4, 4, 2]}, {\"y\": [3, 1, 2, 4, 2]}, {\"y\": [3, 1, 1, 4, 2]}, {\"y\": [3, 4, 4, 4, 2]}, {\"y\": [3, 4, 2, 4, 2]}, {\"y\": [3, 4, 1, 4, 2]}, {\"y\": [4, 3, 4, 4, 2]}, {\"y\": [1, 3, 4, 4, 2]}, {\"y\": [5, 3, 4, 4, 2]}, {\"y\": [4, 3, 2, 4, 2]}, {\"y\": [1, 3, 2, 4, 2]}, {\"y\": [5, 3, 2, 4, 2]}, {\"y\": [4, 3, 1, 4, 2]}, {\"y\": [1, 3, 1, 4, 2]}, {\"y\": [5, 3, 1, 4, 2]}, {\"y\": [4, 1, 2, 4, 2]}, {\"y\": [4, 4, 2, 4, 2]}, {\"y\": [1, 4, 2, 4, 2]}, {\"y\": [5, 1, 2, 4, 2]}, {\"y\": [5, 4, 2, 4, 2]}, {\"y\": [4, 1, 4, 4, 2]}, {\"y\": [4, 1, 1, 4, 2]}, {\"y\": [4, 4, 4, 4, 2]}, {\"y\": [4, 4, 1, 4, 2]}, {\"y\": [5, 1, 4, 4, 2]}, {\"y\": [5, 1, 1, 4, 2]}, {\"y\": [1, 4, 4, 4, 2]}, {\"y\": [5, 4, 4, 4, 2]}, {\"y\": [1, 4, 1, 4, 2]}, {\"y\": [5, 4, 1, 4, 2]}, {\"y\": [4, 1, 4, 4, 4]}, {\"y\": [4, 3, 4, 4, 4]}, {\"y\": [4, 4, 4, 4, 4]}, {\"y\": [4, 5, 4, 4, 4]}, {\"y\": [4, 1, 2, 4, 4]}, {\"y\": [4, 1, 1, 4, 4]}, {\"y\": [4, 1, 3, 4, 4]}, {\"y\": [4, 1, 5, 4, 4]}, {\"y\": [4, 3, 2, 4, 4]}, {\"y\": [4, 4, 2, 4, 4]}, {\"y\": [4, 5, 2, 4, 4]}, {\"y\": [4, 3, 1, 4, 4]}, {\"y\": [4, 3, 3, 4, 4]}, {\"y\": [4, 3, 5, 4, 4]}, {\"y\": [4, 4, 1, 4, 4]}, {\"y\": [4, 4, 3, 4, 4]}, {\"y\": [4, 4, 5, 4, 4]}, {\"y\": [4, 5, 1, 4, 4]}, {\"y\": [4, 5, 3, 4, 4]}, {\"y\": [4, 5, 5, 4, 4]}, {\"y\": [1, 4, 4, 4, 4]}, {\"y\": [3, 4, 4, 4, 4]}, {\"y\": [2, 4, 4, 4, 4]}, {\"y\": [5, 4, 4, 4, 4]}, {\"y\": [1, 3, 4, 4, 4]}, {\"y\": [3, 3, 4, 4, 4]}, {\"y\": [2, 3, 4, 4, 4]}, {\"y\": [5, 3, 4, 4, 4]}, {\"y\": [1, 1, 4, 4, 4]}, {\"y\": [1, 5, 4, 4, 4]}, {\"y\": [3, 1, 4, 4, 4]}, {\"y\": [2, 1, 4, 4, 4]}, {\"y\": [5, 1, 4, 4, 4]}, {\"y\": [3, 5, 4, 4, 4]}, {\"y\": [2, 5, 4, 4, 4]}, {\"y\": [5, 5, 4, 4, 4]}, {\"y\": [3, 1, 2, 4, 4]}, {\"y\": [3, 1, 1, 4, 4]}, {\"y\": [3, 1, 3, 4, 4]}, {\"y\": [3, 1, 5, 4, 4]}, {\"y\": [2, 1, 2, 4, 4]}, {\"y\": [2, 1, 1, 4, 4]}, {\"y\": [2, 1, 3, 4, 4]}, {\"y\": [2, 1, 5, 4, 4]}, {\"y\": [5, 1, 2, 4, 4]}, {\"y\": [5, 1, 1, 4, 4]}, {\"y\": [1, 1, 5, 4, 4]}, {\"y\": [5, 1, 3, 4, 4]}, {\"y\": [5, 1, 5, 4, 4]}, {\"y\": [2, 4, 3, 4, 4]}, {\"y\": [2, 3, 3, 4, 4]}, {\"y\": [2, 5, 3, 4, 4]}, {\"y\": [2, 4, 2, 4, 4]}, {\"y\": [2, 4, 1, 4, 4]}, {\"y\": [2, 4, 5, 4, 4]}, {\"y\": [2, 3, 1, 4, 4]}, {\"y\": [2, 5, 1, 4, 4]}, {\"y\": [2, 3, 2, 4, 4]}, {\"y\": [2, 3, 5, 4, 4]}, {\"y\": [2, 5, 2, 4, 4]}, {\"y\": [2, 5, 5, 4, 4]}, {\"y\": [3, 4, 2, 4, 4]}, {\"y\": [1, 4, 2, 4, 4]}, {\"y\": [5, 4, 2, 4, 4]}, {\"y\": [3, 3, 2, 4, 4]}, {\"y\": [1, 3, 2, 4, 4]}, {\"y\": [5, 3, 2, 4, 4]}, {\"y\": [3, 5, 2, 4, 4]}, {\"y\": [1, 5, 2, 4, 4]}, {\"y\": [5, 5, 2, 4, 4]}, {\"y\": [3, 3, 3, 4, 4]}, {\"y\": [3, 3, 1, 4, 4]}, {\"y\": [3, 3, 5, 4, 4]}, {\"y\": [1, 3, 3, 4, 4]}, {\"y\": [5, 3, 3, 4, 4]}, {\"y\": [1, 3, 1, 4, 4]}, {\"y\": [1, 3, 5, 4, 4]}, {\"y\": [5, 3, 1, 4, 4]}, {\"y\": [5, 3, 5, 4, 4]}, {\"y\": [3, 4, 3, 4, 4]}, {\"y\": [3, 5, 3, 4, 4]}, {\"y\": [3, 4, 1, 4, 4]}, {\"y\": [3, 5, 1, 4, 4]}, {\"y\": [3, 4, 5, 4, 4]}, {\"y\": [3, 5, 5, 4, 4]}, {\"y\": [1, 4, 1, 4, 4]}, {\"y\": [5, 4, 1, 4, 4]}, {\"y\": [1, 4, 3, 4, 4]}, {\"y\": [1, 4, 5, 4, 4]}, {\"y\": [5, 4, 3, 4, 4]}, {\"y\": [5, 4, 5, 4, 4]}, {\"y\": [1, 5, 3, 4, 4]}, {\"y\": [5, 5, 3, 4, 4]}, {\"y\": [1, 5, 1, 4, 4]}, {\"y\": [1, 5, 5, 4, 4]}, {\"y\": [5, 5, 1, 4, 4]}, {\"y\": [5, 5, 5, 4, 4]}, {\"y\": [1, 4, 3, 5, 4]}, {\"y\": [1, 4, 3, 2, 4]}, {\"y\": [1, 5, 3, 5, 4]}, {\"y\": [1, 5, 3, 2, 4]}, {\"y\": [1, 3, 3, 5, 4]}, {\"y\": [1, 3, 3, 2, 4]}, {\"y\": [1, 2, 3, 5, 4]}, {\"y\": [1, 2, 3, 2, 4]}, {\"y\": [1, 4, 1, 5, 4]}, {\"y\": [1, 4, 1, 2, 4]}, {\"y\": [1, 4, 2, 5, 4]}, {\"y\": [1, 4, 4, 5, 4]}, {\"y\": [1, 4, 5, 5, 4]}, {\"y\": [1, 4, 2, 2, 4]}, {\"y\": [1, 4, 4, 2, 4]}, {\"y\": [1, 4, 5, 2, 4]}, {\"y\": [1, 5, 1, 5, 4]}, {\"y\": [1, 3, 1, 5, 4]}, {\"y\": [1, 2, 1, 5, 4]}, {\"y\": [1, 5, 2, 5, 4]}, {\"y\": [1, 5, 4, 5, 4]}, {\"y\": [1, 5, 5, 5, 4]}, {\"y\": [1, 3, 2, 5, 4]}, {\"y\": [1, 2, 2, 5, 4]}, {\"y\": [1, 3, 4, 5, 4]}, {\"y\": [1, 3, 5, 5, 4]}, {\"y\": [1, 2, 4, 5, 4]}, {\"y\": [1, 1, 4, 5, 4]}, {\"y\": [1, 2, 5, 5, 4]}, {\"y\": [1, 1, 5, 5, 4]}, {\"y\": [1, 3, 4, 2, 4]}, {\"y\": [1, 5, 4, 2, 4]}, {\"y\": [1, 2, 4, 2, 4]}, {\"y\": [1, 3, 2, 2, 4]}, {\"y\": [1, 3, 1, 2, 4]}, {\"y\": [1, 3, 5, 2, 4]}, {\"y\": [1, 5, 2, 2, 4]}, {\"y\": [1, 2, 2, 2, 4]}, {\"y\": [1, 5, 1, 2, 4]}, {\"y\": [1, 5, 5, 2, 4]}, {\"y\": [1, 2, 1, 2, 4]}, {\"y\": [1, 2, 5, 2, 4]}, {\"y\": [1, 1, 5, 2, 4]}, {\"y\": [2, 5, 4, 2, 4]}, {\"y\": [3, 5, 4, 2, 4]}, {\"y\": [5, 5, 4, 2, 4]}, {\"y\": [4, 5, 4, 2, 4]}, {\"y\": [2, 3, 4, 2, 4]}, {\"y\": [3, 3, 4, 2, 4]}, {\"y\": [5, 3, 4, 2, 4]}, {\"y\": [4, 3, 4, 2, 4]}, {\"y\": [2, 2, 4, 2, 4]}, {\"y\": [2, 4, 4, 2, 4]}, {\"y\": [2, 1, 4, 2, 4]}, {\"y\": [3, 2, 4, 2, 4]}, {\"y\": [5, 2, 4, 2, 4]}, {\"y\": [4, 2, 4, 2, 4]}, {\"y\": [3, 4, 4, 2, 4]}, {\"y\": [3, 1, 4, 2, 4]}, {\"y\": [5, 4, 4, 2, 4]}, {\"y\": [4, 4, 4, 2, 4]}, {\"y\": [5, 1, 4, 2, 4]}, {\"y\": [4, 1, 4, 2, 4]}, {\"y\": [3, 4, 2, 2, 4]}, {\"y\": [3, 4, 1, 2, 4]}, {\"y\": [3, 4, 5, 2, 4]}, {\"y\": [3, 4, 3, 2, 4]}, {\"y\": [5, 4, 2, 2, 4]}, {\"y\": [5, 4, 1, 2, 4]}, {\"y\": [5, 4, 5, 2, 4]}, {\"y\": [5, 4, 3, 2, 4]}, {\"y\": [2, 4, 1, 2, 4]}, {\"y\": [4, 4, 1, 2, 4]}, {\"y\": [2, 4, 2, 2, 4]}, {\"y\": [2, 4, 5, 2, 4]}, {\"y\": [2, 4, 3, 2, 4]}, {\"y\": [4, 4, 2, 2, 4]}, {\"y\": [4, 4, 5, 2, 4]}, {\"y\": [4, 4, 3, 2, 4]}, {\"y\": [2, 2, 2, 2, 4]}, {\"y\": [2, 3, 2, 2, 4]}, {\"y\": [2, 5, 2, 2, 4]}, {\"y\": [2, 1, 2, 2, 4]}, {\"y\": [2, 3, 5, 2, 4]}, {\"y\": [2, 2, 5, 2, 4]}, {\"y\": [2, 5, 5, 2, 4]}, {\"y\": [2, 1, 5, 2, 4]}, {\"y\": [2, 2, 1, 2, 4]}, {\"y\": [2, 2, 3, 2, 4]}, {\"y\": [2, 3, 1, 2, 4]}, {\"y\": [2, 5, 1, 2, 4]}, {\"y\": [2, 1, 1, 2, 4]}, {\"y\": [2, 3, 3, 2, 4]}, {\"y\": [2, 5, 3, 2, 4]}, {\"y\": [2, 1, 3, 2, 4]}, {\"y\": [3, 3, 1, 2, 4]}, {\"y\": [5, 3, 1, 2, 4]}, {\"y\": [4, 3, 1, 2, 4]}, {\"y\": [3, 5, 1, 2, 4]}, {\"y\": [5, 5, 1, 2, 4]}, {\"y\": [4, 5, 1, 2, 4]}, {\"y\": [3, 2, 1, 2, 4]}, {\"y\": [3, 1, 1, 2, 4]}, {\"y\": [5, 2, 1, 2, 4]}, {\"y\": [4, 2, 1, 2, 4]}, {\"y\": [5, 1, 1, 2, 4]}, {\"y\": [4, 1, 1, 2, 4]}, {\"y\": [5, 2, 2, 2, 4]}, {\"y\": [5, 2, 5, 2, 4]}, {\"y\": [5, 2, 3, 2, 4]}, {\"y\": [3, 2, 2, 2, 4]}, {\"y\": [3, 2, 5, 2, 4]}, {\"y\": [3, 2, 3, 2, 4]}, {\"y\": [4, 2, 2, 2, 4]}, {\"y\": [4, 2, 5, 2, 4]}, {\"y\": [4, 2, 3, 2, 4]}, {\"y\": [5, 5, 2, 2, 4]}, {\"y\": [5, 3, 2, 2, 4]}, {\"y\": [5, 1, 2, 2, 4]}, {\"y\": [5, 5, 5, 2, 4]}, {\"y\": [5, 3, 5, 2, 4]}, {\"y\": [5, 1, 5, 2, 4]}, {\"y\": [5, 3, 3, 2, 4]}, {\"y\": [5, 5, 3, 2, 4]}, {\"y\": [5, 1, 3, 2, 4]}, {\"y\": [3, 5, 5, 2, 4]}, {\"y\": [4, 5, 5, 2, 4]}, {\"y\": [3, 3, 5, 2, 4]}, {\"y\": [4, 3, 5, 2, 4]}, {\"y\": [3, 1, 5, 2, 4]}, {\"y\": [4, 1, 5, 2, 4]}, {\"y\": [3, 3, 2, 2, 4]}, {\"y\": [3, 3, 3, 2, 4]}, {\"y\": [3, 5, 2, 2, 4]}, {\"y\": [3, 5, 3, 2, 4]}, {\"y\": [3, 1, 2, 2, 4]}, {\"y\": [3, 1, 3, 2, 4]}, {\"y\": [4, 5, 2, 2, 4]}, {\"y\": [4, 3, 2, 2, 4]}, {\"y\": [4, 1, 2, 2, 4]}, {\"y\": [4, 5, 3, 2, 4]}, {\"y\": [4, 3, 3, 2, 4]}, {\"y\": [4, 1, 3, 2, 4]}, {\"y\": [3, 3, 2, 5, 4]}, {\"y\": [4, 3, 2, 5, 4]}, {\"y\": [5, 3, 2, 5, 4]}, {\"y\": [2, 3, 2, 5, 4]}, {\"y\": [3, 5, 2, 5, 4]}, {\"y\": [3, 2, 2, 5, 4]}, {\"y\": [3, 1, 2, 5, 4]}, {\"y\": [3, 4, 2, 5, 4]}, {\"y\": [4, 5, 2, 5, 4]}, {\"y\": [5, 5, 2, 5, 4]}, {\"y\": [2, 5, 2, 5, 4]}, {\"y\": [4, 2, 2, 5, 4]}, {\"y\": [4, 1, 2, 5, 4]}, {\"y\": [4, 4, 2, 5, 4]}, {\"y\": [5, 2, 2, 5, 4]}, {\"y\": [2, 2, 2, 5, 4]}, {\"y\": [5, 1, 2, 5, 4]}, {\"y\": [5, 4, 2, 5, 4]}, {\"y\": [2, 1, 2, 5, 4]}, {\"y\": [2, 4, 2, 5, 4]}, {\"y\": [4, 2, 5, 5, 4]}, {\"y\": [4, 2, 3, 5, 4]}, {\"y\": [4, 2, 4, 5, 4]}, {\"y\": [4, 2, 1, 5, 4]}, {\"y\": [4, 3, 3, 5, 4]}, {\"y\": [4, 3, 5, 5, 4]}, {\"y\": [4, 3, 4, 5, 4]}, {\"y\": [4, 3, 1, 5, 4]}, {\"y\": [4, 1, 5, 5, 4]}, {\"y\": [4, 1, 3, 5, 4]}, {\"y\": [4, 1, 4, 5, 4]}, {\"y\": [4, 1, 1, 5, 4]}, {\"y\": [4, 5, 3, 5, 4]}, {\"y\": [4, 4, 3, 5, 4]}, {\"y\": [4, 5, 5, 5, 4]}, {\"y\": [4, 5, 4, 5, 4]}, {\"y\": [4, 5, 1, 5, 4]}, {\"y\": [4, 4, 5, 5, 4]}, {\"y\": [4, 4, 4, 5, 4]}, {\"y\": [4, 4, 1, 5, 4]}, {\"y\": [3, 5, 5, 5, 4]}, {\"y\": [5, 5, 5, 5, 4]}, {\"y\": [2, 5, 5, 5, 4]}, {\"y\": [3, 5, 3, 5, 4]}, {\"y\": [5, 5, 3, 5, 4]}, {\"y\": [2, 5, 3, 5, 4]}, {\"y\": [5, 5, 4, 5, 4]}, {\"y\": [5, 5, 1, 5, 4]}, {\"y\": [3, 5, 4, 5, 4]}, {\"y\": [2, 5, 4, 5, 4]}, {\"y\": [3, 5, 1, 5, 4]}, {\"y\": [2, 5, 1, 5, 4]}, {\"y\": [3, 1, 4, 5, 4]}, {\"y\": [3, 3, 4, 5, 4]}, {\"y\": [3, 2, 4, 5, 4]}, {\"y\": [3, 4, 4, 5, 4]}, {\"y\": [5, 1, 4, 5, 4]}, {\"y\": [5, 3, 4, 5, 4]}, {\"y\": [5, 2, 4, 5, 4]}, {\"y\": [5, 4, 4, 5, 4]}, {\"y\": [2, 1, 4, 5, 4]}, {\"y\": [2, 3, 4, 5, 4]}, {\"y\": [2, 2, 4, 5, 4]}, {\"y\": [2, 4, 4, 5, 4]}, {\"y\": [3, 1, 3, 5, 4]}, {\"y\": [3, 1, 5, 5, 4]}, {\"y\": [3, 1, 1, 5, 4]}, {\"y\": [3, 2, 3, 5, 4]}, {\"y\": [3, 2, 5, 5, 4]}, {\"y\": [3, 2, 1, 5, 4]}, {\"y\": [3, 3, 3, 5, 4]}, {\"y\": [3, 4, 3, 5, 4]}, {\"y\": [3, 3, 5, 5, 4]}, {\"y\": [3, 3, 1, 5, 4]}, {\"y\": [3, 4, 5, 5, 4]}, {\"y\": [3, 4, 1, 5, 4]}, {\"y\": [5, 3, 3, 5, 4]}, {\"y\": [2, 3, 3, 5, 4]}, {\"y\": [5, 2, 3, 5, 4]}, {\"y\": [2, 2, 3, 5, 4]}, {\"y\": [5, 1, 3, 5, 4]}, {\"y\": [5, 4, 3, 5, 4]}, {\"y\": [2, 1, 3, 5, 4]}, {\"y\": [2, 4, 3, 5, 4]}, {\"y\": [5, 3, 5, 5, 4]}, {\"y\": [5, 3, 1, 5, 4]}, {\"y\": [5, 1, 5, 5, 4]}, {\"y\": [5, 1, 1, 5, 4]}, {\"y\": [5, 2, 5, 5, 4]}, {\"y\": [5, 4, 5, 5, 4]}, {\"y\": [5, 2, 1, 5, 4]}, {\"y\": [5, 4, 1, 5, 4]}, {\"y\": [2, 3, 5, 5, 4]}, {\"y\": [2, 2, 5, 5, 4]}, {\"y\": [2, 1, 5, 5, 4]}, {\"y\": [2, 4, 5, 5, 4]}, {\"y\": [2, 3, 1, 5, 4]}, {\"y\": [2, 2, 1, 5, 4]}, {\"y\": [2, 1, 1, 5, 4]}, {\"y\": [2, 4, 1, 5, 4]}, {\"y\": [5, 2, 5, 5, 2]}, {\"y\": [2, 2, 5, 5, 2]}, {\"y\": [3, 2, 5, 5, 2]}, {\"y\": [4, 2, 5, 5, 2]}, {\"y\": [1, 2, 5, 5, 2]}, {\"y\": [5, 3, 5, 5, 2]}, {\"y\": [5, 1, 5, 5, 2]}, {\"y\": [5, 4, 5, 5, 2]}, {\"y\": [5, 5, 5, 5, 2]}, {\"y\": [2, 3, 5, 5, 2]}, {\"y\": [3, 3, 5, 5, 2]}, {\"y\": [4, 3, 5, 5, 2]}, {\"y\": [1, 3, 5, 5, 2]}, {\"y\": [2, 1, 5, 5, 2]}, {\"y\": [2, 4, 5, 5, 2]}, {\"y\": [2, 5, 5, 5, 2]}, {\"y\": [3, 1, 5, 5, 2]}, {\"y\": [4, 1, 5, 5, 2]}, {\"y\": [1, 1, 5, 5, 2]}, {\"y\": [3, 4, 5, 5, 2]}, {\"y\": [3, 5, 5, 5, 2]}, {\"y\": [4, 4, 5, 5, 2]}, {\"y\": [1, 4, 5, 5, 2]}, {\"y\": [4, 5, 5, 5, 2]}, {\"y\": [1, 5, 5, 5, 2]}, {\"y\": [2, 4, 3, 5, 2]}, {\"y\": [2, 4, 1, 5, 2]}, {\"y\": [2, 4, 4, 5, 2]}, {\"y\": [2, 4, 2, 5, 2]}, {\"y\": [2, 1, 3, 5, 2]}, {\"y\": [2, 1, 1, 5, 2]}, {\"y\": [2, 1, 4, 5, 2]}, {\"y\": [2, 1, 2, 5, 2]}, {\"y\": [2, 3, 3, 5, 2]}, {\"y\": [2, 2, 3, 5, 2]}, {\"y\": [2, 5, 3, 5, 2]}, {\"y\": [2, 3, 1, 5, 2]}, {\"y\": [2, 3, 4, 5, 2]}, {\"y\": [2, 3, 2, 5, 2]}, {\"y\": [2, 2, 1, 5, 2]}, {\"y\": [2, 5, 1, 5, 2]}, {\"y\": [2, 2, 4, 5, 2]}, {\"y\": [2, 2, 2, 5, 2]}, {\"y\": [2, 5, 4, 5, 2]}, {\"y\": [2, 5, 2, 5, 2]}, {\"y\": [3, 2, 4, 5, 2]}, {\"y\": [4, 2, 4, 5, 2]}, {\"y\": [5, 2, 4, 5, 2]}, {\"y\": [1, 2, 4, 5, 2]}, {\"y\": [3, 2, 3, 5, 2]}, {\"y\": [4, 2, 3, 5, 2]}, {\"y\": [5, 2, 3, 5, 2]}, {\"y\": [1, 2, 3, 5, 2]}, {\"y\": [3, 2, 1, 5, 2]}, {\"y\": [3, 2, 2, 5, 2]}, {\"y\": [4, 2, 1, 5, 2]}, {\"y\": [5, 2, 1, 5, 2]}, {\"y\": [1, 2, 1, 5, 2]}, {\"y\": [4, 2, 2, 5, 2]}, {\"y\": [5, 2, 2, 5, 2]}, {\"y\": [1, 2, 2, 5, 2]}, {\"y\": [4, 3, 1, 5, 2]}, {\"y\": [4, 4, 1, 5, 2]}, {\"y\": [4, 1, 1, 5, 2]}, {\"y\": [4, 5, 1, 5, 2]}, {\"y\": [5, 3, 1, 5, 2]}, {\"y\": [5, 4, 1, 5, 2]}, {\"y\": [5, 1, 1, 5, 2]}, {\"y\": [5, 5, 1, 5, 2]}, {\"y\": [3, 3, 1, 5, 2]}, {\"y\": [1, 3, 1, 5, 2]}, {\"y\": [3, 4, 1, 5, 2]}, {\"y\": [3, 1, 1, 5, 2]}, {\"y\": [3, 5, 1, 5, 2]}, {\"y\": [1, 4, 1, 5, 2]}, {\"y\": [1, 5, 1, 5, 2]}, {\"y\": [3, 4, 3, 5, 2]}, {\"y\": [3, 4, 4, 5, 2]}, {\"y\": [3, 4, 2, 5, 2]}, {\"y\": [3, 3, 3, 5, 2]}, {\"y\": [3, 3, 4, 5, 2]}, {\"y\": [3, 3, 2, 5, 2]}, {\"y\": [3, 1, 4, 5, 2]}, {\"y\": [3, 5, 4, 5, 2]}, {\"y\": [3, 1, 3, 5, 2]}, {\"y\": [3, 1, 2, 5, 2]}, {\"y\": [3, 5, 3, 5, 2]}, {\"y\": [3, 5, 2, 5, 2]}, {\"y\": [5, 3, 3, 5, 2]}, {\"y\": [4, 3, 3, 5, 2]}, {\"y\": [1, 3, 3, 5, 2]}, {\"y\": [5, 1, 3, 5, 2]}, {\"y\": [4, 1, 3, 5, 2]}, {\"y\": [5, 4, 3, 5, 2]}, {\"y\": [5, 5, 3, 5, 2]}, {\"y\": [4, 4, 3, 5, 2]}, {\"y\": [1, 4, 3, 5, 2]}, {\"y\": [4, 5, 3, 5, 2]}, {\"y\": [1, 5, 3, 5, 2]}, {\"y\": [4, 4, 4, 5, 2]}, {\"y\": [4, 4, 2, 5, 2]}, {\"y\": [5, 4, 4, 5, 2]}, {\"y\": [5, 4, 2, 5, 2]}, {\"y\": [1, 4, 4, 5, 2]}, {\"y\": [1, 4, 2, 5, 2]}, {\"y\": [4, 1, 4, 5, 2]}, {\"y\": [4, 3, 4, 5, 2]}, {\"y\": [4, 5, 4, 5, 2]}, {\"y\": [4, 1, 2, 5, 2]}, {\"y\": [4, 3, 2, 5, 2]}, {\"y\": [4, 5, 2, 5, 2]}, {\"y\": [5, 1, 4, 5, 2]}, {\"y\": [1, 1, 4, 5, 2]}, {\"y\": [5, 3, 4, 5, 2]}, {\"y\": [5, 5, 4, 5, 2]}, {\"y\": [1, 3, 4, 5, 2]}, {\"y\": [1, 5, 4, 5, 2]}, {\"y\": [5, 3, 2, 5, 2]}, {\"y\": [1, 3, 2, 5, 2]}, {\"y\": [5, 1, 2, 5, 2]}, {\"y\": [5, 5, 2, 5, 2]}, {\"y\": [1, 5, 2, 5, 2]}, {\"y\": [5, 3, 4, 2, 2]}, {\"y\": [5, 3, 2, 2, 2]}, {\"y\": [5, 3, 3, 2, 2]}, {\"y\": [5, 3, 5, 2, 2]}, {\"y\": [5, 3, 1, 2, 2]}, {\"y\": [5, 4, 4, 2, 2]}, {\"y\": [5, 1, 4, 2, 2]}, {\"y\": [5, 5, 4, 2, 2]}, {\"y\": [5, 2, 4, 2, 2]}, {\"y\": [5, 4, 2, 2, 2]}, {\"y\": [5, 4, 3, 2, 2]}, {\"y\": [5, 4, 5, 2, 2]}, {\"y\": [5, 4, 1, 2, 2]}, {\"y\": [5, 1, 2, 2, 2]}, {\"y\": [5, 5, 2, 2, 2]}, {\"y\": [5, 2, 2, 2, 2]}, {\"y\": [5, 1, 3, 2, 2]}, {\"y\": [5, 1, 5, 2, 2]}, {\"y\": [5, 1, 1, 2, 2]}, {\"y\": [5, 5, 3, 2, 2]}, {\"y\": [5, 2, 3, 2, 2]}, {\"y\": [5, 5, 5, 2, 2]}, {\"y\": [5, 5, 1, 2, 2]}, {\"y\": [5, 2, 5, 2, 2]}, {\"y\": [5, 2, 1, 2, 2]}, {\"y\": [4, 5, 3, 2, 2]}, {\"y\": [3, 5, 3, 2, 2]}, {\"y\": [1, 5, 3, 2, 2]}, {\"y\": [2, 5, 3, 2, 2]}, {\"y\": [4, 4, 3, 2, 2]}, {\"y\": [3, 4, 3, 2, 2]}, {\"y\": [1, 4, 3, 2, 2]}, {\"y\": [2, 4, 3, 2, 2]}, {\"y\": [4, 1, 3, 2, 2]}, {\"y\": [4, 3, 3, 2, 2]}, {\"y\": [4, 2, 3, 2, 2]}, {\"y\": [3, 1, 3, 2, 2]}, {\"y\": [2, 1, 3, 2, 2]}, {\"y\": [3, 3, 3, 2, 2]}, {\"y\": [3, 2, 3, 2, 2]}, {\"y\": [1, 3, 3, 2, 2]}, {\"y\": [2, 3, 3, 2, 2]}, {\"y\": [1, 2, 3, 2, 2]}, {\"y\": [2, 2, 3, 2, 2]}, {\"y\": [1, 3, 4, 2, 2]}, {\"y\": [1, 3, 5, 2, 2]}, {\"y\": [1, 3, 2, 2, 2]}, {\"y\": [1, 3, 1, 2, 2]}, {\"y\": [3, 3, 2, 2, 2]}, {\"y\": [3, 3, 4, 2, 2]}, {\"y\": [3, 3, 5, 2, 2]}, {\"y\": [3, 3, 1, 2, 2]}, {\"y\": [4, 3, 4, 2, 2]}, {\"y\": [2, 3, 4, 2, 2]}, {\"y\": [4, 3, 2, 2, 2]}, {\"y\": [4, 3, 5, 2, 2]}, {\"y\": [4, 3, 1, 2, 2]}, {\"y\": [2, 3, 2, 2, 2]}, {\"y\": [2, 3, 5, 2, 2]}, {\"y\": [2, 3, 1, 2, 2]}, {\"y\": [3, 1, 2, 2, 2]}, {\"y\": [3, 4, 2, 2, 2]}, {\"y\": [3, 5, 2, 2, 2]}, {\"y\": [3, 2, 2, 2, 2]}, {\"y\": [3, 1, 5, 2, 2]}, {\"y\": [3, 4, 5, 2, 2]}, {\"y\": [3, 5, 5, 2, 2]}, {\"y\": [3, 2, 5, 2, 2]}, {\"y\": [3, 1, 4, 2, 2]}, {\"y\": [3, 1, 1, 2, 2]}, {\"y\": [3, 4, 4, 2, 2]}, {\"y\": [3, 5, 4, 2, 2]}, {\"y\": [3, 2, 4, 2, 2]}, {\"y\": [3, 5, 1, 2, 2]}, {\"y\": [3, 4, 1, 2, 2]}, {\"y\": [3, 2, 1, 2, 2]}, {\"y\": [4, 4, 4, 2, 2]}, {\"y\": [1, 4, 4, 2, 2]}, {\"y\": [2, 4, 4, 2, 2]}, {\"y\": [4, 5, 4, 2, 2]}, {\"y\": [1, 5, 4, 2, 2]}, {\"y\": [2, 5, 4, 2, 2]}, {\"y\": [4, 1, 4, 2, 2]}, {\"y\": [4, 2, 4, 2, 2]}, {\"y\": [2, 1, 4, 2, 2]}, {\"y\": [1, 2, 4, 2, 2]}, {\"y\": [2, 2, 4, 2, 2]}, {\"y\": [1, 4, 2, 2, 2]}, {\"y\": [1, 4, 5, 2, 2]}, {\"y\": [1, 4, 1, 2, 2]}, {\"y\": [4, 4, 2, 2, 2]}, {\"y\": [4, 4, 5, 2, 2]}, {\"y\": [4, 4, 1, 2, 2]}, {\"y\": [2, 4, 2, 2, 2]}, {\"y\": [2, 4, 5, 2, 2]}, {\"y\": [2, 4, 1, 2, 2]}, {\"y\": [1, 5, 2, 2, 2]}, {\"y\": [1, 2, 2, 2, 2]}, {\"y\": [1, 5, 5, 2, 2]}, {\"y\": [1, 1, 5, 2, 2]}, {\"y\": [1, 2, 5, 2, 2]}, {\"y\": [1, 5, 1, 2, 2]}, {\"y\": [1, 2, 1, 2, 2]}, {\"y\": [2, 5, 5, 2, 2]}, {\"y\": [4, 5, 5, 2, 2]}, {\"y\": [2, 1, 5, 2, 2]}, {\"y\": [2, 2, 5, 2, 2]}, {\"y\": [4, 1, 5, 2, 2]}, {\"y\": [4, 2, 5, 2, 2]}, {\"y\": [2, 1, 2, 2, 2]}, {\"y\": [2, 1, 1, 2, 2]}, {\"y\": [2, 5, 2, 2, 2]}, {\"y\": [2, 5, 1, 2, 2]}, {\"y\": [2, 2, 2, 2, 2]}, {\"y\": [2, 2, 1, 2, 2]}, {\"y\": [4, 5, 2, 2, 2]}, {\"y\": [4, 1, 2, 2, 2]}, {\"y\": [4, 2, 2, 2, 2]}, {\"y\": [4, 5, 1, 2, 2]}, {\"y\": [4, 1, 1, 2, 2]}, {\"y\": [4, 2, 1, 2, 2]}]\n",
              "```"
            ],
            "text/plain": [
              "<IPython.core.display.Markdown object>"
            ]
          },
          "metadata": {},
          "output_type": "display_data"
        },
        {
          "data": {
            "text/markdown": [
              "| Statistic | Value |\n",
              "|:-|-:|\n",
              "| SolverTotalTime | 8.179 |\n",
              "| SavileRowClauseOut | 0 |\n",
              "| SavileRowTotalTime | 0.091 |\n",
              "| SolverFailures | 3897 |\n",
              "| SolverSatisfiable | 1 |\n",
              "| SavileRowTimeOut | 0 |\n",
              "| SolverTimeOut | 0 |\n",
              "| SolverNodes | 3953 |\n"
            ],
            "text/plain": [
              "<IPython.core.display.Markdown object>"
            ]
          },
          "metadata": {},
          "output_type": "display_data"
        }
      ],
      "source": [
        "%%conjure --number-of-solutions=all\n",
        "letting s be domain sequence (minSize 3, maxSize 5) of (int(1..5))\n",
        "find y: s"
      ]
    }
  ],
  "metadata": {
    "colab": {
      "provenance": []
    },
    "kernelspec": {
      "display_name": "Python 3",
      "name": "python3"
    },
    "language_info": {
      "name": "python"
    }
  },
  "nbformat": 4,
  "nbformat_minor": 0
}
