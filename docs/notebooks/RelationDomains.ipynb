{
  "cells": [
    {
      "cell_type": "markdown",
      "metadata": {},
      "source": [
        "<a href=\"https://colab.research.google.com/github/conjure-cp/conjure/blob/main/docs/notebooks/RelationDomains.ipynb\" target=\"_parent\"><img src=\"https://colab.research.google.com/assets/colab-badge.svg\" alt=\"Open In Colab\"/></a>"
      ]
    },
    {
      "cell_type": "markdown",
      "metadata": {
        "id": "JNiReJXim2YC"
      },
      "source": [
        "## Relation"
      ]
    },
    {
      "cell_type": "code",
      "execution_count": 23,
      "metadata": {
        "colab": {
          "base_uri": "https://localhost:8080/"
        },
        "id": "nBQDiwTSbPNq",
        "outputId": "86969da0-de57-4b6d-e976-ce2f61073c7c"
      },
      "outputs": [
        {
          "name": "stdout",
          "output_type": "stream",
          "text": [
            "Installing Conjure version v2.5.1 and Conjure Notebook version v0.0.10...\n",
            "Conjure is already installed.\n",
            "Conjure notebook is already installed.\n",
            "Conjure: The Automated Constraint Modelling Tool\n",
            "Release version 2.5.1\n",
            "Repository version a9cbc2e (2023-11-07 23:44:00 +0000)\n",
            "The conjure extension is already loaded. To reload it, use:\n",
            "  %reload_ext conjure\n"
          ]
        }
      ],
      "source": [
        "!source <(curl -s https://raw.githubusercontent.com/conjure-cp/conjure-notebook/v0.0.10/scripts/install-colab.sh)\n",
        "%load_ext conjure"
      ]
    },
    {
      "cell_type": "markdown",
      "metadata": {
        "id": "gQBkmS0NIOQH"
      },
      "source": [
        "A list of pairs of elements of given domains that are related to each other."
      ]
    },
    {
      "cell_type": "markdown",
      "metadata": {
        "id": "CmhPnM8HIdzn"
      },
      "source": [
        "Can be defined explicitly or implicitly."
      ]
    },
    {
      "cell_type": "code",
      "execution_count": 24,
      "metadata": {
        "colab": {
          "base_uri": "https://localhost:8080/",
          "height": 317
        },
        "id": "3HxaXcifm6GW",
        "outputId": "f068ce9a-9612-4374-f23e-95f8b840c634"
      },
      "outputs": [
        {
          "data": {
            "text/markdown": [
              "```json\n",
              "{}\n",
              "```"
            ],
            "text/plain": [
              "<IPython.core.display.Markdown object>"
            ]
          },
          "metadata": {},
          "output_type": "display_data"
        },
        {
          "data": {
            "text/markdown": [
              "| Statistic | Value |\n",
              "|:-|-:|\n",
              "| SolverTotalTime | 0.000 |\n",
              "| SavileRowClauseOut | 0 |\n",
              "| SavileRowTotalTime | 0.057 |\n",
              "| SolverFailures | 0 |\n",
              "| SolverSatisfiable | 1 |\n",
              "| SavileRowTimeOut | 0 |\n",
              "| SolverTimeOut | 0 |\n",
              "| SolverNodes | 1 |\n"
            ],
            "text/plain": [
              "<IPython.core.display.Markdown object>"
            ]
          },
          "metadata": {},
          "output_type": "display_data"
        }
      ],
      "source": [
        "%%conjure\n",
        "letting R be relation((1,1,0),(1,0,1),(0,1,1))"
      ]
    },
    {
      "cell_type": "code",
      "execution_count": 25,
      "metadata": {
        "colab": {
          "base_uri": "https://localhost:8080/",
          "height": 317
        },
        "id": "6P8is3-8nmTP",
        "outputId": "339db057-e907-458f-ff72-3d5628687285"
      },
      "outputs": [
        {
          "data": {
            "text/markdown": [
              "```json\n",
              "{}\n",
              "```"
            ],
            "text/plain": [
              "<IPython.core.display.Markdown object>"
            ]
          },
          "metadata": {},
          "output_type": "display_data"
        },
        {
          "data": {
            "text/markdown": [
              "| Statistic | Value |\n",
              "|:-|-:|\n",
              "| SolverTotalTime | 0.000 |\n",
              "| SavileRowClauseOut | 0 |\n",
              "| SavileRowTotalTime | 0.059 |\n",
              "| SolverFailures | 0 |\n",
              "| SolverSatisfiable | 1 |\n",
              "| SavileRowTimeOut | 0 |\n",
              "| SolverTimeOut | 0 |\n",
              "| SolverNodes | 1 |\n"
            ],
            "text/plain": [
              "<IPython.core.display.Markdown object>"
            ]
          },
          "metadata": {},
          "output_type": "display_data"
        }
      ],
      "source": [
        "%%conjure\n",
        "letting x be domain relation of (int*bool)"
      ]
    },
    {
      "cell_type": "markdown",
      "metadata": {
        "id": "tItWp3PHxI74"
      },
      "source": [
        "### Attributes"
      ]
    },
    {
      "cell_type": "markdown",
      "metadata": {
        "id": "CIo3pRGDxPbk"
      },
      "source": [
        "size n - relation has n tuples."
      ]
    },
    {
      "cell_type": "code",
      "execution_count": 26,
      "metadata": {
        "colab": {
          "base_uri": "https://localhost:8080/",
          "height": 365
        },
        "id": "0D0mBo7NnyXC",
        "outputId": "32806f3a-e3b5-4294-e068-3a6078bdf357"
      },
      "outputs": [
        {
          "data": {
            "text/markdown": [
              "## Solution 1"
            ],
            "text/plain": [
              "<IPython.core.display.Markdown object>"
            ]
          },
          "metadata": {},
          "output_type": "display_data"
        },
        {
          "data": {
            "text/markdown": [
              "```json\n",
              "[{\"y\": [[1, 4], [2, 3], [2, 4]]}, {\"y\": [[1, 3], [2, 3], [2, 4]]}, {\"y\": [[1, 3], [1, 4], [2, 4]]}, {\"y\": [[1, 3], [1, 4], [2, 3]]}]\n",
              "```"
            ],
            "text/plain": [
              "<IPython.core.display.Markdown object>"
            ]
          },
          "metadata": {},
          "output_type": "display_data"
        },
        {
          "data": {
            "text/markdown": [
              "| Statistic | Value |\n",
              "|:-|-:|\n",
              "| SolverTotalTime | 0.001 |\n",
              "| SavileRowClauseOut | 0 |\n",
              "| SavileRowTotalTime | 0.089 |\n",
              "| SolverFailures | 4 |\n",
              "| SolverSatisfiable | 1 |\n",
              "| SavileRowTimeOut | 0 |\n",
              "| SolverTimeOut | 0 |\n",
              "| SolverNodes | 4 |\n"
            ],
            "text/plain": [
              "<IPython.core.display.Markdown object>"
            ]
          },
          "metadata": {},
          "output_type": "display_data"
        }
      ],
      "source": [
        "%%conjure --number-of-solutions=all\n",
        "letting x be domain relation (size 3) of (int(1..2)* int(3..4))\n",
        "find y: x"
      ]
    },
    {
      "cell_type": "markdown",
      "metadata": {
        "id": "Nbbc1JbmxWLb"
      },
      "source": [
        "minSize n - relation has at least n tuples."
      ]
    },
    {
      "cell_type": "code",
      "execution_count": 27,
      "metadata": {
        "colab": {
          "base_uri": "https://localhost:8080/",
          "height": 365
        },
        "id": "PVsLeyfkoKWW",
        "outputId": "d196bf0a-9c9e-4ddc-b13f-ca778f631fa7"
      },
      "outputs": [
        {
          "data": {
            "text/markdown": [
              "## Solution 1"
            ],
            "text/plain": [
              "<IPython.core.display.Markdown object>"
            ]
          },
          "metadata": {},
          "output_type": "display_data"
        },
        {
          "data": {
            "text/markdown": [
              "```json\n",
              "[{\"y\": [[1, 4], [2, 3], [2, 4]]}, {\"y\": [[1, 3], [2, 3], [2, 4]]}, {\"y\": [[1, 3], [1, 4], [2, 4]]}, {\"y\": [[1, 3], [1, 4], [2, 3]]}, {\"y\": [[1, 3], [1, 4], [2, 3], [2, 4]]}]\n",
              "```"
            ],
            "text/plain": [
              "<IPython.core.display.Markdown object>"
            ]
          },
          "metadata": {},
          "output_type": "display_data"
        },
        {
          "data": {
            "text/markdown": [
              "| Statistic | Value |\n",
              "|:-|-:|\n",
              "| SolverTotalTime | 0.010 |\n",
              "| SavileRowClauseOut | 0 |\n",
              "| SavileRowTotalTime | 0.152 |\n",
              "| SolverFailures | 5 |\n",
              "| SolverSatisfiable | 1 |\n",
              "| SavileRowTimeOut | 0 |\n",
              "| SolverTimeOut | 0 |\n",
              "| SolverNodes | 5 |\n"
            ],
            "text/plain": [
              "<IPython.core.display.Markdown object>"
            ]
          },
          "metadata": {},
          "output_type": "display_data"
        }
      ],
      "source": [
        "%%conjure --number-of-solutions=all\n",
        "letting x be domain relation (minSize 3) of (int(1..2)* int(3..4))\n",
        "find y: x"
      ]
    },
    {
      "cell_type": "markdown",
      "metadata": {
        "id": "kSHNw7kGxcNb"
      },
      "source": [
        "maxSize n - relation has at most n tuples."
      ]
    },
    {
      "cell_type": "code",
      "execution_count": 28,
      "metadata": {
        "colab": {
          "base_uri": "https://localhost:8080/",
          "height": 385
        },
        "id": "gnSBuMfUoSWJ",
        "outputId": "728c67ea-52e6-4805-957c-d2cf5c5e30f4"
      },
      "outputs": [
        {
          "data": {
            "text/markdown": [
              "## Solution 1"
            ],
            "text/plain": [
              "<IPython.core.display.Markdown object>"
            ]
          },
          "metadata": {},
          "output_type": "display_data"
        },
        {
          "data": {
            "text/markdown": [
              "```json\n",
              "[{\"y\": []}, {\"y\": [[2, 4]]}, {\"y\": [[2, 3]]}, {\"y\": [[2, 3], [2, 4]]}, {\"y\": [[1, 4]]}, {\"y\": [[1, 4], [2, 4]]}, {\"y\": [[1, 4], [2, 3]]}, {\"y\": [[1, 3]]}, {\"y\": [[1, 3], [2, 4]]}, {\"y\": [[1, 3], [2, 3]]}, {\"y\": [[1, 3], [1, 4]]}]\n",
              "```"
            ],
            "text/plain": [
              "<IPython.core.display.Markdown object>"
            ]
          },
          "metadata": {},
          "output_type": "display_data"
        },
        {
          "data": {
            "text/markdown": [
              "| Statistic | Value |\n",
              "|:-|-:|\n",
              "| SolverTotalTime | 0.000 |\n",
              "| SavileRowClauseOut | 0 |\n",
              "| SavileRowTotalTime | 0.168 |\n",
              "| SolverFailures | 11 |\n",
              "| SolverSatisfiable | 1 |\n",
              "| SavileRowTimeOut | 0 |\n",
              "| SolverTimeOut | 0 |\n",
              "| SolverNodes | 11 |\n"
            ],
            "text/plain": [
              "<IPython.core.display.Markdown object>"
            ]
          },
          "metadata": {},
          "output_type": "display_data"
        }
      ],
      "source": [
        "%%conjure --number-of-solutions=all\n",
        "letting x be domain relation (maxSize 2) of (int(1..2)* int(3..4))\n",
        "find y: x"
      ]
    },
    {
      "cell_type": "markdown",
      "metadata": {
        "id": "09pNw2VeyEnX"
      },
      "source": [
        "reflexive - relates every element of one domain to itself."
      ]
    },
    {
      "cell_type": "code",
      "execution_count": 29,
      "metadata": {
        "colab": {
          "base_uri": "https://localhost:8080/",
          "height": 427
        },
        "id": "5EvZXlcFoWl9",
        "outputId": "c2cb6cc8-255d-4993-e9d2-ae842fc0736a"
      },
      "outputs": [
        {
          "data": {
            "text/markdown": [
              "## Solution 1"
            ],
            "text/plain": [
              "<IPython.core.display.Markdown object>"
            ]
          },
          "metadata": {},
          "output_type": "display_data"
        },
        {
          "data": {
            "text/markdown": [
              "```json\n",
              "[{\"y\": [[1, 1], [2, 2]]}, {\"y\": [[1, 1], [2, 1], [2, 2]]}, {\"y\": [[1, 1], [1, 2], [2, 2]]}, {\"y\": [[1, 1], [1, 2], [2, 1], [2, 2]]}]\n",
              "```"
            ],
            "text/plain": [
              "<IPython.core.display.Markdown object>"
            ]
          },
          "metadata": {},
          "output_type": "display_data"
        },
        {
          "data": {
            "text/markdown": [
              "| Statistic | Value |\n",
              "|:-|-:|\n",
              "| SolverTotalTime | 0 |\n",
              "| SavileRowClauseOut | 0 |\n",
              "| SolverSolveTime | 0 |\n",
              "| SavileRowTotalTime | 0.142 |\n",
              "| SolverSatisfiable | 1 |\n",
              "| SavileRowTimeOut | 0 |\n",
              "| SolverNodes | 7 |\n",
              "| SolverTimeOut | 0 |\n",
              "| SolverSolutionsFound | 4 |\n",
              "| SolverSetupTime | 0 |\n"
            ],
            "text/plain": [
              "<IPython.core.display.Markdown object>"
            ]
          },
          "metadata": {},
          "output_type": "display_data"
        }
      ],
      "source": [
        "%%conjure --number-of-solutions=all --solver=minion\n",
        "letting x be domain relation (reflexive) of (int(1..2)* int(1..2))\n",
        "find y: x"
      ]
    },
    {
      "cell_type": "markdown",
      "metadata": {
        "id": "vcLso50mzL3q"
      },
      "source": [
        "irreflexive - elements of one domain are not mapped to themselves."
      ]
    },
    {
      "cell_type": "code",
      "execution_count": 30,
      "metadata": {
        "colab": {
          "base_uri": "https://localhost:8080/",
          "height": 427
        },
        "id": "AWjCO-tfokSQ",
        "outputId": "e92c9fb5-1941-4a9f-8d90-f0b62f22a222"
      },
      "outputs": [
        {
          "data": {
            "text/markdown": [
              "## Solution 1"
            ],
            "text/plain": [
              "<IPython.core.display.Markdown object>"
            ]
          },
          "metadata": {},
          "output_type": "display_data"
        },
        {
          "data": {
            "text/markdown": [
              "```json\n",
              "[{\"y\": []}, {\"y\": [[2, 1]]}, {\"y\": [[1, 2]]}, {\"y\": [[1, 2], [2, 1]]}]\n",
              "```"
            ],
            "text/plain": [
              "<IPython.core.display.Markdown object>"
            ]
          },
          "metadata": {},
          "output_type": "display_data"
        },
        {
          "data": {
            "text/markdown": [
              "| Statistic | Value |\n",
              "|:-|-:|\n",
              "| SolverTotalTime | 0 |\n",
              "| SavileRowClauseOut | 0 |\n",
              "| SolverSolveTime | 0 |\n",
              "| SavileRowTotalTime | 0.086 |\n",
              "| SolverSatisfiable | 1 |\n",
              "| SavileRowTimeOut | 0 |\n",
              "| SolverNodes | 7 |\n",
              "| SolverTimeOut | 0 |\n",
              "| SolverSolutionsFound | 4 |\n",
              "| SolverSetupTime | 0 |\n"
            ],
            "text/plain": [
              "<IPython.core.display.Markdown object>"
            ]
          },
          "metadata": {},
          "output_type": "display_data"
        }
      ],
      "source": [
        "%%conjure --number-of-solutions=all --solver=minion\n",
        "letting x be domain relation (irreflexive) of (int(1..2)* int(1..2))\n",
        "find y: x"
      ]
    },
    {
      "cell_type": "markdown",
      "metadata": {
        "id": "Nh8RkwTP0TQq"
      },
      "source": [
        "coreflexive -  if ```x``` is related to ```y```, then ```x = y```."
      ]
    },
    {
      "cell_type": "code",
      "execution_count": 31,
      "metadata": {
        "colab": {
          "base_uri": "https://localhost:8080/",
          "height": 427
        },
        "id": "nzz3ECnwovmE",
        "outputId": "51e552ee-61a9-40a7-f02f-02772ccc0779"
      },
      "outputs": [
        {
          "data": {
            "text/markdown": [
              "## Solution 1"
            ],
            "text/plain": [
              "<IPython.core.display.Markdown object>"
            ]
          },
          "metadata": {},
          "output_type": "display_data"
        },
        {
          "data": {
            "text/markdown": [
              "```json\n",
              "[{\"y\": []}, {\"y\": [[2, 2]]}, {\"y\": [[1, 1]]}, {\"y\": [[1, 1], [2, 2]]}]\n",
              "```"
            ],
            "text/plain": [
              "<IPython.core.display.Markdown object>"
            ]
          },
          "metadata": {},
          "output_type": "display_data"
        },
        {
          "data": {
            "text/markdown": [
              "| Statistic | Value |\n",
              "|:-|-:|\n",
              "| SolverTotalTime | 0.00033 |\n",
              "| SavileRowClauseOut | 0 |\n",
              "| SolverSolveTime | 6.3e-05 |\n",
              "| SavileRowTotalTime | 0.07 |\n",
              "| SolverSatisfiable | 1 |\n",
              "| SavileRowTimeOut | 0 |\n",
              "| SolverNodes | 7 |\n",
              "| SolverTimeOut | 0 |\n",
              "| SolverSolutionsFound | 4 |\n",
              "| SolverSetupTime | 6e-05 |\n"
            ],
            "text/plain": [
              "<IPython.core.display.Markdown object>"
            ]
          },
          "metadata": {},
          "output_type": "display_data"
        }
      ],
      "source": [
        "%%conjure --number-of-solutions=all --solver=minion\n",
        "letting x be domain relation (coreflexive) of (int(1..2)* int(1..2))\n",
        "find y: x"
      ]
    },
    {
      "cell_type": "markdown",
      "metadata": {
        "id": "8rre9KQK5Tw2"
      },
      "source": [
        "symmetric - if ```a``` is related to ```b```, the ```b``` is related to ```a```."
      ]
    },
    {
      "cell_type": "code",
      "execution_count": 32,
      "metadata": {
        "colab": {
          "base_uri": "https://localhost:8080/",
          "height": 447
        },
        "id": "OM5pz6uuo6_s",
        "outputId": "827a7727-0dec-4763-c5cf-4dbdcbe4e09c"
      },
      "outputs": [
        {
          "data": {
            "text/markdown": [
              "## Solution 1"
            ],
            "text/plain": [
              "<IPython.core.display.Markdown object>"
            ]
          },
          "metadata": {},
          "output_type": "display_data"
        },
        {
          "data": {
            "text/markdown": [
              "```json\n",
              "[{\"y\": []}, {\"y\": [[2, 2]]}, {\"y\": [[1, 2], [2, 1]]}, {\"y\": [[1, 2], [2, 1], [2, 2]]}, {\"y\": [[1, 1]]}, {\"y\": [[1, 1], [2, 2]]}, {\"y\": [[1, 1], [1, 2], [2, 1]]}, {\"y\": [[1, 1], [1, 2], [2, 1], [2, 2]]}]\n",
              "```"
            ],
            "text/plain": [
              "<IPython.core.display.Markdown object>"
            ]
          },
          "metadata": {},
          "output_type": "display_data"
        },
        {
          "data": {
            "text/markdown": [
              "| Statistic | Value |\n",
              "|:-|-:|\n",
              "| SolverTotalTime | 0 |\n",
              "| SavileRowClauseOut | 0 |\n",
              "| SolverSolveTime | 0 |\n",
              "| SavileRowTotalTime | 0.081 |\n",
              "| SolverSatisfiable | 1 |\n",
              "| SavileRowTimeOut | 0 |\n",
              "| SolverNodes | 15 |\n",
              "| SolverTimeOut | 0 |\n",
              "| SolverSolutionsFound | 8 |\n",
              "| SolverSetupTime | 0 |\n"
            ],
            "text/plain": [
              "<IPython.core.display.Markdown object>"
            ]
          },
          "metadata": {},
          "output_type": "display_data"
        }
      ],
      "source": [
        "%%conjure --number-of-solutions=all --solver=minion\n",
        "letting x be domain relation (symmetric) of (int(1..2)* int(1..2))\n",
        "find y: x"
      ]
    },
    {
      "cell_type": "markdown",
      "metadata": {
        "id": "yoAW0GO17Dr5"
      },
      "source": [
        "antiSymmetric - for every ```a``` related to ```b```, where ```a != b```, ```b``` is not related to ```a```."
      ]
    },
    {
      "cell_type": "code",
      "execution_count": 33,
      "metadata": {
        "colab": {
          "base_uri": "https://localhost:8080/",
          "height": 447
        },
        "id": "0wnC_1aKpKH3",
        "outputId": "fe32223c-cee3-45e2-803f-5786366a6cd2"
      },
      "outputs": [
        {
          "data": {
            "text/markdown": [
              "## Solution 1"
            ],
            "text/plain": [
              "<IPython.core.display.Markdown object>"
            ]
          },
          "metadata": {},
          "output_type": "display_data"
        },
        {
          "data": {
            "text/markdown": [
              "```json\n",
              "[{\"y\": []}, {\"y\": [[2, 2]]}, {\"y\": [[2, 1]]}, {\"y\": [[2, 1], [2, 2]]}, {\"y\": [[1, 2]]}, {\"y\": [[1, 2], [2, 2]]}, {\"y\": [[1, 1]]}, {\"y\": [[1, 1], [2, 2]]}, {\"y\": [[1, 1], [2, 1]]}, {\"y\": [[1, 1], [2, 1], [2, 2]]}, {\"y\": [[1, 1], [1, 2]]}, {\"y\": [[1, 1], [1, 2], [2, 2]]}]\n",
              "```"
            ],
            "text/plain": [
              "<IPython.core.display.Markdown object>"
            ]
          },
          "metadata": {},
          "output_type": "display_data"
        },
        {
          "data": {
            "text/markdown": [
              "| Statistic | Value |\n",
              "|:-|-:|\n",
              "| SolverTotalTime | 0.000443 |\n",
              "| SavileRowClauseOut | 0 |\n",
              "| SolverSolveTime | 0.000115 |\n",
              "| SavileRowTotalTime | 0.078 |\n",
              "| SolverSatisfiable | 1 |\n",
              "| SavileRowTimeOut | 0 |\n",
              "| SolverNodes | 23 |\n",
              "| SolverTimeOut | 0 |\n",
              "| SolverSolutionsFound | 12 |\n",
              "| SolverSetupTime | 0.000101 |\n"
            ],
            "text/plain": [
              "<IPython.core.display.Markdown object>"
            ]
          },
          "metadata": {},
          "output_type": "display_data"
        }
      ],
      "source": [
        "%%conjure --number-of-solutions=all --solver=minion\n",
        "letting x be domain relation (antiSymmetric) of (int(1..2)* int(1..2))\n",
        "find y: x"
      ]
    },
    {
      "cell_type": "markdown",
      "metadata": {
        "id": "LoFWMMj57Q_B"
      },
      "source": [
        "asymmetric - if ```a``` is related to ```b```, then ```b``` is not related to ```a```."
      ]
    },
    {
      "cell_type": "code",
      "execution_count": 34,
      "metadata": {
        "colab": {
          "base_uri": "https://localhost:8080/",
          "height": 427
        },
        "id": "l1ToNO8E7i2h",
        "outputId": "ceae9e97-caae-41a6-caee-149133c8775e"
      },
      "outputs": [
        {
          "data": {
            "text/markdown": [
              "## Solution 1"
            ],
            "text/plain": [
              "<IPython.core.display.Markdown object>"
            ]
          },
          "metadata": {},
          "output_type": "display_data"
        },
        {
          "data": {
            "text/markdown": [
              "```json\n",
              "[{\"y\": []}, {\"y\": [[2, 1]]}, {\"y\": [[1, 2]]}]\n",
              "```"
            ],
            "text/plain": [
              "<IPython.core.display.Markdown object>"
            ]
          },
          "metadata": {},
          "output_type": "display_data"
        },
        {
          "data": {
            "text/markdown": [
              "| Statistic | Value |\n",
              "|:-|-:|\n",
              "| SolverTotalTime | 0 |\n",
              "| SavileRowClauseOut | 0 |\n",
              "| SolverSolveTime | 0 |\n",
              "| SavileRowTotalTime | 0.086 |\n",
              "| SolverSatisfiable | 1 |\n",
              "| SavileRowTimeOut | 0 |\n",
              "| SolverNodes | 5 |\n",
              "| SolverTimeOut | 0 |\n",
              "| SolverSolutionsFound | 3 |\n",
              "| SolverSetupTime | 0 |\n"
            ],
            "text/plain": [
              "<IPython.core.display.Markdown object>"
            ]
          },
          "metadata": {},
          "output_type": "display_data"
        }
      ],
      "source": [
        "%%conjure --number-of-solutions=all --solver=minion\n",
        "letting x be domain relation (aSymmetric) of (int(1..2)* int(1..2))\n",
        "find y: x"
      ]
    },
    {
      "cell_type": "markdown",
      "metadata": {
        "id": "8fsPQYCg8o27"
      },
      "source": [
        "transitive - if ```a``` is related to ```b```, and ```b``` is related to ```c```, then ```a``` is also related to ```c```."
      ]
    },
    {
      "cell_type": "code",
      "execution_count": 35,
      "metadata": {
        "colab": {
          "base_uri": "https://localhost:8080/",
          "height": 447
        },
        "id": "BFPl9B-NpOI4",
        "outputId": "037458b4-deb5-4c24-d1fe-af521c0bb889"
      },
      "outputs": [
        {
          "data": {
            "text/markdown": [
              "## Solution 1"
            ],
            "text/plain": [
              "<IPython.core.display.Markdown object>"
            ]
          },
          "metadata": {},
          "output_type": "display_data"
        },
        {
          "data": {
            "text/markdown": [
              "```json\n",
              "[{\"y\": []}, {\"y\": [[2, 2]]}, {\"y\": [[2, 1]]}, {\"y\": [[2, 1], [2, 2]]}, {\"y\": [[1, 2]]}, {\"y\": [[1, 2], [2, 2]]}, {\"y\": [[1, 1]]}, {\"y\": [[1, 1], [2, 2]]}, {\"y\": [[1, 1], [2, 1]]}, {\"y\": [[1, 1], [2, 1], [2, 2]]}, {\"y\": [[1, 1], [1, 2]]}, {\"y\": [[1, 1], [1, 2], [2, 2]]}, {\"y\": [[1, 1], [1, 2], [2, 1], [2, 2]]}]\n",
              "```"
            ],
            "text/plain": [
              "<IPython.core.display.Markdown object>"
            ]
          },
          "metadata": {},
          "output_type": "display_data"
        },
        {
          "data": {
            "text/markdown": [
              "| Statistic | Value |\n",
              "|:-|-:|\n",
              "| SolverTotalTime | 0.000392 |\n",
              "| SavileRowClauseOut | 0 |\n",
              "| SolverSolveTime | 0 |\n",
              "| SavileRowTotalTime | 0.1 |\n",
              "| SolverSatisfiable | 1 |\n",
              "| SavileRowTimeOut | 0 |\n",
              "| SolverNodes | 25 |\n",
              "| SolverTimeOut | 0 |\n",
              "| SolverSolutionsFound | 13 |\n",
              "| SolverSetupTime | 0.000125 |\n"
            ],
            "text/plain": [
              "<IPython.core.display.Markdown object>"
            ]
          },
          "metadata": {},
          "output_type": "display_data"
        }
      ],
      "source": [
        "%%conjure --number-of-solutions=all --solver=minion\n",
        "letting x be domain relation (transitive) of (int(1..2)* int(1..2))\n",
        "find y: x"
      ]
    },
    {
      "cell_type": "markdown",
      "metadata": {
        "id": "bNkOlfjxCs1w"
      },
      "source": [
        "total - each element of the first domain is related to an element of the second domain."
      ]
    },
    {
      "cell_type": "code",
      "execution_count": 36,
      "metadata": {
        "colab": {
          "base_uri": "https://localhost:8080/",
          "height": 427
        },
        "id": "7qwJtLQ-pZay",
        "outputId": "858e289c-b7fb-4c46-f5e8-82ba806ca9bf"
      },
      "outputs": [
        {
          "data": {
            "text/markdown": [
              "## Solution 1"
            ],
            "text/plain": [
              "<IPython.core.display.Markdown object>"
            ]
          },
          "metadata": {},
          "output_type": "display_data"
        },
        {
          "data": {
            "text/markdown": [
              "```json\n",
              "[{\"y\": [[1, 1], [2, 1], [2, 2]]}, {\"y\": [[1, 1], [1, 2], [2, 2]]}, {\"y\": [[1, 1], [1, 2], [2, 1], [2, 2]]}]\n",
              "```"
            ],
            "text/plain": [
              "<IPython.core.display.Markdown object>"
            ]
          },
          "metadata": {},
          "output_type": "display_data"
        },
        {
          "data": {
            "text/markdown": [
              "| Statistic | Value |\n",
              "|:-|-:|\n",
              "| SolverTotalTime | 0.000361 |\n",
              "| SavileRowClauseOut | 0 |\n",
              "| SolverSolveTime | 6.3e-05 |\n",
              "| SavileRowTotalTime | 0.079 |\n",
              "| SolverSatisfiable | 1 |\n",
              "| SavileRowTimeOut | 0 |\n",
              "| SolverNodes | 5 |\n",
              "| SolverTimeOut | 0 |\n",
              "| SolverSolutionsFound | 3 |\n",
              "| SolverSetupTime | 9.8e-05 |\n"
            ],
            "text/plain": [
              "<IPython.core.display.Markdown object>"
            ]
          },
          "metadata": {},
          "output_type": "display_data"
        }
      ],
      "source": [
        "%%conjure --number-of-solutions=all --solver=minion\n",
        "letting x be domain relation (total) of (int(1..2)* int(1..2))\n",
        "find y: x"
      ]
    },
    {
      "cell_type": "markdown",
      "metadata": {
        "id": "F98rYDNjCzhz"
      },
      "source": [
        "connex - all elements in either domain are related (in one direction or the other)."
      ]
    },
    {
      "cell_type": "code",
      "execution_count": 37,
      "metadata": {
        "colab": {
          "base_uri": "https://localhost:8080/",
          "height": 447
        },
        "id": "edEuC-QVpieG",
        "outputId": "ec0f770c-1980-4fe7-f96d-6b84d45f598f"
      },
      "outputs": [
        {
          "data": {
            "text/markdown": [
              "## Solution 1"
            ],
            "text/plain": [
              "<IPython.core.display.Markdown object>"
            ]
          },
          "metadata": {},
          "output_type": "display_data"
        },
        {
          "data": {
            "text/markdown": [
              "```json\n",
              "[{\"y\": [[2, 1]]}, {\"y\": [[2, 1], [2, 2]]}, {\"y\": [[1, 2]]}, {\"y\": [[1, 2], [2, 2]]}, {\"y\": [[1, 2], [2, 1]]}, {\"y\": [[1, 2], [2, 1], [2, 2]]}, {\"y\": [[1, 1], [2, 1]]}, {\"y\": [[1, 1], [2, 1], [2, 2]]}, {\"y\": [[1, 1], [1, 2]]}, {\"y\": [[1, 1], [1, 2], [2, 2]]}, {\"y\": [[1, 1], [1, 2], [2, 1]]}, {\"y\": [[1, 1], [1, 2], [2, 1], [2, 2]]}]\n",
              "```"
            ],
            "text/plain": [
              "<IPython.core.display.Markdown object>"
            ]
          },
          "metadata": {},
          "output_type": "display_data"
        },
        {
          "data": {
            "text/markdown": [
              "| Statistic | Value |\n",
              "|:-|-:|\n",
              "| SolverTotalTime | 0.00037 |\n",
              "| SavileRowClauseOut | 0 |\n",
              "| SolverSolveTime | 7.2e-05 |\n",
              "| SavileRowTotalTime | 0.078 |\n",
              "| SolverSatisfiable | 1 |\n",
              "| SavileRowTimeOut | 0 |\n",
              "| SolverNodes | 23 |\n",
              "| SolverTimeOut | 0 |\n",
              "| SolverSolutionsFound | 12 |\n",
              "| SolverSetupTime | 8.7e-05 |\n"
            ],
            "text/plain": [
              "<IPython.core.display.Markdown object>"
            ]
          },
          "metadata": {},
          "output_type": "display_data"
        }
      ],
      "source": [
        "%%conjure --number-of-solutions=all --solver=minion\n",
        "letting x be domain relation (connex) of (int(1..2)* int(1..2))\n",
        "find y: x"
      ]
    },
    {
      "cell_type": "markdown",
      "metadata": {
        "id": "CxQO4B3pDANL"
      },
      "source": [
        "Euclidean - if ```a``` is related to ```b``` and ```c```, then ```b``` is related to ```c```"
      ]
    },
    {
      "cell_type": "code",
      "execution_count": 38,
      "metadata": {
        "colab": {
          "base_uri": "https://localhost:8080/",
          "height": 447
        },
        "id": "HodqMGJMpokW",
        "outputId": "dc7c0808-9397-4bf0-fede-2c24882517cd"
      },
      "outputs": [
        {
          "data": {
            "text/markdown": [
              "## Solution 1"
            ],
            "text/plain": [
              "<IPython.core.display.Markdown object>"
            ]
          },
          "metadata": {},
          "output_type": "display_data"
        },
        {
          "data": {
            "text/markdown": [
              "```json\n",
              "[{\"y\": []}, {\"y\": [[3, 3]]}, {\"y\": [[2, 3], [3, 3]]}, {\"y\": [[2, 2]]}, {\"y\": [[2, 2], [3, 3]]}, {\"y\": [[2, 2], [3, 2]]}, {\"y\": [[2, 2], [2, 3], [3, 2], [3, 3]]}, {\"y\": [[1, 3], [3, 3]]}, {\"y\": [[1, 3], [2, 3], [3, 3]]}, {\"y\": [[1, 3], [2, 2], [3, 3]]}, {\"y\": [[1, 3], [2, 2], [2, 3], [3, 2], [3, 3]]}, {\"y\": [[1, 2], [2, 2]]}, {\"y\": [[1, 2], [2, 2], [3, 3]]}, {\"y\": [[1, 2], [2, 2], [3, 2]]}, {\"y\": [[1, 2], [2, 2], [2, 3], [3, 2], [3, 3]]}, {\"y\": [[1, 2], [1, 3], [2, 2], [2, 3], [3, 2], [3, 3]]}, {\"y\": [[1, 1]]}, {\"y\": [[1, 1], [3, 3]]}, {\"y\": [[1, 1], [3, 1]]}, {\"y\": [[1, 1], [2, 3], [3, 3]]}, {\"y\": [[1, 1], [2, 2]]}, {\"y\": [[1, 1], [2, 2], [3, 3]]}, {\"y\": [[1, 1], [2, 2], [3, 2]]}, {\"y\": [[1, 1], [2, 2], [3, 1]]}, {\"y\": [[1, 1], [2, 2], [2, 3], [3, 2], [3, 3]]}, {\"y\": [[1, 1], [2, 1]]}, {\"y\": [[1, 1], [2, 1], [3, 3]]}, {\"y\": [[1, 1], [2, 1], [3, 1]]}, {\"y\": [[1, 1], [1, 3], [3, 1], [3, 3]]}, {\"y\": [[1, 1], [1, 3], [2, 3], [3, 1], [3, 3]]}, {\"y\": [[1, 1], [1, 3], [2, 2], [3, 1], [3, 3]]}, {\"y\": [[1, 1], [1, 3], [2, 1], [3, 1], [3, 3]]}, {\"y\": [[1, 1], [1, 3], [2, 1], [2, 3], [3, 1], [3, 3]]}, {\"y\": [[1, 1], [1, 2], [2, 1], [2, 2]]}, {\"y\": [[1, 1], [1, 2], [2, 1], [2, 2], [3, 3]]}, {\"y\": [[1, 1], [1, 2], [2, 1], [2, 2], [3, 2]]}, {\"y\": [[1, 1], [1, 2], [2, 1], [2, 2], [3, 1]]}, {\"y\": [[1, 1], [1, 2], [2, 1], [2, 2], [3, 1], [3, 2]]}, {\"y\": [[1, 1], [1, 2], [1, 3], [2, 1], [2, 2], [2, 3], [3, 1], [3, 2], [3, 3]]}]\n",
              "```"
            ],
            "text/plain": [
              "<IPython.core.display.Markdown object>"
            ]
          },
          "metadata": {},
          "output_type": "display_data"
        },
        {
          "data": {
            "text/markdown": [
              "| Statistic | Value |\n",
              "|:-|-:|\n",
              "| SolverTotalTime | 0.000987 |\n",
              "| SavileRowClauseOut | 0 |\n",
              "| SolverSolveTime | 0.000343 |\n",
              "| SavileRowTotalTime | 0.238 |\n",
              "| SolverSatisfiable | 1 |\n",
              "| SavileRowTimeOut | 0 |\n",
              "| SolverNodes | 77 |\n",
              "| SolverTimeOut | 0 |\n",
              "| SolverSolutionsFound | 39 |\n",
              "| SolverSetupTime | 0.000229 |\n"
            ],
            "text/plain": [
              "<IPython.core.display.Markdown object>"
            ]
          },
          "metadata": {},
          "output_type": "display_data"
        }
      ],
      "source": [
        "%%conjure --number-of-solutions=all --solver=minion\n",
        "letting x be domain relation (Euclidean) of (int(1..3)*int(1..3))\n",
        "find y: x"
      ]
    },
    {
      "cell_type": "markdown",
      "metadata": {
        "id": "YaeAwM4JFE1j"
      },
      "source": [
        "serial - expresses the relationship between an element of a sequence and it's successor."
      ]
    },
    {
      "cell_type": "code",
      "execution_count": 39,
      "metadata": {
        "colab": {
          "base_uri": "https://localhost:8080/",
          "height": 447
        },
        "id": "VXzHx_06puuY",
        "outputId": "621655e6-cb41-4ef2-87d2-278379abefdf"
      },
      "outputs": [
        {
          "data": {
            "text/markdown": [
              "## Solution 1"
            ],
            "text/plain": [
              "<IPython.core.display.Markdown object>"
            ]
          },
          "metadata": {},
          "output_type": "display_data"
        },
        {
          "data": {
            "text/markdown": [
              "```json\n",
              "[{\"y\": [[1, 2], [2, 2]]}, {\"y\": [[1, 2], [2, 1]]}, {\"y\": [[1, 2], [2, 1], [2, 2]]}, {\"y\": [[1, 1], [2, 2]]}, {\"y\": [[1, 1], [2, 1]]}, {\"y\": [[1, 1], [2, 1], [2, 2]]}, {\"y\": [[1, 1], [1, 2], [2, 2]]}, {\"y\": [[1, 1], [1, 2], [2, 1]]}, {\"y\": [[1, 1], [1, 2], [2, 1], [2, 2]]}]\n",
              "```"
            ],
            "text/plain": [
              "<IPython.core.display.Markdown object>"
            ]
          },
          "metadata": {},
          "output_type": "display_data"
        },
        {
          "data": {
            "text/markdown": [
              "| Statistic | Value |\n",
              "|:-|-:|\n",
              "| SolverTotalTime | 0.000414 |\n",
              "| SavileRowClauseOut | 0 |\n",
              "| SolverSolveTime | 9.1e-05 |\n",
              "| SavileRowTotalTime | 0.154 |\n",
              "| SolverSatisfiable | 1 |\n",
              "| SavileRowTimeOut | 0 |\n",
              "| SolverNodes | 17 |\n",
              "| SolverTimeOut | 0 |\n",
              "| SolverSolutionsFound | 9 |\n",
              "| SolverSetupTime | 9.6e-05 |\n"
            ],
            "text/plain": [
              "<IPython.core.display.Markdown object>"
            ]
          },
          "metadata": {},
          "output_type": "display_data"
        }
      ],
      "source": [
        "%%conjure --number-of-solutions=all --solver=minion\n",
        "letting x be domain relation (serial) of (int(1..2)* int(1..2))\n",
        "find y: x"
      ]
    },
    {
      "cell_type": "markdown",
      "metadata": {
        "id": "JaZzfqJ0GTeV"
      },
      "source": [
        "Equivalence - reflexive, symmetric, and transitive."
      ]
    },
    {
      "cell_type": "code",
      "execution_count": 40,
      "metadata": {
        "colab": {
          "base_uri": "https://localhost:8080/",
          "height": 427
        },
        "id": "jRkSxkrtpzrx",
        "outputId": "58b0a596-0655-460e-b50e-ce71a96f59e8"
      },
      "outputs": [
        {
          "data": {
            "text/markdown": [
              "## Solution 1"
            ],
            "text/plain": [
              "<IPython.core.display.Markdown object>"
            ]
          },
          "metadata": {},
          "output_type": "display_data"
        },
        {
          "data": {
            "text/markdown": [
              "```json\n",
              "[{\"y\": [[1, 1], [2, 2]]}, {\"y\": [[1, 1], [1, 2], [2, 1], [2, 2]]}]\n",
              "```"
            ],
            "text/plain": [
              "<IPython.core.display.Markdown object>"
            ]
          },
          "metadata": {},
          "output_type": "display_data"
        },
        {
          "data": {
            "text/markdown": [
              "| Statistic | Value |\n",
              "|:-|-:|\n",
              "| SolverTotalTime | 1e-06 |\n",
              "| SavileRowClauseOut | 0 |\n",
              "| SolverSolveTime | 0 |\n",
              "| SavileRowTotalTime | 0.098 |\n",
              "| SolverSatisfiable | 1 |\n",
              "| SavileRowTimeOut | 0 |\n",
              "| SolverNodes | 3 |\n",
              "| SolverTimeOut | 0 |\n",
              "| SolverSolutionsFound | 2 |\n",
              "| SolverSetupTime | 0 |\n"
            ],
            "text/plain": [
              "<IPython.core.display.Markdown object>"
            ]
          },
          "metadata": {},
          "output_type": "display_data"
        }
      ],
      "source": [
        "%%conjure --number-of-solutions=all --solver=minion\n",
        "letting x be domain relation (equivalence) of (int(1..2)* int(1..2))\n",
        "find y: x"
      ]
    },
    {
      "cell_type": "markdown",
      "metadata": {
        "id": "gByuyoaWHwpG"
      },
      "source": [
        "partialOrder-refleexive, antisymmetric and transitive."
      ]
    },
    {
      "cell_type": "code",
      "execution_count": 41,
      "metadata": {
        "colab": {
          "base_uri": "https://localhost:8080/",
          "height": 427
        },
        "id": "oSZcJp2qp2j1",
        "outputId": "5a9b3171-0939-4aef-99ea-76a00d381c3e"
      },
      "outputs": [
        {
          "data": {
            "text/markdown": [
              "## Solution 1"
            ],
            "text/plain": [
              "<IPython.core.display.Markdown object>"
            ]
          },
          "metadata": {},
          "output_type": "display_data"
        },
        {
          "data": {
            "text/markdown": [
              "```json\n",
              "[{\"y\": [[1, 1], [2, 2]]}, {\"y\": [[1, 1], [2, 1], [2, 2]]}, {\"y\": [[1, 1], [1, 2], [2, 2]]}]\n",
              "```"
            ],
            "text/plain": [
              "<IPython.core.display.Markdown object>"
            ]
          },
          "metadata": {},
          "output_type": "display_data"
        },
        {
          "data": {
            "text/markdown": [
              "| Statistic | Value |\n",
              "|:-|-:|\n",
              "| SolverTotalTime | 0.000307 |\n",
              "| SavileRowClauseOut | 0 |\n",
              "| SolverSolveTime | 4.5e-05 |\n",
              "| SavileRowTotalTime | 0.093 |\n",
              "| SolverSatisfiable | 1 |\n",
              "| SavileRowTimeOut | 0 |\n",
              "| SolverNodes | 5 |\n",
              "| SolverTimeOut | 0 |\n",
              "| SolverSolutionsFound | 3 |\n",
              "| SolverSetupTime | 7.6e-05 |\n"
            ],
            "text/plain": [
              "<IPython.core.display.Markdown object>"
            ]
          },
          "metadata": {},
          "output_type": "display_data"
        }
      ],
      "source": [
        "%%conjure --number-of-solutions=all --solver=minion\n",
        "letting x be domain relation (partialOrder) of (int(1..2)* int(1..2))\n",
        "find y: x"
      ]
    },
    {
      "cell_type": "markdown",
      "metadata": {
        "id": "Bc9I_oYRIk4T"
      },
      "source": [
        "Can also use multiple attributes as [function domains](https://github.com/conjure-cp/conjure/blob/main/docs/notebooks/functionDemonstration.ipynb)."
      ]
    }
  ],
  "metadata": {
    "colab": {
      "provenance": []
    },
    "kernelspec": {
      "display_name": "Python 3",
      "name": "python3"
    },
    "language_info": {
      "name": "python"
    }
  },
  "nbformat": 4,
  "nbformat_minor": 0
}
