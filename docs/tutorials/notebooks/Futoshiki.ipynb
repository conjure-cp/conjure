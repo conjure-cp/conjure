{
  "cells": [
    {
      "cell_type": "markdown",
      "metadata": {},
      "source": [
        "<a href=\"https://colab.research.google.com/github/conjure-cp/conjure/blob/main/docs/tutorials/notebooks/Futoshiki.ipynb\" target=\"_parent\"><img src=\"https://colab.research.google.com/assets/colab-badge.svg\" alt=\"Open In Colab\"/></a>"
      ]
    },
    {
      "cell_type": "markdown",
      "metadata": {
        "id": "Hb26fiIv_enr"
      },
      "source": [
        "# Futoshiki\n",
        "Original [Futoshiki](https://conjure.readthedocs.io/en/latest/tutorials/futoshiki/Futoshiki.html) by Ruth Hoffmann and Gökberk Koçak. Adapted by Alex Gallagher."
      ]
    },
    {
      "cell_type": "markdown",
      "metadata": {
        "id": "U59hSFC__0c1"
      },
      "source": [
        "## Problem"
      ]
    },
    {
      "cell_type": "code",
      "execution_count": 1,
      "metadata": {
        "colab": {
          "base_uri": "https://localhost:8080/",
          "height": 138
        },
        "id": "dTKv5TR6_mTg",
        "outputId": "7afc1288-b5ec-4835-e7ac-3807e460dbb6"
      },
      "outputs": [
        {
          "name": "stdout",
          "output_type": "stream",
          "text": [
            "Installing Conjure version v2.5.1 and Conjure Notebook version v0.0.9...\n",
            "Downloading...\n",
            "Conjure: The Automated Constraint Modelling Tool\n",
            "Release version 2.5.0\n",
            "Repository version c94cde5 (2023-11-06 17:43:12 +0000)\n"
          ]
        },
        {
          "data": {
            "application/javascript": "\"use strict\";\n\nCodeMirror.defineMode(\"text/conjure\", function (config) {\n\n    var isOperatorChar = /[+\\-*=<>%^\\/]/;\n\n    var keywords = {\n        \"forall\": true,\n        \"allDifferent\": true,\n        \"allDiff\": true,\n        \"alldifferent_except\": true,\n        \"dim\": true,\n        \"toSet\": true,\n        \"toMSet\": true,\n        \"toRelation\": true,\n        \"maximising\": true,\n        \"minimising\": true,\n        \"forAll\": true,\n        \"exists\": true,\n        \"toInt\": true,\n        \"sum\": true,\n        \"be\": true,\n        \"bijective\": true,\n        \"bool\": true,\n        \"by\": true,\n        \"complete\": true,\n        \"defined\": true,\n        \"domain\": true,\n        \"in\": true,\n        \"or\": true,\n        \"and\": true,\n        \"false\": true,\n        \"find\": true,\n        \"from\": true,\n        \"function\": true,\n        \"given\": true,\n        \"image\": true,\n        \"indexed\": true,\n        \"injective\": true,\n        \"int\": true,\n        \"intersect\": true,\n        \"freq\": true,\n        \"lambda\": true,\n        \"language\": true,\n        \"letting\": true,\n        \"matrix\": true,\n        \"maxNumParts\": true,\n        \"maxOccur\": true,\n        \"maxPartSize\": true,\n        \"maxSize\": true,\n        \"minNumParts\": true,\n        \"minOccur\": true,\n        \"minPartSize\": true,\n        \"minSize\": true,\n        \"mset\": true,\n        \"numParts\": true,\n        \"of\": true,\n        \"partial\": true,\n        \"partition\": true,\n        \"partSize\": true,\n        \"preImage\": true,\n        \"quantifier\": true,\n        \"range\": true,\n        \"regular\": true,\n        \"relation\": true,\n        \"representation\": true,\n        \"set\": true,\n        \"size\": true,\n        \"subset\": true,\n        \"subsetEq\": true,\n        \"such\": true,\n        \"supset\": true,\n        \"supsetEq\": true,\n        \"surjective\": true,\n        \"that\": true,\n        \"together\": true,\n        \"enum\": true,\n        \"total\": true,\n        \"true\": true,\n        \"new\": true,\n        \"type\": true,\n        \"tuple\": true,\n        \"union\": true,\n        \"where\": true,\n        \"branching\": true,\n        \"on\": true\n    };  \n    var punc = \":;,.(){}[]\";\n\n    function tokenBase(stream, state) {\n        var ch = stream.next();\n        if (ch == '\"') {\n            state.tokenize.push(tokenString);\n            return tokenString(stream, state);\n        }\n        if (/[\\d\\.]/.test(ch)) {\n            if (ch == \".\") {\n                stream.match(/^[0-9]+([eE][\\-+]?[0-9]+)?/);\n            } else if (ch == \"0\") {\n                stream.match(/^[xX][0-9a-fA-F]+/) || stream.match(/^0[0-7]+/);\n            } else {\n                stream.match(/^[0-9]*\\.?[0-9]*([eE][\\-+]?[0-9]+)?/);\n            }\n            return \"number\";\n        }\n        if (ch == \"/\") {\n            if (stream.eat(\"*\")) {\n                state.tokenize.push(tokenComment);\n                return tokenComment(stream, state);\n            }\n        }\n        if (ch == \"$\") {\n            stream.skipToEnd();\n            return \"comment\";\n        }\n        if (isOperatorChar.test(ch)) {\n            stream.eatWhile(isOperatorChar);\n            return \"operator\";\n        }\n        if (punc.indexOf(ch) > -1) {\n            return \"punctuation\";\n        }\n        stream.eatWhile(/[\\w\\$_\\xa1-\\uffff]/);\n        var cur = stream.current();\n        \n        if (keywords.propertyIsEnumerable(cur)) {\n            return \"keyword\";\n        }\n        return \"variable\";\n    }\n\n    function tokenComment(stream, state) {\n        var maybeEnd = false, ch;\n        while (ch = stream.next()) {\n            if (ch == \"/\" && maybeEnd) {\n                state.tokenize.pop();\n                break;\n            }\n            maybeEnd = (ch == \"*\");\n        }\n        return \"comment\";\n    }\n\n    function tokenUntilClosingParen() {\n        var depth = 0;\n        return function (stream, state, prev) {\n            var inner = tokenBase(stream, state, prev);\n            console.log(\"untilClosing\", inner, stream.current());\n            if (inner == \"punctuation\") {\n                if (stream.current() == \"(\") {\n                    ++depth;\n                } else if (stream.current() == \")\") {\n                    if (depth == 0) {\n                        stream.backUp(1)\n                        state.tokenize.pop()\n                        return state.tokenize[state.tokenize.length - 1](stream, state)\n                    } else {\n                        --depth;\n                    }\n                }\n            }\n            return inner;\n        }\n    }\n\n    function tokenString(stream, state) {\n        var escaped = false, next, end = false;\n        while ((next = stream.next()) != null) {\n            if (next == '(' && escaped) {\n                state.tokenize.push(tokenUntilClosingParen());\n                return \"string\";\n            }\n            if (next == '\"' && !escaped) { end = true; break; }\n            escaped = !escaped && next == \"\\\\\";\n        }\n        if (end || !escaped)\n            state.tokenize.pop();\n        return \"string\";\n    }\n\n    return {\n        startState: function (basecolumn) {\n            return {\n                tokenize: []\n            };\n        },\n\n        token: function (stream, state) {\n            if (stream.eatSpace()) return null;\n            var style = (state.tokenize[state.tokenize.length - 1] || tokenBase)(stream, state);\n            console.log(\"token\", style);\n            return style;\n        },\n\n        blockCommentStart: \"/*\",\n        blockCommentEnd: \"*/\",\n        lineComment: \"$\"\n    };\n});\n\n\nCodeMirror.defineMIME(\"text/conjure\", \"text/conjure\");\n\nrequire(['notebook/js/codecell'], function (codecell) {\n    codecell.CodeCell.options_default.highlight_modes['magic_text/conjure'] = { 'reg': [/%?%conjure/] };\n    Jupyter.notebook.events.one('kernel_ready.Kernel', function () {\n        Jupyter.notebook.get_cells().map(function (cell) {\n            if (cell.cell_type == 'code') { cell.auto_highlight(); }\n        });\n    });\n});\n\n",
            "text/plain": [
              "<IPython.core.display.Javascript object>"
            ]
          },
          "metadata": {},
          "output_type": "display_data"
        },
        {
          "name": "stdout",
          "output_type": "stream",
          "text": [
            "Conjure extension is loaded.\n",
            "For usage help run: %conjure_help\n"
          ]
        }
      ],
      "source": [
        "!source <(curl -s https://raw.githubusercontent.com/conjure-cp/conjure-notebook/v0.0.9/scripts/install-colab.sh)\n",
        "%load_ext conjure"
      ]
    },
    {
      "cell_type": "markdown",
      "metadata": {
        "id": "2DOlv_Cl_7K3"
      },
      "source": [
        "`n x n` board where each column and row is filled with the unique numbers from 1 to `n`, similar to a sudoku. In contrast to sudoku, there are less than and greater than symbols between cells indicating that one cell has to be filled with a number greater than (or less than) than the cell on the other side of the operator.\n",
        "\n",
        "\n",
        "![example.webp](data:image/webp;base64,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)"
      ]
    },
    {
      "cell_type": "markdown",
      "metadata": {
        "id": "7mIcMmujEkSQ"
      },
      "source": [
        "## Instance"
      ]
    },
    {
      "cell_type": "markdown",
      "metadata": {
        "id": "Dz0uFOj3FI7r"
      },
      "source": [
        "The definition of the instance below contains the information about our starting board of a specific instance that we want to solve. See the picture at the beginning to see what it looks like."
      ]
    },
    {
      "cell_type": "code",
      "execution_count": 2,
      "metadata": {
        "colab": {
          "base_uri": "https://localhost:8080/",
          "height": 34
        },
        "id": "vUmoBT79QyAp",
        "outputId": "97ba1d6d-cf86-4910-e2d0-1d221a0c1a19"
      },
      "outputs": [
        {
          "data": {
            "text/markdown": [
              "```json\n",
              "{}\n",
              "```"
            ],
            "text/plain": [
              "<IPython.core.display.Markdown object>"
            ]
          },
          "metadata": {},
          "output_type": "display_data"
        }
      ],
      "source": [
        "%%conjure\n",
        "\n",
        "letting n be 4"
      ]
    },
    {
      "cell_type": "markdown",
      "metadata": {
        "id": "yhJqZq7YFUyQ"
      },
      "source": [
        "We are dealing with a 4 by 4 board."
      ]
    },
    {
      "cell_type": "code",
      "execution_count": 3,
      "metadata": {
        "colab": {
          "base_uri": "https://localhost:8080/",
          "height": 34
        },
        "id": "hA8zsbcwQ2_6",
        "outputId": "227daddd-de31-483c-cddb-0dc11ff768ff"
      },
      "outputs": [
        {
          "data": {
            "text/markdown": [
              "```json\n",
              "{}\n",
              "```"
            ],
            "text/plain": [
              "<IPython.core.display.Markdown object>"
            ]
          },
          "metadata": {},
          "output_type": "display_data"
        }
      ],
      "source": [
        "%%conjure+\n",
        "\n",
        "letting hints be function(\n",
        "        (1,1) --> 2,\n",
        "        (2,2) --> 2\n",
        ")"
      ]
    },
    {
      "cell_type": "markdown",
      "metadata": {
        "id": "FK76ksfWFdde"
      },
      "source": [
        "There will be two `2` s on the board given as a hint. One in the top left corner `(1,1)` and the second number 2 in cell `(2,2)`."
      ]
    },
    {
      "cell_type": "code",
      "execution_count": 4,
      "metadata": {
        "colab": {
          "base_uri": "https://localhost:8080/",
          "height": 34
        },
        "id": "tkpqtndrQ8bk",
        "outputId": "c10aee19-4af2-43b8-8d6d-2a55d5690c93"
      },
      "outputs": [
        {
          "data": {
            "text/markdown": [
              "```json\n",
              "{}\n",
              "```"
            ],
            "text/plain": [
              "<IPython.core.display.Markdown object>"
            ]
          },
          "metadata": {},
          "output_type": "display_data"
        }
      ],
      "source": [
        "%%conjure+\n",
        "\n",
        "letting less_than be relation(\n",
        "        ((1,1) , (2,1)),\n",
        "        ((4,2) , (3,2)),\n",
        "        ((3,3) , (3,4)),\n",
        "        ((3,4) , (4,4))\n",
        ")"
      ]
    },
    {
      "cell_type": "markdown",
      "metadata": {
        "id": "292rBj6cF4dy"
      },
      "source": [
        "There are 4 relation symbols on the board, between cells."
      ]
    },
    {
      "cell_type": "markdown",
      "metadata": {
        "id": "ePFid8u6AS2U"
      },
      "source": [
        "## Solving the problem step by step"
      ]
    },
    {
      "cell_type": "markdown",
      "metadata": {
        "id": "UjSa9brNBPo0"
      },
      "source": [
        "The line by line explanation of the model starts here."
      ]
    },
    {
      "cell_type": "code",
      "execution_count": 5,
      "metadata": {
        "colab": {
          "base_uri": "https://localhost:8080/",
          "height": 34
        },
        "id": "fCMtDamfSOSI",
        "outputId": "210a675e-5c40-434b-bfbe-f817d4bc5ff8"
      },
      "outputs": [
        {
          "data": {
            "text/markdown": [
              "```json\n",
              "{}\n",
              "```"
            ],
            "text/plain": [
              "<IPython.core.display.Markdown object>"
            ]
          },
          "metadata": {},
          "output_type": "display_data"
        }
      ],
      "source": [
        "%%conjure+\n",
        "\n",
        "letting DOMAIN be domain int(1..n)"
      ]
    },
    {
      "cell_type": "markdown",
      "metadata": {
        "id": "Vk22ri4YCBHQ"
      },
      "source": [
        "We start at 1 and go up to `n` (for both the elements of the cells and the cell locations)."
      ]
    },
    {
      "cell_type": "code",
      "execution_count": 6,
      "metadata": {
        "colab": {
          "base_uri": "https://localhost:8080/",
          "height": 34
        },
        "id": "poiZlqPmSzYC",
        "outputId": "352bbd26-aed3-40d6-b77a-2425fd5b8e16"
      },
      "outputs": [
        {
          "data": {
            "text/markdown": [
              "```json\n",
              "{\"board\": {\"1\": {\"1\": 1, \"2\": 1, \"3\": 1, \"4\": 1}, \"2\": {\"1\": 1, \"2\": 1, \"3\": 1, \"4\": 1}, \"3\": {\"1\": 1, \"2\": 1, \"3\": 1, \"4\": 1}, \"4\": {\"1\": 1, \"2\": 1, \"3\": 1, \"4\": 1}}}\n",
              "```"
            ],
            "text/plain": [
              "<IPython.core.display.Markdown object>"
            ]
          },
          "metadata": {},
          "output_type": "display_data"
        }
      ],
      "source": [
        "%%conjure+\n",
        "\n",
        "find board : matrix indexed by [DOMAIN, DOMAIN] of DOMAIN"
      ]
    },
    {
      "cell_type": "markdown",
      "metadata": {
        "id": "Awdg2ZmICVzt"
      },
      "source": [
        "We are now telling the solver that we are trying to find a `n x n` board with elements from 1 to `n` in each cell."
      ]
    },
    {
      "cell_type": "markdown",
      "metadata": {
        "id": "TO4WlU3ICc5e"
      },
      "source": [
        "`such that` indicates the beginning of the constraints block."
      ]
    },
    {
      "cell_type": "code",
      "execution_count": 7,
      "metadata": {
        "colab": {
          "base_uri": "https://localhost:8080/",
          "height": 34
        },
        "id": "h0CC7hO9V0ER",
        "outputId": "3aba686a-5c31-4e5f-e4d6-62e31eb6c858"
      },
      "outputs": [
        {
          "data": {
            "text/markdown": [
              "```json\n",
              "{\"board\": {\"1\": {\"1\": 2, \"2\": 1, \"3\": 1, \"4\": 1}, \"2\": {\"1\": 1, \"2\": 2, \"3\": 1, \"4\": 1}, \"3\": {\"1\": 1, \"2\": 1, \"3\": 1, \"4\": 1}, \"4\": {\"1\": 1, \"2\": 1, \"3\": 1, \"4\": 1}}}\n",
              "```"
            ],
            "text/plain": [
              "<IPython.core.display.Markdown object>"
            ]
          },
          "metadata": {},
          "output_type": "display_data"
        }
      ],
      "source": [
        "%%conjure+\n",
        "\n",
        "such that forAll (hint,num) in hints .\n",
        "        board[hint[1], hint[2]] = num,"
      ]
    },
    {
      "cell_type": "markdown",
      "metadata": {
        "id": "fjaEYcrwCkcp"
      },
      "source": [
        "This constraint defines the hints, so the cells that are filled in when we get the puzzle."
      ]
    },
    {
      "cell_type": "code",
      "execution_count": 8,
      "metadata": {
        "colab": {
          "base_uri": "https://localhost:8080/",
          "height": 34
        },
        "id": "3teSEg_oV_P3",
        "outputId": "cd89807f-004f-486a-ef3f-007941d53e4f"
      },
      "outputs": [
        {
          "data": {
            "text/markdown": [
              "```json\n",
              "{\"board\": {\"1\": {\"1\": 2, \"2\": 1, \"3\": 3, \"4\": 4}, \"2\": {\"1\": 1, \"2\": 2, \"3\": 3, \"4\": 4}, \"3\": {\"1\": 1, \"2\": 2, \"3\": 3, \"4\": 4}, \"4\": {\"1\": 1, \"2\": 2, \"3\": 3, \"4\": 4}}}\n",
              "```"
            ],
            "text/plain": [
              "<IPython.core.display.Markdown object>"
            ]
          },
          "metadata": {},
          "output_type": "display_data"
        }
      ],
      "source": [
        "%%conjure+ --solver=minion\n",
        "\n",
        "such that forAll i: DOMAIN .\n",
        "        allDiff(board[i,..]),"
      ]
    },
    {
      "cell_type": "markdown",
      "metadata": {
        "id": "235I1jCgEWrl"
      },
      "source": [
        "This constraint defines that every cell in a row has to be a unique number between 1 and n."
      ]
    },
    {
      "cell_type": "code",
      "execution_count": 9,
      "metadata": {
        "colab": {
          "base_uri": "https://localhost:8080/",
          "height": 34
        },
        "id": "yW83rA4tWI1D",
        "outputId": "0f92a5de-3293-41d3-d420-64dd5f0719b6"
      },
      "outputs": [
        {
          "data": {
            "text/markdown": [
              "```json\n",
              "{\"board\": {\"1\": {\"1\": 2, \"2\": 1, \"3\": 3, \"4\": 4}, \"2\": {\"1\": 1, \"2\": 2, \"3\": 4, \"4\": 3}, \"3\": {\"1\": 3, \"2\": 4, \"3\": 1, \"4\": 2}, \"4\": {\"1\": 4, \"2\": 3, \"3\": 2, \"4\": 1}}}\n",
              "```"
            ],
            "text/plain": [
              "<IPython.core.display.Markdown object>"
            ]
          },
          "metadata": {},
          "output_type": "display_data"
        }
      ],
      "source": [
        "%%conjure+ --solver=minion\n",
        "\n",
        "such that forAll j: DOMAIN .\n",
        "        allDiff(board[..,j]),"
      ]
    },
    {
      "cell_type": "markdown",
      "metadata": {
        "id": "vC0XcQshEboo"
      },
      "source": [
        "This constraint defines that every cell in a column has to be a unique number between 1 and n."
      ]
    },
    {
      "cell_type": "code",
      "execution_count": 10,
      "metadata": {
        "colab": {
          "base_uri": "https://localhost:8080/",
          "height": 34
        },
        "id": "uuOgwJkoWRmi",
        "outputId": "f4faecb5-4bc2-4a1e-d814-40d7d23b2068"
      },
      "outputs": [
        {
          "data": {
            "text/markdown": [
              "```json\n",
              "{\"board\": {\"1\": {\"1\": 2, \"2\": 1, \"3\": 4, \"4\": 3}, \"2\": {\"1\": 4, \"2\": 2, \"3\": 3, \"4\": 1}, \"3\": {\"1\": 3, \"2\": 4, \"3\": 1, \"4\": 2}, \"4\": {\"1\": 1, \"2\": 3, \"3\": 2, \"4\": 4}}}\n",
              "```"
            ],
            "text/plain": [
              "<IPython.core.display.Markdown object>"
            ]
          },
          "metadata": {},
          "output_type": "display_data"
        }
      ],
      "source": [
        "%%conjure+\n",
        "\n",
        "such that forAll (l,g) in less_than .\n",
        "        board[l[1],l[2]] < board[g[1],g[2]]"
      ]
    },
    {
      "cell_type": "markdown",
      "metadata": {
        "id": "hVtaESWqEhHp"
      },
      "source": [
        "Finally this constraint enforces the less than relation. `l` is the number that is the cell that contains the number that is less than then the cell `g`."
      ]
    },
    {
      "cell_type": "markdown",
      "metadata": {
        "id": "fr_wb1LrF7cl"
      },
      "source": [
        "## Visualising the results"
      ]
    },
    {
      "cell_type": "markdown",
      "metadata": {
        "id": "aYpytpZZGU39"
      },
      "source": [
        "Printing the result gives us:"
      ]
    },
    {
      "cell_type": "code",
      "execution_count": 11,
      "metadata": {
        "colab": {
          "base_uri": "https://localhost:8080/"
        },
        "id": "B4eEEhuMGcCt",
        "outputId": "edea949a-012b-47d9-8e6b-615cbe1ad0ed"
      },
      "outputs": [
        {
          "name": "stdout",
          "output_type": "stream",
          "text": [
            "2 1 4 3 \n",
            "4 2 3 1 \n",
            "3 4 1 2 \n",
            "1 3 2 4 \n"
          ]
        }
      ],
      "source": [
        "for row in board:\n",
        "  for square in board[row]:\n",
        "    print(board[row][square], end=\" \")\n",
        "  print(\"\")"
      ]
    },
    {
      "cell_type": "markdown",
      "metadata": {
        "id": "LgUm0W-yzsxk"
      },
      "source": [
        "This is represented in the following graph:"
      ]
    },
    {
      "cell_type": "code",
      "execution_count": 12,
      "metadata": {
        "colab": {
          "base_uri": "https://localhost:8080/",
          "height": 411
        },
        "id": "PLN54F5nxj9o",
        "outputId": "26f561a0-c725-437a-c038-808170a13a03"
      },
      "outputs": [
        {
          "data": {
            "image/svg+xml": [
              "<?xml version=\"1.0\" encoding=\"UTF-8\" standalone=\"no\"?>\n",
              "<!DOCTYPE svg PUBLIC \"-//W3C//DTD SVG 1.1//EN\"\n",
              " \"http://www.w3.org/Graphics/SVG/1.1/DTD/svg11.dtd\">\n",
              "<!-- Generated by graphviz version 2.43.0 (0)\n",
              " -->\n",
              "<!-- Title: parent Pages: 1 -->\n",
              "<svg width=\"310pt\" height=\"292pt\"\n",
              " viewBox=\"0.00 0.00 310.00 292.00\" xmlns=\"http://www.w3.org/2000/svg\" xmlns:xlink=\"http://www.w3.org/1999/xlink\">\n",
              "<g id=\"graph0\" class=\"graph\" transform=\"scale(1 1) rotate(0) translate(4 288)\">\n",
              "<title>parent</title>\n",
              "<polygon fill=\"white\" stroke=\"transparent\" points=\"-4,4 -4,-288 306,-288 306,4 -4,4\"/>\n",
              "<g id=\"clust1\" class=\"cluster\">\n",
              "<title>cluster0</title>\n",
              "</g>\n",
              "<g id=\"clust2\" class=\"cluster\">\n",
              "<title>cluster1</title>\n",
              "</g>\n",
              "<g id=\"clust3\" class=\"cluster\">\n",
              "<title>cluster2</title>\n",
              "</g>\n",
              "<g id=\"clust4\" class=\"cluster\">\n",
              "<title>cluster3</title>\n",
              "</g>\n",
              "<!-- 0 -->\n",
              "<g id=\"node1\" class=\"node\">\n",
              "<title>0</title>\n",
              "<polygon fill=\"none\" stroke=\"black\" points=\"286,-268 232,-268 232,-232 286,-232 286,-268\"/>\n",
              "<text text-anchor=\"middle\" x=\"259\" y=\"-246.3\" font-family=\"Times,serif\" font-size=\"14.00\">3</text>\n",
              "</g>\n",
              "<!-- 4 -->\n",
              "<g id=\"node5\" class=\"node\">\n",
              "<title>4</title>\n",
              "<polygon fill=\"none\" stroke=\"black\" points=\"286,-196 232,-196 232,-160 286,-160 286,-196\"/>\n",
              "<text text-anchor=\"middle\" x=\"259\" y=\"-174.3\" font-family=\"Times,serif\" font-size=\"14.00\">1</text>\n",
              "</g>\n",
              "<!-- 0&#45;&gt;4 -->\n",
              "<!-- 1 -->\n",
              "<g id=\"node2\" class=\"node\">\n",
              "<title>1</title>\n",
              "<polygon fill=\"none\" stroke=\"black\" points=\"214,-268 160,-268 160,-232 214,-232 214,-268\"/>\n",
              "<text text-anchor=\"middle\" x=\"187\" y=\"-246.3\" font-family=\"Times,serif\" font-size=\"14.00\">4</text>\n",
              "</g>\n",
              "<!-- 2 -->\n",
              "<g id=\"node3\" class=\"node\">\n",
              "<title>2</title>\n",
              "<polygon fill=\"none\" stroke=\"black\" points=\"142,-268 88,-268 88,-232 142,-232 142,-268\"/>\n",
              "<text text-anchor=\"middle\" x=\"115\" y=\"-246.3\" font-family=\"Times,serif\" font-size=\"14.00\">1</text>\n",
              "</g>\n",
              "<!-- 3 -->\n",
              "<g id=\"node4\" class=\"node\">\n",
              "<title>3</title>\n",
              "<polygon fill=\"none\" stroke=\"black\" points=\"70,-268 16,-268 16,-232 70,-232 70,-268\"/>\n",
              "<text text-anchor=\"middle\" x=\"43\" y=\"-246.3\" font-family=\"Times,serif\" font-size=\"14.00\">2</text>\n",
              "</g>\n",
              "<!-- 8 -->\n",
              "<g id=\"node9\" class=\"node\">\n",
              "<title>8</title>\n",
              "<polygon fill=\"none\" stroke=\"black\" points=\"286,-124 232,-124 232,-88 286,-88 286,-124\"/>\n",
              "<text text-anchor=\"middle\" x=\"259\" y=\"-102.3\" font-family=\"Times,serif\" font-size=\"14.00\">2</text>\n",
              "</g>\n",
              "<!-- 4&#45;&gt;8 -->\n",
              "<!-- 5 -->\n",
              "<g id=\"node6\" class=\"node\">\n",
              "<title>5</title>\n",
              "<polygon fill=\"none\" stroke=\"black\" points=\"214,-196 160,-196 160,-160 214,-160 214,-196\"/>\n",
              "<text text-anchor=\"middle\" x=\"187\" y=\"-174.3\" font-family=\"Times,serif\" font-size=\"14.00\">3</text>\n",
              "</g>\n",
              "<!-- 6 -->\n",
              "<g id=\"node7\" class=\"node\">\n",
              "<title>6</title>\n",
              "<polygon fill=\"none\" stroke=\"black\" points=\"142,-196 88,-196 88,-160 142,-160 142,-196\"/>\n",
              "<text text-anchor=\"middle\" x=\"115\" y=\"-174.3\" font-family=\"Times,serif\" font-size=\"14.00\">2</text>\n",
              "</g>\n",
              "<!-- 7 -->\n",
              "<g id=\"node8\" class=\"node\">\n",
              "<title>7</title>\n",
              "<polygon fill=\"none\" stroke=\"black\" points=\"70,-196 16,-196 16,-160 70,-160 70,-196\"/>\n",
              "<text text-anchor=\"middle\" x=\"43\" y=\"-174.3\" font-family=\"Times,serif\" font-size=\"14.00\">4</text>\n",
              "</g>\n",
              "<!-- 7&#45;&gt;3 -->\n",
              "<g id=\"edge4\" class=\"edge\">\n",
              "<title>7&#45;&gt;3</title>\n",
              "<path fill=\"none\" stroke=\"black\" d=\"M43,-196.1C43,-203.79 43,-213.05 43,-221.67\"/>\n",
              "<polygon fill=\"black\" stroke=\"black\" points=\"39.5,-221.7 43,-231.7 46.5,-221.7 39.5,-221.7\"/>\n",
              "</g>\n",
              "<!-- 9 -->\n",
              "<g id=\"node10\" class=\"node\">\n",
              "<title>9</title>\n",
              "<polygon fill=\"none\" stroke=\"black\" points=\"214,-124 160,-124 160,-88 214,-88 214,-124\"/>\n",
              "<text text-anchor=\"middle\" x=\"187\" y=\"-102.3\" font-family=\"Times,serif\" font-size=\"14.00\">1</text>\n",
              "</g>\n",
              "<!-- 8&#45;&gt;9 -->\n",
              "<g id=\"edge5\" class=\"edge\">\n",
              "<title>8&#45;&gt;9</title>\n",
              "<path fill=\"none\" stroke=\"black\" d=\"M231.75,-106C229.29,-106 226.84,-106 224.38,-106\"/>\n",
              "<polygon fill=\"black\" stroke=\"black\" points=\"224.28,-102.5 214.28,-106 224.28,-109.5 224.28,-102.5\"/>\n",
              "</g>\n",
              "<!-- 12 -->\n",
              "<g id=\"node13\" class=\"node\">\n",
              "<title>12</title>\n",
              "<polygon fill=\"none\" stroke=\"black\" points=\"286,-52 232,-52 232,-16 286,-16 286,-52\"/>\n",
              "<text text-anchor=\"middle\" x=\"259\" y=\"-30.3\" font-family=\"Times,serif\" font-size=\"14.00\">4</text>\n",
              "</g>\n",
              "<!-- 8&#45;&gt;12 -->\n",
              "<!-- 10 -->\n",
              "<g id=\"node11\" class=\"node\">\n",
              "<title>10</title>\n",
              "<polygon fill=\"none\" stroke=\"black\" points=\"142,-124 88,-124 88,-88 142,-88 142,-124\"/>\n",
              "<text text-anchor=\"middle\" x=\"115\" y=\"-102.3\" font-family=\"Times,serif\" font-size=\"14.00\">4</text>\n",
              "</g>\n",
              "<!-- 14 -->\n",
              "<g id=\"node15\" class=\"node\">\n",
              "<title>14</title>\n",
              "<polygon fill=\"none\" stroke=\"black\" points=\"142,-52 88,-52 88,-16 142,-16 142,-52\"/>\n",
              "<text text-anchor=\"middle\" x=\"115\" y=\"-30.3\" font-family=\"Times,serif\" font-size=\"14.00\">3</text>\n",
              "</g>\n",
              "<!-- 10&#45;&gt;14 -->\n",
              "<g id=\"edge7\" class=\"edge\">\n",
              "<title>10&#45;&gt;14</title>\n",
              "<path fill=\"none\" stroke=\"black\" d=\"M115,-87.7C115,-79.98 115,-70.71 115,-62.11\"/>\n",
              "<polygon fill=\"black\" stroke=\"black\" points=\"118.5,-62.1 115,-52.1 111.5,-62.1 118.5,-62.1\"/>\n",
              "</g>\n",
              "<!-- 11 -->\n",
              "<g id=\"node12\" class=\"node\">\n",
              "<title>11</title>\n",
              "<polygon fill=\"none\" stroke=\"black\" points=\"70,-124 16,-124 16,-88 70,-88 70,-124\"/>\n",
              "<text text-anchor=\"middle\" x=\"43\" y=\"-102.3\" font-family=\"Times,serif\" font-size=\"14.00\">3</text>\n",
              "</g>\n",
              "<!-- 12&#45;&gt;8 -->\n",
              "<g id=\"edge6\" class=\"edge\">\n",
              "<title>12&#45;&gt;8</title>\n",
              "<path fill=\"none\" stroke=\"black\" d=\"M253.1,-52.1C252.3,-59.79 252.06,-69.05 252.4,-77.67\"/>\n",
              "<polygon fill=\"black\" stroke=\"black\" points=\"248.91,-77.96 253.08,-87.7 255.89,-77.48 248.91,-77.96\"/>\n",
              "</g>\n",
              "<!-- 13 -->\n",
              "<g id=\"node14\" class=\"node\">\n",
              "<title>13</title>\n",
              "<polygon fill=\"none\" stroke=\"black\" points=\"214,-52 160,-52 160,-16 214,-16 214,-52\"/>\n",
              "<text text-anchor=\"middle\" x=\"187\" y=\"-30.3\" font-family=\"Times,serif\" font-size=\"14.00\">2</text>\n",
              "</g>\n",
              "<!-- 15 -->\n",
              "<g id=\"node16\" class=\"node\">\n",
              "<title>15</title>\n",
              "<polygon fill=\"none\" stroke=\"black\" points=\"70,-52 16,-52 16,-16 70,-16 70,-52\"/>\n",
              "<text text-anchor=\"middle\" x=\"43\" y=\"-30.3\" font-family=\"Times,serif\" font-size=\"14.00\">1</text>\n",
              "</g>\n",
              "</g>\n",
              "</svg>\n"
            ],
            "text/plain": [
              "<graphviz.graphs.Digraph at 0x7882fe74fa00>"
            ]
          },
          "execution_count": 12,
          "metadata": {},
          "output_type": "execute_result"
        }
      ],
      "source": [
        "import graphviz\n",
        "\n",
        "p = graphviz.Digraph('parent')\n",
        "p.attr(compound='true')\n",
        "p.attr(rankdir=\"TB\")\n",
        "\n",
        "\n",
        "id = 0\n",
        "rowNum = 0\n",
        "\n",
        "for row in board:\n",
        "  with p.subgraph(name='cluster'+str(rowNum)) as c:\n",
        "    p.attr(style='invis')\n",
        "\n",
        "    for square in range(4,0,-1):\n",
        "      c.node(str(id), str(board[row][str(square)]), shape='box')\n",
        "      id = id +1\n",
        "  rowNum = rowNum + 1;\n",
        "\n",
        "p.edge('0', '4', None, {'style':'invis', 'rank':'same'})\n",
        "p.edge('4', '8', None, {'style':'invis', 'rank':'same'})\n",
        "p.edge('8', '12', None, {'style':'invis', 'rank':'same'})\n",
        "\n",
        "p.edge('7','3', None, {'constraint':'False'})\n",
        "p.edge('8','9', None, {'constraint':'False'})\n",
        "p.edge('12','8', None, {'constraint':'False'})\n",
        "p.edge('10','14', None, {'constraint':'False'})\n",
        "\n",
        "p\n"
      ]
    }
  ],
  "metadata": {
    "colab": {
      "provenance": []
    },
    "kernelspec": {
      "display_name": "Python 3",
      "name": "python3"
    },
    "language_info": {
      "name": "python"
    }
  },
  "nbformat": 4,
  "nbformat_minor": 0
}
