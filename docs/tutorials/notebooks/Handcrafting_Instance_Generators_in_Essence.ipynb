{
  "cells": [
    {
      "attachments": {},
      "cell_type": "markdown",
      "metadata": {
        "colab_type": "text",
        "id": "view-in-github"
      },
      "source": [
        "<a href=\"https://colab.research.google.com/github/sasha704/conjure/blob/instances/docs/tutorials/notebooks/Handcrafting_Instance_Generators_in_Essence.ipynb\" target=\"_parent\"><img src=\"https://colab.research.google.com/assets/colab-badge.svg\" alt=\"Open In Colab\"/></a>"
      ]
    },
    {
      "attachments": {},
      "cell_type": "markdown",
      "metadata": {
        "id": "b_9MbyOpkR9A"
      },
      "source": [
        "# Handcrafting Instance Generators in Essence"
      ]
    },
    {
      "attachments": {},
      "cell_type": "markdown",
      "metadata": {
        "id": "ws4OTYvkkU4Z"
      },
      "source": [
        "Original [Handcrafting Instance Generators in Essence](https://conjure.readthedocs.io/en/latest/tutorials/knapsack_generator/KnapGen.html) by Joan Espasa Arxer and Christopher Stone. Adapted by Alex Gallagher."
      ]
    },
    {
      "attachments": {},
      "cell_type": "markdown",
      "metadata": {
        "id": "Hyk7zGoUkiV8"
      },
      "source": [
        "In modelling it is common to create an abstract model that expects some input parameters (Also known as “instances”) which are required to run and test the model. In this tutorial we demonstrate how to use ESSENCE to handcraft a generator of instances that can be used to produce input parameters for a specific model."
      ]
    },
    {
      "cell_type": "code",
      "execution_count": null,
      "metadata": {
        "colab": {
          "base_uri": "https://localhost:8080/",
          "height": 173
        },
        "id": "h8yaBmeymi1R",
        "outputId": "3da82d46-c6b8-4df8-b11a-e9faeba2b74a"
      },
      "outputs": [
        {
          "name": "stdout",
          "output_type": "stream",
          "text": [
            "  % Total    % Received % Xferd  Average Speed   Time    Time     Time  Current\n",
            "                                 Dload  Upload   Total   Spent    Left  Speed\n",
            "100   697  100   697    0     0   2640      0 --:--:-- --:--:-- --:--:--  2640\n",
            "Installing Conjure...\n",
            "Conjure: The Automated Constraint Modelling Tool\n",
            "Release version 2.4.0\n",
            "Repository version a7382e3d9 (2022-11-21 10:41:03 +0000)\n"
          ]
        },
        {
          "data": {
            "application/javascript": "\"use strict\";\n\nCodeMirror.defineMode(\"text/conjure\", function (config) {\n\n    var isOperatorChar = /[+\\-*=<>%^\\/]/;\n\n    var keywords = {\n        \"forall\": true,\n        \"allDifferent\": true,\n        \"allDiff\": true,\n        \"alldifferent_except\": true,\n        \"dim\": true,\n        \"toSet\": true,\n        \"toMSet\": true,\n        \"toRelation\": true,\n        \"maximising\": true,\n        \"minimising\": true,\n        \"forAll\": true,\n        \"exists\": true,\n        \"toInt\": true,\n        \"sum\": true,\n        \"be\": true,\n        \"bijective\": true,\n        \"bool\": true,\n        \"by\": true,\n        \"complete\": true,\n        \"defined\": true,\n        \"domain\": true,\n        \"in\": true,\n        \"or\": true,\n        \"and\": true,\n        \"false\": true,\n        \"find\": true,\n        \"from\": true,\n        \"function\": true,\n        \"given\": true,\n        \"image\": true,\n        \"indexed\": true,\n        \"injective\": true,\n        \"int\": true,\n        \"intersect\": true,\n        \"freq\": true,\n        \"lambda\": true,\n        \"language\": true,\n        \"letting\": true,\n        \"matrix\": true,\n        \"maxNumParts\": true,\n        \"maxOccur\": true,\n        \"maxPartSize\": true,\n        \"maxSize\": true,\n        \"minNumParts\": true,\n        \"minOccur\": true,\n        \"minPartSize\": true,\n        \"minSize\": true,\n        \"mset\": true,\n        \"numParts\": true,\n        \"of\": true,\n        \"partial\": true,\n        \"partition\": true,\n        \"partSize\": true,\n        \"preImage\": true,\n        \"quantifier\": true,\n        \"range\": true,\n        \"regular\": true,\n        \"relation\": true,\n        \"representation\": true,\n        \"set\": true,\n        \"size\": true,\n        \"subset\": true,\n        \"subsetEq\": true,\n        \"such\": true,\n        \"supset\": true,\n        \"supsetEq\": true,\n        \"surjective\": true,\n        \"that\": true,\n        \"together\": true,\n        \"enum\": true,\n        \"total\": true,\n        \"true\": true,\n        \"new\": true,\n        \"type\": true,\n        \"tuple\": true,\n        \"union\": true,\n        \"where\": true,\n        \"branching\": true,\n        \"on\": true\n    };  \n    var punc = \":;,.(){}[]\";\n\n    function tokenBase(stream, state) {\n        var ch = stream.next();\n        if (ch == '\"') {\n            state.tokenize.push(tokenString);\n            return tokenString(stream, state);\n        }\n        if (/[\\d\\.]/.test(ch)) {\n            if (ch == \".\") {\n                stream.match(/^[0-9]+([eE][\\-+]?[0-9]+)?/);\n            } else if (ch == \"0\") {\n                stream.match(/^[xX][0-9a-fA-F]+/) || stream.match(/^0[0-7]+/);\n            } else {\n                stream.match(/^[0-9]*\\.?[0-9]*([eE][\\-+]?[0-9]+)?/);\n            }\n            return \"number\";\n        }\n        if (ch == \"/\") {\n            if (stream.eat(\"*\")) {\n                state.tokenize.push(tokenComment);\n                return tokenComment(stream, state);\n            }\n        }\n        if (ch == \"$\") {\n            stream.skipToEnd();\n            return \"comment\";\n        }\n        if (isOperatorChar.test(ch)) {\n            stream.eatWhile(isOperatorChar);\n            return \"operator\";\n        }\n        if (punc.indexOf(ch) > -1) {\n            return \"punctuation\";\n        }\n        stream.eatWhile(/[\\w\\$_\\xa1-\\uffff]/);\n        var cur = stream.current();\n        \n        if (keywords.propertyIsEnumerable(cur)) {\n            return \"keyword\";\n        }\n        return \"variable\";\n    }\n\n    function tokenComment(stream, state) {\n        var maybeEnd = false, ch;\n        while (ch = stream.next()) {\n            if (ch == \"/\" && maybeEnd) {\n                state.tokenize.pop();\n                break;\n            }\n            maybeEnd = (ch == \"*\");\n        }\n        return \"comment\";\n    }\n\n    function tokenUntilClosingParen() {\n        var depth = 0;\n        return function (stream, state, prev) {\n            var inner = tokenBase(stream, state, prev);\n            console.log(\"untilClosing\", inner, stream.current());\n            if (inner == \"punctuation\") {\n                if (stream.current() == \"(\") {\n                    ++depth;\n                } else if (stream.current() == \")\") {\n                    if (depth == 0) {\n                        stream.backUp(1)\n                        state.tokenize.pop()\n                        return state.tokenize[state.tokenize.length - 1](stream, state)\n                    } else {\n                        --depth;\n                    }\n                }\n            }\n            return inner;\n        }\n    }\n\n    function tokenString(stream, state) {\n        var escaped = false, next, end = false;\n        while ((next = stream.next()) != null) {\n            if (next == '(' && escaped) {\n                state.tokenize.push(tokenUntilClosingParen());\n                return \"string\";\n            }\n            if (next == '\"' && !escaped) { end = true; break; }\n            escaped = !escaped && next == \"\\\\\";\n        }\n        if (end || !escaped)\n            state.tokenize.pop();\n        return \"string\";\n    }\n\n    return {\n        startState: function (basecolumn) {\n            return {\n                tokenize: []\n            };\n        },\n\n        token: function (stream, state) {\n            if (stream.eatSpace()) return null;\n            var style = (state.tokenize[state.tokenize.length - 1] || tokenBase)(stream, state);\n            console.log(\"token\", style);\n            return style;\n        },\n\n        blockCommentStart: \"/*\",\n        blockCommentEnd: \"*/\",\n        lineComment: \"$\"\n    };\n});\n\n\nCodeMirror.defineMIME(\"text/conjure\", \"text/conjure\");\n\nrequire(['notebook/js/codecell'], function (codecell) {\n    codecell.CodeCell.options_default.highlight_modes['magic_text/conjure'] = { 'reg': [/%?%conjure/] };\n    Jupyter.notebook.events.one('kernel_ready.Kernel', function () {\n        Jupyter.notebook.get_cells().map(function (cell) {\n            if (cell.cell_type == 'code') { cell.auto_highlight(); }\n        });\n    });\n});\n\n",
            "text/plain": [
              "<IPython.core.display.Javascript object>"
            ]
          },
          "metadata": {},
          "output_type": "display_data"
        },
        {
          "name": "stdout",
          "output_type": "stream",
          "text": [
            "Conjure extension is loaded.\n",
            "For usage help run: %conjure_help\n"
          ]
        }
      ],
      "source": [
        "!source <(curl -s https://raw.githubusercontent.com/conjure-cp/conjure-notebook/v0.0.2/scripts/install-colab.sh)\n",
        "%load_ext conjure"
      ]
    },
    {
      "attachments": {},
      "cell_type": "markdown",
      "metadata": {
        "id": "7DlRahOslGIO"
      },
      "source": [
        "## Instances for the Knapsack problem"
      ]
    },
    {
      "attachments": {},
      "cell_type": "markdown",
      "metadata": {
        "id": "yByksQbYmFwO"
      },
      "source": [
        "This model from the [Knapsack Problem](https://conjure.readthedocs.io/en/latest/tutorials.html#the-knapsack-problem) has 4 different “given” statements :\n",
        "\n",
        "* number_items: an integer for number of items\n",
        "\n",
        "*  weight: a functions that associates an integer(weight) to each item\n",
        "\n",
        "* gain: a function that associates an integer(gain) to each item\n",
        "\n",
        "* capacity: an integer that defines the capacity of the knapsack\n",
        "\n",
        "\n",
        "\n"
      ]
    },
    {
      "attachments": {},
      "cell_type": "markdown",
      "metadata": {
        "id": "xXdYIQKvmXOv"
      },
      "source": [
        "The first parameter is fairly simple and we can even write this parameter with some value by hand as seen below."
      ]
    },
    {
      "cell_type": "code",
      "execution_count": null,
      "metadata": {
        "colab": {
          "base_uri": "https://localhost:8080/"
        },
        "id": "x1a53hL-j9Ja",
        "outputId": "c193d101-acdb-4ed6-ea56-a9af31553e91"
      },
      "outputs": [
        {
          "data": {
            "text/plain": [
              "{}"
            ]
          },
          "execution_count": 2,
          "metadata": {},
          "output_type": "execute_result"
        }
      ],
      "source": [
        "%%conjure\n",
        "letting number_items be 20"
      ]
    },
    {
      "attachments": {},
      "cell_type": "markdown",
      "metadata": {
        "id": "_EiqQ1uAnht9"
      },
      "source": [
        "The remaining 3 parameters are more complex and labourious to be defined (too much work to be done by hand!) so we are going to write an ESSENCE specification that will create them for us. The fundamental starting step is writing find statements for each variable we wish to generate and ensure that the names of the variable (identifiers) are left unchanged. We can do so by writing:"
      ]
    },
    {
      "cell_type": "code",
      "execution_count": null,
      "metadata": {
        "colab": {
          "base_uri": "https://localhost:8080/"
        },
        "id": "cDYM3WlAn0Lb",
        "outputId": "15308a29-c827-4f47-d71a-02bf82d93c64"
      },
      "outputs": [
        {
          "data": {
            "text/plain": [
              "{'capacity': 1,\n",
              " 'gain': {'1': 1,\n",
              "  '10': 1,\n",
              "  '11': 1,\n",
              "  '12': 1,\n",
              "  '13': 1,\n",
              "  '14': 1,\n",
              "  '15': 1,\n",
              "  '16': 1,\n",
              "  '17': 1,\n",
              "  '18': 1,\n",
              "  '19': 1,\n",
              "  '2': 1,\n",
              "  '20': 1,\n",
              "  '3': 1,\n",
              "  '4': 1,\n",
              "  '5': 1,\n",
              "  '6': 1,\n",
              "  '7': 1,\n",
              "  '8': 1,\n",
              "  '9': 1},\n",
              " 'weight': {'1': 1,\n",
              "  '10': 1,\n",
              "  '11': 1,\n",
              "  '12': 1,\n",
              "  '13': 1,\n",
              "  '14': 1,\n",
              "  '15': 1,\n",
              "  '16': 1,\n",
              "  '17': 1,\n",
              "  '18': 1,\n",
              "  '19': 1,\n",
              "  '2': 1,\n",
              "  '20': 1,\n",
              "  '3': 1,\n",
              "  '4': 1,\n",
              "  '5': 1,\n",
              "  '6': 1,\n",
              "  '7': 1,\n",
              "  '8': 1,\n",
              "  '9': 1}}"
            ]
          },
          "execution_count": 3,
          "metadata": {},
          "output_type": "execute_result"
        }
      ],
      "source": [
        "%%conjure\n",
        "letting items be domain int(1..number_items)\n",
        "find weight: function (total) items --> int(1..1000)\n",
        "find gain: function (total) items --> int(1..1000)\n",
        "find capacity: int(1..5000)"
      ]
    },
    {
      "attachments": {},
      "cell_type": "markdown",
      "metadata": {
        "id": "L3_5bdbxn-_6"
      },
      "source": [
        "Solving the above model (by running the cell above) will create a set of parameters for our knapsack model. However, these instances are not interesting enough yet."
      ]
    },
    {
      "attachments": {},
      "cell_type": "markdown",
      "metadata": {
        "id": "WqMwmD0OoGs4"
      },
      "source": [
        "We can make our instances more interesting by adding constraints into our generator’s model. The first thing we notice is that all values assigned are identical, a bit TOO symmetrical for our taste. One simple solution to this issue is ensuring that all weights and gains assignments are associated with distinct values. This can be done by imposing [injectivity](https://en.wikipedia.org/wiki/Injective_function) as a property of the function."
      ]
    },
    {
      "cell_type": "code",
      "execution_count": null,
      "metadata": {
        "colab": {
          "base_uri": "https://localhost:8080/"
        },
        "id": "LGHHUkfXoZOg",
        "outputId": "bb95af51-7709-42f9-b4f8-82a0e0c0ca93"
      },
      "outputs": [
        {
          "data": {
            "text/plain": [
              "{'capacity': 1,\n",
              " 'gain': {'1': 1,\n",
              "  '10': 10,\n",
              "  '11': 11,\n",
              "  '12': 12,\n",
              "  '13': 13,\n",
              "  '14': 14,\n",
              "  '15': 15,\n",
              "  '16': 16,\n",
              "  '17': 17,\n",
              "  '18': 18,\n",
              "  '19': 19,\n",
              "  '2': 2,\n",
              "  '20': 20,\n",
              "  '3': 3,\n",
              "  '4': 4,\n",
              "  '5': 5,\n",
              "  '6': 6,\n",
              "  '7': 7,\n",
              "  '8': 8,\n",
              "  '9': 9},\n",
              " 'weight': {'1': 1,\n",
              "  '10': 1,\n",
              "  '11': 1,\n",
              "  '12': 1,\n",
              "  '13': 1,\n",
              "  '14': 1,\n",
              "  '15': 1,\n",
              "  '16': 1,\n",
              "  '17': 1,\n",
              "  '18': 1,\n",
              "  '19': 1,\n",
              "  '2': 1,\n",
              "  '20': 1,\n",
              "  '3': 1,\n",
              "  '4': 1,\n",
              "  '5': 1,\n",
              "  '6': 1,\n",
              "  '7': 1,\n",
              "  '8': 1,\n",
              "  '9': 1}}"
            ]
          },
          "execution_count": 12,
          "metadata": {},
          "output_type": "execute_result"
        }
      ],
      "source": [
        "%%conjure\n",
        "find weight: function (total, injective) items --> int(1..1000)\n",
        "find gain: function (total, injective) items --> int(1..1000)\n",
        "find capacity: int(1..5000)"
      ]
    },
    {
      "attachments": {},
      "cell_type": "markdown",
      "metadata": {
        "id": "RqTcTMtuoitZ"
      },
      "source": [
        "Running this gives us a slighly more interesting parameters set but it is not there yet The specific order that appears in the results is solver dependent. The default solver used by conjure is Minion and we can use an optional flag to have the variables assigned in a random order. This can be done with this command:"
      ]
    },
    {
      "attachments": {},
      "cell_type": "markdown",
      "metadata": {
        "id": "Zzg57cEHonBQ"
      },
      "source": [
        "`--solver-options=-randomiseorder`"
      ]
    },
    {
      "attachments": {},
      "cell_type": "markdown",
      "metadata": {
        "id": "qTeTX8s-oqjp"
      },
      "source": [
        "Alternatively one can use another solver that uses randomness by default"
      ]
    },
    {
      "cell_type": "code",
      "execution_count": null,
      "metadata": {
        "colab": {
          "base_uri": "https://localhost:8080/"
        },
        "id": "v1vnAK0kouNI",
        "outputId": "c81ad75f-51f0-4bb8-877c-75bd50d690a5"
      },
      "outputs": [
        {
          "data": {
            "text/plain": [
              "{'capacity': 4354,\n",
              " 'gain': {'1': 976,\n",
              "  '10': 741,\n",
              "  '11': 371,\n",
              "  '12': 323,\n",
              "  '13': 474,\n",
              "  '14': 730,\n",
              "  '15': 579,\n",
              "  '16': 502,\n",
              "  '17': 174,\n",
              "  '18': 522,\n",
              "  '19': 813,\n",
              "  '2': 503,\n",
              "  '20': 391,\n",
              "  '3': 406,\n",
              "  '4': 728,\n",
              "  '5': 335,\n",
              "  '6': 680,\n",
              "  '7': 487,\n",
              "  '8': 385,\n",
              "  '9': 421},\n",
              " 'weight': {'1': 153,\n",
              "  '10': 365,\n",
              "  '11': 299,\n",
              "  '12': 986,\n",
              "  '13': 655,\n",
              "  '14': 954,\n",
              "  '15': 984,\n",
              "  '16': 318,\n",
              "  '17': 944,\n",
              "  '18': 693,\n",
              "  '19': 791,\n",
              "  '2': 759,\n",
              "  '20': 266,\n",
              "  '3': 562,\n",
              "  '4': 271,\n",
              "  '5': 23,\n",
              "  '6': 946,\n",
              "  '7': 979,\n",
              "  '8': 854,\n",
              "  '9': 194}}"
            ]
          },
          "execution_count": 4,
          "metadata": {},
          "output_type": "execute_result"
        }
      ],
      "source": [
        "%%conjure --solver=minion --solver-options='-randomiseorder'\n",
        "\n",
        "find weight: function (total, injective) items --> int(1..1000)\n",
        "find gain: function (total, injective) items --> int(1..1000)\n",
        "find capacity: int(1..5000)"
      ]
    },
    {
      "attachments": {},
      "cell_type": "markdown",
      "metadata": {
        "id": "Y3zFC4dTtn-s"
      },
      "source": [
        "Now it is starting to look more like a proper instance. At this point we can add some knowledge about the problem to formulate some constraints that will ensure that the instances are not trivial. ie when the sum of all the weights is smaller than the capacity so we can’t put all the objects in the knapsack or when all the objects are heavier than the capacity so that no object can be picked. Thefore we add constraints such as:"
      ]
    },
    {
      "cell_type": "code",
      "execution_count": null,
      "metadata": {
        "colab": {
          "base_uri": "https://localhost:8080/"
        },
        "id": "xtRJ0LK5ueb3",
        "outputId": "d277f389-ce6f-4070-e556-42d64da10989"
      },
      "outputs": [
        {
          "name": "stdout",
          "output_type": "stream",
          "text": [
            "Conjure model cleared\n"
          ]
        }
      ],
      "source": [
        "%conjure_clear"
      ]
    },
    {
      "cell_type": "code",
      "execution_count": null,
      "metadata": {
        "colab": {
          "base_uri": "https://localhost:8080/"
        },
        "id": "st_At4HvuFtD",
        "outputId": "b809637a-5f87-4848-df0f-29c41cf34227"
      },
      "outputs": [
        {
          "data": {
            "text/plain": [
              "{'capacity': 43,\n",
              " 'gain': {'1': 1,\n",
              "  '10': 10,\n",
              "  '11': 11,\n",
              "  '12': 12,\n",
              "  '13': 13,\n",
              "  '14': 14,\n",
              "  '15': 15,\n",
              "  '16': 16,\n",
              "  '17': 17,\n",
              "  '18': 18,\n",
              "  '19': 19,\n",
              "  '2': 2,\n",
              "  '20': 20,\n",
              "  '3': 3,\n",
              "  '4': 4,\n",
              "  '5': 5,\n",
              "  '6': 6,\n",
              "  '7': 7,\n",
              "  '8': 8,\n",
              "  '9': 9},\n",
              " 'weight': {'1': 1,\n",
              "  '10': 10,\n",
              "  '11': 11,\n",
              "  '12': 12,\n",
              "  '13': 13,\n",
              "  '14': 14,\n",
              "  '15': 15,\n",
              "  '16': 16,\n",
              "  '17': 17,\n",
              "  '18': 18,\n",
              "  '19': 19,\n",
              "  '2': 2,\n",
              "  '20': 20,\n",
              "  '3': 3,\n",
              "  '4': 4,\n",
              "  '5': 5,\n",
              "  '6': 6,\n",
              "  '7': 7,\n",
              "  '8': 8,\n",
              "  '9': 9}}"
            ]
          },
          "execution_count": 26,
          "metadata": {},
          "output_type": "execute_result"
        }
      ],
      "source": [
        "%%conjure\n",
        "letting number_items be 20\n",
        "letting items be domain int(1..number_items)\n",
        "find weight: function (total, injective) items --> int(1..1000)\n",
        "find gain: function (total, injective) items --> int(1..1000)\n",
        "find capacity: int(1..5000)\n",
        "\n",
        "such that (sum ([w | (_,w) <- weight]) > capacity*2),"
      ]
    },
    {
      "attachments": {},
      "cell_type": "markdown",
      "metadata": {
        "id": "XH7Q2h2Qux0G"
      },
      "source": [
        "This means that the sum of all the weights should be greater than twice the capacity of the knapsack. From this we can expect that on average no more than half of the objects will fit in the knapsack. The expression `[w | (_,w) <- weight]` is a list [comprehension](https://en.wikipedia.org/wiki/List_comprehension) that extracts all right hand values of the `weight` function. The underscore character means we do not care about the left hand side values. To ensure that the solver does not take it too far we impose an upper bound using a similar constraint. We impose that the sum of the objects weights 5 times the capacity of the knapsack, so we can expect that only between 20% and 50% of the items will fit in the knapsack in each instance."
      ]
    },
    {
      "cell_type": "code",
      "execution_count": null,
      "metadata": {
        "colab": {
          "base_uri": "https://localhost:8080/"
        },
        "id": "RGBsge0yu-LK",
        "outputId": "c7baf91c-74b5-4701-89a7-17a123492b5b"
      },
      "outputs": [
        {
          "data": {
            "text/plain": [
              "{'capacity': 43,\n",
              " 'gain': {'1': 1,\n",
              "  '10': 10,\n",
              "  '11': 11,\n",
              "  '12': 12,\n",
              "  '13': 13,\n",
              "  '14': 14,\n",
              "  '15': 15,\n",
              "  '16': 16,\n",
              "  '17': 17,\n",
              "  '18': 18,\n",
              "  '19': 19,\n",
              "  '2': 2,\n",
              "  '20': 20,\n",
              "  '3': 3,\n",
              "  '4': 4,\n",
              "  '5': 5,\n",
              "  '6': 6,\n",
              "  '7': 7,\n",
              "  '8': 8,\n",
              "  '9': 9},\n",
              " 'weight': {'1': 1,\n",
              "  '10': 10,\n",
              "  '11': 11,\n",
              "  '12': 12,\n",
              "  '13': 13,\n",
              "  '14': 14,\n",
              "  '15': 15,\n",
              "  '16': 16,\n",
              "  '17': 17,\n",
              "  '18': 18,\n",
              "  '19': 19,\n",
              "  '2': 2,\n",
              "  '20': 20,\n",
              "  '3': 3,\n",
              "  '4': 4,\n",
              "  '5': 5,\n",
              "  '6': 6,\n",
              "  '7': 7,\n",
              "  '8': 8,\n",
              "  '9': 9}}"
            ]
          },
          "execution_count": 27,
          "metadata": {},
          "output_type": "execute_result"
        }
      ],
      "source": [
        "%%conjure\n",
        "\n",
        "such that (sum ([w | (_,w) <- weight]) < capacity*5),"
      ]
    },
    {
      "attachments": {},
      "cell_type": "markdown",
      "metadata": {
        "id": "UAohhHG1vXFZ"
      },
      "source": [
        "At this point it will be harder to see specific properties of the instances just by eyeballing the parameters but we can be confident that the properties we have imposed are there. We can add some more constraints to refine the values of the instances for practice/exercise by enforcing that no object is heavier than a third of the knapsack capacity"
      ]
    },
    {
      "cell_type": "code",
      "execution_count": null,
      "metadata": {
        "colab": {
          "base_uri": "https://localhost:8080/"
        },
        "id": "UPeiW9bOvZcJ",
        "outputId": "70de71bf-c701-4222-9547-fea521c33e47"
      },
      "outputs": [
        {
          "name": "stderr",
          "output_type": "stream",
          "text": [
            "Exception: Error:\n",
            "    Savile Row stdout: Created output file for domain filtering conjure-output/model000001.eprime-minion\n",
            "Created output file conjure-output/model000001.eprime.fzn\n",
            "Sub-process exited with error code:139 and error message:\n",
            "[]\n",
            "Solver exited with error code:139 and message:\n",
            "[]\n",
            "Created information file conjure-output/model000001.eprime-info\n",
            "\n",
            "    Savile Row stderr: \n",
            "    Savile Row exit-code: 0\n",
            "\n"
          ]
        }
      ],
      "source": [
        "%%conjure\n",
        "\n",
        "such that forAll (_,w) in weight .  w < capacity / 3,"
      ]
    },
    {
      "attachments": {},
      "cell_type": "markdown",
      "metadata": {
        "id": "cEy6PLNavc_T"
      },
      "source": [
        "On top of that we can enfore a constraint on the density of the values in each object by limiting the ratio between the weight and gain of each specific object with:"
      ]
    },
    {
      "cell_type": "code",
      "execution_count": null,
      "metadata": {
        "colab": {
          "base_uri": "https://localhost:8080/"
        },
        "id": "46OeSVrBvhOX",
        "outputId": "7ef012a2-d030-4dec-e3a8-2d5055042351"
      },
      "outputs": [
        {
          "data": {
            "text/plain": [
              "{'capacity': 16,\n",
              " 'gain': {'1': 1,\n",
              "  '10': 10,\n",
              "  '11': 11,\n",
              "  '12': 12,\n",
              "  '13': 13,\n",
              "  '14': 14,\n",
              "  '15': 15,\n",
              "  '16': 16,\n",
              "  '17': 17,\n",
              "  '18': 18,\n",
              "  '19': 19,\n",
              "  '2': 2,\n",
              "  '20': 20,\n",
              "  '3': 3,\n",
              "  '4': 4,\n",
              "  '5': 5,\n",
              "  '6': 6,\n",
              "  '7': 7,\n",
              "  '8': 8,\n",
              "  '9': 9},\n",
              " 'weight': {'1': 1,\n",
              "  '10': 4,\n",
              "  '11': 4,\n",
              "  '12': 4,\n",
              "  '13': 5,\n",
              "  '14': 5,\n",
              "  '15': 5,\n",
              "  '16': 6,\n",
              "  '17': 6,\n",
              "  '18': 6,\n",
              "  '19': 7,\n",
              "  '2': 1,\n",
              "  '20': 7,\n",
              "  '3': 1,\n",
              "  '4': 2,\n",
              "  '5': 2,\n",
              "  '6': 2,\n",
              "  '7': 3,\n",
              "  '8': 3,\n",
              "  '9': 3}}"
            ]
          },
          "execution_count": 29,
          "metadata": {},
          "output_type": "execute_result"
        }
      ],
      "source": [
        "%%conjure\n",
        "such that forAll element : items .\n",
        "        gain(element) <= 3*weight(element)"
      ]
    },
    {
      "attachments": {},
      "cell_type": "markdown",
      "metadata": {
        "id": "kr7LfH5Svrxx"
      },
      "source": [
        "After running all cells, we can take the output solution and run the Knapsack Problem solution on it.\n",
        "\n",
        "Tada! your model is being tested on some instance!\n",
        "\n",
        "If your computer is powerful enough you can try larger values in “letting number_items be 20” (40-50 items will already produce substantially harder instances) Like for other forms of modelling writing instance generators is in large part an art. If this is not your kind of thing and you would like a fully automated system that can produce instances you may check out this [method](https://link.springer.com/chapter/10.1007/978-3-030-30048-7_1)\n",
        "\n",
        "(code available [here](https://github.com/stacs-cp/CP2019-InstanceGen))"
      ]
    }
  ],
  "metadata": {
    "colab": {
      "authorship_tag": "ABX9TyOyOIxXu5LVVSWqJoksN5gj",
      "include_colab_link": true,
      "provenance": []
    },
    "kernelspec": {
      "display_name": "Python 3",
      "name": "python3"
    },
    "language_info": {
      "name": "python"
    }
  },
  "nbformat": 4,
  "nbformat_minor": 0
}
