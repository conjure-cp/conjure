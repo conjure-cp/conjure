{
  "cells": [
    {
      "cell_type": "markdown",
      "metadata": {},
      "source": [
        "<a href=\"https://colab.research.google.com/github/conjure-cp/conjure/blob/main/docs/tutorials/notebooks/SimplePermutations.ipynb\" target=\"_parent\"><img src=\"https://colab.research.google.com/assets/colab-badge.svg\" alt=\"Open In Colab\"/></a>"
      ]
    },
    {
      "cell_type": "markdown",
      "metadata": {
        "id": "ui5YqwoFv7LV"
      },
      "source": [
        "# Simple Permutations"
      ]
    },
    {
      "cell_type": "markdown",
      "metadata": {
        "id": "U-HzMB6vs1Zw"
      },
      "source": [
        "Original [Simple Permutations](https://conjure.readthedocs.io/en/latest/tutorials/simple_perm/simple_perm.html) by Ruth Hoffmann and Gökberk Koçak, edited by András Salamon. Adapted by Alex Gallagher."
      ]
    },
    {
      "cell_type": "markdown",
      "metadata": {
        "id": "2mcDxfXktRkP"
      },
      "source": [
        "## Problem"
      ]
    },
    {
      "cell_type": "markdown",
      "metadata": {
        "id": "vD4QRyo5tVXd"
      },
      "source": [
        "Let a permutation be a sequence of length ***n*** consisting of numbers between 1 and ***n***, in any order with each number occurring exactly once."
      ]
    },
    {
      "cell_type": "markdown",
      "metadata": {
        "id": "0lb1eDuYtlM8"
      },
      "source": [
        "An interval in a permutation **σ** is a factor of contiguous values of **σ** such that their indices are consecutive. For example, in the permutation **π=346978215**,\n",
        "**π(4)π(5)π(6)=978** is an interval, whereas **π(1)π(2)π(3)π(4)=3469** is not. It is easy to see that every permutation of length ***n*** has intervals of length 0, 1 and ***n***, at least. The permutations of length ***n*** that only contain intervals of length 0, 1 and ***n*** are said to be simple. So for example the permutation **π=346978215** is not simple as we have seen in the example above that it contains an interval, on the other hand\n",
        "**σ=526184937** is simple as there are no intervals of length strictly greater than 1, except the whole of **σ**. See [Hof15](https://conjure.readthedocs.io/en/latest/zreferences.html#id6) for more information on permutation patterns and simple permutations."
      ]
    },
    {
      "cell_type": "markdown",
      "metadata": {
        "id": "Xaie69Fh1n_M"
      },
      "source": [
        "## Parameter"
      ]
    },
    {
      "cell_type": "code",
      "execution_count": 1,
      "metadata": {
        "colab": {
          "base_uri": "https://localhost:8080/",
          "height": 156
        },
        "id": "Ez_RQBSQw0DV",
        "outputId": "b6c79fe9-9750-4c37-ccd2-331c8bd2c64f"
      },
      "outputs": [
        {
          "name": "stdout",
          "output_type": "stream",
          "text": [
            "Installing Conjure version v2.5.1 and Conjure Notebook version v0.0.9...\n",
            "Conjure is already installed.\n",
            "Conjure notebook is already installed.\n",
            "Conjure: The Automated Constraint Modelling Tool\n",
            "Release version 2.5.1\n",
            "Repository version a9cbc2e (2023-11-07 23:44:00 +0000)\n"
          ]
        },
        {
          "data": {
            "application/javascript": "\"use strict\";\n\nCodeMirror.defineMode(\"text/conjure\", function (config) {\n\n    var isOperatorChar = /[+\\-*=<>%^\\/]/;\n\n    var keywords = {\n        \"forall\": true,\n        \"allDifferent\": true,\n        \"allDiff\": true,\n        \"alldifferent_except\": true,\n        \"dim\": true,\n        \"toSet\": true,\n        \"toMSet\": true,\n        \"toRelation\": true,\n        \"maximising\": true,\n        \"minimising\": true,\n        \"forAll\": true,\n        \"exists\": true,\n        \"toInt\": true,\n        \"sum\": true,\n        \"be\": true,\n        \"bijective\": true,\n        \"bool\": true,\n        \"by\": true,\n        \"complete\": true,\n        \"defined\": true,\n        \"domain\": true,\n        \"in\": true,\n        \"or\": true,\n        \"and\": true,\n        \"false\": true,\n        \"find\": true,\n        \"from\": true,\n        \"function\": true,\n        \"given\": true,\n        \"image\": true,\n        \"indexed\": true,\n        \"injective\": true,\n        \"int\": true,\n        \"intersect\": true,\n        \"freq\": true,\n        \"lambda\": true,\n        \"language\": true,\n        \"letting\": true,\n        \"matrix\": true,\n        \"maxNumParts\": true,\n        \"maxOccur\": true,\n        \"maxPartSize\": true,\n        \"maxSize\": true,\n        \"minNumParts\": true,\n        \"minOccur\": true,\n        \"minPartSize\": true,\n        \"minSize\": true,\n        \"mset\": true,\n        \"numParts\": true,\n        \"of\": true,\n        \"partial\": true,\n        \"partition\": true,\n        \"partSize\": true,\n        \"preImage\": true,\n        \"quantifier\": true,\n        \"range\": true,\n        \"regular\": true,\n        \"relation\": true,\n        \"representation\": true,\n        \"set\": true,\n        \"size\": true,\n        \"subset\": true,\n        \"subsetEq\": true,\n        \"such\": true,\n        \"supset\": true,\n        \"supsetEq\": true,\n        \"surjective\": true,\n        \"that\": true,\n        \"together\": true,\n        \"enum\": true,\n        \"total\": true,\n        \"true\": true,\n        \"new\": true,\n        \"type\": true,\n        \"tuple\": true,\n        \"union\": true,\n        \"where\": true,\n        \"branching\": true,\n        \"on\": true\n    };  \n    var punc = \":;,.(){}[]\";\n\n    function tokenBase(stream, state) {\n        var ch = stream.next();\n        if (ch == '\"') {\n            state.tokenize.push(tokenString);\n            return tokenString(stream, state);\n        }\n        if (/[\\d\\.]/.test(ch)) {\n            if (ch == \".\") {\n                stream.match(/^[0-9]+([eE][\\-+]?[0-9]+)?/);\n            } else if (ch == \"0\") {\n                stream.match(/^[xX][0-9a-fA-F]+/) || stream.match(/^0[0-7]+/);\n            } else {\n                stream.match(/^[0-9]*\\.?[0-9]*([eE][\\-+]?[0-9]+)?/);\n            }\n            return \"number\";\n        }\n        if (ch == \"/\") {\n            if (stream.eat(\"*\")) {\n                state.tokenize.push(tokenComment);\n                return tokenComment(stream, state);\n            }\n        }\n        if (ch == \"$\") {\n            stream.skipToEnd();\n            return \"comment\";\n        }\n        if (isOperatorChar.test(ch)) {\n            stream.eatWhile(isOperatorChar);\n            return \"operator\";\n        }\n        if (punc.indexOf(ch) > -1) {\n            return \"punctuation\";\n        }\n        stream.eatWhile(/[\\w\\$_\\xa1-\\uffff]/);\n        var cur = stream.current();\n        \n        if (keywords.propertyIsEnumerable(cur)) {\n            return \"keyword\";\n        }\n        return \"variable\";\n    }\n\n    function tokenComment(stream, state) {\n        var maybeEnd = false, ch;\n        while (ch = stream.next()) {\n            if (ch == \"/\" && maybeEnd) {\n                state.tokenize.pop();\n                break;\n            }\n            maybeEnd = (ch == \"*\");\n        }\n        return \"comment\";\n    }\n\n    function tokenUntilClosingParen() {\n        var depth = 0;\n        return function (stream, state, prev) {\n            var inner = tokenBase(stream, state, prev);\n            console.log(\"untilClosing\", inner, stream.current());\n            if (inner == \"punctuation\") {\n                if (stream.current() == \"(\") {\n                    ++depth;\n                } else if (stream.current() == \")\") {\n                    if (depth == 0) {\n                        stream.backUp(1)\n                        state.tokenize.pop()\n                        return state.tokenize[state.tokenize.length - 1](stream, state)\n                    } else {\n                        --depth;\n                    }\n                }\n            }\n            return inner;\n        }\n    }\n\n    function tokenString(stream, state) {\n        var escaped = false, next, end = false;\n        while ((next = stream.next()) != null) {\n            if (next == '(' && escaped) {\n                state.tokenize.push(tokenUntilClosingParen());\n                return \"string\";\n            }\n            if (next == '\"' && !escaped) { end = true; break; }\n            escaped = !escaped && next == \"\\\\\";\n        }\n        if (end || !escaped)\n            state.tokenize.pop();\n        return \"string\";\n    }\n\n    return {\n        startState: function (basecolumn) {\n            return {\n                tokenize: []\n            };\n        },\n\n        token: function (stream, state) {\n            if (stream.eatSpace()) return null;\n            var style = (state.tokenize[state.tokenize.length - 1] || tokenBase)(stream, state);\n            console.log(\"token\", style);\n            return style;\n        },\n\n        blockCommentStart: \"/*\",\n        blockCommentEnd: \"*/\",\n        lineComment: \"$\"\n    };\n});\n\n\nCodeMirror.defineMIME(\"text/conjure\", \"text/conjure\");\n\nrequire(['notebook/js/codecell'], function (codecell) {\n    codecell.CodeCell.options_default.highlight_modes['magic_text/conjure'] = { 'reg': [/%?%conjure/] };\n    Jupyter.notebook.events.one('kernel_ready.Kernel', function () {\n        Jupyter.notebook.get_cells().map(function (cell) {\n            if (cell.cell_type == 'code') { cell.auto_highlight(); }\n        });\n    });\n});\n\n",
            "text/plain": [
              "<IPython.core.display.Javascript object>"
            ]
          },
          "metadata": {},
          "output_type": "display_data"
        },
        {
          "name": "stdout",
          "output_type": "stream",
          "text": [
            "Conjure extension is loaded.\n",
            "For usage help run: %conjure_help\n"
          ]
        }
      ],
      "source": [
        "!source <(curl -s https://raw.githubusercontent.com/conjure-cp/conjure-notebook/v0.0.9/scripts/install-colab.sh)\n",
        "%load_ext conjure"
      ]
    },
    {
      "cell_type": "code",
      "execution_count": 2,
      "metadata": {
        "colab": {
          "base_uri": "https://localhost:8080/",
          "height": 34
        },
        "id": "KwusJPeEwu1s",
        "outputId": "62babe5f-1aba-472d-f5cf-2f8075c14551"
      },
      "outputs": [
        {
          "data": {
            "text/markdown": [
              "```json\n",
              "{}\n",
              "```"
            ],
            "text/plain": [
              "<IPython.core.display.Markdown object>"
            ]
          },
          "metadata": {},
          "output_type": "display_data"
        }
      ],
      "source": [
        "%%conjure\n",
        "letting n be 5"
      ]
    },
    {
      "cell_type": "markdown",
      "metadata": {
        "id": "Ita9c8GMvqB-"
      },
      "source": [
        "## Enumeration/Generation Model"
      ]
    },
    {
      "cell_type": "markdown",
      "metadata": {
        "id": "uekUqin9xitZ"
      },
      "source": [
        "We define the size of the permutation to be `n` and we are trying to find all the permutations `perm` to contain the integers 1 to `n`, by specifying that it is `bijective`."
      ]
    },
    {
      "cell_type": "code",
      "execution_count": 3,
      "metadata": {
        "colab": {
          "base_uri": "https://localhost:8080/",
          "height": 34
        },
        "id": "fS_FucWHxcQL",
        "outputId": "1210ccca-02ae-4b88-9972-c6fdd37772ad"
      },
      "outputs": [
        {
          "data": {
            "text/markdown": [
              "```json\n",
              "{\"perm\": [1, 2, 3, 4, 5]}\n",
              "```"
            ],
            "text/plain": [
              "<IPython.core.display.Markdown object>"
            ]
          },
          "metadata": {},
          "output_type": "display_data"
        }
      ],
      "source": [
        "%%conjure+ --solver=minion\n",
        "find perm : sequence (bijective, size n) of int(1..n)"
      ]
    },
    {
      "cell_type": "markdown",
      "metadata": {
        "id": "X4xBuOqPyGfP"
      },
      "source": [
        "The idea of our approach is the property of an interval, where when sorted it creates a complete range. This can be translated to checking that the difference between the maximal and the minimal elements of the interval is not equal to the cardinality of the interval.\n",
        "\n",
        "\n",
        "We have one constraint to say that there are only intervals of length 0,1 and `n`. This constraint is defined as a matrix comprehension, which will build a matrix consisting of only boolean entries. We then check the matrix with an `and` constraint, to spot if there are any `false` entries, which would mean that we have an interval."
      ]
    },
    {
      "cell_type": "code",
      "execution_count": 4,
      "metadata": {
        "colab": {
          "base_uri": "https://localhost:8080/",
          "height": 34
        },
        "id": "R68A-dhzysUM",
        "outputId": "c3fb8b08-cb21-417d-bdb2-af98c43f010c"
      },
      "outputs": [
        {
          "data": {
            "text/markdown": [
              "```json\n",
              "{\"perm\": [1, 2, 3, 4, 5]}\n",
              "```"
            ],
            "text/plain": [
              "<IPython.core.display.Markdown object>"
            ]
          },
          "metadata": {},
          "output_type": "display_data"
        }
      ],
      "source": [
        "%%conjure+ --solver=minion\n",
        "letting example be [ num | num : int(1..5), num != 3 ]"
      ]
    },
    {
      "cell_type": "markdown",
      "metadata": {
        "id": "LKPdMqnQ7PCY"
      },
      "source": [
        "This is an example which creates a 1-dimensional matrix of `num`s where none of the entries are `3`. We allow also for `letting` statements inside the matrix comprehensions, which allow us to define intermediary statements."
      ]
    },
    {
      "cell_type": "code",
      "execution_count": 5,
      "metadata": {
        "colab": {
          "base_uri": "https://localhost:8080/",
          "height": 34
        },
        "id": "zu4FYxB7yUoW",
        "outputId": "4a68c93a-d684-4c8a-efa6-1595520fe193"
      },
      "outputs": [
        {
          "data": {
            "text/markdown": [
              "```json\n",
              "{\"perm\": [2, 4, 1, 5, 3]}\n",
              "```"
            ],
            "text/plain": [
              "<IPython.core.display.Markdown object>"
            ]
          },
          "metadata": {},
          "output_type": "display_data"
        }
      ],
      "source": [
        "%%conjure+ --solver=minion\n",
        "such that\n",
        "    and([ max(subs) - min(subs) + 1 != |subs| |\n",
        "        i : int(1..n-1), j : int(2..n),\n",
        "        i < j,\n",
        "        !(i = 1 /\\ j = n),\n",
        "        letting subs be [perm(k) | k : int(i..j)]]\n",
        "    )"
      ]
    },
    {
      "cell_type": "markdown",
      "metadata": {
        "id": "Cf1BEeDg1glo"
      },
      "source": [
        "We extract `i` and `j` to be the beginning and the end of the interval, and we need to make sure that `i` is less than `j` to have the right order. As we do not want to include the whole permutation as an interval, we restrict that `i` and `j` cannot be simultaneously at the respective ends of the permutation. The final line of the comprehension sets up the continuous subsequences. On the left hand side of the matrix comprehension we use the interval property that when it is turned into a sorted set it is a complete range."
      ]
    },
    {
      "cell_type": "markdown",
      "metadata": {
        "id": "tvH81f_y2I_X"
      },
      "source": [
        "## Solving"
      ]
    },
    {
      "cell_type": "markdown",
      "metadata": {
        "id": "EL2YTOB52OPk"
      },
      "source": [
        "Using **n = 5**, the sample solution is `'perm': [2, 4, 1, 5, 3]`."
      ]
    },
    {
      "cell_type": "markdown",
      "metadata": {
        "id": "S-m9cSca2kpn"
      },
      "source": [
        "To find all solutions, type:"
      ]
    },
    {
      "cell_type": "code",
      "execution_count": 6,
      "metadata": {
        "colab": {
          "base_uri": "https://localhost:8080/",
          "height": 54
        },
        "id": "eWYFmqAD2qBk",
        "outputId": "2bf96bb2-62d2-4153-900d-9e6f98ad4189"
      },
      "outputs": [
        {
          "data": {
            "text/markdown": [
              "```json\n",
              "{\"conjure_solutions\": [{\"perm\": [2, 4, 1, 5, 3]}, {\"perm\": [2, 5, 3, 1, 4]}, {\"perm\": [3, 1, 5, 2, 4]}, {\"perm\": [3, 5, 1, 4, 2]}, {\"perm\": [4, 1, 3, 5, 2]}, {\"perm\": [4, 2, 5, 1, 3]}]}\n",
              "```"
            ],
            "text/plain": [
              "<IPython.core.display.Markdown object>"
            ]
          },
          "metadata": {},
          "output_type": "display_data"
        }
      ],
      "source": [
        "%%conjure+ --solver=minion --number-of-solutions=all"
      ]
    },
    {
      "cell_type": "markdown",
      "metadata": {
        "id": "LQwpDusy21y5"
      },
      "source": [
        "For `n be 5` you should get 6 solutions."
      ]
    },
    {
      "cell_type": "markdown",
      "metadata": {
        "id": "i1bwy9HI29f6"
      },
      "source": [
        "## Checking Model with Instances"
      ]
    },
    {
      "cell_type": "markdown",
      "metadata": {
        "id": "GN0CK3Ch3dRW"
      },
      "source": [
        "What the model will tell us is that the permutation is simple (true) or not."
      ]
    },
    {
      "cell_type": "code",
      "execution_count": 7,
      "metadata": {
        "colab": {
          "base_uri": "https://localhost:8080/",
          "height": 34
        },
        "id": "m--asAoP34hS",
        "outputId": "c50aa75e-ede6-4da6-f59c-6f0319dac41d"
      },
      "outputs": [
        {
          "data": {
            "text/markdown": [
              "```json\n",
              "{}\n",
              "```"
            ],
            "text/plain": [
              "<IPython.core.display.Markdown object>"
            ]
          },
          "metadata": {},
          "output_type": "display_data"
        }
      ],
      "source": [
        "%%conjure\n",
        "letting n be 5\n",
        "letting perm be sequence( 1, 4, 2, 5, 3)"
      ]
    },
    {
      "cell_type": "code",
      "execution_count": 8,
      "metadata": {
        "colab": {
          "base_uri": "https://localhost:8080/",
          "height": 34
        },
        "id": "sA6J8xfk3HE3",
        "outputId": "62a1564e-dfcd-4cf5-dcf2-d2e549cda2dd"
      },
      "outputs": [
        {
          "data": {
            "text/markdown": [
              "```json\n",
              "{\"result\": false}\n",
              "```"
            ],
            "text/plain": [
              "<IPython.core.display.Markdown object>"
            ]
          },
          "metadata": {},
          "output_type": "display_data"
        }
      ],
      "source": [
        "%%conjure+\n",
        "find result : bool\n",
        "such that\n",
        "    result = and([ max(subs) - min(subs) + 1 != |subs| |\n",
        "        i : int(1..n-1), j : int(2..n),\n",
        "        i < j,\n",
        "        !(i = 1 /\\ j = n),\n",
        "        letting subs be [perm(k) | k : int(i..j)]]\n",
        "    )"
      ]
    },
    {
      "cell_type": "markdown",
      "metadata": {
        "id": "sFsXCCIl4Lbt"
      },
      "source": [
        "This is a non-simple permutation."
      ]
    },
    {
      "cell_type": "code",
      "execution_count": 9,
      "metadata": {
        "colab": {
          "base_uri": "https://localhost:8080/",
          "height": 34
        },
        "id": "m392EGci4QrA",
        "outputId": "54ed49ec-04c3-4fb0-a07c-4544276c30a1"
      },
      "outputs": [
        {
          "data": {
            "text/markdown": [
              "```json\n",
              "{}\n",
              "```"
            ],
            "text/plain": [
              "<IPython.core.display.Markdown object>"
            ]
          },
          "metadata": {},
          "output_type": "display_data"
        }
      ],
      "source": [
        "%%conjure\n",
        "letting n be 5\n",
        "letting perm be sequence(2, 4, 1, 5, 3)"
      ]
    },
    {
      "cell_type": "code",
      "execution_count": 10,
      "metadata": {
        "colab": {
          "base_uri": "https://localhost:8080/",
          "height": 34
        },
        "id": "iIJvB6FM4Zkj",
        "outputId": "3cbba39a-92e8-4050-d057-5d60b5640cef"
      },
      "outputs": [
        {
          "data": {
            "text/markdown": [
              "```json\n",
              "{\"result\": true}\n",
              "```"
            ],
            "text/plain": [
              "<IPython.core.display.Markdown object>"
            ]
          },
          "metadata": {},
          "output_type": "display_data"
        }
      ],
      "source": [
        "%%conjure+\n",
        "find result : bool\n",
        "such that\n",
        "    result = and([ max(subs) - min(subs) + 1 != |subs| |\n",
        "        i : int(1..n-1), j : int(2..n),\n",
        "        i < j,\n",
        "        !(i = 1 /\\ j = n),\n",
        "        letting subs be [perm(k) | k : int(i..j)]]\n",
        "    )"
      ]
    },
    {
      "cell_type": "markdown",
      "metadata": {
        "id": "woAjLCyW4iUP"
      },
      "source": [
        "You need to ensure that the magic %conjure+ is used on cells that append to the code written in previous cells. For example the next cell creates a new conjure model, so runs correctly. But the cell below that writes the model on top of the existing model, so produces an error as you try to reassign the value of n."
      ]
    },
    {
      "cell_type": "code",
      "execution_count": 11,
      "metadata": {
        "colab": {
          "base_uri": "https://localhost:8080/",
          "height": 34
        },
        "id": "ggmtQf6q5FKE",
        "outputId": "a9e26240-c048-40a3-e212-ee4c622b2aa1"
      },
      "outputs": [
        {
          "data": {
            "text/markdown": [
              "```json\n",
              "{\"result\": false}\n",
              "```"
            ],
            "text/plain": [
              "<IPython.core.display.Markdown object>"
            ]
          },
          "metadata": {},
          "output_type": "display_data"
        }
      ],
      "source": [
        "%%conjure\n",
        "letting n be 5\n",
        "letting perm be sequence( 1, 4, 2, 5, 3)\n",
        "find result : bool\n",
        "such that\n",
        "    result = and([ max(subs) - min(subs) + 1 != |subs| |\n",
        "        i : int(1..n-1), j : int(2..n),\n",
        "        i < j,\n",
        "        !(i = 1 /\\ j = n),\n",
        "        letting subs be [perm(k) | k : int(i..j)]]\n",
        "    )"
      ]
    },
    {
      "cell_type": "code",
      "execution_count": 12,
      "metadata": {
        "colab": {
          "base_uri": "https://localhost:8080/"
        },
        "id": "mrNkNWa0Jbv7",
        "outputId": "982785f4-2968-4fa1-a32d-dabc3584b199"
      },
      "outputs": [
        {
          "name": "stderr",
          "output_type": "stream",
          "text": [
            "Exception: Error:\n",
            "    Redefinition of name: n\n",
            "    When trying to define it as an alias for 10\n",
            "    It was already defined as an alias for 5\n",
            "\n"
          ]
        }
      ],
      "source": [
        "%%conjure+\n",
        "letting n be 10"
      ]
    }
  ],
  "metadata": {
    "colab": {
      "provenance": []
    },
    "kernelspec": {
      "display_name": "Python 3",
      "name": "python3"
    },
    "language_info": {
      "name": "python"
    }
  },
  "nbformat": 4,
  "nbformat_minor": 0
}
