{
  "nbformat": 4,
  "nbformat_minor": 0,
  "metadata": {
    "colab": {
      "provenance": [],
      "authorship_tag": "ABX9TyOumeCdHmVdbVoT20D823nd",
      "include_colab_link": true
    },
    "kernelspec": {
      "name": "python3",
      "display_name": "Python 3"
    },
    "language_info": {
      "name": "python"
    }
  },
  "cells": [
    {
      "cell_type": "markdown",
      "metadata": {
        "id": "view-in-github",
        "colab_type": "text"
      },
      "source": [
        "<a href=\"https://colab.research.google.com/github/sasha704/conjure/blob/BIBD/docs/tutorials/notebooks/BIBD.ipynb\" target=\"_parent\"><img src=\"https://colab.research.google.com/assets/colab-badge.svg\" alt=\"Open In Colab\"/></a>"
      ]
    },
    {
      "cell_type": "markdown",
      "source": [
        "# BIBD\n",
        "Original [BIBD](https://conjure.readthedocs.io/en/latest/tutorials.html#bibd) by authors Chris Jefferson and Alice Lynch. Adapted by Alex Gallagher."
      ],
      "metadata": {
        "id": "w5WaD9ayI0x4"
      }
    },
    {
      "cell_type": "markdown",
      "source": [
        "This tutorial discusses a classic constraint problem and introduces the use of quantifiers in Essence."
      ],
      "metadata": {
        "id": "h3T-cY-EJAUj"
      }
    },
    {
      "cell_type": "code",
      "source": [
        "!source <(curl -s https://raw.githubusercontent.com/conjure-cp/conjure-notebook/v0.0.2/scripts/install-colab.sh)\n",
        "%load_ext conjure"
      ],
      "metadata": {
        "colab": {
          "base_uri": "https://localhost:8080/",
          "height": 121
        },
        "id": "mbhQ1aHNJsYf",
        "outputId": "0d40ed49-ca26-4b1d-ad04-e1c26532a930"
      },
      "execution_count": 1,
      "outputs": [
        {
          "output_type": "stream",
          "name": "stdout",
          "text": [
            "Installing Conjure...\n",
            "Conjure: The Automated Constraint Modelling Tool\n",
            "Release version 2.4.0\n",
            "Repository version a7382e3d9 (2022-11-21 10:41:03 +0000)\n"
          ]
        },
        {
          "output_type": "display_data",
          "data": {
            "text/plain": [
              "<IPython.core.display.Javascript object>"
            ],
            "application/javascript": [
              "\"use strict\";\n",
              "\n",
              "CodeMirror.defineMode(\"text/conjure\", function (config) {\n",
              "\n",
              "    var isOperatorChar = /[+\\-*=<>%^\\/]/;\n",
              "\n",
              "    var keywords = {\n",
              "        \"forall\": true,\n",
              "        \"allDifferent\": true,\n",
              "        \"allDiff\": true,\n",
              "        \"alldifferent_except\": true,\n",
              "        \"dim\": true,\n",
              "        \"toSet\": true,\n",
              "        \"toMSet\": true,\n",
              "        \"toRelation\": true,\n",
              "        \"maximising\": true,\n",
              "        \"minimising\": true,\n",
              "        \"forAll\": true,\n",
              "        \"exists\": true,\n",
              "        \"toInt\": true,\n",
              "        \"sum\": true,\n",
              "        \"be\": true,\n",
              "        \"bijective\": true,\n",
              "        \"bool\": true,\n",
              "        \"by\": true,\n",
              "        \"complete\": true,\n",
              "        \"defined\": true,\n",
              "        \"domain\": true,\n",
              "        \"in\": true,\n",
              "        \"or\": true,\n",
              "        \"and\": true,\n",
              "        \"false\": true,\n",
              "        \"find\": true,\n",
              "        \"from\": true,\n",
              "        \"function\": true,\n",
              "        \"given\": true,\n",
              "        \"image\": true,\n",
              "        \"indexed\": true,\n",
              "        \"injective\": true,\n",
              "        \"int\": true,\n",
              "        \"intersect\": true,\n",
              "        \"freq\": true,\n",
              "        \"lambda\": true,\n",
              "        \"language\": true,\n",
              "        \"letting\": true,\n",
              "        \"matrix\": true,\n",
              "        \"maxNumParts\": true,\n",
              "        \"maxOccur\": true,\n",
              "        \"maxPartSize\": true,\n",
              "        \"maxSize\": true,\n",
              "        \"minNumParts\": true,\n",
              "        \"minOccur\": true,\n",
              "        \"minPartSize\": true,\n",
              "        \"minSize\": true,\n",
              "        \"mset\": true,\n",
              "        \"numParts\": true,\n",
              "        \"of\": true,\n",
              "        \"partial\": true,\n",
              "        \"partition\": true,\n",
              "        \"partSize\": true,\n",
              "        \"preImage\": true,\n",
              "        \"quantifier\": true,\n",
              "        \"range\": true,\n",
              "        \"regular\": true,\n",
              "        \"relation\": true,\n",
              "        \"representation\": true,\n",
              "        \"set\": true,\n",
              "        \"size\": true,\n",
              "        \"subset\": true,\n",
              "        \"subsetEq\": true,\n",
              "        \"such\": true,\n",
              "        \"supset\": true,\n",
              "        \"supsetEq\": true,\n",
              "        \"surjective\": true,\n",
              "        \"that\": true,\n",
              "        \"together\": true,\n",
              "        \"enum\": true,\n",
              "        \"total\": true,\n",
              "        \"true\": true,\n",
              "        \"new\": true,\n",
              "        \"type\": true,\n",
              "        \"tuple\": true,\n",
              "        \"union\": true,\n",
              "        \"where\": true,\n",
              "        \"branching\": true,\n",
              "        \"on\": true\n",
              "    };  \n",
              "    var punc = \":;,.(){}[]\";\n",
              "\n",
              "    function tokenBase(stream, state) {\n",
              "        var ch = stream.next();\n",
              "        if (ch == '\"') {\n",
              "            state.tokenize.push(tokenString);\n",
              "            return tokenString(stream, state);\n",
              "        }\n",
              "        if (/[\\d\\.]/.test(ch)) {\n",
              "            if (ch == \".\") {\n",
              "                stream.match(/^[0-9]+([eE][\\-+]?[0-9]+)?/);\n",
              "            } else if (ch == \"0\") {\n",
              "                stream.match(/^[xX][0-9a-fA-F]+/) || stream.match(/^0[0-7]+/);\n",
              "            } else {\n",
              "                stream.match(/^[0-9]*\\.?[0-9]*([eE][\\-+]?[0-9]+)?/);\n",
              "            }\n",
              "            return \"number\";\n",
              "        }\n",
              "        if (ch == \"/\") {\n",
              "            if (stream.eat(\"*\")) {\n",
              "                state.tokenize.push(tokenComment);\n",
              "                return tokenComment(stream, state);\n",
              "            }\n",
              "        }\n",
              "        if (ch == \"$\") {\n",
              "            stream.skipToEnd();\n",
              "            return \"comment\";\n",
              "        }\n",
              "        if (isOperatorChar.test(ch)) {\n",
              "            stream.eatWhile(isOperatorChar);\n",
              "            return \"operator\";\n",
              "        }\n",
              "        if (punc.indexOf(ch) > -1) {\n",
              "            return \"punctuation\";\n",
              "        }\n",
              "        stream.eatWhile(/[\\w\\$_\\xa1-\\uffff]/);\n",
              "        var cur = stream.current();\n",
              "        \n",
              "        if (keywords.propertyIsEnumerable(cur)) {\n",
              "            return \"keyword\";\n",
              "        }\n",
              "        return \"variable\";\n",
              "    }\n",
              "\n",
              "    function tokenComment(stream, state) {\n",
              "        var maybeEnd = false, ch;\n",
              "        while (ch = stream.next()) {\n",
              "            if (ch == \"/\" && maybeEnd) {\n",
              "                state.tokenize.pop();\n",
              "                break;\n",
              "            }\n",
              "            maybeEnd = (ch == \"*\");\n",
              "        }\n",
              "        return \"comment\";\n",
              "    }\n",
              "\n",
              "    function tokenUntilClosingParen() {\n",
              "        var depth = 0;\n",
              "        return function (stream, state, prev) {\n",
              "            var inner = tokenBase(stream, state, prev);\n",
              "            console.log(\"untilClosing\", inner, stream.current());\n",
              "            if (inner == \"punctuation\") {\n",
              "                if (stream.current() == \"(\") {\n",
              "                    ++depth;\n",
              "                } else if (stream.current() == \")\") {\n",
              "                    if (depth == 0) {\n",
              "                        stream.backUp(1)\n",
              "                        state.tokenize.pop()\n",
              "                        return state.tokenize[state.tokenize.length - 1](stream, state)\n",
              "                    } else {\n",
              "                        --depth;\n",
              "                    }\n",
              "                }\n",
              "            }\n",
              "            return inner;\n",
              "        }\n",
              "    }\n",
              "\n",
              "    function tokenString(stream, state) {\n",
              "        var escaped = false, next, end = false;\n",
              "        while ((next = stream.next()) != null) {\n",
              "            if (next == '(' && escaped) {\n",
              "                state.tokenize.push(tokenUntilClosingParen());\n",
              "                return \"string\";\n",
              "            }\n",
              "            if (next == '\"' && !escaped) { end = true; break; }\n",
              "            escaped = !escaped && next == \"\\\\\";\n",
              "        }\n",
              "        if (end || !escaped)\n",
              "            state.tokenize.pop();\n",
              "        return \"string\";\n",
              "    }\n",
              "\n",
              "    return {\n",
              "        startState: function (basecolumn) {\n",
              "            return {\n",
              "                tokenize: []\n",
              "            };\n",
              "        },\n",
              "\n",
              "        token: function (stream, state) {\n",
              "            if (stream.eatSpace()) return null;\n",
              "            var style = (state.tokenize[state.tokenize.length - 1] || tokenBase)(stream, state);\n",
              "            console.log(\"token\", style);\n",
              "            return style;\n",
              "        },\n",
              "\n",
              "        blockCommentStart: \"/*\",\n",
              "        blockCommentEnd: \"*/\",\n",
              "        lineComment: \"$\"\n",
              "    };\n",
              "});\n",
              "\n",
              "\n",
              "CodeMirror.defineMIME(\"text/conjure\", \"text/conjure\");\n",
              "\n",
              "require(['notebook/js/codecell'], function (codecell) {\n",
              "    codecell.CodeCell.options_default.highlight_modes['magic_text/conjure'] = { 'reg': [/%?%conjure/] };\n",
              "    Jupyter.notebook.events.one('kernel_ready.Kernel', function () {\n",
              "        Jupyter.notebook.get_cells().map(function (cell) {\n",
              "            if (cell.cell_type == 'code') { cell.auto_highlight(); }\n",
              "        });\n",
              "    });\n",
              "});\n",
              "\n"
            ]
          },
          "metadata": {}
        },
        {
          "output_type": "stream",
          "name": "stdout",
          "text": [
            "Conjure extension is loaded.\n",
            "For usage help run: %conjure_help\n"
          ]
        }
      ]
    },
    {
      "cell_type": "markdown",
      "source": [
        "## The Problem"
      ],
      "metadata": {
        "id": "_EJEBH45JDbz"
      }
    },
    {
      "cell_type": "markdown",
      "source": [
        "Balanced Incomplete Block Design (BIBD) is a problem from the field of experimental design. It is best explained with an example."
      ],
      "metadata": {
        "id": "IPGZRYG2JYPO"
      }
    },
    {
      "cell_type": "markdown",
      "source": [
        "Emily wants to establish which crops (🥔,🌽,🥦,🥕,🥒, 🍅) grow best in Scotland. She has recruited 4 farmers who are happy to help by growing some of the crops. Unfortunately none of the farmers have enough space to grow every crop, they can each grow 3 different crops. Emily is concerned that the different environment of each farm may impact the crops growth. Therefore she wants to make sure that each farmer grows a different combination of crops and that every crop has been grown in the same number of different farms. This approach is called Balanced Incomplete Block Design (BIBD)."
      ],
      "metadata": {
        "id": "R3rC6uYAJaLg"
      }
    },
    {
      "cell_type": "markdown",
      "source": [
        "We can build a model to tell us the crops that each farm should grow."
      ],
      "metadata": {
        "id": "o7ZbDpiNJcae"
      }
    },
    {
      "cell_type": "markdown",
      "source": [
        "## The Model"
      ],
      "metadata": {
        "id": "IkoVyWxUJd-7"
      }
    },
    {
      "cell_type": "markdown",
      "source": [
        "We need to specify the crops, the number of farms, the number of crops that can be grown per farm, the number of different farms that will grow each crop and the number of crops each pair of farmers has in common."
      ],
      "metadata": {
        "id": "4skHvCtOJgR4"
      }
    },
    {
      "cell_type": "markdown",
      "source": [
        "Emily has decided that she wants each crop to be grown in 2 different farms, and that each pair of farmers will have 1 crop in common."
      ],
      "metadata": {
        "id": "pkh1DD0fJh6w"
      }
    },
    {
      "cell_type": "markdown",
      "source": [
        "Below we define the intial parameters:"
      ],
      "metadata": {
        "id": "2al5-kz9JjdA"
      }
    },
    {
      "cell_type": "code",
      "execution_count": 2,
      "metadata": {
        "colab": {
          "base_uri": "https://localhost:8080/"
        },
        "id": "_X4PB87CIyz4",
        "outputId": "859470c5-ed64-402f-e644-d94c61b6c757"
      },
      "outputs": [
        {
          "output_type": "execute_result",
          "data": {
            "text/plain": [
              "{}"
            ]
          },
          "metadata": {},
          "execution_count": 2
        }
      ],
      "source": [
        "%%conjure\n",
        "letting crops be new type enum {🥔,🌽,🥦,🥕,🥒, 🍅}\n",
        "letting farms be 4\n",
        "letting crops_per_farm be 3\n",
        "letting farms_per_crop be 2\n",
        "letting overlap be 1"
      ]
    },
    {
      "cell_type": "markdown",
      "source": [
        "The model will be defined in a new cell. It should start by accessing the provided parameters, this uses the given keyword, followed by the names of the parameters and their type."
      ],
      "metadata": {
        "id": "DXAdjZdyJ1BA"
      }
    },
    {
      "cell_type": "markdown",
      "source": [
        "`given farms, crops_per_farm, farms_per_crop, overlap: int`\n",
        "\n",
        "`given crops new type enum`"
      ],
      "metadata": {
        "id": "tifxXJkAJ7sH"
      }
    },
    {
      "cell_type": "markdown",
      "source": [
        "Next, we need to define what we are looking for. The ‘find’ keyword indicates that the solver should find a value to for that variable. We want to find a set containing sets of crops. Each set of crops is a crop assignment for a farm."
      ],
      "metadata": {
        "id": "F6pOOUzpKEHU"
      }
    },
    {
      "cell_type": "markdown",
      "source": [
        "`given farms, crops_per_farm, farms_per_crop, overlap: int`\n",
        "\n",
        "`given crops new type enum`\n",
        "\n",
        "`find crop_assignment: set of set of crops`"
      ],
      "metadata": {
        "id": "54TpE37nKF5A"
      }
    },
    {
      "cell_type": "code",
      "source": [
        "%%conjure\n",
        "find crop_assignment: set of set of crops"
      ],
      "metadata": {
        "colab": {
          "base_uri": "https://localhost:8080/"
        },
        "id": "kG-nX4l8KzPt",
        "outputId": "1a3419de-5ce5-414a-bdd2-1aac2f76f6c9"
      },
      "execution_count": 3,
      "outputs": [
        {
          "output_type": "execute_result",
          "data": {
            "text/plain": [
              "{'crop_assignment': []}"
            ]
          },
          "metadata": {},
          "execution_count": 3
        }
      ]
    },
    {
      "cell_type": "markdown",
      "source": [
        "With no constraints it produces an empty set for crop assignment."
      ],
      "metadata": {
        "id": "So-pKa8_K61d"
      }
    },
    {
      "cell_type": "markdown",
      "source": [
        "The first, basic, constraints is the number of farms. The number of sets in the crop_assignment set should equal the numbers of farms. `|crop_assignment|` indicates the size of the crop_assignment set. By setting the size equal to the number of farms (after the such that keyword) the solver will only produce solutions where the size of the set is the same as the number of farms. A comma on the end of line indicates that there are more constraints to follow."
      ],
      "metadata": {
        "id": "q3w-ODcTMBbx"
      }
    },
    {
      "cell_type": "code",
      "source": [
        "%%conjure\n",
        "find crop_assignment: set of set of crops\n",
        "\n",
        "such that |crop_assignment| = farms,"
      ],
      "metadata": {
        "colab": {
          "base_uri": "https://localhost:8080/"
        },
        "id": "pC0XyFeNMKH-",
        "outputId": "b77e3ebf-7441-414a-c899-65b0157cb156"
      },
      "execution_count": 4,
      "outputs": [
        {
          "output_type": "execute_result",
          "data": {
            "text/plain": [
              "{'crop_assignment': [[], ['🥒'], ['🥒', '🍅'], ['🍅']]}"
            ]
          },
          "metadata": {},
          "execution_count": 4
        }
      ]
    },
    {
      "cell_type": "markdown",
      "source": [
        "The model now produces four ‘farms’ but the number of crops assigned to each are not suitable."
      ],
      "metadata": {
        "id": "kAvJEQs7MOaL"
      }
    },
    {
      "cell_type": "markdown",
      "source": [
        "Next we want to apply the number of crops per farm constraint to every set in the crop assignment set. The `forAll` keyword will apply the constraint (`|farm| = crops_per_farm`) across every element in the crop_assignment set (represented by `farm`). The `.` separates the constraint from the quantifier setup."
      ],
      "metadata": {
        "id": "AerJszraMQlL"
      }
    },
    {
      "cell_type": "code",
      "source": [
        "%%conjure\n",
        "\n",
        "such that forAll farm in crop_assignment . |farm| = crops_per_farm,"
      ],
      "metadata": {
        "colab": {
          "base_uri": "https://localhost:8080/"
        },
        "id": "vfCF_EMYMYfK",
        "outputId": "9cc86473-6829-4e37-b5bb-1b07bcbc767f"
      },
      "execution_count": 5,
      "outputs": [
        {
          "output_type": "execute_result",
          "data": {
            "text/plain": [
              "{'crop_assignment': [['🥦', '🥕', '🥒'],\n",
              "  ['🥦', '🥕', '🍅'],\n",
              "  ['🥦', '🥒', '🍅'],\n",
              "  ['🥕', '🥒', '🍅']]}"
            ]
          },
          "metadata": {},
          "execution_count": 5
        }
      ]
    },
    {
      "cell_type": "markdown",
      "source": [
        "The model now has the correct number of farms and assigns the correct number of crops per farms, but doesn’t assign all types of crops."
      ],
      "metadata": {
        "id": "IbYBEnrCMez8"
      }
    },
    {
      "cell_type": "markdown",
      "source": [
        "The next constraint is number of farms with a given crop. This is more complex than the previous constraints. Let’s go over it step by step. For every crop we need to find the number of farms assigned that crop and set it to equal the parameter Emily chose for farms per crop. In order to find this we first use a `forAll` to apply the constraint to every crop. `forAll crop : crops . [OurCalculation] = farms_per_crop`"
      ],
      "metadata": {
        "id": "AYS9AwajMgbc"
      }
    },
    {
      "cell_type": "markdown",
      "source": [
        "Then we need to count every farm that is planting that crop. For this we should use the `sum` quantifier rather than the `forAl`l (`sum farm in crop_assignment . [Action]`). `sum` will add together all the results of the chosen action. In order to use sum to count the number of farms that contain a crop we need to return 1 if the farm is planting the crop and 0 otherwise. The `in` keyword can be used to check if a crop is present in a farm, the resulting boolean can be converted to 1 or 0 using `toInt`."
      ],
      "metadata": {
        "id": "XBX3e1ypMq2w"
      }
    },
    {
      "cell_type": "code",
      "source": [
        "%%conjure\n",
        "\n",
        "such that forAll crop : crops . (sum farm in crop_assignment . toInt(crop in farm)) = farms_per_crop,"
      ],
      "metadata": {
        "colab": {
          "base_uri": "https://localhost:8080/"
        },
        "id": "WXmz_3MRM6qS",
        "outputId": "47bccb98-6ac7-4c8c-f68a-50b45b085140"
      },
      "execution_count": 6,
      "outputs": [
        {
          "output_type": "execute_result",
          "data": {
            "text/plain": [
              "{'crop_assignment': [['🥔', '🥕', '🍅'],\n",
              "  ['🥔', '🥒', '🍅'],\n",
              "  ['🌽', '🥦', '🥕'],\n",
              "  ['🌽', '🥦', '🥒']]}"
            ]
          },
          "metadata": {},
          "execution_count": 6
        }
      ]
    },
    {
      "cell_type": "markdown",
      "source": [
        "Our model now produces a crop assignment that assigns the correct number of crops to each farmer and the correct number of crops in total but there is lot of overlap between the first and second farmer and between the third and fourth farmer but very little overlap between the two pairs. This is why Emily specified the overlap constraint (sometimes called lambda in BIBD models). In order to make sure that every pair of farmers have at least 1 crop in common we need to define another constraint."
      ],
      "metadata": {
        "id": "xvjwJXjjM_du"
      }
    },
    {
      "cell_type": "markdown",
      "source": [
        "We need to check every pair of farms, we can do this by using two `forAll` keywords (`forAll farm1 in crop_assignment. forAll farm2 in crop_assignment . [OurConstraint]`). We can then use the `intersect` keyword to get all crops that the two farms have in common. The `||` notation can be used to get the size of the intersect which we can then set equal to the overlap parameter (`|farm1 intersect farm2| = overlap`)."
      ],
      "metadata": {
        "id": "yuXIi5gWNBxD"
      }
    },
    {
      "cell_type": "markdown",
      "source": [
        "However, running the model at this point produces no solutions, as iterating over the crop_assignment in this way means that sometimes farm1 and farm2 will be the same farm, so the intersection will be the number of crops assigned to the farm (3) and never be 1 (the overlap parameter), resulting in no valid solutions."
      ],
      "metadata": {
        "id": "YcZmi9RtNPhx"
      }
    },
    {
      "cell_type": "markdown",
      "source": [
        "In order to avoid this we need to add an further condition to the constraint which checks they are not the same farm before applying the constraint. `->` is used, where the left hand side has a condition and the right hand side has a constraint which is only used if the left hand side is true. `farm1 != farm2 -> |farm1 intersect farm2| = overlap`"
      ],
      "metadata": {
        "id": "sdQY8XVINREW"
      }
    },
    {
      "cell_type": "code",
      "source": [
        "%%conjure\n",
        "\n",
        "such that forAll farm1 in crop_assignment. forAll farm2 in crop_assignment . farm1 != farm2 -> |farm1 intersect farm2| = overlap"
      ],
      "metadata": {
        "colab": {
          "base_uri": "https://localhost:8080/"
        },
        "id": "pLhCp7ybNXXw",
        "outputId": "d4a2878c-9840-44e1-c10d-dd763dc241c6"
      },
      "execution_count": 7,
      "outputs": [
        {
          "output_type": "execute_result",
          "data": {
            "text/plain": [
              "{'crop_assignment': [['🥔', '🥦', '🍅'],\n",
              "  ['🥔', '🥕', '🥒'],\n",
              "  ['🌽', '🥦', '🥒'],\n",
              "  ['🌽', '🥕', '🍅']]}"
            ]
          },
          "metadata": {},
          "execution_count": 7
        }
      ]
    },
    {
      "cell_type": "markdown",
      "source": [
        "This model produces a valid solution!"
      ],
      "metadata": {
        "id": "CgJZX1gfNdbx"
      }
    },
    {
      "cell_type": "markdown",
      "source": [
        "## Improvements"
      ],
      "metadata": {
        "id": "IJaJ-5B2NfIo"
      }
    },
    {
      "cell_type": "markdown",
      "source": [
        "Our model now works and produces a correct solution but the code could be improved in places."
      ],
      "metadata": {
        "id": "DZVJ8oIzNheR"
      }
    },
    {
      "cell_type": "markdown",
      "source": [
        "First, we remove the last model."
      ],
      "metadata": {
        "id": "WKzpAH2t0Pvg"
      }
    },
    {
      "cell_type": "code",
      "source": [
        "%conjure_rollback"
      ],
      "metadata": {
        "colab": {
          "base_uri": "https://localhost:8080/"
        },
        "id": "_VcoVlLR0T9f",
        "outputId": "58f5f72b-b962-47b6-d87d-473398a67e66"
      },
      "execution_count": 8,
      "outputs": [
        {
          "output_type": "stream",
          "name": "stdout",
          "text": [
            "Last added model is removed\n"
          ]
        }
      ]
    },
    {
      "cell_type": "markdown",
      "source": [
        "There is a nicer way to do the final constraint, instead of using a second `forAll` we can use `{farm1, farm2}` and `subsetEq` to generate all pairs that can be made up from a given set."
      ],
      "metadata": {
        "id": "srygkO7LNkEI"
      }
    },
    {
      "cell_type": "code",
      "source": [
        "%%conjure\n",
        "\n",
        "such that forAll {farm1, farm2} subsetEq crop_assignment . |farm1 intersect farm2| = overlap"
      ],
      "metadata": {
        "colab": {
          "base_uri": "https://localhost:8080/"
        },
        "id": "roYiXvK5NpoH",
        "outputId": "398d6532-d9dd-4c8b-e117-1ef7605b97be"
      },
      "execution_count": 9,
      "outputs": [
        {
          "output_type": "execute_result",
          "data": {
            "text/plain": [
              "{'crop_assignment': [['🥔', '🥦', '🍅'],\n",
              "  ['🥔', '🥕', '🥒'],\n",
              "  ['🌽', '🥦', '🥒'],\n",
              "  ['🌽', '🥕', '🍅']]}"
            ]
          },
          "metadata": {},
          "execution_count": 9
        }
      ]
    },
    {
      "cell_type": "markdown",
      "source": [
        "Next, we clear the model."
      ],
      "metadata": {
        "id": "oLtJwm1Q0lPv"
      }
    },
    {
      "cell_type": "code",
      "source": [
        "%conjure_clear"
      ],
      "metadata": {
        "colab": {
          "base_uri": "https://localhost:8080/"
        },
        "id": "16M5KTOt02GL",
        "outputId": "2b58a44c-83a5-49af-d800-a12e3ff46d55"
      },
      "execution_count": 10,
      "outputs": [
        {
          "output_type": "stream",
          "name": "stdout",
          "text": [
            "Conjure model cleared\n"
          ]
        }
      ]
    },
    {
      "cell_type": "markdown",
      "source": [
        "Providing information in the find statements rather than as constraints often leads to better perform. Essence provides attributes which can be attached to find statements . One of them is size k, which tells Essence that a set is of size k. In our model the number of farms and the number of crops per farm are in effect the size of the crop_assignment set and the size of the sets within the crop_assignment set. Therefore we can move these definitions out of the list of constraints and into the find statement."
      ],
      "metadata": {
        "id": "R9h3z9wFNvHf"
      }
    },
    {
      "cell_type": "code",
      "source": [
        "%%conjure\n",
        "letting crops be new type enum {🥔,🌽,🥦,🥕,🥒, 🍅}\n",
        "letting farms be 4\n",
        "letting crops_per_farm be 3\n",
        "letting farms_per_crop be 2\n",
        "letting overlap be 1"
      ],
      "metadata": {
        "id": "WySmDV4c06uq",
        "outputId": "8f1ab8ad-fe17-4956-8b7a-336fee136e4a",
        "colab": {
          "base_uri": "https://localhost:8080/"
        }
      },
      "execution_count": 11,
      "outputs": [
        {
          "output_type": "execute_result",
          "data": {
            "text/plain": [
              "{}"
            ]
          },
          "metadata": {},
          "execution_count": 11
        }
      ]
    },
    {
      "cell_type": "code",
      "source": [
        "%%conjure\n",
        "find crop_assignment: set (size farms) of set (size crops_per_farm) of crops\n",
        "\n",
        "such that\n",
        "forAll crop : crops . (sum farm in crop_assignment . toInt(crop in farm)) = farms_per_crop,\n",
        "forAll {farm1, farm2} subsetEq crop_assignment . |farm1 intersect farm2| = overlap"
      ],
      "metadata": {
        "colab": {
          "base_uri": "https://localhost:8080/"
        },
        "id": "1KPdRVh9N0l8",
        "outputId": "0377e5e7-1171-4721-edf3-eb6c6dfa8bb6"
      },
      "execution_count": 12,
      "outputs": [
        {
          "output_type": "execute_result",
          "data": {
            "text/plain": [
              "{'crop_assignment': [['🥔', '🌽', '🥦'],\n",
              "  ['🥔', '🥕', '🥒'],\n",
              "  ['🌽', '🥕', '🍅'],\n",
              "  ['🥦', '🥒', '🍅']]}"
            ]
          },
          "metadata": {},
          "execution_count": 12
        }
      ]
    }
  ]
}