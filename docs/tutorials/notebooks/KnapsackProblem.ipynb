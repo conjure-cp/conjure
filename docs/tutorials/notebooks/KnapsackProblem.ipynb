{
  "nbformat": 4,
  "nbformat_minor": 0,
  "metadata": {
    "colab": {
      "provenance": [],
      "include_colab_link": true
    },
    "kernelspec": {
      "name": "python3",
      "display_name": "Python 3"
    },
    "language_info": {
      "name": "python"
    }
  },
  "cells": [
    {
      "cell_type": "markdown",
      "metadata": {
        "id": "view-in-github",
        "colab_type": "text"
      },
      "source": [
        "<a href=\"https://colab.research.google.com/github/sasha704/conjure/blob/main/docs/tutorials/notebooks/KnapsackProblem.ipynb\" target=\"_parent\"><img src=\"https://colab.research.google.com/assets/colab-badge.svg\" alt=\"Open In Colab\"/></a>"
      ]
    },
    {
      "cell_type": "markdown",
      "source": [
        "#The Knapsack problem"
      ],
      "metadata": {
        "id": "Q-O7ivbPHtqI"
      }
    },
    {
      "cell_type": "markdown",
      "source": [
        "Original [The Knapsack Problem](https://conjure.readthedocs.io/en/latest/tutorials.html#the-knapsack-problem) by Saad Attieh and Christopher Stone. Adapted by Alex Gallagher."
      ],
      "metadata": {
        "id": "5I6cwwqhH19R"
      }
    },
    {
      "cell_type": "markdown",
      "source": [
        "The Knapsack problem is a classical combinatorial optimisation problem, often used in areas of resource allocation. A basic variant of the Knapsack problem is defined as follows:\n",
        "\n",
        "**Given:**\n",
        "1. A set of items, each with a weight and a value,\n",
        "2. A maximum weight which we call capacity,\n",
        "\n",
        "**find a set of the items such that**\n",
        "1. The sum of the weights of the items in our set is less than or equal to the capacity, and\n",
        "2. The sum of the values of the items is maximised.\n",
        "\n",
        "Informally, think about putting items in a sack such that we maximise the total value of the sack whilst not going over the sack’s weight limit.\n"
      ],
      "metadata": {
        "id": "GZkJHUbaIFon"
      }
    },
    {
      "cell_type": "code",
      "source": [
        "!source <(curl -s https://raw.githubusercontent.com/conjure-cp/conjure-notebook/v0.0.2/scripts/install-colab.sh)\n",
        "%load_ext conjure\n"
      ],
      "metadata": {
        "colab": {
          "base_uri": "https://localhost:8080/"
        },
        "id": "A35VMVlIMe_g",
        "outputId": "a1ef80e3-3c48-4aed-c4ec-739d90c4ca76"
      },
      "execution_count": null,
      "outputs": [
        {
          "output_type": "stream",
          "name": "stdout",
          "text": [
            "  % Total    % Received % Xferd  Average Speed   Time    Time     Time  Current\n",
            "                                 Dload  Upload   Total   Spent    Left  Speed\n",
            "\r  0     0    0     0    0     0      0      0 --:--:-- --:--:-- --:--:--     0\r  0     0    0     0    0     0      0      0 --:--:-- --:--:-- --:--:--     0\r100   711  100   711    0     0   3353      0 --:--:-- --:--:-- --:--:--  3338\n",
            "Installing Conjure...\n",
            "Conjure: The Automated Constraint Modelling Tool\n",
            "Release version 2.3.0\n",
            "Repository version 987ee3fc3 (2022-06-10 21:50:17 +0100)\n",
            "The conjure extension is already loaded. To reload it, use:\n",
            "  %reload_ext conjure\n"
          ]
        }
      ]
    },
    {
      "cell_type": "markdown",
      "source": [
        "##Model Explained"
      ],
      "metadata": {
        "id": "fU4y3zCXMNgX"
      }
    },
    {
      "cell_type": "markdown",
      "source": [
        "We begin by showing the entire problem as defined in Essence:\n",
        "\n",
        "`given items new type enum`\n",
        "\n",
        "\n",
        "`given weight : function (total) items --> int`\n",
        "\n",
        "\n",
        "`given gain : function (total) items --> int`\n",
        "\n",
        "\n",
        "`given capacity : int`\n",
        "\n",
        "\n",
        "`find picked : set of items`\n",
        "\n",
        "\n",
        "`maximising sum i in picked . gain(i)`\n",
        "\n",
        "\n",
        "`such that (sum i in picked . weight(i)) <= capacity`"
      ],
      "metadata": {
        "id": "vsYVModWMMUU"
      }
    },
    {
      "cell_type": "markdown",
      "source": [
        "Going through the problem line by line:\n",
        "\n",
        "We begin by defining the parameters to the problem. Parameters can be defined outside of the problem, allowing different instances of the same problem to be solved without having to change the specification.\n",
        "\n",
        "Each parameter is denoted with the given keyword."
      ],
      "metadata": {
        "id": "S0QHWB3fItZK"
      }
    },
    {
      "cell_type": "markdown",
      "source": [
        "`given items new type enum`"
      ],
      "metadata": {
        "id": "RR32w1Dd5-mU"
      }
    },
    {
      "cell_type": "markdown",
      "source": [
        "This line says that a set of items will be provided as an enum type. Enums are good for labeling items where it makes no sense to attribute a value to each item. So instead of using integers to represent each item, we may just assign names to each item and group the names under an enum type. Below is an example enum declaration, as it would be written in the Conjure Magic cell:"
      ],
      "metadata": {
        "id": "MCnXSWH_IxnM"
      }
    },
    {
      "cell_type": "code",
      "source": [
        "%%conjure\n",
        "letting items be new type enum {a,b,c,d,e}"
      ],
      "metadata": {
        "id": "SrrZ0nFcI402",
        "colab": {
          "base_uri": "https://localhost:8080/"
        },
        "outputId": "cc59d93f-8759-4ade-bc50-5268aa8d7a46"
      },
      "execution_count": null,
      "outputs": [
        {
          "output_type": "execute_result",
          "data": {
            "text/plain": [
              "{'picked': ['b', 'd']}"
            ]
          },
          "metadata": {},
          "execution_count": 13
        }
      ]
    },
    {
      "cell_type": "markdown",
      "source": [
        "`a`, `b`, etc. are just names we have given, they could be anything `bread`, `whiskey`, …"
      ],
      "metadata": {
        "id": "CABjHWtbJGk0"
      }
    },
    {
      "cell_type": "markdown",
      "source": [
        "`given weight : function (total) items --> int`"
      ],
      "metadata": {
        "id": "b7N-ZDa46JGr"
      }
    },
    {
      "cell_type": "markdown",
      "source": [
        "Another parameter, a function that maps from each item to an integer, we will treat these integers as weights. Since we are describing integers that will be given as parameters, no domain (lower/upper bound) is required. Here is an example function parameter:"
      ],
      "metadata": {
        "id": "-uOA3Q_DJSvM"
      }
    },
    {
      "cell_type": "code",
      "source": [
        "%%conjure\n",
        "letting weight be function\n",
        "    ( a --> 15\n",
        "    , b --> 25\n",
        "    , c --> 45\n",
        "    , d --> 50\n",
        "    , e --> 60\n",
        "    )"
      ],
      "metadata": {
        "id": "IKZXLIHlJVF9",
        "colab": {
          "base_uri": "https://localhost:8080/"
        },
        "outputId": "ed11891f-6467-4d64-854a-2b60174c0182"
      },
      "execution_count": null,
      "outputs": [
        {
          "output_type": "execute_result",
          "data": {
            "text/plain": [
              "{'picked': ['b', 'd']}"
            ]
          },
          "metadata": {},
          "execution_count": 14
        }
      ]
    },
    {
      "cell_type": "markdown",
      "source": [
        "`given gain : function (total) items --> int`"
      ],
      "metadata": {
        "id": "XhUtJP1o6P0q"
      }
    },
    {
      "cell_type": "markdown",
      "source": [
        "Just the same as the weight parameter, this parameter is used to denote a mapping from each item to a value. An example value for this parameter as it would be defined in the parameter file is:"
      ],
      "metadata": {
        "id": "6zkqdEX6tOJU"
      }
    },
    {
      "cell_type": "code",
      "source": [
        "%%conjure\n",
        "letting gain be function\n",
        "    ( a --> 10\n",
        "    , b --> 20\n",
        "    , c --> 40\n",
        "    , d --> 40\n",
        "    , e --> 50\n",
        "    )"
      ],
      "metadata": {
        "id": "xgNtA5-4tQxX",
        "colab": {
          "base_uri": "https://localhost:8080/"
        },
        "outputId": "1c67a603-b87a-4b59-b8d7-2909a5d5943a"
      },
      "execution_count": null,
      "outputs": [
        {
          "output_type": "execute_result",
          "data": {
            "text/plain": [
              "{'picked': ['b', 'd']}"
            ]
          },
          "metadata": {},
          "execution_count": 15
        }
      ]
    },
    {
      "cell_type": "markdown",
      "source": [
        "The final given:"
      ],
      "metadata": {
        "id": "X8qMCv8DKio9"
      }
    },
    {
      "cell_type": "markdown",
      "source": [
        "`given capacity : int`"
      ],
      "metadata": {
        "id": "btL2k4bc6Xis"
      }
    },
    {
      "cell_type": "markdown",
      "source": [
        "The final parameter – a weight limit. Example value:"
      ],
      "metadata": {
        "id": "1C84QOfkKn7Y"
      }
    },
    {
      "cell_type": "code",
      "source": [
        "%%conjure\n",
        "letting capacity be 80"
      ],
      "metadata": {
        "id": "F1rd0BM4Kr6s",
        "colab": {
          "base_uri": "https://localhost:8080/"
        },
        "outputId": "89cc9b79-4d88-49d0-d3ba-1e9b0a940d8e"
      },
      "execution_count": null,
      "outputs": [
        {
          "output_type": "execute_result",
          "data": {
            "text/plain": [
              "{'picked': ['b', 'd']}"
            ]
          },
          "metadata": {},
          "execution_count": 16
        }
      ]
    },
    {
      "cell_type": "markdown",
      "source": [
        "`find picked : set of items`"
      ],
      "metadata": {
        "id": "tjnxxkh06m8U"
      }
    },
    {
      "cell_type": "markdown",
      "source": [
        "The `find` keyword denotes decision variables, these are the variables for which the solver will search for a valid assignment. As is common in Essence problems, our entire problem is modelled using one decision variable named `picked`. Its type is `set of items`; a set of any size whose elements are taken from the `items` domain. Note, the maximum cardinality of the set is implicitly the size of the `items` domain."
      ],
      "metadata": {
        "id": "PvO14gKeKyLf"
      }
    },
    {
      "cell_type": "markdown",
      "source": [
        "`maximising sum i in picked . gain(i)`"
      ],
      "metadata": {
        "id": "KwTtli4p6qd6"
      }
    },
    {
      "cell_type": "markdown",
      "source": [
        "The `maximising` keyword denotes the objective for the solver; a value for the solver to *maximise*. `minimise` is also a valid objective keyword. The expression `sum i in picked .` is a quantifier. The sum says that the values we produce should be summed together. The i in picked says we want to list out every element of the set `picked`. The expression given to the `sum` are described by the expression that follows the full-stop (.). In this case, we are asking for the image of `i` in the `gain` function. That is, for each item in the set, we are looking up the integer value that the item maps to in the `gain` function and summing these integers."
      ],
      "metadata": {
        "id": "a_RSfRhQLAq1"
      }
    },
    {
      "cell_type": "markdown",
      "source": [
        "`such that (sum i in picked . weight(i)) <= capacity`"
      ],
      "metadata": {
        "id": "MqbSkMYu6vIt"
      }
    },
    {
      "cell_type": "markdown",
      "source": [
        "The `such that` keyword denotes a constraint. Here the constraint is formulated in a similar manner to the objective. We are quantifying over the set of chosen items `picked`, looking up the value that the item maps to in the `weights` function and summing these values to together. We enforce that the result of the sum must be less than or equal to the capacity `<= capacity`.\n",
        "\n",
        "Note that you can post multiple constraints either by using commas between each constraint `,` or by reusing the keyword `such that`."
      ],
      "metadata": {
        "id": "Z9Ug5YKJLWBt"
      }
    },
    {
      "cell_type": "markdown",
      "source": [
        "## Solving the problem"
      ],
      "metadata": {
        "id": "IQkhfYsfMTzt"
      }
    },
    {
      "cell_type": "markdown",
      "source": [
        "Having run the earlier definition cells, we can now run the model:"
      ],
      "metadata": {
        "id": "zQdE5f_yMhY8"
      }
    },
    {
      "cell_type": "code",
      "source": [
        "%%conjure \n",
        "find picked : set of items\n",
        "maximising sum i in picked . gain(i)\n",
        "such that (sum i in picked . weight(i)) <= capacity"
      ],
      "metadata": {
        "colab": {
          "base_uri": "https://localhost:8080/"
        },
        "id": "PykrdRJYMoO9",
        "outputId": "cb3decd4-2ad6-4cd8-bdc2-2368c44287f1"
      },
      "execution_count": null,
      "outputs": [
        {
          "output_type": "execute_result",
          "data": {
            "text/plain": [
              "{'picked': ['b', 'd']}"
            ]
          },
          "metadata": {},
          "execution_count": 17
        }
      ]
    },
    {
      "cell_type": "markdown",
      "source": [
        "## Visualisations:"
      ],
      "metadata": {
        "id": "Zeb9D96g9C_E"
      }
    },
    {
      "cell_type": "markdown",
      "source": [
        "We can print the result using python code:"
      ],
      "metadata": {
        "id": "QKFbX2ryCXyj"
      }
    },
    {
      "cell_type": "code",
      "source": [
        "print(picked)"
      ],
      "metadata": {
        "colab": {
          "base_uri": "https://localhost:8080/"
        },
        "id": "zZWJyxyh9HXC",
        "outputId": "dcf9fb0b-7511-4bc4-d993-b3fa656a686f"
      },
      "execution_count": null,
      "outputs": [
        {
          "output_type": "stream",
          "name": "stdout",
          "text": [
            "['b', 'd']\n"
          ]
        }
      ]
    },
    {
      "cell_type": "markdown",
      "source": [
        "We can also show `picked` as a graph:"
      ],
      "metadata": {
        "id": "rOwOZWoyCeeE"
      }
    },
    {
      "cell_type": "code",
      "source": [
        "import graphviz\n",
        "\n",
        "p = graphviz.Digraph('parent')\n",
        "p.attr(compound='true')\n",
        "\n",
        "\n",
        "with p.subgraph(name='clusterx', node_attr={'shape': 'pentagon', 'color': 'blue', 'style':'rounded'}) as c:\n",
        "    for item in picked:\n",
        "      c.node(str(item))\n",
        "    c.attr(label='picked')\n",
        "    c.attr(style='rounded')\n",
        "\n",
        "p"
      ],
      "metadata": {
        "colab": {
          "base_uri": "https://localhost:8080/",
          "height": 153
        },
        "id": "tY1u6ZJSDuy8",
        "outputId": "d864fb66-d29a-44ea-968f-e441dab680ee"
      },
      "execution_count": null,
      "outputs": [
        {
          "output_type": "execute_result",
          "data": {
            "text/plain": [
              "<graphviz.dot.Digraph at 0x7fc75c8efe90>"
            ],
            "image/svg+xml": "<?xml version=\"1.0\" encoding=\"UTF-8\" standalone=\"no\"?>\n<!DOCTYPE svg PUBLIC \"-//W3C//DTD SVG 1.1//EN\"\n \"http://www.w3.org/Graphics/SVG/1.1/DTD/svg11.dtd\">\n<!-- Generated by graphviz version 2.40.1 (20161225.0304)\n -->\n<!-- Title: parent Pages: 1 -->\n<svg width=\"166pt\" height=\"99pt\"\n viewBox=\"0.00 0.00 166.00 99.00\" xmlns=\"http://www.w3.org/2000/svg\" xmlns:xlink=\"http://www.w3.org/1999/xlink\">\n<g id=\"graph0\" class=\"graph\" transform=\"scale(1 1) rotate(0) translate(4 95)\">\n<title>parent</title>\n<polygon fill=\"#ffffff\" stroke=\"transparent\" points=\"-4,4 -4,-95 162,-95 162,4 -4,4\"/>\n<g id=\"clust1\" class=\"cluster\">\n<title>clusterx</title>\n<path fill=\"none\" stroke=\"#000000\" d=\"M20,-8C20,-8 138,-8 138,-8 144,-8 150,-14 150,-20 150,-20 150,-71 150,-71 150,-77 144,-83 138,-83 138,-83 20,-83 20,-83 14,-83 8,-77 8,-71 8,-71 8,-20 8,-20 8,-14 14,-8 20,-8\"/>\n<text text-anchor=\"middle\" x=\"79\" y=\"-67.8\" font-family=\"Times,serif\" font-size=\"14.00\" fill=\"#000000\">picked</text>\n</g>\n<!-- b -->\n<g id=\"node1\" class=\"node\">\n<title>b</title>\n<path fill=\"none\" stroke=\"#0000ff\" d=\"M135.1537,-42.7161C135.1537,-42.7161 121.8463,-48.8462 121.8463,-48.8462 118.4231,-50.4231 111.5769,-50.4231 108.1537,-48.8462 108.1537,-48.8462 94.8463,-42.7161 94.8463,-42.7161 91.4231,-41.1392 89.7188,-36.2082 91.4377,-32.8541 91.4377,-32.8541 94.8754,-26.1459 94.8754,-26.1459 96.5942,-22.7918 102.082,-19.4377 105.8508,-19.4377 105.8508,-19.4377 124.1492,-19.4377 124.1492,-19.4377 127.918,-19.4377 133.4058,-22.7918 135.1246,-26.1459 135.1246,-26.1459 138.5623,-32.8541 138.5623,-32.8541 140.2812,-36.2082 138.5769,-41.1392 135.1537,-42.7161\"/>\n<text text-anchor=\"middle\" x=\"115\" y=\"-30.3\" font-family=\"Times,serif\" font-size=\"14.00\" fill=\"#000000\">b</text>\n</g>\n<!-- d -->\n<g id=\"node2\" class=\"node\">\n<title>d</title>\n<path fill=\"none\" stroke=\"#0000ff\" d=\"M63.1537,-42.7161C63.1537,-42.7161 49.8463,-48.8462 49.8463,-48.8462 46.4231,-50.4231 39.5769,-50.4231 36.1537,-48.8462 36.1537,-48.8462 22.8463,-42.7161 22.8463,-42.7161 19.4231,-41.1392 17.7188,-36.2082 19.4377,-32.8541 19.4377,-32.8541 22.8754,-26.1459 22.8754,-26.1459 24.5942,-22.7918 30.082,-19.4377 33.8508,-19.4377 33.8508,-19.4377 52.1492,-19.4377 52.1492,-19.4377 55.918,-19.4377 61.4058,-22.7918 63.1246,-26.1459 63.1246,-26.1459 66.5623,-32.8541 66.5623,-32.8541 68.2812,-36.2082 66.5769,-41.1392 63.1537,-42.7161\"/>\n<text text-anchor=\"middle\" x=\"43\" y=\"-30.3\" font-family=\"Times,serif\" font-size=\"14.00\" fill=\"#000000\">d</text>\n</g>\n</g>\n</svg>\n"
          },
          "metadata": {},
          "execution_count": 36
        }
      ]
    }
  ]
}