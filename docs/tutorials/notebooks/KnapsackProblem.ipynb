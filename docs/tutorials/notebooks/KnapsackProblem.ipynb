{
  "cells": [
    {
      "attachments": {},
      "cell_type": "markdown",
      "metadata": {
        "colab_type": "text",
        "id": "view-in-github"
      },
      "source": [
        "<a href=\"https://colab.research.google.com/github/sasha704/conjure/blob/knapsackProblem/docs/tutorials/notebooks/KnapsackProblem.ipynb\" target=\"_parent\"><img src=\"https://colab.research.google.com/assets/colab-badge.svg\" alt=\"Open In Colab\"/></a>"
      ]
    },
    {
      "attachments": {},
      "cell_type": "markdown",
      "metadata": {
        "id": "Q-O7ivbPHtqI"
      },
      "source": [
        "# The Knapsack problem"
      ]
    },
    {
      "attachments": {},
      "cell_type": "markdown",
      "metadata": {
        "id": "5I6cwwqhH19R"
      },
      "source": [
        "Original [The Knapsack Problem](https://conjure.readthedocs.io/en/latest/tutorials/knapsack.html) by Saad Attieh and Christopher Stone. Adapted by Alex Gallagher."
      ]
    },
    {
      "attachments": {},
      "cell_type": "markdown",
      "metadata": {
        "id": "GZkJHUbaIFon"
      },
      "source": [
        "The Knapsack problem is a classical combinatorial optimisation problem, often used in areas of resource allocation. A basic variant of the Knapsack problem is defined as follows:\n",
        "\n",
        "**Given:**\n",
        "1. A set of items, each with a weight and a value,\n",
        "2. A maximum weight which we call capacity,\n",
        "\n",
        "**find a set of the items such that**\n",
        "1. The sum of the weights of the items in our set is less than or equal to the capacity, and\n",
        "2. The sum of the values of the items is maximised.\n",
        "\n",
        "Informally, think about putting items in a sack such that we maximise the total value of the sack whilst not going over the sack’s weight limit.\n"
      ]
    },
    {
      "cell_type": "code",
      "execution_count": null,
      "metadata": {
        "colab": {
          "base_uri": "https://localhost:8080/"
        },
        "id": "A35VMVlIMe_g",
        "outputId": "a1ef80e3-3c48-4aed-c4ec-739d90c4ca76"
      },
      "outputs": [
        {
          "name": "stdout",
          "output_type": "stream",
          "text": [
            "  % Total    % Received % Xferd  Average Speed   Time    Time     Time  Current\n",
            "                                 Dload  Upload   Total   Spent    Left  Speed\n",
            "\r  0     0    0     0    0     0      0      0 --:--:-- --:--:-- --:--:--     0\r  0     0    0     0    0     0      0      0 --:--:-- --:--:-- --:--:--     0\r100   711  100   711    0     0   3353      0 --:--:-- --:--:-- --:--:--  3338\n",
            "Installing Conjure...\n",
            "Conjure: The Automated Constraint Modelling Tool\n",
            "Release version 2.3.0\n",
            "Repository version 987ee3fc3 (2022-06-10 21:50:17 +0100)\n",
            "The conjure extension is already loaded. To reload it, use:\n",
            "  %reload_ext conjure\n"
          ]
        }
      ],
      "source": [
        "!source <(curl -s https://raw.githubusercontent.com/conjure-cp/conjure-notebook/v0.0.2/scripts/install-colab.sh)\n",
        "%load_ext conjure\n"
      ]
    },
    {
      "attachments": {},
      "cell_type": "markdown",
      "metadata": {
        "id": "fU4y3zCXMNgX"
      },
      "source": [
        "## Model Explained"
      ]
    },
    {
      "attachments": {},
      "cell_type": "markdown",
      "metadata": {
        "id": "vsYVModWMMUU"
      },
      "source": [
        "We begin by showing the entire problem as defined in Essence:\n",
        "\n",
        "`given items new type enum`\n",
        "\n",
        "\n",
        "`given weight : function (total) items --> int`\n",
        "\n",
        "\n",
        "`given gain : function (total) items --> int`\n",
        "\n",
        "\n",
        "`given capacity : int`\n",
        "\n",
        "\n",
        "`find picked : set of items`\n",
        "\n",
        "\n",
        "`maximising sum i in picked . gain(i)`\n",
        "\n",
        "\n",
        "`such that (sum i in picked . weight(i)) <= capacity`"
      ]
    },
    {
      "attachments": {},
      "cell_type": "markdown",
      "metadata": {
        "id": "S0QHWB3fItZK"
      },
      "source": [
        "Going through the problem line by line:\n",
        "\n",
        "We begin by defining the parameters to the problem. Parameters can be defined outside of the problem, allowing different instances of the same problem to be solved without having to change the specification.\n",
        "\n",
        "Each parameter is denoted with the given keyword."
      ]
    },
    {
      "attachments": {},
      "cell_type": "markdown",
      "metadata": {
        "id": "RR32w1Dd5-mU"
      },
      "source": [
        "`given items new type enum`"
      ]
    },
    {
      "attachments": {},
      "cell_type": "markdown",
      "metadata": {
        "id": "MCnXSWH_IxnM"
      },
      "source": [
        "This line says that a set of items will be provided as an enum type. Enums are good for labeling items where it makes no sense to attribute a value to each item. So instead of using integers to represent each item, we may just assign names to each item and group the names under an enum type. Below is an example enum declaration, as it would be written in the Conjure Magic cell:"
      ]
    },
    {
      "cell_type": "code",
      "execution_count": null,
      "metadata": {
        "colab": {
          "base_uri": "https://localhost:8080/"
        },
        "id": "SrrZ0nFcI402",
        "outputId": "cc59d93f-8759-4ade-bc50-5268aa8d7a46"
      },
      "outputs": [
        {
          "data": {
            "text/plain": [
              "{'picked': ['b', 'd']}"
            ]
          },
          "execution_count": 13,
          "metadata": {},
          "output_type": "execute_result"
        }
      ],
      "source": [
        "%%conjure\n",
        "letting items be new type enum {a,b,c,d,e}"
      ]
    },
    {
      "attachments": {},
      "cell_type": "markdown",
      "metadata": {
        "id": "CABjHWtbJGk0"
      },
      "source": [
        "`a`, `b`, etc. are just names we have given, they could be anything `bread`, `whiskey`, …"
      ]
    },
    {
      "attachments": {},
      "cell_type": "markdown",
      "metadata": {
        "id": "b7N-ZDa46JGr"
      },
      "source": [
        "`given weight : function (total) items --> int`"
      ]
    },
    {
      "attachments": {},
      "cell_type": "markdown",
      "metadata": {
        "id": "-uOA3Q_DJSvM"
      },
      "source": [
        "Another parameter, a function that maps from each item to an integer, we will treat these integers as weights. Since we are describing integers that will be given as parameters, no domain (lower/upper bound) is required. Here is an example function parameter:"
      ]
    },
    {
      "cell_type": "code",
      "execution_count": null,
      "metadata": {
        "colab": {
          "base_uri": "https://localhost:8080/"
        },
        "id": "IKZXLIHlJVF9",
        "outputId": "ed11891f-6467-4d64-854a-2b60174c0182"
      },
      "outputs": [
        {
          "data": {
            "text/plain": [
              "{'picked': ['b', 'd']}"
            ]
          },
          "execution_count": 14,
          "metadata": {},
          "output_type": "execute_result"
        }
      ],
      "source": [
        "%%conjure\n",
        "letting weight be function\n",
        "    ( a --> 15\n",
        "    , b --> 25\n",
        "    , c --> 45\n",
        "    , d --> 50\n",
        "    , e --> 60\n",
        "    )"
      ]
    },
    {
      "attachments": {},
      "cell_type": "markdown",
      "metadata": {
        "id": "XhUtJP1o6P0q"
      },
      "source": [
        "`given gain : function (total) items --> int`"
      ]
    },
    {
      "attachments": {},
      "cell_type": "markdown",
      "metadata": {
        "id": "6zkqdEX6tOJU"
      },
      "source": [
        "Just the same as the weight parameter, this parameter is used to denote a mapping from each item to a value. An example value for this parameter as it would be defined in the parameter file is:"
      ]
    },
    {
      "cell_type": "code",
      "execution_count": null,
      "metadata": {
        "colab": {
          "base_uri": "https://localhost:8080/"
        },
        "id": "xgNtA5-4tQxX",
        "outputId": "1c67a603-b87a-4b59-b8d7-2909a5d5943a"
      },
      "outputs": [
        {
          "data": {
            "text/plain": [
              "{'picked': ['b', 'd']}"
            ]
          },
          "execution_count": 15,
          "metadata": {},
          "output_type": "execute_result"
        }
      ],
      "source": [
        "%%conjure\n",
        "letting gain be function\n",
        "    ( a --> 10\n",
        "    , b --> 20\n",
        "    , c --> 40\n",
        "    , d --> 40\n",
        "    , e --> 50\n",
        "    )"
      ]
    },
    {
      "attachments": {},
      "cell_type": "markdown",
      "metadata": {
        "id": "X8qMCv8DKio9"
      },
      "source": [
        "The final given:"
      ]
    },
    {
      "attachments": {},
      "cell_type": "markdown",
      "metadata": {
        "id": "btL2k4bc6Xis"
      },
      "source": [
        "`given capacity : int`"
      ]
    },
    {
      "attachments": {},
      "cell_type": "markdown",
      "metadata": {
        "id": "1C84QOfkKn7Y"
      },
      "source": [
        "The final parameter – a weight limit. Example value:"
      ]
    },
    {
      "cell_type": "code",
      "execution_count": null,
      "metadata": {
        "colab": {
          "base_uri": "https://localhost:8080/"
        },
        "id": "F1rd0BM4Kr6s",
        "outputId": "89cc9b79-4d88-49d0-d3ba-1e9b0a940d8e"
      },
      "outputs": [
        {
          "data": {
            "text/plain": [
              "{'picked': ['b', 'd']}"
            ]
          },
          "execution_count": 16,
          "metadata": {},
          "output_type": "execute_result"
        }
      ],
      "source": [
        "%%conjure\n",
        "letting capacity be 80"
      ]
    },
    {
      "attachments": {},
      "cell_type": "markdown",
      "metadata": {
        "id": "tjnxxkh06m8U"
      },
      "source": [
        "`find picked : set of items`"
      ]
    },
    {
      "attachments": {},
      "cell_type": "markdown",
      "metadata": {
        "id": "PvO14gKeKyLf"
      },
      "source": [
        "The `find` keyword denotes decision variables, these are the variables for which the solver will search for a valid assignment. As is common in Essence problems, our entire problem is modelled using one decision variable named `picked`. Its type is `set of items`; a set of any size whose elements are taken from the `items` domain. Note, the maximum cardinality of the set is implicitly the size of the `items` domain."
      ]
    },
    {
      "attachments": {},
      "cell_type": "markdown",
      "metadata": {
        "id": "KwTtli4p6qd6"
      },
      "source": [
        "`maximising sum i in picked . gain(i)`"
      ]
    },
    {
      "attachments": {},
      "cell_type": "markdown",
      "metadata": {
        "id": "a_RSfRhQLAq1"
      },
      "source": [
        "The `maximising` keyword denotes the objective for the solver; a value for the solver to *maximise*. `minimise` is also a valid objective keyword. The expression `sum i in picked .` is a quantifier. The sum says that the values we produce should be summed together. The i in picked says we want to list out every element of the set `picked`. The expression given to the `sum` are described by the expression that follows the full-stop (.). In this case, we are asking for the image of `i` in the `gain` function. That is, for each item in the set, we are looking up the integer value that the item maps to in the `gain` function and summing these integers."
      ]
    },
    {
      "attachments": {},
      "cell_type": "markdown",
      "metadata": {
        "id": "MqbSkMYu6vIt"
      },
      "source": [
        "`such that (sum i in picked . weight(i)) <= capacity`"
      ]
    },
    {
      "attachments": {},
      "cell_type": "markdown",
      "metadata": {
        "id": "Z9Ug5YKJLWBt"
      },
      "source": [
        "The `such that` keyword denotes a constraint. Here the constraint is formulated in a similar manner to the objective. We are quantifying over the set of chosen items `picked`, looking up the value that the item maps to in the `weights` function and summing these values to together. We enforce that the result of the sum must be less than or equal to the capacity `<= capacity`.\n",
        "\n",
        "Note that you can post multiple constraints either by using commas between each constraint `,` or by reusing the keyword `such that`."
      ]
    },
    {
      "attachments": {},
      "cell_type": "markdown",
      "metadata": {
        "id": "IQkhfYsfMTzt"
      },
      "source": [
        "## Solving the problem"
      ]
    },
    {
      "attachments": {},
      "cell_type": "markdown",
      "metadata": {
        "id": "zQdE5f_yMhY8"
      },
      "source": [
        "Having run the earlier definition cells, we can now run the model:"
      ]
    },
    {
      "cell_type": "code",
      "execution_count": null,
      "metadata": {
        "colab": {
          "base_uri": "https://localhost:8080/"
        },
        "id": "PykrdRJYMoO9",
        "outputId": "cb3decd4-2ad6-4cd8-bdc2-2368c44287f1"
      },
      "outputs": [
        {
          "data": {
            "text/plain": [
              "{'picked': ['b', 'd']}"
            ]
          },
          "execution_count": 17,
          "metadata": {},
          "output_type": "execute_result"
        }
      ],
      "source": [
        "%%conjure \n",
        "find picked : set of items\n",
        "maximising sum i in picked . gain(i)\n",
        "such that (sum i in picked . weight(i)) <= capacity"
      ]
    },
    {
      "attachments": {},
      "cell_type": "markdown",
      "metadata": {
        "id": "Zeb9D96g9C_E"
      },
      "source": [
        "## Visualisations:"
      ]
    },
    {
      "attachments": {},
      "cell_type": "markdown",
      "metadata": {
        "id": "QKFbX2ryCXyj"
      },
      "source": [
        "We can print the result using python code:"
      ]
    },
    {
      "cell_type": "code",
      "execution_count": null,
      "metadata": {
        "colab": {
          "base_uri": "https://localhost:8080/"
        },
        "id": "zZWJyxyh9HXC",
        "outputId": "dcf9fb0b-7511-4bc4-d993-b3fa656a686f"
      },
      "outputs": [
        {
          "name": "stdout",
          "output_type": "stream",
          "text": [
            "['b', 'd']\n"
          ]
        }
      ],
      "source": [
        "print(picked)"
      ]
    },
    {
      "attachments": {},
      "cell_type": "markdown",
      "metadata": {
        "id": "rOwOZWoyCeeE"
      },
      "source": [
        "We can also show `picked` as a graph:"
      ]
    },
    {
      "cell_type": "code",
      "execution_count": null,
      "metadata": {
        "colab": {
          "base_uri": "https://localhost:8080/",
          "height": 153
        },
        "id": "tY1u6ZJSDuy8",
        "outputId": "d864fb66-d29a-44ea-968f-e441dab680ee"
      },
      "outputs": [
        {
          "data": {
            "image/svg+xml": [
              "<?xml version=\"1.0\" encoding=\"UTF-8\" standalone=\"no\"?>\n",
              "<!DOCTYPE svg PUBLIC \"-//W3C//DTD SVG 1.1//EN\"\n",
              " \"http://www.w3.org/Graphics/SVG/1.1/DTD/svg11.dtd\">\n",
              "<!-- Generated by graphviz version 2.40.1 (20161225.0304)\n",
              " -->\n",
              "<!-- Title: parent Pages: 1 -->\n",
              "<svg width=\"166pt\" height=\"99pt\"\n",
              " viewBox=\"0.00 0.00 166.00 99.00\" xmlns=\"http://www.w3.org/2000/svg\" xmlns:xlink=\"http://www.w3.org/1999/xlink\">\n",
              "<g id=\"graph0\" class=\"graph\" transform=\"scale(1 1) rotate(0) translate(4 95)\">\n",
              "<title>parent</title>\n",
              "<polygon fill=\"#ffffff\" stroke=\"transparent\" points=\"-4,4 -4,-95 162,-95 162,4 -4,4\"/>\n",
              "<g id=\"clust1\" class=\"cluster\">\n",
              "<title>clusterx</title>\n",
              "<path fill=\"none\" stroke=\"#000000\" d=\"M20,-8C20,-8 138,-8 138,-8 144,-8 150,-14 150,-20 150,-20 150,-71 150,-71 150,-77 144,-83 138,-83 138,-83 20,-83 20,-83 14,-83 8,-77 8,-71 8,-71 8,-20 8,-20 8,-14 14,-8 20,-8\"/>\n",
              "<text text-anchor=\"middle\" x=\"79\" y=\"-67.8\" font-family=\"Times,serif\" font-size=\"14.00\" fill=\"#000000\">picked</text>\n",
              "</g>\n",
              "<!-- b -->\n",
              "<g id=\"node1\" class=\"node\">\n",
              "<title>b</title>\n",
              "<path fill=\"none\" stroke=\"#0000ff\" d=\"M135.1537,-42.7161C135.1537,-42.7161 121.8463,-48.8462 121.8463,-48.8462 118.4231,-50.4231 111.5769,-50.4231 108.1537,-48.8462 108.1537,-48.8462 94.8463,-42.7161 94.8463,-42.7161 91.4231,-41.1392 89.7188,-36.2082 91.4377,-32.8541 91.4377,-32.8541 94.8754,-26.1459 94.8754,-26.1459 96.5942,-22.7918 102.082,-19.4377 105.8508,-19.4377 105.8508,-19.4377 124.1492,-19.4377 124.1492,-19.4377 127.918,-19.4377 133.4058,-22.7918 135.1246,-26.1459 135.1246,-26.1459 138.5623,-32.8541 138.5623,-32.8541 140.2812,-36.2082 138.5769,-41.1392 135.1537,-42.7161\"/>\n",
              "<text text-anchor=\"middle\" x=\"115\" y=\"-30.3\" font-family=\"Times,serif\" font-size=\"14.00\" fill=\"#000000\">b</text>\n",
              "</g>\n",
              "<!-- d -->\n",
              "<g id=\"node2\" class=\"node\">\n",
              "<title>d</title>\n",
              "<path fill=\"none\" stroke=\"#0000ff\" d=\"M63.1537,-42.7161C63.1537,-42.7161 49.8463,-48.8462 49.8463,-48.8462 46.4231,-50.4231 39.5769,-50.4231 36.1537,-48.8462 36.1537,-48.8462 22.8463,-42.7161 22.8463,-42.7161 19.4231,-41.1392 17.7188,-36.2082 19.4377,-32.8541 19.4377,-32.8541 22.8754,-26.1459 22.8754,-26.1459 24.5942,-22.7918 30.082,-19.4377 33.8508,-19.4377 33.8508,-19.4377 52.1492,-19.4377 52.1492,-19.4377 55.918,-19.4377 61.4058,-22.7918 63.1246,-26.1459 63.1246,-26.1459 66.5623,-32.8541 66.5623,-32.8541 68.2812,-36.2082 66.5769,-41.1392 63.1537,-42.7161\"/>\n",
              "<text text-anchor=\"middle\" x=\"43\" y=\"-30.3\" font-family=\"Times,serif\" font-size=\"14.00\" fill=\"#000000\">d</text>\n",
              "</g>\n",
              "</g>\n",
              "</svg>\n"
            ],
            "text/plain": [
              "<graphviz.dot.Digraph at 0x7fc75c8efe90>"
            ]
          },
          "execution_count": 36,
          "metadata": {},
          "output_type": "execute_result"
        }
      ],
      "source": [
        "import graphviz\n",
        "\n",
        "p = graphviz.Digraph('parent')\n",
        "p.attr(compound='true')\n",
        "\n",
        "\n",
        "with p.subgraph(name='clusterx', node_attr={'shape': 'pentagon', 'color': 'blue', 'style':'rounded'}) as c:\n",
        "    for item in picked:\n",
        "      c.node(str(item))\n",
        "    c.attr(label='picked')\n",
        "    c.attr(style='rounded')\n",
        "\n",
        "p"
      ]
    }
  ],
  "metadata": {
    "colab": {
      "include_colab_link": true,
      "provenance": [],
      "toc_visible": true
    },
    "kernelspec": {
      "display_name": "Python 3",
      "name": "python3"
    },
    "language_info": {
      "name": "python"
    }
  },
  "nbformat": 4,
  "nbformat_minor": 0
}
