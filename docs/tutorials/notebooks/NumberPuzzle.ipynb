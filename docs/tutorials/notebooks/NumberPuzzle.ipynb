{
  "nbformat": 4,
  "nbformat_minor": 0,
  "metadata": {
    "colab": {
      "provenance": [],
      "include_colab_link": true
    },
    "kernelspec": {
      "name": "python3",
      "display_name": "Python 3"
    },
    "language_info": {
      "name": "python"
    },
    "widgets": {
      "application/vnd.jupyter.widget-state+json": {
        "66b67c7238d945098856c9ed46b7c4f9": {
          "model_module": "@jupyter-widgets/controls",
          "model_name": "TabModel",
          "model_module_version": "1.5.0",
          "state": {
            "_dom_classes": [],
            "_model_module": "@jupyter-widgets/controls",
            "_model_module_version": "1.5.0",
            "_model_name": "TabModel",
            "_titles": {
              "0": "General settings",
              "1": "Solver settings",
              "2": "Representations"
            },
            "_view_count": null,
            "_view_module": "@jupyter-widgets/controls",
            "_view_module_version": "1.5.0",
            "_view_name": "TabView",
            "box_style": "",
            "children": [
              "IPY_MODEL_b83631a2b4a14c7881ad13bea3225859",
              "IPY_MODEL_9773732617dd4e9b9b16a565c1f8a18c",
              "IPY_MODEL_2257b7fc21c54710949ef57c776542a2"
            ],
            "layout": "IPY_MODEL_0040364e9ce645aca1904ee883d9cb34",
            "selected_index": 1
          }
        },
        "b83631a2b4a14c7881ad13bea3225859": {
          "model_module": "@jupyter-widgets/controls",
          "model_name": "VBoxModel",
          "model_module_version": "1.5.0",
          "state": {
            "_dom_classes": [],
            "_model_module": "@jupyter-widgets/controls",
            "_model_module_version": "1.5.0",
            "_model_name": "VBoxModel",
            "_view_count": null,
            "_view_module": "@jupyter-widgets/controls",
            "_view_module_version": "1.5.0",
            "_view_name": "VBoxView",
            "box_style": "",
            "children": [
              "IPY_MODEL_463500bfe84c41d9bd90078efe32f823",
              "IPY_MODEL_ae0433632b064caba4dd7b47c0bd0b13",
              "IPY_MODEL_286282ccc309465f9fe0c47ede6fcee1"
            ],
            "layout": "IPY_MODEL_b3247b3a745446c7a49715846990e8a2"
          }
        },
        "9773732617dd4e9b9b16a565c1f8a18c": {
          "model_module": "@jupyter-widgets/controls",
          "model_name": "RadioButtonsModel",
          "model_module_version": "1.5.0",
          "state": {
            "_dom_classes": [],
            "_model_module": "@jupyter-widgets/controls",
            "_model_module_version": "1.5.0",
            "_model_name": "RadioButtonsModel",
            "_options_labels": [
              "minion",
              "gecode",
              "chuffed",
              "glucose",
              "glucose-syrup",
              "lingeling",
              "cadical",
              "kissat",
              "minisat",
              "bc_minisat_all",
              "nbc_minisat_all",
              "open-wbo",
              "coin-or",
              "cplex",
              "boolector-bv",
              "yices-bv",
              "yices-lia",
              "yices-idl",
              "z3-bv",
              "z3-lia",
              "z3-nia",
              "z3-idl"
            ],
            "_view_count": null,
            "_view_module": "@jupyter-widgets/controls",
            "_view_module_version": "1.5.0",
            "_view_name": "RadioButtonsView",
            "description": "Conjure solver",
            "description_tooltip": null,
            "disabled": false,
            "index": 7,
            "layout": "IPY_MODEL_2c2d4865a7d24ed1ad95489b12bc83da",
            "style": "IPY_MODEL_3df76ffbc50b4adfb137acba034fa962"
          }
        },
        "2257b7fc21c54710949ef57c776542a2": {
          "model_module": "@jupyter-widgets/controls",
          "model_name": "VBoxModel",
          "model_module_version": "1.5.0",
          "state": {
            "_dom_classes": [],
            "_model_module": "@jupyter-widgets/controls",
            "_model_module_version": "1.5.0",
            "_model_name": "VBoxModel",
            "_view_count": null,
            "_view_module": "@jupyter-widgets/controls",
            "_view_module_version": "1.5.0",
            "_view_name": "VBoxView",
            "box_style": "",
            "children": [
              "IPY_MODEL_a420f47f531c4a1c9ad6f8629a83234d",
              "IPY_MODEL_045e1684e08943ddb1677f205ac0ae2a",
              "IPY_MODEL_bda4093e64644653beb56042036ef53b"
            ],
            "layout": "IPY_MODEL_5c3d9ff43c574fb0820bbbbd78304cf1"
          }
        },
        "0040364e9ce645aca1904ee883d9cb34": {
          "model_module": "@jupyter-widgets/base",
          "model_name": "LayoutModel",
          "model_module_version": "1.2.0",
          "state": {
            "_model_module": "@jupyter-widgets/base",
            "_model_module_version": "1.2.0",
            "_model_name": "LayoutModel",
            "_view_count": null,
            "_view_module": "@jupyter-widgets/base",
            "_view_module_version": "1.2.0",
            "_view_name": "LayoutView",
            "align_content": null,
            "align_items": null,
            "align_self": null,
            "border": null,
            "bottom": null,
            "display": null,
            "flex": null,
            "flex_flow": null,
            "grid_area": null,
            "grid_auto_columns": null,
            "grid_auto_flow": null,
            "grid_auto_rows": null,
            "grid_column": null,
            "grid_gap": null,
            "grid_row": null,
            "grid_template_areas": null,
            "grid_template_columns": null,
            "grid_template_rows": null,
            "height": null,
            "justify_content": null,
            "justify_items": null,
            "left": null,
            "margin": null,
            "max_height": null,
            "max_width": null,
            "min_height": null,
            "min_width": null,
            "object_fit": null,
            "object_position": null,
            "order": null,
            "overflow": null,
            "overflow_x": null,
            "overflow_y": null,
            "padding": null,
            "right": null,
            "top": null,
            "visibility": null,
            "width": null
          }
        },
        "463500bfe84c41d9bd90078efe32f823": {
          "model_module": "@jupyter-widgets/controls",
          "model_name": "RadioButtonsModel",
          "model_module_version": "1.5.0",
          "state": {
            "_dom_classes": [],
            "_model_module": "@jupyter-widgets/controls",
            "_model_module_version": "1.5.0",
            "_model_name": "RadioButtonsModel",
            "_options_labels": [
              "Yes",
              "No"
            ],
            "_view_count": null,
            "_view_module": "@jupyter-widgets/controls",
            "_view_module_version": "1.5.0",
            "_view_name": "RadioButtonsView",
            "description": "Print conjure output",
            "description_tooltip": null,
            "disabled": false,
            "index": 0,
            "layout": "IPY_MODEL_58bd7b9a38294330ac7722b59ee8cf35",
            "style": "IPY_MODEL_e8b826030fa34be6ac37a0264fda3406"
          }
        },
        "ae0433632b064caba4dd7b47c0bd0b13": {
          "model_module": "@jupyter-widgets/controls",
          "model_name": "RadioButtonsModel",
          "model_module_version": "1.5.0",
          "state": {
            "_dom_classes": [],
            "_model_module": "@jupyter-widgets/controls",
            "_model_module_version": "1.5.0",
            "_model_name": "RadioButtonsModel",
            "_options_labels": [
              "Use Conjure's default heuristic",
              "Manual selection (using the Representations tab)"
            ],
            "_view_count": null,
            "_view_module": "@jupyter-widgets/controls",
            "_view_module_version": "1.5.0",
            "_view_name": "RadioButtonsView",
            "description": "Representations selection",
            "description_tooltip": null,
            "disabled": false,
            "index": 0,
            "layout": "IPY_MODEL_8d07205fc767444b93b1db96fe3d232d",
            "style": "IPY_MODEL_f003c85a0ddb40b887cc2160c7d765f9"
          }
        },
        "286282ccc309465f9fe0c47ede6fcee1": {
          "model_module": "@jupyter-widgets/controls",
          "model_name": "TextModel",
          "model_module_version": "1.5.0",
          "state": {
            "_dom_classes": [],
            "_model_module": "@jupyter-widgets/controls",
            "_model_module_version": "1.5.0",
            "_model_name": "TextModel",
            "_view_count": null,
            "_view_module": "@jupyter-widgets/controls",
            "_view_module_version": "1.5.0",
            "_view_name": "TextView",
            "continuous_update": true,
            "description": "Number of solutions:",
            "description_tooltip": null,
            "disabled": false,
            "layout": "IPY_MODEL_20c914d13ba8458ca7bd59faf366a587",
            "placeholder": "Enter number or all",
            "style": "IPY_MODEL_362fddcb09234eceac8e96e735cf6002",
            "value": "all"
          }
        },
        "b3247b3a745446c7a49715846990e8a2": {
          "model_module": "@jupyter-widgets/base",
          "model_name": "LayoutModel",
          "model_module_version": "1.2.0",
          "state": {
            "_model_module": "@jupyter-widgets/base",
            "_model_module_version": "1.2.0",
            "_model_name": "LayoutModel",
            "_view_count": null,
            "_view_module": "@jupyter-widgets/base",
            "_view_module_version": "1.2.0",
            "_view_name": "LayoutView",
            "align_content": null,
            "align_items": null,
            "align_self": null,
            "border": null,
            "bottom": null,
            "display": null,
            "flex": null,
            "flex_flow": null,
            "grid_area": null,
            "grid_auto_columns": null,
            "grid_auto_flow": null,
            "grid_auto_rows": null,
            "grid_column": null,
            "grid_gap": null,
            "grid_row": null,
            "grid_template_areas": null,
            "grid_template_columns": null,
            "grid_template_rows": null,
            "height": null,
            "justify_content": null,
            "justify_items": null,
            "left": null,
            "margin": null,
            "max_height": null,
            "max_width": null,
            "min_height": null,
            "min_width": null,
            "object_fit": null,
            "object_position": null,
            "order": null,
            "overflow": null,
            "overflow_x": null,
            "overflow_y": null,
            "padding": null,
            "right": null,
            "top": null,
            "visibility": null,
            "width": null
          }
        },
        "2c2d4865a7d24ed1ad95489b12bc83da": {
          "model_module": "@jupyter-widgets/base",
          "model_name": "LayoutModel",
          "model_module_version": "1.2.0",
          "state": {
            "_model_module": "@jupyter-widgets/base",
            "_model_module_version": "1.2.0",
            "_model_name": "LayoutModel",
            "_view_count": null,
            "_view_module": "@jupyter-widgets/base",
            "_view_module_version": "1.2.0",
            "_view_name": "LayoutView",
            "align_content": null,
            "align_items": null,
            "align_self": null,
            "border": null,
            "bottom": null,
            "display": null,
            "flex": null,
            "flex_flow": null,
            "grid_area": null,
            "grid_auto_columns": null,
            "grid_auto_flow": null,
            "grid_auto_rows": null,
            "grid_column": null,
            "grid_gap": null,
            "grid_row": null,
            "grid_template_areas": null,
            "grid_template_columns": null,
            "grid_template_rows": null,
            "height": null,
            "justify_content": null,
            "justify_items": null,
            "left": null,
            "margin": null,
            "max_height": null,
            "max_width": null,
            "min_height": null,
            "min_width": null,
            "object_fit": null,
            "object_position": null,
            "order": null,
            "overflow": null,
            "overflow_x": null,
            "overflow_y": null,
            "padding": null,
            "right": null,
            "top": null,
            "visibility": null,
            "width": "80%"
          }
        },
        "3df76ffbc50b4adfb137acba034fa962": {
          "model_module": "@jupyter-widgets/controls",
          "model_name": "DescriptionStyleModel",
          "model_module_version": "1.5.0",
          "state": {
            "_model_module": "@jupyter-widgets/controls",
            "_model_module_version": "1.5.0",
            "_model_name": "DescriptionStyleModel",
            "_view_count": null,
            "_view_module": "@jupyter-widgets/base",
            "_view_module_version": "1.2.0",
            "_view_name": "StyleView",
            "description_width": "initial"
          }
        },
        "a420f47f531c4a1c9ad6f8629a83234d": {
          "model_module": "@jupyter-widgets/controls",
          "model_name": "RadioButtonsModel",
          "model_module_version": "1.5.0",
          "state": {
            "_dom_classes": [],
            "_model_module": "@jupyter-widgets/controls",
            "_model_module_version": "1.5.0",
            "_model_name": "RadioButtonsModel",
            "_options_labels": [
              "1.function {Function1DPartial} letters --> int(0..9)",
              "2.function {FunctionNDPartialDummy} letters --> int(0..9)",
              "3.function {FunctionAsRelation[RelationAsMatrix]} letters --> int(0..9)"
            ],
            "_view_count": null,
            "_view_module": "@jupyter-widgets/controls",
            "_view_module_version": "1.5.0",
            "_view_name": "RadioButtonsView",
            "description": "Choose representation for f",
            "description_tooltip": null,
            "disabled": false,
            "index": 0,
            "layout": "IPY_MODEL_712bd101be4c4b02a0bfc53698d06fb7",
            "style": "IPY_MODEL_bba4377e26d6415abeaccce9ec838910"
          }
        },
        "045e1684e08943ddb1677f205ac0ae2a": {
          "model_module": "@jupyter-widgets/controls",
          "model_name": "RadioButtonsModel",
          "model_module_version": "1.5.0",
          "state": {
            "_dom_classes": [],
            "_model_module": "@jupyter-widgets/controls",
            "_model_module_version": "1.5.0",
            "_model_name": "RadioButtonsModel",
            "_options_labels": [
              "1.function {Function1DPartial} (injective) letters --> int(0..9)",
              "2.function {FunctionNDPartialDummy} (injective) letters --> int(0..9)",
              "3.function {FunctionAsRelation[RelationAsMatrix]} (injective) letters --> int(0..9)"
            ],
            "_view_count": null,
            "_view_module": "@jupyter-widgets/controls",
            "_view_module_version": "1.5.0",
            "_view_name": "RadioButtonsView",
            "description": "Choose representation for g",
            "description_tooltip": null,
            "disabled": false,
            "index": 0,
            "layout": "IPY_MODEL_308fefd9281a449893c87163b1a63350",
            "style": "IPY_MODEL_5d5467a87a4d41eda235f5f2f3c5852b"
          }
        },
        "bda4093e64644653beb56042036ef53b": {
          "model_module": "@jupyter-widgets/controls",
          "model_name": "RadioButtonsModel",
          "model_module_version": "1.5.0",
          "state": {
            "_dom_classes": [],
            "_model_module": "@jupyter-widgets/controls",
            "_model_module_version": "1.5.0",
            "_model_name": "RadioButtonsModel",
            "_options_labels": [
              "1.function {Function1DPartial} (injective) letters --> int(0..9)",
              "2.function {FunctionNDPartialDummy} (injective) letters --> int(0..9)",
              "3.function {FunctionAsRelation[RelationAsMatrix]} (injective) letters --> int(0..9)"
            ],
            "_view_count": null,
            "_view_module": "@jupyter-widgets/controls",
            "_view_module_version": "1.5.0",
            "_view_name": "RadioButtonsView",
            "description": "Choose representation for h",
            "description_tooltip": null,
            "disabled": false,
            "index": 0,
            "layout": "IPY_MODEL_8282c876eb4e41af9e9d3bafbb21b13b",
            "style": "IPY_MODEL_ab80ab6e09f24563a2bb25a2e59c960c"
          }
        },
        "5c3d9ff43c574fb0820bbbbd78304cf1": {
          "model_module": "@jupyter-widgets/base",
          "model_name": "LayoutModel",
          "model_module_version": "1.2.0",
          "state": {
            "_model_module": "@jupyter-widgets/base",
            "_model_module_version": "1.2.0",
            "_model_name": "LayoutModel",
            "_view_count": null,
            "_view_module": "@jupyter-widgets/base",
            "_view_module_version": "1.2.0",
            "_view_name": "LayoutView",
            "align_content": null,
            "align_items": null,
            "align_self": null,
            "border": null,
            "bottom": null,
            "display": null,
            "flex": null,
            "flex_flow": null,
            "grid_area": null,
            "grid_auto_columns": null,
            "grid_auto_flow": null,
            "grid_auto_rows": null,
            "grid_column": null,
            "grid_gap": null,
            "grid_row": null,
            "grid_template_areas": null,
            "grid_template_columns": null,
            "grid_template_rows": null,
            "height": null,
            "justify_content": null,
            "justify_items": null,
            "left": null,
            "margin": null,
            "max_height": null,
            "max_width": null,
            "min_height": null,
            "min_width": null,
            "object_fit": null,
            "object_position": null,
            "order": null,
            "overflow": null,
            "overflow_x": null,
            "overflow_y": null,
            "padding": null,
            "right": null,
            "top": null,
            "visibility": null,
            "width": null
          }
        },
        "58bd7b9a38294330ac7722b59ee8cf35": {
          "model_module": "@jupyter-widgets/base",
          "model_name": "LayoutModel",
          "model_module_version": "1.2.0",
          "state": {
            "_model_module": "@jupyter-widgets/base",
            "_model_module_version": "1.2.0",
            "_model_name": "LayoutModel",
            "_view_count": null,
            "_view_module": "@jupyter-widgets/base",
            "_view_module_version": "1.2.0",
            "_view_name": "LayoutView",
            "align_content": null,
            "align_items": null,
            "align_self": null,
            "border": null,
            "bottom": null,
            "display": null,
            "flex": null,
            "flex_flow": null,
            "grid_area": null,
            "grid_auto_columns": null,
            "grid_auto_flow": null,
            "grid_auto_rows": null,
            "grid_column": null,
            "grid_gap": null,
            "grid_row": null,
            "grid_template_areas": null,
            "grid_template_columns": null,
            "grid_template_rows": null,
            "height": null,
            "justify_content": null,
            "justify_items": null,
            "left": null,
            "margin": null,
            "max_height": null,
            "max_width": null,
            "min_height": null,
            "min_width": null,
            "object_fit": null,
            "object_position": null,
            "order": null,
            "overflow": null,
            "overflow_x": null,
            "overflow_y": null,
            "padding": null,
            "right": null,
            "top": null,
            "visibility": null,
            "width": "80%"
          }
        },
        "e8b826030fa34be6ac37a0264fda3406": {
          "model_module": "@jupyter-widgets/controls",
          "model_name": "DescriptionStyleModel",
          "model_module_version": "1.5.0",
          "state": {
            "_model_module": "@jupyter-widgets/controls",
            "_model_module_version": "1.5.0",
            "_model_name": "DescriptionStyleModel",
            "_view_count": null,
            "_view_module": "@jupyter-widgets/base",
            "_view_module_version": "1.2.0",
            "_view_name": "StyleView",
            "description_width": "initial"
          }
        },
        "8d07205fc767444b93b1db96fe3d232d": {
          "model_module": "@jupyter-widgets/base",
          "model_name": "LayoutModel",
          "model_module_version": "1.2.0",
          "state": {
            "_model_module": "@jupyter-widgets/base",
            "_model_module_version": "1.2.0",
            "_model_name": "LayoutModel",
            "_view_count": null,
            "_view_module": "@jupyter-widgets/base",
            "_view_module_version": "1.2.0",
            "_view_name": "LayoutView",
            "align_content": null,
            "align_items": null,
            "align_self": null,
            "border": null,
            "bottom": null,
            "display": null,
            "flex": null,
            "flex_flow": null,
            "grid_area": null,
            "grid_auto_columns": null,
            "grid_auto_flow": null,
            "grid_auto_rows": null,
            "grid_column": null,
            "grid_gap": null,
            "grid_row": null,
            "grid_template_areas": null,
            "grid_template_columns": null,
            "grid_template_rows": null,
            "height": null,
            "justify_content": null,
            "justify_items": null,
            "left": null,
            "margin": null,
            "max_height": null,
            "max_width": null,
            "min_height": null,
            "min_width": null,
            "object_fit": null,
            "object_position": null,
            "order": null,
            "overflow": null,
            "overflow_x": null,
            "overflow_y": null,
            "padding": null,
            "right": null,
            "top": null,
            "visibility": null,
            "width": "80%"
          }
        },
        "f003c85a0ddb40b887cc2160c7d765f9": {
          "model_module": "@jupyter-widgets/controls",
          "model_name": "DescriptionStyleModel",
          "model_module_version": "1.5.0",
          "state": {
            "_model_module": "@jupyter-widgets/controls",
            "_model_module_version": "1.5.0",
            "_model_name": "DescriptionStyleModel",
            "_view_count": null,
            "_view_module": "@jupyter-widgets/base",
            "_view_module_version": "1.2.0",
            "_view_name": "StyleView",
            "description_width": "initial"
          }
        },
        "20c914d13ba8458ca7bd59faf366a587": {
          "model_module": "@jupyter-widgets/base",
          "model_name": "LayoutModel",
          "model_module_version": "1.2.0",
          "state": {
            "_model_module": "@jupyter-widgets/base",
            "_model_module_version": "1.2.0",
            "_model_name": "LayoutModel",
            "_view_count": null,
            "_view_module": "@jupyter-widgets/base",
            "_view_module_version": "1.2.0",
            "_view_name": "LayoutView",
            "align_content": null,
            "align_items": null,
            "align_self": null,
            "border": null,
            "bottom": null,
            "display": null,
            "flex": null,
            "flex_flow": null,
            "grid_area": null,
            "grid_auto_columns": null,
            "grid_auto_flow": null,
            "grid_auto_rows": null,
            "grid_column": null,
            "grid_gap": null,
            "grid_row": null,
            "grid_template_areas": null,
            "grid_template_columns": null,
            "grid_template_rows": null,
            "height": null,
            "justify_content": null,
            "justify_items": null,
            "left": null,
            "margin": null,
            "max_height": null,
            "max_width": null,
            "min_height": null,
            "min_width": null,
            "object_fit": null,
            "object_position": null,
            "order": null,
            "overflow": null,
            "overflow_x": null,
            "overflow_y": null,
            "padding": null,
            "right": null,
            "top": null,
            "visibility": null,
            "width": null
          }
        },
        "362fddcb09234eceac8e96e735cf6002": {
          "model_module": "@jupyter-widgets/controls",
          "model_name": "DescriptionStyleModel",
          "model_module_version": "1.5.0",
          "state": {
            "_model_module": "@jupyter-widgets/controls",
            "_model_module_version": "1.5.0",
            "_model_name": "DescriptionStyleModel",
            "_view_count": null,
            "_view_module": "@jupyter-widgets/base",
            "_view_module_version": "1.2.0",
            "_view_name": "StyleView",
            "description_width": "initial"
          }
        },
        "712bd101be4c4b02a0bfc53698d06fb7": {
          "model_module": "@jupyter-widgets/base",
          "model_name": "LayoutModel",
          "model_module_version": "1.2.0",
          "state": {
            "_model_module": "@jupyter-widgets/base",
            "_model_module_version": "1.2.0",
            "_model_name": "LayoutModel",
            "_view_count": null,
            "_view_module": "@jupyter-widgets/base",
            "_view_module_version": "1.2.0",
            "_view_name": "LayoutView",
            "align_content": null,
            "align_items": null,
            "align_self": null,
            "border": null,
            "bottom": null,
            "display": null,
            "flex": null,
            "flex_flow": null,
            "grid_area": null,
            "grid_auto_columns": null,
            "grid_auto_flow": null,
            "grid_auto_rows": null,
            "grid_column": null,
            "grid_gap": null,
            "grid_row": null,
            "grid_template_areas": null,
            "grid_template_columns": null,
            "grid_template_rows": null,
            "height": null,
            "justify_content": null,
            "justify_items": null,
            "left": null,
            "margin": null,
            "max_height": null,
            "max_width": null,
            "min_height": null,
            "min_width": null,
            "object_fit": null,
            "object_position": null,
            "order": null,
            "overflow": null,
            "overflow_x": null,
            "overflow_y": null,
            "padding": null,
            "right": null,
            "top": null,
            "visibility": null,
            "width": "80%"
          }
        },
        "bba4377e26d6415abeaccce9ec838910": {
          "model_module": "@jupyter-widgets/controls",
          "model_name": "DescriptionStyleModel",
          "model_module_version": "1.5.0",
          "state": {
            "_model_module": "@jupyter-widgets/controls",
            "_model_module_version": "1.5.0",
            "_model_name": "DescriptionStyleModel",
            "_view_count": null,
            "_view_module": "@jupyter-widgets/base",
            "_view_module_version": "1.2.0",
            "_view_name": "StyleView",
            "description_width": "initial"
          }
        },
        "308fefd9281a449893c87163b1a63350": {
          "model_module": "@jupyter-widgets/base",
          "model_name": "LayoutModel",
          "model_module_version": "1.2.0",
          "state": {
            "_model_module": "@jupyter-widgets/base",
            "_model_module_version": "1.2.0",
            "_model_name": "LayoutModel",
            "_view_count": null,
            "_view_module": "@jupyter-widgets/base",
            "_view_module_version": "1.2.0",
            "_view_name": "LayoutView",
            "align_content": null,
            "align_items": null,
            "align_self": null,
            "border": null,
            "bottom": null,
            "display": null,
            "flex": null,
            "flex_flow": null,
            "grid_area": null,
            "grid_auto_columns": null,
            "grid_auto_flow": null,
            "grid_auto_rows": null,
            "grid_column": null,
            "grid_gap": null,
            "grid_row": null,
            "grid_template_areas": null,
            "grid_template_columns": null,
            "grid_template_rows": null,
            "height": null,
            "justify_content": null,
            "justify_items": null,
            "left": null,
            "margin": null,
            "max_height": null,
            "max_width": null,
            "min_height": null,
            "min_width": null,
            "object_fit": null,
            "object_position": null,
            "order": null,
            "overflow": null,
            "overflow_x": null,
            "overflow_y": null,
            "padding": null,
            "right": null,
            "top": null,
            "visibility": null,
            "width": "80%"
          }
        },
        "5d5467a87a4d41eda235f5f2f3c5852b": {
          "model_module": "@jupyter-widgets/controls",
          "model_name": "DescriptionStyleModel",
          "model_module_version": "1.5.0",
          "state": {
            "_model_module": "@jupyter-widgets/controls",
            "_model_module_version": "1.5.0",
            "_model_name": "DescriptionStyleModel",
            "_view_count": null,
            "_view_module": "@jupyter-widgets/base",
            "_view_module_version": "1.2.0",
            "_view_name": "StyleView",
            "description_width": "initial"
          }
        },
        "8282c876eb4e41af9e9d3bafbb21b13b": {
          "model_module": "@jupyter-widgets/base",
          "model_name": "LayoutModel",
          "model_module_version": "1.2.0",
          "state": {
            "_model_module": "@jupyter-widgets/base",
            "_model_module_version": "1.2.0",
            "_model_name": "LayoutModel",
            "_view_count": null,
            "_view_module": "@jupyter-widgets/base",
            "_view_module_version": "1.2.0",
            "_view_name": "LayoutView",
            "align_content": null,
            "align_items": null,
            "align_self": null,
            "border": null,
            "bottom": null,
            "display": null,
            "flex": null,
            "flex_flow": null,
            "grid_area": null,
            "grid_auto_columns": null,
            "grid_auto_flow": null,
            "grid_auto_rows": null,
            "grid_column": null,
            "grid_gap": null,
            "grid_row": null,
            "grid_template_areas": null,
            "grid_template_columns": null,
            "grid_template_rows": null,
            "height": null,
            "justify_content": null,
            "justify_items": null,
            "left": null,
            "margin": null,
            "max_height": null,
            "max_width": null,
            "min_height": null,
            "min_width": null,
            "object_fit": null,
            "object_position": null,
            "order": null,
            "overflow": null,
            "overflow_x": null,
            "overflow_y": null,
            "padding": null,
            "right": null,
            "top": null,
            "visibility": null,
            "width": "80%"
          }
        },
        "ab80ab6e09f24563a2bb25a2e59c960c": {
          "model_module": "@jupyter-widgets/controls",
          "model_name": "DescriptionStyleModel",
          "model_module_version": "1.5.0",
          "state": {
            "_model_module": "@jupyter-widgets/controls",
            "_model_module_version": "1.5.0",
            "_model_name": "DescriptionStyleModel",
            "_view_count": null,
            "_view_module": "@jupyter-widgets/base",
            "_view_module_version": "1.2.0",
            "_view_name": "StyleView",
            "description_width": "initial"
          }
        }
      }
    }
  },
  "cells": [
    {
      "cell_type": "markdown",
      "metadata": {
        "id": "view-in-github",
        "colab_type": "text"
      },
      "source": [
        "<a href=\"https://colab.research.google.com/github/sasha704/conjure/blob/main/docs/tutorials/notebooks/NumberPuzzle.ipynb\" target=\"_parent\"><img src=\"https://colab.research.google.com/assets/colab-badge.svg\" alt=\"Open In Colab\"/></a>"
      ]
    },
    {
      "cell_type": "markdown",
      "source": [
        "# **Number puzzle**\n",
        "Original [Conjure Docs Number Puzzle](https://conjure.readthedocs.io/en/latest/tutorials.html#number-puzzle) by András Salamon, Özgür Akgün. Adapted by Alex Gallagher."
      ],
      "metadata": {
        "id": "-WXiDQ-zwXqx"
      }
    },
    {
      "cell_type": "markdown",
      "source": [
        "We first show how to solve a classic [word addition](https://en.wikipedia.org/wiki/Verbal_arithmetic) puzzle, due to Dudeney \\[[Dud24](https://conjure.readthedocs.io/en/latest/zreferences.html#id3)\\]. This is a small toy example, but already illustrates some interesting features of Conjure."
      ],
      "metadata": {
        "id": "djKmEomvwnTQ"
      }
    },
    {
      "cell_type": "markdown",
      "source": [
        "SEND\n",
        "\n",
        "\\+ MORE\n",
        "\n",
        "-------\n",
        "\n",
        "= MONEY"
      ],
      "metadata": {
        "id": "jlEBtuWCwrso"
      }
    },
    {
      "cell_type": "markdown",
      "source": [
        "Here each letter represents a numeric digit in an addition, and we are asked to find an assignment of digits to letters so that the number represented by the digits SEND when added to the number represented by MORE yields the number represented by MONEY."
      ],
      "metadata": {
        "id": "lGh9C4-kw_WP"
      }
    },
    {
      "cell_type": "markdown",
      "source": [
        "##**Installing conjure**\n",
        "\n",
        "Before we can run any conjure in the jupyter notebook, we first need to install it."
      ],
      "metadata": {
        "id": "nt2_4-UBzf6E"
      }
    },
    {
      "cell_type": "code",
      "source": [
        "!source <(curl -s https://raw.githubusercontent.com/conjure-cp/conjure-notebook/v0.0.2/scripts/install-colab.sh)\n",
        "%load_ext conjure"
      ],
      "metadata": {
        "colab": {
          "base_uri": "https://localhost:8080/"
        },
        "id": "y985p5cWzvVs",
        "outputId": "f73c946b-18ed-4fbd-c550-a32d3e22576d"
      },
      "execution_count": null,
      "outputs": [
        {
          "output_type": "stream",
          "name": "stdout",
          "text": [
            "  % Total    % Received % Xferd  Average Speed   Time    Time     Time  Current\n",
            "                                 Dload  Upload   Total   Spent    Left  Speed\n",
            "100   711  100   711    0     0   2693      0 --:--:-- --:--:-- --:--:--  2693\n",
            "Installing Conjure...\n",
            "Conjure: The Automated Constraint Modelling Tool\n",
            "Release version 2.3.0\n",
            "Repository version 987ee3fc3 (2022-06-10 21:50:17 +0100)\n",
            "The conjure extension is already loaded. To reload it, use:\n",
            "  %reload_ext conjure\n"
          ]
        }
      ]
    },
    {
      "cell_type": "markdown",
      "source": [
        "Here the Conjure extension has been installed and loaded within the notebook."
      ],
      "metadata": {
        "id": "DTlLX8WOz4fo"
      }
    },
    {
      "cell_type": "markdown",
      "source": [
        "## **Initial model and running Conjure**"
      ],
      "metadata": {
        "id": "a-3rBNdIxCcp"
      }
    },
    {
      "cell_type": "markdown",
      "source": [
        "We are looking for a mapping (a function) from letters to digits. We can represent the different letters as an enumerated type, with each letter appearing only once."
      ],
      "metadata": {
        "id": "MZ0u5_5kyIQC"
      }
    },
    {
      "cell_type": "code",
      "source": [
        "language Essence 1.3\n",
        "letting letters be new type enum {S,E,N,D,M,O,R,Y}\n",
        "find f : function letters --> int(0..9)\n",
        "such that\n",
        "                   1000 * f(S) + 100 * f(E) + 10 * f(N) + f(D) +\n",
        "                   1000 * f(M) + 100 * f(O) + 10 * f(R) + f(E) =\n",
        "    10000 * f(M) + 1000 * f(O) + 100 * f(N) + 10 * f(E) + f(Y)"
      ],
      "metadata": {
        "id": "Qh9Gm0Ez1-mB",
        "colab": {
          "base_uri": "https://localhost:8080/",
          "height": 134
        },
        "outputId": "a78d6dd6-00b5-4475-fb53-145ff2aa3027"
      },
      "execution_count": null,
      "outputs": [
        {
          "output_type": "error",
          "ename": "IndentationError",
          "evalue": "ignored",
          "traceback": [
            "\u001b[0;36m  File \u001b[0;32m\"<tokenize>\"\u001b[0;36m, line \u001b[0;32m7\u001b[0m\n\u001b[0;31m    10000 * f(M) + 1000 * f(O) + 100 * f(N) + 10 * f(E) + f(Y)\u001b[0m\n\u001b[0m    ^\u001b[0m\n\u001b[0;31mIndentationError\u001b[0m\u001b[0;31m:\u001b[0m unindent does not match any outer indentation level\n"
          ]
        }
      ]
    },
    {
      "cell_type": "markdown",
      "source": [
        "Running this cell causes an error. This is because the cell is missing the \"Conjure magic\" required to write Essence in the notebook. \n",
        "\n",
        "Let's add the line `%%conjure` to the top of the cell and use Conjure to find the solution:"
      ],
      "metadata": {
        "id": "d1MJCMsF07ZR"
      }
    },
    {
      "cell_type": "code",
      "source": [
        "%%conjure\n",
        "language Essence 1.3\n",
        "letting letters be new type enum {S,E,N,D,M,O,R,Y}\n",
        "find f : function letters --> int(0..9)\n",
        "such that\n",
        "                   1000 * f(S) + 100 * f(E) + 10 * f(N) + f(D) +\n",
        "                   1000 * f(M) + 100 * f(O) + 10 * f(R) + f(E) =\n",
        "    10000 * f(M) + 1000 * f(O) + 100 * f(N) + 10 * f(E) + f(Y)"
      ],
      "metadata": {
        "colab": {
          "base_uri": "https://localhost:8080/"
        },
        "id": "ZXxp6WMC1azG",
        "outputId": "abd0d536-97c0-476c-eb88-5ce0ba9a3a0d"
      },
      "execution_count": null,
      "outputs": [
        {
          "output_type": "execute_result",
          "data": {
            "text/plain": [
              "{'f': {'D': 0, 'E': 0, 'M': 0, 'N': 0, 'O': 0, 'R': 0, 'S': 0, 'Y': 0}}"
            ]
          },
          "metadata": {},
          "execution_count": 5
        }
      ]
    },
    {
      "cell_type": "markdown",
      "source": [
        "Here the solution is stored in f.\n",
        "\n",
        "Let's try printing f in Python:"
      ],
      "metadata": {
        "id": "sSghnW9W2OP2"
      }
    },
    {
      "cell_type": "code",
      "source": [
        "print(f)"
      ],
      "metadata": {
        "colab": {
          "base_uri": "https://localhost:8080/"
        },
        "id": "3F4V1JST2bxX",
        "outputId": "96e863a2-bf9b-4b1d-8939-813fd04e01ba"
      },
      "execution_count": null,
      "outputs": [
        {
          "output_type": "stream",
          "name": "stdout",
          "text": [
            "{'D': 0, 'E': 0, 'M': 0, 'N': 0, 'O': 0, 'R': 0, 'S': 0, 'Y': 0}\n"
          ]
        }
      ]
    },
    {
      "cell_type": "markdown",
      "source": [
        "This is clearly not what we wanted. We haven’t specified all the constraints in the problem!"
      ],
      "metadata": {
        "id": "iwLq0js92grV"
      }
    },
    {
      "cell_type": "markdown",
      "source": [
        "## **Identifying a missing constraint**"
      ],
      "metadata": {
        "id": "d0_tisD32j3q"
      }
    },
    {
      "cell_type": "markdown",
      "source": [
        "In these kinds of puzzles, usually we need each letter to map to a different digit: we need an injective function. Let’s replace the line"
      ],
      "metadata": {
        "id": "15niJVK92vkE"
      }
    },
    {
      "cell_type": "markdown",
      "source": [
        "`find f : function letters --> int(0..9)`"
      ],
      "metadata": {
        "id": "1d-yWgnT385x"
      }
    },
    {
      "cell_type": "markdown",
      "source": [
        "by"
      ],
      "metadata": {
        "id": "4VBTEUDw3TT7"
      }
    },
    {
      "cell_type": "markdown",
      "source": [
        "`find g : function (injective) letters --> int(0..9)`"
      ],
      "metadata": {
        "id": "B_ZHWSrb4CxY"
      }
    },
    {
      "cell_type": "markdown",
      "source": [
        "Now let’s run Conjure again on the new model:"
      ],
      "metadata": {
        "id": "e_9UheSL3Xlb"
      }
    },
    {
      "cell_type": "code",
      "source": [
        "%%conjure\n",
        "language Essence 1.3\n",
        "find g : function (injective) letters --> int(0..9)\n",
        "such that\n",
        "                   1000 * g(S) + 100 * g(E) + 10 * g(N) + g(D) +\n",
        "                   1000 * g(M) + 100 * g(O) + 10 * g(R) + g(E) =\n",
        "    10000 * g(M) + 1000 * g(O) + 100 * g(N) + 10 * g(E) + g(Y)"
      ],
      "metadata": {
        "colab": {
          "base_uri": "https://localhost:8080/"
        },
        "id": "5M6plovA3eKm",
        "outputId": "6ea2c949-c460-43fd-ca32-448a5ad6733c"
      },
      "execution_count": null,
      "outputs": [
        {
          "output_type": "execute_result",
          "data": {
            "text/plain": [
              "{'f': {'D': 0, 'E': 0, 'M': 0, 'N': 0, 'O': 0, 'R': 0, 'S': 0, 'Y': 0},\n",
              " 'g': {'D': 7, 'E': 8, 'M': 0, 'N': 1, 'O': 3, 'R': 6, 'S': 2, 'Y': 5}}"
            ]
          },
          "metadata": {},
          "execution_count": 7
        }
      ]
    },
    {
      "cell_type": "markdown",
      "source": [
        "Here we don't need to redefine letters as it has already been defined in a cell above. As can be seen in the output, `f` doesn't disappear with the definition of `g`."
      ],
      "metadata": {
        "id": "F0As8FCW5w9T"
      }
    },
    {
      "cell_type": "markdown",
      "source": [
        "This time the solution looks more like what we wanted:"
      ],
      "metadata": {
        "id": "hBDxIrRd59K0"
      }
    },
    {
      "cell_type": "code",
      "source": [
        "print (g)"
      ],
      "metadata": {
        "colab": {
          "base_uri": "https://localhost:8080/"
        },
        "id": "im3AD6ph6HSi",
        "outputId": "4d467329-a7bf-40f5-af58-a1b442cb5021"
      },
      "execution_count": null,
      "outputs": [
        {
          "output_type": "stream",
          "name": "stdout",
          "text": [
            "{'D': 7, 'E': 8, 'M': 0, 'N': 1, 'O': 3, 'R': 6, 'S': 2, 'Y': 5}\n"
          ]
        }
      ]
    },
    {
      "cell_type": "markdown",
      "source": [
        "## **Final model**"
      ],
      "metadata": {
        "id": "8bNPFg5I8Vtk"
      }
    },
    {
      "cell_type": "markdown",
      "source": [
        "There is still something strange with `g`. We usually do not allow a number to begin with a zero digit, but the solution maps M to 0. Let’s add the missing constraints to `h` and try again:"
      ],
      "metadata": {
        "id": "mgCZgc1q8Z9q"
      }
    },
    {
      "cell_type": "code",
      "source": [
        "%%conjure\n",
        "language Essence 1.3\n",
        "find h : function (injective) letters --> int(0..9)\n",
        "such that\n",
        "                   1000 * h(S) + 100 * h(E) + 10 * h(N) + h(D) +\n",
        "                   1000 * h(M) + 100 * h(O) + 10 * h(R) + h(E) =\n",
        "    10000 * h(M) + 1000 * h(O) + 100 * h(N) + 10 * h(E) + h(Y)\n",
        "\n",
        "such that h(S) > 0, h(M) > 0"
      ],
      "metadata": {
        "colab": {
          "base_uri": "https://localhost:8080/"
        },
        "id": "61v2xs7q8k9W",
        "outputId": "38896e49-923f-4396-c6f5-c967cb687fe6"
      },
      "execution_count": null,
      "outputs": [
        {
          "output_type": "execute_result",
          "data": {
            "text/plain": [
              "{'f': {'D': 0, 'E': 0, 'M': 0, 'N': 0, 'O': 0, 'R': 0, 'S': 0, 'Y': 0},\n",
              " 'g': {'D': 7, 'E': 8, 'M': 0, 'N': 1, 'O': 3, 'R': 6, 'S': 2, 'Y': 5},\n",
              " 'h': {'D': 7, 'E': 5, 'M': 1, 'N': 6, 'O': 0, 'R': 8, 'S': 9, 'Y': 2}}"
            ]
          },
          "metadata": {},
          "execution_count": 9
        }
      ]
    },
    {
      "cell_type": "markdown",
      "source": [
        "Here we can see `h`, along with the previously generated `f` and `g`.\n",
        "\n",
        "This now leads to the solution we expected:"
      ],
      "metadata": {
        "id": "Aw9coSl083q8"
      }
    },
    {
      "cell_type": "code",
      "source": [
        "print (h)"
      ],
      "metadata": {
        "colab": {
          "base_uri": "https://localhost:8080/"
        },
        "id": "ZQo6cEOD86D6",
        "outputId": "9453be0e-05b4-40fe-a624-50d6f8f031a2"
      },
      "execution_count": null,
      "outputs": [
        {
          "output_type": "stream",
          "name": "stdout",
          "text": [
            "{'D': 7, 'E': 5, 'M': 1, 'N': 6, 'O': 0, 'R': 8, 'S': 9, 'Y': 2}\n"
          ]
        }
      ]
    },
    {
      "cell_type": "markdown",
      "source": [
        "Finally, let’s check that there are no more solutions:\n",
        "\n",
        "Open the settings page using `%conjure_settings` and navigate to \"General settings\". Change the number of solutions box to \"all\"."
      ],
      "metadata": {
        "id": "6f8icOT585pc"
      }
    },
    {
      "cell_type": "code",
      "source": [
        "%conjure_settings"
      ],
      "metadata": {
        "colab": {
          "base_uri": "https://localhost:8080/",
          "height": 527,
          "referenced_widgets": [
            "66b67c7238d945098856c9ed46b7c4f9",
            "b83631a2b4a14c7881ad13bea3225859",
            "9773732617dd4e9b9b16a565c1f8a18c",
            "2257b7fc21c54710949ef57c776542a2",
            "0040364e9ce645aca1904ee883d9cb34",
            "463500bfe84c41d9bd90078efe32f823",
            "ae0433632b064caba4dd7b47c0bd0b13",
            "286282ccc309465f9fe0c47ede6fcee1",
            "b3247b3a745446c7a49715846990e8a2",
            "2c2d4865a7d24ed1ad95489b12bc83da",
            "3df76ffbc50b4adfb137acba034fa962",
            "a420f47f531c4a1c9ad6f8629a83234d",
            "045e1684e08943ddb1677f205ac0ae2a",
            "bda4093e64644653beb56042036ef53b",
            "5c3d9ff43c574fb0820bbbbd78304cf1",
            "58bd7b9a38294330ac7722b59ee8cf35",
            "e8b826030fa34be6ac37a0264fda3406",
            "8d07205fc767444b93b1db96fe3d232d",
            "f003c85a0ddb40b887cc2160c7d765f9",
            "20c914d13ba8458ca7bd59faf366a587",
            "362fddcb09234eceac8e96e735cf6002",
            "712bd101be4c4b02a0bfc53698d06fb7",
            "bba4377e26d6415abeaccce9ec838910",
            "308fefd9281a449893c87163b1a63350",
            "5d5467a87a4d41eda235f5f2f3c5852b",
            "8282c876eb4e41af9e9d3bafbb21b13b",
            "ab80ab6e09f24563a2bb25a2e59c960c"
          ]
        },
        "id": "lHQPF_az9QPg",
        "outputId": "cfa10b56-d76e-477a-c723-a87f2935241b"
      },
      "execution_count": null,
      "outputs": [
        {
          "output_type": "display_data",
          "data": {
            "text/plain": [
              "Tab(children=(VBox(children=(RadioButtons(description='Print conjure output', layout=Layout(width='80%'), opti…"
            ],
            "application/vnd.jupyter.widget-view+json": {
              "version_major": 2,
              "version_minor": 0,
              "model_id": "66b67c7238d945098856c9ed46b7c4f9"
            }
          },
          "metadata": {}
        }
      ]
    },
    {
      "cell_type": "markdown",
      "source": [
        "Now let's try again, first clearing the previous models:"
      ],
      "metadata": {
        "id": "eIw9vVO294xx"
      }
    },
    {
      "cell_type": "code",
      "source": [
        "%conjure_clear"
      ],
      "metadata": {
        "colab": {
          "base_uri": "https://localhost:8080/"
        },
        "id": "H4vs8CTiAKio",
        "outputId": "72b6a6a0-cce8-4a31-f98e-c15b810e77f2"
      },
      "execution_count": null,
      "outputs": [
        {
          "output_type": "stream",
          "name": "stdout",
          "text": [
            "Conjure model cleared\n"
          ]
        }
      ]
    },
    {
      "cell_type": "markdown",
      "source": [
        "This clears the definitions of `f`, `g`, and `h`."
      ],
      "metadata": {
        "id": "3OfwlorCErOG"
      }
    },
    {
      "cell_type": "code",
      "source": [
        "%%conjure\n",
        "language Essence 1.3\n",
        "find f : function (injective) letters --> int(0..9)\n",
        "such that\n",
        "                   1000 * f(S) + 100 * f(E) + 10 * f(N) + f(D) +\n",
        "                   1000 * f(M) + 100 * f(O) + 10 * f(R) + f(E) =\n",
        "    10000 * f(M) + 1000 * f(O) + 100 * f(N) + 10 * f(E) + f(Y)\n",
        "\n",
        "such that f(S) > 0, f(M) > 0"
      ],
      "metadata": {
        "colab": {
          "base_uri": "https://localhost:8080/"
        },
        "id": "s2yRIe0X9958",
        "outputId": "a0dd150b-0a3a-4285-ac9f-e561c61adfb9"
      },
      "execution_count": null,
      "outputs": [
        {
          "output_type": "stream",
          "name": "stderr",
          "text": [
            "Exception: Error: Undefined reference to a domain: letters\n",
            "\n"
          ]
        }
      ]
    },
    {
      "cell_type": "markdown",
      "source": [
        "This results in an error because `letters` is no longer defined. \n",
        "\n",
        "Let's add the definition for `letters` back in, and try again:"
      ],
      "metadata": {
        "id": "hChX4ZSkAWsx"
      }
    },
    {
      "cell_type": "code",
      "source": [
        "%%conjure\n",
        "language Essence 1.3\n",
        "letting letters be new type enum {S,E,N,D,M,O,R,Y}\n",
        "find f : function (injective) letters --> int(0..9)\n",
        "such that\n",
        "                   1000 * f(S) + 100 * f(E) + 10 * f(N) + f(D) +\n",
        "                   1000 * f(M) + 100 * f(O) + 10 * f(R) + f(E) =\n",
        "    10000 * f(M) + 1000 * f(O) + 100 * f(N) + 10 * f(E) + f(Y)\n",
        "\n",
        "such that f(S) > 0, f(M) > 0\n"
      ],
      "metadata": {
        "colab": {
          "base_uri": "https://localhost:8080/"
        },
        "id": "bB2mcxLRAnnU",
        "outputId": "5236952c-bdfd-4cf9-a28d-6a9f35915eb7"
      },
      "execution_count": null,
      "outputs": [
        {
          "output_type": "execute_result",
          "data": {
            "text/plain": [
              "{'f': {'D': 7, 'E': 5, 'M': 1, 'N': 6, 'O': 0, 'R': 8, 'S': 9, 'Y': 2}}"
            ]
          },
          "metadata": {},
          "execution_count": 15
        }
      ]
    },
    {
      "cell_type": "markdown",
      "source": [
        "This confirms that there is indeed only one solution. As an exercise, verify that the first two models have multiple solutions, and that the solution given by the third model is among these. (The first has 1155 solutions, the second 25.)"
      ],
      "metadata": {
        "id": "uA_4jgg_-Y-_"
      }
    },
    {
      "cell_type": "markdown",
      "source": [
        "## **Visualisations**"
      ],
      "metadata": {
        "id": "dPA7zRBxBezO"
      }
    },
    {
      "cell_type": "markdown",
      "source": [
        "We can print the final result `f` using python:"
      ],
      "metadata": {
        "id": "Icp1hK76AV22"
      }
    },
    {
      "cell_type": "code",
      "source": [
        "for key in f:\n",
        "  print(key+\" -> \"+str(f[key]))"
      ],
      "metadata": {
        "colab": {
          "base_uri": "https://localhost:8080/"
        },
        "id": "ZdUlQXtlAkAf",
        "outputId": "97f92ee8-7e2c-4b24-fb64-ec2c08e0c9d5"
      },
      "execution_count": null,
      "outputs": [
        {
          "output_type": "stream",
          "name": "stdout",
          "text": [
            "D -> 7\n",
            "E -> 5\n",
            "M -> 1\n",
            "N -> 6\n",
            "O -> 0\n",
            "R -> 8\n",
            "S -> 9\n",
            "Y -> 2\n"
          ]
        }
      ]
    },
    {
      "cell_type": "markdown",
      "source": [
        "We can also draw the function as a graph:"
      ],
      "metadata": {
        "id": "U63-7G3sBRws"
      }
    },
    {
      "cell_type": "code",
      "source": [
        "from graphviz import Digraph\n",
        "\n",
        "# Create Digraph object\n",
        "\n",
        "dot = Digraph()\n",
        "edges = []\n",
        "\n",
        "for k, v in f.items():\n",
        "  dot.node(str(k),color='blue')\n",
        "  dot.node(str(v))\n",
        "  edges.append([str(k), str(v)])\n",
        "\n",
        "\n",
        "dot.edges(edges)\n",
        "dot.graph_attr['rankdir'] = 'LR'\n",
        " \n",
        "\n",
        "# Visualize the graph\n",
        "\n",
        "dot"
      ],
      "metadata": {
        "colab": {
          "base_uri": "https://localhost:8080/",
          "height": 585
        },
        "id": "KO4pHqKgwbxH",
        "outputId": "bdbf42dc-817e-4f64-d170-24c2088e1dd9"
      },
      "execution_count": null,
      "outputs": [
        {
          "output_type": "execute_result",
          "data": {
            "text/plain": [
              "<graphviz.dot.Digraph at 0x7f5f21523090>"
            ],
            "image/svg+xml": "<?xml version=\"1.0\" encoding=\"UTF-8\" standalone=\"no\"?>\n<!DOCTYPE svg PUBLIC \"-//W3C//DTD SVG 1.1//EN\"\n \"http://www.w3.org/Graphics/SVG/1.1/DTD/svg11.dtd\">\n<!-- Generated by graphviz version 2.40.1 (20161225.0304)\n -->\n<!-- Title: %3 Pages: 1 -->\n<svg width=\"152pt\" height=\"422pt\"\n viewBox=\"0.00 0.00 152.00 422.00\" xmlns=\"http://www.w3.org/2000/svg\" xmlns:xlink=\"http://www.w3.org/1999/xlink\">\n<g id=\"graph0\" class=\"graph\" transform=\"scale(1 1) rotate(0) translate(4 418)\">\n<title>%3</title>\n<polygon fill=\"#ffffff\" stroke=\"transparent\" points=\"-4,4 -4,-418 148,-418 148,4 -4,4\"/>\n<!-- D -->\n<g id=\"node1\" class=\"node\">\n<title>D</title>\n<ellipse fill=\"none\" stroke=\"#0000ff\" cx=\"27\" cy=\"-18\" rx=\"27\" ry=\"18\"/>\n<text text-anchor=\"middle\" x=\"27\" y=\"-14.3\" font-family=\"Times,serif\" font-size=\"14.00\" fill=\"#000000\">D</text>\n</g>\n<!-- 7 -->\n<g id=\"node2\" class=\"node\">\n<title>7</title>\n<ellipse fill=\"none\" stroke=\"#000000\" cx=\"117\" cy=\"-18\" rx=\"27\" ry=\"18\"/>\n<text text-anchor=\"middle\" x=\"117\" y=\"-14.3\" font-family=\"Times,serif\" font-size=\"14.00\" fill=\"#000000\">7</text>\n</g>\n<!-- D&#45;&gt;7 -->\n<g id=\"edge1\" class=\"edge\">\n<title>D&#45;&gt;7</title>\n<path fill=\"none\" stroke=\"#000000\" d=\"M54.003,-18C62.0277,-18 70.9665,-18 79.5309,-18\"/>\n<polygon fill=\"#000000\" stroke=\"#000000\" points=\"79.7051,-21.5001 89.705,-18 79.705,-14.5001 79.7051,-21.5001\"/>\n</g>\n<!-- E -->\n<g id=\"node3\" class=\"node\">\n<title>E</title>\n<ellipse fill=\"none\" stroke=\"#0000ff\" cx=\"27\" cy=\"-72\" rx=\"27\" ry=\"18\"/>\n<text text-anchor=\"middle\" x=\"27\" y=\"-68.3\" font-family=\"Times,serif\" font-size=\"14.00\" fill=\"#000000\">E</text>\n</g>\n<!-- 5 -->\n<g id=\"node4\" class=\"node\">\n<title>5</title>\n<ellipse fill=\"none\" stroke=\"#000000\" cx=\"117\" cy=\"-72\" rx=\"27\" ry=\"18\"/>\n<text text-anchor=\"middle\" x=\"117\" y=\"-68.3\" font-family=\"Times,serif\" font-size=\"14.00\" fill=\"#000000\">5</text>\n</g>\n<!-- E&#45;&gt;5 -->\n<g id=\"edge2\" class=\"edge\">\n<title>E&#45;&gt;5</title>\n<path fill=\"none\" stroke=\"#000000\" d=\"M54.003,-72C62.0277,-72 70.9665,-72 79.5309,-72\"/>\n<polygon fill=\"#000000\" stroke=\"#000000\" points=\"79.7051,-75.5001 89.705,-72 79.705,-68.5001 79.7051,-75.5001\"/>\n</g>\n<!-- M -->\n<g id=\"node5\" class=\"node\">\n<title>M</title>\n<ellipse fill=\"none\" stroke=\"#0000ff\" cx=\"27\" cy=\"-126\" rx=\"27\" ry=\"18\"/>\n<text text-anchor=\"middle\" x=\"27\" y=\"-122.3\" font-family=\"Times,serif\" font-size=\"14.00\" fill=\"#000000\">M</text>\n</g>\n<!-- 1 -->\n<g id=\"node6\" class=\"node\">\n<title>1</title>\n<ellipse fill=\"none\" stroke=\"#000000\" cx=\"117\" cy=\"-126\" rx=\"27\" ry=\"18\"/>\n<text text-anchor=\"middle\" x=\"117\" y=\"-122.3\" font-family=\"Times,serif\" font-size=\"14.00\" fill=\"#000000\">1</text>\n</g>\n<!-- M&#45;&gt;1 -->\n<g id=\"edge3\" class=\"edge\">\n<title>M&#45;&gt;1</title>\n<path fill=\"none\" stroke=\"#000000\" d=\"M54.003,-126C62.0277,-126 70.9665,-126 79.5309,-126\"/>\n<polygon fill=\"#000000\" stroke=\"#000000\" points=\"79.7051,-129.5001 89.705,-126 79.705,-122.5001 79.7051,-129.5001\"/>\n</g>\n<!-- N -->\n<g id=\"node7\" class=\"node\">\n<title>N</title>\n<ellipse fill=\"none\" stroke=\"#0000ff\" cx=\"27\" cy=\"-180\" rx=\"27\" ry=\"18\"/>\n<text text-anchor=\"middle\" x=\"27\" y=\"-176.3\" font-family=\"Times,serif\" font-size=\"14.00\" fill=\"#000000\">N</text>\n</g>\n<!-- 6 -->\n<g id=\"node8\" class=\"node\">\n<title>6</title>\n<ellipse fill=\"none\" stroke=\"#000000\" cx=\"117\" cy=\"-180\" rx=\"27\" ry=\"18\"/>\n<text text-anchor=\"middle\" x=\"117\" y=\"-176.3\" font-family=\"Times,serif\" font-size=\"14.00\" fill=\"#000000\">6</text>\n</g>\n<!-- N&#45;&gt;6 -->\n<g id=\"edge4\" class=\"edge\">\n<title>N&#45;&gt;6</title>\n<path fill=\"none\" stroke=\"#000000\" d=\"M54.003,-180C62.0277,-180 70.9665,-180 79.5309,-180\"/>\n<polygon fill=\"#000000\" stroke=\"#000000\" points=\"79.7051,-183.5001 89.705,-180 79.705,-176.5001 79.7051,-183.5001\"/>\n</g>\n<!-- O -->\n<g id=\"node9\" class=\"node\">\n<title>O</title>\n<ellipse fill=\"none\" stroke=\"#0000ff\" cx=\"27\" cy=\"-234\" rx=\"27\" ry=\"18\"/>\n<text text-anchor=\"middle\" x=\"27\" y=\"-230.3\" font-family=\"Times,serif\" font-size=\"14.00\" fill=\"#000000\">O</text>\n</g>\n<!-- 0 -->\n<g id=\"node10\" class=\"node\">\n<title>0</title>\n<ellipse fill=\"none\" stroke=\"#000000\" cx=\"117\" cy=\"-234\" rx=\"27\" ry=\"18\"/>\n<text text-anchor=\"middle\" x=\"117\" y=\"-230.3\" font-family=\"Times,serif\" font-size=\"14.00\" fill=\"#000000\">0</text>\n</g>\n<!-- O&#45;&gt;0 -->\n<g id=\"edge5\" class=\"edge\">\n<title>O&#45;&gt;0</title>\n<path fill=\"none\" stroke=\"#000000\" d=\"M54.003,-234C62.0277,-234 70.9665,-234 79.5309,-234\"/>\n<polygon fill=\"#000000\" stroke=\"#000000\" points=\"79.7051,-237.5001 89.705,-234 79.705,-230.5001 79.7051,-237.5001\"/>\n</g>\n<!-- R -->\n<g id=\"node11\" class=\"node\">\n<title>R</title>\n<ellipse fill=\"none\" stroke=\"#0000ff\" cx=\"27\" cy=\"-288\" rx=\"27\" ry=\"18\"/>\n<text text-anchor=\"middle\" x=\"27\" y=\"-284.3\" font-family=\"Times,serif\" font-size=\"14.00\" fill=\"#000000\">R</text>\n</g>\n<!-- 8 -->\n<g id=\"node12\" class=\"node\">\n<title>8</title>\n<ellipse fill=\"none\" stroke=\"#000000\" cx=\"117\" cy=\"-288\" rx=\"27\" ry=\"18\"/>\n<text text-anchor=\"middle\" x=\"117\" y=\"-284.3\" font-family=\"Times,serif\" font-size=\"14.00\" fill=\"#000000\">8</text>\n</g>\n<!-- R&#45;&gt;8 -->\n<g id=\"edge6\" class=\"edge\">\n<title>R&#45;&gt;8</title>\n<path fill=\"none\" stroke=\"#000000\" d=\"M54.003,-288C62.0277,-288 70.9665,-288 79.5309,-288\"/>\n<polygon fill=\"#000000\" stroke=\"#000000\" points=\"79.7051,-291.5001 89.705,-288 79.705,-284.5001 79.7051,-291.5001\"/>\n</g>\n<!-- S -->\n<g id=\"node13\" class=\"node\">\n<title>S</title>\n<ellipse fill=\"none\" stroke=\"#0000ff\" cx=\"27\" cy=\"-342\" rx=\"27\" ry=\"18\"/>\n<text text-anchor=\"middle\" x=\"27\" y=\"-338.3\" font-family=\"Times,serif\" font-size=\"14.00\" fill=\"#000000\">S</text>\n</g>\n<!-- 9 -->\n<g id=\"node14\" class=\"node\">\n<title>9</title>\n<ellipse fill=\"none\" stroke=\"#000000\" cx=\"117\" cy=\"-342\" rx=\"27\" ry=\"18\"/>\n<text text-anchor=\"middle\" x=\"117\" y=\"-338.3\" font-family=\"Times,serif\" font-size=\"14.00\" fill=\"#000000\">9</text>\n</g>\n<!-- S&#45;&gt;9 -->\n<g id=\"edge7\" class=\"edge\">\n<title>S&#45;&gt;9</title>\n<path fill=\"none\" stroke=\"#000000\" d=\"M54.003,-342C62.0277,-342 70.9665,-342 79.5309,-342\"/>\n<polygon fill=\"#000000\" stroke=\"#000000\" points=\"79.7051,-345.5001 89.705,-342 79.705,-338.5001 79.7051,-345.5001\"/>\n</g>\n<!-- Y -->\n<g id=\"node15\" class=\"node\">\n<title>Y</title>\n<ellipse fill=\"none\" stroke=\"#0000ff\" cx=\"27\" cy=\"-396\" rx=\"27\" ry=\"18\"/>\n<text text-anchor=\"middle\" x=\"27\" y=\"-392.3\" font-family=\"Times,serif\" font-size=\"14.00\" fill=\"#000000\">Y</text>\n</g>\n<!-- 2 -->\n<g id=\"node16\" class=\"node\">\n<title>2</title>\n<ellipse fill=\"none\" stroke=\"#000000\" cx=\"117\" cy=\"-396\" rx=\"27\" ry=\"18\"/>\n<text text-anchor=\"middle\" x=\"117\" y=\"-392.3\" font-family=\"Times,serif\" font-size=\"14.00\" fill=\"#000000\">2</text>\n</g>\n<!-- Y&#45;&gt;2 -->\n<g id=\"edge8\" class=\"edge\">\n<title>Y&#45;&gt;2</title>\n<path fill=\"none\" stroke=\"#000000\" d=\"M54.003,-396C62.0277,-396 70.9665,-396 79.5309,-396\"/>\n<polygon fill=\"#000000\" stroke=\"#000000\" points=\"79.7051,-399.5001 89.705,-396 79.705,-392.5001 79.7051,-399.5001\"/>\n</g>\n</g>\n</svg>\n"
          },
          "metadata": {},
          "execution_count": 21
        }
      ]
    }
  ]
}